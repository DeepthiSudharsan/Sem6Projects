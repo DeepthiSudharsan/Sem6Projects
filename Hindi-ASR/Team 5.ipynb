{
 "cells": [
  {
   "cell_type": "markdown",
   "metadata": {
    "id": "Ib4Wt2FfuFrN"
   },
   "source": [
    "# **21AIE315 AI IN SPEECH PROCESSING**"
   ]
  },
  {
   "cell_type": "markdown",
   "metadata": {
    "id": "CGDThVFkulsg"
   },
   "source": [
    "**Automatic Speech Recognition (ASR) for Hindi using XLSR-Wav2Vec2**"
   ]
  },
  {
   "cell_type": "markdown",
   "metadata": {
    "id": "1vc1gHlIuVan"
   },
   "source": [
    "    Deepthi Sudharsan |  CB.EN.U4AIE19022\n",
    "    Harish K          |  CB.EN.U4AIE19029\n",
    "    U Asmitha         |  CB.EN.U4AIE19065\n",
    "    Roshan Tushar S   |  CB.EN.U4AIE19071"
   ]
  },
  {
   "cell_type": "markdown",
   "metadata": {
    "id": "rJ_lm9FVOm7Y"
   },
   "source": [
    "### Installing the necessary packages"
   ]
  },
  {
   "cell_type": "code",
   "execution_count": 83,
   "metadata": {
    "id": "c8eh87Hoee5d"
   },
   "outputs": [],
   "source": [
    "%%capture\n",
    "!pip install git+https://github.com/huggingface/datasets.git\n",
    "!pip install git+https://github.com/huggingface/transformers.git\n",
    "!pip install torchaudio\n",
    "!pip install librosa\n",
    "!pip install jiwer"
   ]
  },
  {
   "cell_type": "markdown",
   "metadata": {
    "id": "0mW-C1Nt-j7k"
   },
   "source": [
    "## Prepare Data, Tokenizer, Feature Extractor"
   ]
  },
  {
   "cell_type": "markdown",
   "metadata": {
    "id": "8C04NMTpOx1D"
   },
   "source": [
    "### XLSR-Wav2Vec2\n",
    " Wav2Vec2CTCTokenizer --> Tokenizer\n",
    " Wav2Vec2FeatureExtractor --> Feature Extractor"
   ]
  },
  {
   "cell_type": "markdown",
   "metadata": {
    "id": "sEXEWEJGQPqD"
   },
   "source": [
    "### Create Wav2Vec2CTCTokenizer"
   ]
  },
  {
   "cell_type": "code",
   "execution_count": 84,
   "metadata": {
    "colab": {
     "base_uri": "https://localhost:8080/"
    },
    "id": "afNe1N8mXNfp",
    "outputId": "23dfa3b9-9740-4fd1-c693-3e8bd2aeb549"
   },
   "outputs": [
    {
     "name": "stdout",
     "output_type": "stream",
     "text": [
      "--2022-05-09 20:30:14--  https://voice-prod-bundler-ee1969a6ce8178826482b88e843c335139bd3fb4.s3.amazonaws.com/cv-corpus-6.1-2020-12-11/hi.tar.gz\n",
      "Resolving voice-prod-bundler-ee1969a6ce8178826482b88e843c335139bd3fb4.s3.amazonaws.com (voice-prod-bundler-ee1969a6ce8178826482b88e843c335139bd3fb4.s3.amazonaws.com)... 52.92.210.249\n",
      "Connecting to voice-prod-bundler-ee1969a6ce8178826482b88e843c335139bd3fb4.s3.amazonaws.com (voice-prod-bundler-ee1969a6ce8178826482b88e843c335139bd3fb4.s3.amazonaws.com)|52.92.210.249|:443... connected.\n",
      "HTTP request sent, awaiting response... 200 OK\n",
      "Length: 21424045 (20M) [application/octet-stream]\n",
      "Saving to: ‘hi.tar.gz.1’\n",
      "\n",
      "hi.tar.gz.1         100%[===================>]  20.43M  11.9MB/s    in 1.7s    \n",
      "\n",
      "2022-05-09 20:30:17 (11.9 MB/s) - ‘hi.tar.gz.1’ saved [21424045/21424045]\n",
      "\n"
     ]
    }
   ],
   "source": [
    "# Downloading the Dataset\n",
    "!wget https://voice-prod-bundler-ee1969a6ce8178826482b88e843c335139bd3fb4.s3.amazonaws.com/cv-corpus-6.1-2020-12-11/hi.tar.gz"
   ]
  },
  {
   "cell_type": "code",
   "execution_count": 85,
   "metadata": {
    "colab": {
     "base_uri": "https://localhost:8080/"
    },
    "id": "bTjNp2KUYAl8",
    "outputId": "64b4fd29-7d2e-49d6-d28f-4ec02ab96f08"
   },
   "outputs": [
    {
     "name": "stdout",
     "output_type": "stream",
     "text": [
      "cv-corpus-6.1-2020-12-11/hi/\n",
      "cv-corpus-6.1-2020-12-11/hi/clips/\n",
      "cv-corpus-6.1-2020-12-11/hi/dev.tsv\n",
      "cv-corpus-6.1-2020-12-11/hi/invalidated.tsv\n",
      "cv-corpus-6.1-2020-12-11/hi/other.tsv\n",
      "cv-corpus-6.1-2020-12-11/hi/reported.tsv\n",
      "cv-corpus-6.1-2020-12-11/hi/test.tsv\n",
      "cv-corpus-6.1-2020-12-11/hi/train.tsv\n",
      "cv-corpus-6.1-2020-12-11/hi/validated.tsv\n",
      "cv-corpus-6.1-2020-12-11/hi/clips/common_voice_hi_23795238.mp3\n",
      "cv-corpus-6.1-2020-12-11/hi/clips/common_voice_hi_23795239.mp3\n",
      "cv-corpus-6.1-2020-12-11/hi/clips/common_voice_hi_23795240.mp3\n",
      "cv-corpus-6.1-2020-12-11/hi/clips/common_voice_hi_23795241.mp3\n",
      "cv-corpus-6.1-2020-12-11/hi/clips/common_voice_hi_23795242.mp3\n",
      "cv-corpus-6.1-2020-12-11/hi/clips/common_voice_hi_23795243.mp3\n",
      "cv-corpus-6.1-2020-12-11/hi/clips/common_voice_hi_23795244.mp3\n",
      "cv-corpus-6.1-2020-12-11/hi/clips/common_voice_hi_23795245.mp3\n",
      "cv-corpus-6.1-2020-12-11/hi/clips/common_voice_hi_23795246.mp3\n",
      "cv-corpus-6.1-2020-12-11/hi/clips/common_voice_hi_23795247.mp3\n",
      "cv-corpus-6.1-2020-12-11/hi/clips/common_voice_hi_23795248.mp3\n",
      "cv-corpus-6.1-2020-12-11/hi/clips/common_voice_hi_23795249.mp3\n",
      "cv-corpus-6.1-2020-12-11/hi/clips/common_voice_hi_23795250.mp3\n",
      "cv-corpus-6.1-2020-12-11/hi/clips/common_voice_hi_23795251.mp3\n",
      "cv-corpus-6.1-2020-12-11/hi/clips/common_voice_hi_23795252.mp3\n",
      "cv-corpus-6.1-2020-12-11/hi/clips/common_voice_hi_23795358.mp3\n",
      "cv-corpus-6.1-2020-12-11/hi/clips/common_voice_hi_23795359.mp3\n",
      "cv-corpus-6.1-2020-12-11/hi/clips/common_voice_hi_23795360.mp3\n",
      "cv-corpus-6.1-2020-12-11/hi/clips/common_voice_hi_23795361.mp3\n",
      "cv-corpus-6.1-2020-12-11/hi/clips/common_voice_hi_23795362.mp3\n",
      "cv-corpus-6.1-2020-12-11/hi/clips/common_voice_hi_23796043.mp3\n",
      "cv-corpus-6.1-2020-12-11/hi/clips/common_voice_hi_23796044.mp3\n",
      "cv-corpus-6.1-2020-12-11/hi/clips/common_voice_hi_23796046.mp3\n",
      "cv-corpus-6.1-2020-12-11/hi/clips/common_voice_hi_23796048.mp3\n",
      "cv-corpus-6.1-2020-12-11/hi/clips/common_voice_hi_23796049.mp3\n",
      "cv-corpus-6.1-2020-12-11/hi/clips/common_voice_hi_23796063.mp3\n",
      "cv-corpus-6.1-2020-12-11/hi/clips/common_voice_hi_23796064.mp3\n",
      "cv-corpus-6.1-2020-12-11/hi/clips/common_voice_hi_23796065.mp3\n",
      "cv-corpus-6.1-2020-12-11/hi/clips/common_voice_hi_23796066.mp3\n",
      "cv-corpus-6.1-2020-12-11/hi/clips/common_voice_hi_23796067.mp3\n",
      "cv-corpus-6.1-2020-12-11/hi/clips/common_voice_hi_23796151.mp3\n",
      "cv-corpus-6.1-2020-12-11/hi/clips/common_voice_hi_23796153.mp3\n",
      "cv-corpus-6.1-2020-12-11/hi/clips/common_voice_hi_23796155.mp3\n",
      "cv-corpus-6.1-2020-12-11/hi/clips/common_voice_hi_23796156.mp3\n",
      "cv-corpus-6.1-2020-12-11/hi/clips/common_voice_hi_23796157.mp3\n",
      "cv-corpus-6.1-2020-12-11/hi/clips/common_voice_hi_23801317.mp3\n",
      "cv-corpus-6.1-2020-12-11/hi/clips/common_voice_hi_23809699.mp3\n",
      "cv-corpus-6.1-2020-12-11/hi/clips/common_voice_hi_23809700.mp3\n",
      "cv-corpus-6.1-2020-12-11/hi/clips/common_voice_hi_23809701.mp3\n",
      "cv-corpus-6.1-2020-12-11/hi/clips/common_voice_hi_23809702.mp3\n",
      "cv-corpus-6.1-2020-12-11/hi/clips/common_voice_hi_23809703.mp3\n",
      "cv-corpus-6.1-2020-12-11/hi/clips/common_voice_hi_23809709.mp3\n",
      "cv-corpus-6.1-2020-12-11/hi/clips/common_voice_hi_23809710.mp3\n",
      "cv-corpus-6.1-2020-12-11/hi/clips/common_voice_hi_23809711.mp3\n",
      "cv-corpus-6.1-2020-12-11/hi/clips/common_voice_hi_23809712.mp3\n",
      "cv-corpus-6.1-2020-12-11/hi/clips/common_voice_hi_23809713.mp3\n",
      "cv-corpus-6.1-2020-12-11/hi/clips/common_voice_hi_23809719.mp3\n",
      "cv-corpus-6.1-2020-12-11/hi/clips/common_voice_hi_23809720.mp3\n",
      "cv-corpus-6.1-2020-12-11/hi/clips/common_voice_hi_23809721.mp3\n",
      "cv-corpus-6.1-2020-12-11/hi/clips/common_voice_hi_23809722.mp3\n",
      "cv-corpus-6.1-2020-12-11/hi/clips/common_voice_hi_23809723.mp3\n",
      "cv-corpus-6.1-2020-12-11/hi/clips/common_voice_hi_23809915.mp3\n",
      "cv-corpus-6.1-2020-12-11/hi/clips/common_voice_hi_23809919.mp3\n",
      "cv-corpus-6.1-2020-12-11/hi/clips/common_voice_hi_23809921.mp3\n",
      "cv-corpus-6.1-2020-12-11/hi/clips/common_voice_hi_23809924.mp3\n",
      "cv-corpus-6.1-2020-12-11/hi/clips/common_voice_hi_23809926.mp3\n",
      "cv-corpus-6.1-2020-12-11/hi/clips/common_voice_hi_23809929.mp3\n",
      "cv-corpus-6.1-2020-12-11/hi/clips/common_voice_hi_23809930.mp3\n",
      "cv-corpus-6.1-2020-12-11/hi/clips/common_voice_hi_23809931.mp3\n",
      "cv-corpus-6.1-2020-12-11/hi/clips/common_voice_hi_23809932.mp3\n",
      "cv-corpus-6.1-2020-12-11/hi/clips/common_voice_hi_23809936.mp3\n",
      "cv-corpus-6.1-2020-12-11/hi/clips/common_voice_hi_23824449.mp3\n",
      "cv-corpus-6.1-2020-12-11/hi/clips/common_voice_hi_23824450.mp3\n",
      "cv-corpus-6.1-2020-12-11/hi/clips/common_voice_hi_23824451.mp3\n",
      "cv-corpus-6.1-2020-12-11/hi/clips/common_voice_hi_23824452.mp3\n",
      "cv-corpus-6.1-2020-12-11/hi/clips/common_voice_hi_23824453.mp3\n",
      "cv-corpus-6.1-2020-12-11/hi/clips/common_voice_hi_23824456.mp3\n",
      "cv-corpus-6.1-2020-12-11/hi/clips/common_voice_hi_23824457.mp3\n",
      "cv-corpus-6.1-2020-12-11/hi/clips/common_voice_hi_23824458.mp3\n",
      "cv-corpus-6.1-2020-12-11/hi/clips/common_voice_hi_23824459.mp3\n",
      "cv-corpus-6.1-2020-12-11/hi/clips/common_voice_hi_23824460.mp3\n",
      "cv-corpus-6.1-2020-12-11/hi/clips/common_voice_hi_23824468.mp3\n",
      "cv-corpus-6.1-2020-12-11/hi/clips/common_voice_hi_23824470.mp3\n",
      "cv-corpus-6.1-2020-12-11/hi/clips/common_voice_hi_23824471.mp3\n",
      "cv-corpus-6.1-2020-12-11/hi/clips/common_voice_hi_23824472.mp3\n",
      "cv-corpus-6.1-2020-12-11/hi/clips/common_voice_hi_23824473.mp3\n",
      "cv-corpus-6.1-2020-12-11/hi/clips/common_voice_hi_23827473.mp3\n",
      "cv-corpus-6.1-2020-12-11/hi/clips/common_voice_hi_23827474.mp3\n",
      "cv-corpus-6.1-2020-12-11/hi/clips/common_voice_hi_23827475.mp3\n",
      "cv-corpus-6.1-2020-12-11/hi/clips/common_voice_hi_23827476.mp3\n",
      "cv-corpus-6.1-2020-12-11/hi/clips/common_voice_hi_23827477.mp3\n",
      "cv-corpus-6.1-2020-12-11/hi/clips/common_voice_hi_23827785.mp3\n",
      "cv-corpus-6.1-2020-12-11/hi/clips/common_voice_hi_23827786.mp3\n",
      "cv-corpus-6.1-2020-12-11/hi/clips/common_voice_hi_23827787.mp3\n",
      "cv-corpus-6.1-2020-12-11/hi/clips/common_voice_hi_23827788.mp3\n",
      "cv-corpus-6.1-2020-12-11/hi/clips/common_voice_hi_23827789.mp3\n",
      "cv-corpus-6.1-2020-12-11/hi/clips/common_voice_hi_23827790.mp3\n",
      "cv-corpus-6.1-2020-12-11/hi/clips/common_voice_hi_23827791.mp3\n",
      "cv-corpus-6.1-2020-12-11/hi/clips/common_voice_hi_23827792.mp3\n",
      "cv-corpus-6.1-2020-12-11/hi/clips/common_voice_hi_23827793.mp3\n",
      "cv-corpus-6.1-2020-12-11/hi/clips/common_voice_hi_23827794.mp3\n",
      "cv-corpus-6.1-2020-12-11/hi/clips/common_voice_hi_23827795.mp3\n",
      "cv-corpus-6.1-2020-12-11/hi/clips/common_voice_hi_23827796.mp3\n",
      "cv-corpus-6.1-2020-12-11/hi/clips/common_voice_hi_23827797.mp3\n",
      "cv-corpus-6.1-2020-12-11/hi/clips/common_voice_hi_23827798.mp3\n",
      "cv-corpus-6.1-2020-12-11/hi/clips/common_voice_hi_23827799.mp3\n",
      "cv-corpus-6.1-2020-12-11/hi/clips/common_voice_hi_23827800.mp3\n",
      "cv-corpus-6.1-2020-12-11/hi/clips/common_voice_hi_23827801.mp3\n",
      "cv-corpus-6.1-2020-12-11/hi/clips/common_voice_hi_23827802.mp3\n",
      "cv-corpus-6.1-2020-12-11/hi/clips/common_voice_hi_23827803.mp3\n",
      "cv-corpus-6.1-2020-12-11/hi/clips/common_voice_hi_23827804.mp3\n",
      "cv-corpus-6.1-2020-12-11/hi/clips/common_voice_hi_23828667.mp3\n",
      "cv-corpus-6.1-2020-12-11/hi/clips/common_voice_hi_23828668.mp3\n",
      "cv-corpus-6.1-2020-12-11/hi/clips/common_voice_hi_23828669.mp3\n",
      "cv-corpus-6.1-2020-12-11/hi/clips/common_voice_hi_23828670.mp3\n",
      "cv-corpus-6.1-2020-12-11/hi/clips/common_voice_hi_23828671.mp3\n",
      "cv-corpus-6.1-2020-12-11/hi/clips/common_voice_hi_23828682.mp3\n",
      "cv-corpus-6.1-2020-12-11/hi/clips/common_voice_hi_23828683.mp3\n",
      "cv-corpus-6.1-2020-12-11/hi/clips/common_voice_hi_23828684.mp3\n",
      "cv-corpus-6.1-2020-12-11/hi/clips/common_voice_hi_23828685.mp3\n",
      "cv-corpus-6.1-2020-12-11/hi/clips/common_voice_hi_23828686.mp3\n",
      "cv-corpus-6.1-2020-12-11/hi/clips/common_voice_hi_23828697.mp3\n",
      "cv-corpus-6.1-2020-12-11/hi/clips/common_voice_hi_23828698.mp3\n",
      "cv-corpus-6.1-2020-12-11/hi/clips/common_voice_hi_23828699.mp3\n",
      "cv-corpus-6.1-2020-12-11/hi/clips/common_voice_hi_23828700.mp3\n",
      "cv-corpus-6.1-2020-12-11/hi/clips/common_voice_hi_23828701.mp3\n",
      "cv-corpus-6.1-2020-12-11/hi/clips/common_voice_hi_23828712.mp3\n",
      "cv-corpus-6.1-2020-12-11/hi/clips/common_voice_hi_23828713.mp3\n",
      "cv-corpus-6.1-2020-12-11/hi/clips/common_voice_hi_23828714.mp3\n",
      "cv-corpus-6.1-2020-12-11/hi/clips/common_voice_hi_23828715.mp3\n",
      "cv-corpus-6.1-2020-12-11/hi/clips/common_voice_hi_23828716.mp3\n",
      "cv-corpus-6.1-2020-12-11/hi/clips/common_voice_hi_23828722.mp3\n",
      "cv-corpus-6.1-2020-12-11/hi/clips/common_voice_hi_23828723.mp3\n",
      "cv-corpus-6.1-2020-12-11/hi/clips/common_voice_hi_23828724.mp3\n",
      "cv-corpus-6.1-2020-12-11/hi/clips/common_voice_hi_23828725.mp3\n",
      "cv-corpus-6.1-2020-12-11/hi/clips/common_voice_hi_23828727.mp3\n",
      "cv-corpus-6.1-2020-12-11/hi/clips/common_voice_hi_23828747.mp3\n",
      "cv-corpus-6.1-2020-12-11/hi/clips/common_voice_hi_23828748.mp3\n",
      "cv-corpus-6.1-2020-12-11/hi/clips/common_voice_hi_23828749.mp3\n",
      "cv-corpus-6.1-2020-12-11/hi/clips/common_voice_hi_23828750.mp3\n",
      "cv-corpus-6.1-2020-12-11/hi/clips/common_voice_hi_23828751.mp3\n",
      "cv-corpus-6.1-2020-12-11/hi/clips/common_voice_hi_23828802.mp3\n",
      "cv-corpus-6.1-2020-12-11/hi/clips/common_voice_hi_23828803.mp3\n",
      "cv-corpus-6.1-2020-12-11/hi/clips/common_voice_hi_23828804.mp3\n",
      "cv-corpus-6.1-2020-12-11/hi/clips/common_voice_hi_23828805.mp3\n",
      "cv-corpus-6.1-2020-12-11/hi/clips/common_voice_hi_23828806.mp3\n",
      "cv-corpus-6.1-2020-12-11/hi/clips/common_voice_hi_23830498.mp3\n",
      "cv-corpus-6.1-2020-12-11/hi/clips/common_voice_hi_23830499.mp3\n",
      "cv-corpus-6.1-2020-12-11/hi/clips/common_voice_hi_23830500.mp3\n",
      "cv-corpus-6.1-2020-12-11/hi/clips/common_voice_hi_23830501.mp3\n",
      "cv-corpus-6.1-2020-12-11/hi/clips/common_voice_hi_23830502.mp3\n",
      "cv-corpus-6.1-2020-12-11/hi/clips/common_voice_hi_23830508.mp3\n",
      "cv-corpus-6.1-2020-12-11/hi/clips/common_voice_hi_23830509.mp3\n",
      "cv-corpus-6.1-2020-12-11/hi/clips/common_voice_hi_23830510.mp3\n",
      "cv-corpus-6.1-2020-12-11/hi/clips/common_voice_hi_23830511.mp3\n",
      "cv-corpus-6.1-2020-12-11/hi/clips/common_voice_hi_23830512.mp3\n",
      "cv-corpus-6.1-2020-12-11/hi/clips/common_voice_hi_23830513.mp3\n",
      "cv-corpus-6.1-2020-12-11/hi/clips/common_voice_hi_23830514.mp3\n",
      "cv-corpus-6.1-2020-12-11/hi/clips/common_voice_hi_23830515.mp3\n",
      "cv-corpus-6.1-2020-12-11/hi/clips/common_voice_hi_23830516.mp3\n",
      "cv-corpus-6.1-2020-12-11/hi/clips/common_voice_hi_23830517.mp3\n",
      "cv-corpus-6.1-2020-12-11/hi/clips/common_voice_hi_23830518.mp3\n",
      "cv-corpus-6.1-2020-12-11/hi/clips/common_voice_hi_23830519.mp3\n",
      "cv-corpus-6.1-2020-12-11/hi/clips/common_voice_hi_23830520.mp3\n",
      "cv-corpus-6.1-2020-12-11/hi/clips/common_voice_hi_23830521.mp3\n",
      "cv-corpus-6.1-2020-12-11/hi/clips/common_voice_hi_23830522.mp3\n",
      "cv-corpus-6.1-2020-12-11/hi/clips/common_voice_hi_23830523.mp3\n",
      "cv-corpus-6.1-2020-12-11/hi/clips/common_voice_hi_23830524.mp3\n",
      "cv-corpus-6.1-2020-12-11/hi/clips/common_voice_hi_23830525.mp3\n",
      "cv-corpus-6.1-2020-12-11/hi/clips/common_voice_hi_23830526.mp3\n",
      "cv-corpus-6.1-2020-12-11/hi/clips/common_voice_hi_23830527.mp3\n",
      "cv-corpus-6.1-2020-12-11/hi/clips/common_voice_hi_23830779.mp3\n",
      "cv-corpus-6.1-2020-12-11/hi/clips/common_voice_hi_23830780.mp3\n",
      "cv-corpus-6.1-2020-12-11/hi/clips/common_voice_hi_23830781.mp3\n",
      "cv-corpus-6.1-2020-12-11/hi/clips/common_voice_hi_23830782.mp3\n",
      "cv-corpus-6.1-2020-12-11/hi/clips/common_voice_hi_23830783.mp3\n",
      "cv-corpus-6.1-2020-12-11/hi/clips/common_voice_hi_23830797.mp3\n",
      "cv-corpus-6.1-2020-12-11/hi/clips/common_voice_hi_23830798.mp3\n",
      "cv-corpus-6.1-2020-12-11/hi/clips/common_voice_hi_23830800.mp3\n",
      "cv-corpus-6.1-2020-12-11/hi/clips/common_voice_hi_23830801.mp3\n",
      "cv-corpus-6.1-2020-12-11/hi/clips/common_voice_hi_23830802.mp3\n",
      "cv-corpus-6.1-2020-12-11/hi/clips/common_voice_hi_23830812.mp3\n",
      "cv-corpus-6.1-2020-12-11/hi/clips/common_voice_hi_23830813.mp3\n",
      "cv-corpus-6.1-2020-12-11/hi/clips/common_voice_hi_23830814.mp3\n",
      "cv-corpus-6.1-2020-12-11/hi/clips/common_voice_hi_23830815.mp3\n",
      "cv-corpus-6.1-2020-12-11/hi/clips/common_voice_hi_23830816.mp3\n",
      "cv-corpus-6.1-2020-12-11/hi/clips/common_voice_hi_23832722.mp3\n",
      "cv-corpus-6.1-2020-12-11/hi/clips/common_voice_hi_23832723.mp3\n",
      "cv-corpus-6.1-2020-12-11/hi/clips/common_voice_hi_23832724.mp3\n",
      "cv-corpus-6.1-2020-12-11/hi/clips/common_voice_hi_23832725.mp3\n",
      "cv-corpus-6.1-2020-12-11/hi/clips/common_voice_hi_23832726.mp3\n",
      "cv-corpus-6.1-2020-12-11/hi/clips/common_voice_hi_23832732.mp3\n",
      "cv-corpus-6.1-2020-12-11/hi/clips/common_voice_hi_23832733.mp3\n",
      "cv-corpus-6.1-2020-12-11/hi/clips/common_voice_hi_23832734.mp3\n",
      "cv-corpus-6.1-2020-12-11/hi/clips/common_voice_hi_23832735.mp3\n",
      "cv-corpus-6.1-2020-12-11/hi/clips/common_voice_hi_23832736.mp3\n",
      "cv-corpus-6.1-2020-12-11/hi/clips/common_voice_hi_23832737.mp3\n",
      "cv-corpus-6.1-2020-12-11/hi/clips/common_voice_hi_23832738.mp3\n",
      "cv-corpus-6.1-2020-12-11/hi/clips/common_voice_hi_23832739.mp3\n",
      "cv-corpus-6.1-2020-12-11/hi/clips/common_voice_hi_23832740.mp3\n",
      "cv-corpus-6.1-2020-12-11/hi/clips/common_voice_hi_23832741.mp3\n",
      "cv-corpus-6.1-2020-12-11/hi/clips/common_voice_hi_23832954.mp3\n",
      "cv-corpus-6.1-2020-12-11/hi/clips/common_voice_hi_23832955.mp3\n",
      "cv-corpus-6.1-2020-12-11/hi/clips/common_voice_hi_23832956.mp3\n",
      "cv-corpus-6.1-2020-12-11/hi/clips/common_voice_hi_23832957.mp3\n",
      "cv-corpus-6.1-2020-12-11/hi/clips/common_voice_hi_23832958.mp3\n",
      "cv-corpus-6.1-2020-12-11/hi/clips/common_voice_hi_23833315.mp3\n",
      "cv-corpus-6.1-2020-12-11/hi/clips/common_voice_hi_23833316.mp3\n",
      "cv-corpus-6.1-2020-12-11/hi/clips/common_voice_hi_23833317.mp3\n",
      "cv-corpus-6.1-2020-12-11/hi/clips/common_voice_hi_23833318.mp3\n",
      "cv-corpus-6.1-2020-12-11/hi/clips/common_voice_hi_23833319.mp3\n",
      "cv-corpus-6.1-2020-12-11/hi/clips/common_voice_hi_23833325.mp3\n",
      "cv-corpus-6.1-2020-12-11/hi/clips/common_voice_hi_23833326.mp3\n",
      "cv-corpus-6.1-2020-12-11/hi/clips/common_voice_hi_23833327.mp3\n",
      "cv-corpus-6.1-2020-12-11/hi/clips/common_voice_hi_23833328.mp3\n",
      "cv-corpus-6.1-2020-12-11/hi/clips/common_voice_hi_23833329.mp3\n",
      "cv-corpus-6.1-2020-12-11/hi/clips/common_voice_hi_23833330.mp3\n",
      "cv-corpus-6.1-2020-12-11/hi/clips/common_voice_hi_23833331.mp3\n",
      "cv-corpus-6.1-2020-12-11/hi/clips/common_voice_hi_23833332.mp3\n",
      "cv-corpus-6.1-2020-12-11/hi/clips/common_voice_hi_23833333.mp3\n",
      "cv-corpus-6.1-2020-12-11/hi/clips/common_voice_hi_23833334.mp3\n",
      "cv-corpus-6.1-2020-12-11/hi/clips/common_voice_hi_23833600.mp3\n",
      "cv-corpus-6.1-2020-12-11/hi/clips/common_voice_hi_23833601.mp3\n",
      "cv-corpus-6.1-2020-12-11/hi/clips/common_voice_hi_23833602.mp3\n",
      "cv-corpus-6.1-2020-12-11/hi/clips/common_voice_hi_23833603.mp3\n",
      "cv-corpus-6.1-2020-12-11/hi/clips/common_voice_hi_23833604.mp3\n",
      "cv-corpus-6.1-2020-12-11/hi/clips/common_voice_hi_23833605.mp3\n",
      "cv-corpus-6.1-2020-12-11/hi/clips/common_voice_hi_23833606.mp3\n",
      "cv-corpus-6.1-2020-12-11/hi/clips/common_voice_hi_23833607.mp3\n",
      "cv-corpus-6.1-2020-12-11/hi/clips/common_voice_hi_23833608.mp3\n",
      "cv-corpus-6.1-2020-12-11/hi/clips/common_voice_hi_23833609.mp3\n",
      "cv-corpus-6.1-2020-12-11/hi/clips/common_voice_hi_23833610.mp3\n",
      "cv-corpus-6.1-2020-12-11/hi/clips/common_voice_hi_23833611.mp3\n",
      "cv-corpus-6.1-2020-12-11/hi/clips/common_voice_hi_23833612.mp3\n",
      "cv-corpus-6.1-2020-12-11/hi/clips/common_voice_hi_23833613.mp3\n",
      "cv-corpus-6.1-2020-12-11/hi/clips/common_voice_hi_23833614.mp3\n",
      "cv-corpus-6.1-2020-12-11/hi/clips/common_voice_hi_23834324.mp3\n",
      "cv-corpus-6.1-2020-12-11/hi/clips/common_voice_hi_23834325.mp3\n",
      "cv-corpus-6.1-2020-12-11/hi/clips/common_voice_hi_23834326.mp3\n",
      "cv-corpus-6.1-2020-12-11/hi/clips/common_voice_hi_23834327.mp3\n",
      "cv-corpus-6.1-2020-12-11/hi/clips/common_voice_hi_23834328.mp3\n",
      "cv-corpus-6.1-2020-12-11/hi/clips/common_voice_hi_23839863.mp3\n",
      "cv-corpus-6.1-2020-12-11/hi/clips/common_voice_hi_23839864.mp3\n",
      "cv-corpus-6.1-2020-12-11/hi/clips/common_voice_hi_23839865.mp3\n",
      "cv-corpus-6.1-2020-12-11/hi/clips/common_voice_hi_23839866.mp3\n",
      "cv-corpus-6.1-2020-12-11/hi/clips/common_voice_hi_23839867.mp3\n",
      "cv-corpus-6.1-2020-12-11/hi/clips/common_voice_hi_23839868.mp3\n",
      "cv-corpus-6.1-2020-12-11/hi/clips/common_voice_hi_23839869.mp3\n",
      "cv-corpus-6.1-2020-12-11/hi/clips/common_voice_hi_23839870.mp3\n",
      "cv-corpus-6.1-2020-12-11/hi/clips/common_voice_hi_23839871.mp3\n",
      "cv-corpus-6.1-2020-12-11/hi/clips/common_voice_hi_23839872.mp3\n",
      "cv-corpus-6.1-2020-12-11/hi/clips/common_voice_hi_23844508.mp3\n",
      "cv-corpus-6.1-2020-12-11/hi/clips/common_voice_hi_23844509.mp3\n",
      "cv-corpus-6.1-2020-12-11/hi/clips/common_voice_hi_23844510.mp3\n",
      "cv-corpus-6.1-2020-12-11/hi/clips/common_voice_hi_23844511.mp3\n",
      "cv-corpus-6.1-2020-12-11/hi/clips/common_voice_hi_23844512.mp3\n",
      "cv-corpus-6.1-2020-12-11/hi/clips/common_voice_hi_23844513.mp3\n",
      "cv-corpus-6.1-2020-12-11/hi/clips/common_voice_hi_23844514.mp3\n",
      "cv-corpus-6.1-2020-12-11/hi/clips/common_voice_hi_23844515.mp3\n",
      "cv-corpus-6.1-2020-12-11/hi/clips/common_voice_hi_23844516.mp3\n",
      "cv-corpus-6.1-2020-12-11/hi/clips/common_voice_hi_23844517.mp3\n",
      "cv-corpus-6.1-2020-12-11/hi/clips/common_voice_hi_23844528.mp3\n",
      "cv-corpus-6.1-2020-12-11/hi/clips/common_voice_hi_23844529.mp3\n",
      "cv-corpus-6.1-2020-12-11/hi/clips/common_voice_hi_23844530.mp3\n",
      "cv-corpus-6.1-2020-12-11/hi/clips/common_voice_hi_23844531.mp3\n",
      "cv-corpus-6.1-2020-12-11/hi/clips/common_voice_hi_23844532.mp3\n",
      "cv-corpus-6.1-2020-12-11/hi/clips/common_voice_hi_23844533.mp3\n",
      "cv-corpus-6.1-2020-12-11/hi/clips/common_voice_hi_23844534.mp3\n",
      "cv-corpus-6.1-2020-12-11/hi/clips/common_voice_hi_23844535.mp3\n",
      "cv-corpus-6.1-2020-12-11/hi/clips/common_voice_hi_23844536.mp3\n",
      "cv-corpus-6.1-2020-12-11/hi/clips/common_voice_hi_23844537.mp3\n",
      "cv-corpus-6.1-2020-12-11/hi/clips/common_voice_hi_23844538.mp3\n",
      "cv-corpus-6.1-2020-12-11/hi/clips/common_voice_hi_23844539.mp3\n",
      "cv-corpus-6.1-2020-12-11/hi/clips/common_voice_hi_23844540.mp3\n",
      "cv-corpus-6.1-2020-12-11/hi/clips/common_voice_hi_23844541.mp3\n",
      "cv-corpus-6.1-2020-12-11/hi/clips/common_voice_hi_23844542.mp3\n",
      "cv-corpus-6.1-2020-12-11/hi/clips/common_voice_hi_23847549.mp3\n",
      "cv-corpus-6.1-2020-12-11/hi/clips/common_voice_hi_23847550.mp3\n",
      "cv-corpus-6.1-2020-12-11/hi/clips/common_voice_hi_23847551.mp3\n",
      "cv-corpus-6.1-2020-12-11/hi/clips/common_voice_hi_23847552.mp3\n",
      "cv-corpus-6.1-2020-12-11/hi/clips/common_voice_hi_23847553.mp3\n",
      "cv-corpus-6.1-2020-12-11/hi/clips/common_voice_hi_23847594.mp3\n",
      "cv-corpus-6.1-2020-12-11/hi/clips/common_voice_hi_23847595.mp3\n",
      "cv-corpus-6.1-2020-12-11/hi/clips/common_voice_hi_23847596.mp3\n",
      "cv-corpus-6.1-2020-12-11/hi/clips/common_voice_hi_23847597.mp3\n",
      "cv-corpus-6.1-2020-12-11/hi/clips/common_voice_hi_23847598.mp3\n",
      "cv-corpus-6.1-2020-12-11/hi/clips/common_voice_hi_23849284.mp3\n",
      "cv-corpus-6.1-2020-12-11/hi/clips/common_voice_hi_23849285.mp3\n",
      "cv-corpus-6.1-2020-12-11/hi/clips/common_voice_hi_23849286.mp3\n",
      "cv-corpus-6.1-2020-12-11/hi/clips/common_voice_hi_23849287.mp3\n",
      "cv-corpus-6.1-2020-12-11/hi/clips/common_voice_hi_23849288.mp3\n",
      "cv-corpus-6.1-2020-12-11/hi/clips/common_voice_hi_23849294.mp3\n",
      "cv-corpus-6.1-2020-12-11/hi/clips/common_voice_hi_23849295.mp3\n",
      "cv-corpus-6.1-2020-12-11/hi/clips/common_voice_hi_23849296.mp3\n",
      "cv-corpus-6.1-2020-12-11/hi/clips/common_voice_hi_23849297.mp3\n",
      "cv-corpus-6.1-2020-12-11/hi/clips/common_voice_hi_23849298.mp3\n",
      "cv-corpus-6.1-2020-12-11/hi/clips/common_voice_hi_23849299.mp3\n",
      "cv-corpus-6.1-2020-12-11/hi/clips/common_voice_hi_23849300.mp3\n",
      "cv-corpus-6.1-2020-12-11/hi/clips/common_voice_hi_23849301.mp3\n",
      "cv-corpus-6.1-2020-12-11/hi/clips/common_voice_hi_23849302.mp3\n",
      "cv-corpus-6.1-2020-12-11/hi/clips/common_voice_hi_23849303.mp3\n",
      "cv-corpus-6.1-2020-12-11/hi/clips/common_voice_hi_23849304.mp3\n",
      "cv-corpus-6.1-2020-12-11/hi/clips/common_voice_hi_23849305.mp3\n",
      "cv-corpus-6.1-2020-12-11/hi/clips/common_voice_hi_23849306.mp3\n",
      "cv-corpus-6.1-2020-12-11/hi/clips/common_voice_hi_23849307.mp3\n",
      "cv-corpus-6.1-2020-12-11/hi/clips/common_voice_hi_23849308.mp3\n",
      "cv-corpus-6.1-2020-12-11/hi/clips/common_voice_hi_23849309.mp3\n",
      "cv-corpus-6.1-2020-12-11/hi/clips/common_voice_hi_23849310.mp3\n",
      "cv-corpus-6.1-2020-12-11/hi/clips/common_voice_hi_23849311.mp3\n",
      "cv-corpus-6.1-2020-12-11/hi/clips/common_voice_hi_23849312.mp3\n",
      "cv-corpus-6.1-2020-12-11/hi/clips/common_voice_hi_23849313.mp3\n",
      "cv-corpus-6.1-2020-12-11/hi/clips/common_voice_hi_23849314.mp3\n",
      "cv-corpus-6.1-2020-12-11/hi/clips/common_voice_hi_23849315.mp3\n",
      "cv-corpus-6.1-2020-12-11/hi/clips/common_voice_hi_23849316.mp3\n",
      "cv-corpus-6.1-2020-12-11/hi/clips/common_voice_hi_23849317.mp3\n",
      "cv-corpus-6.1-2020-12-11/hi/clips/common_voice_hi_23849318.mp3\n",
      "cv-corpus-6.1-2020-12-11/hi/clips/common_voice_hi_23849319.mp3\n",
      "cv-corpus-6.1-2020-12-11/hi/clips/common_voice_hi_23849320.mp3\n",
      "cv-corpus-6.1-2020-12-11/hi/clips/common_voice_hi_23849321.mp3\n",
      "cv-corpus-6.1-2020-12-11/hi/clips/common_voice_hi_23849322.mp3\n",
      "cv-corpus-6.1-2020-12-11/hi/clips/common_voice_hi_23849323.mp3\n",
      "cv-corpus-6.1-2020-12-11/hi/clips/common_voice_hi_23849346.mp3\n",
      "cv-corpus-6.1-2020-12-11/hi/clips/common_voice_hi_23849349.mp3\n",
      "cv-corpus-6.1-2020-12-11/hi/clips/common_voice_hi_23849351.mp3\n",
      "cv-corpus-6.1-2020-12-11/hi/clips/common_voice_hi_23849352.mp3\n",
      "cv-corpus-6.1-2020-12-11/hi/clips/common_voice_hi_23849353.mp3\n",
      "cv-corpus-6.1-2020-12-11/hi/clips/common_voice_hi_23849359.mp3\n",
      "cv-corpus-6.1-2020-12-11/hi/clips/common_voice_hi_23849360.mp3\n",
      "cv-corpus-6.1-2020-12-11/hi/clips/common_voice_hi_23849361.mp3\n",
      "cv-corpus-6.1-2020-12-11/hi/clips/common_voice_hi_23849362.mp3\n",
      "cv-corpus-6.1-2020-12-11/hi/clips/common_voice_hi_23849363.mp3\n",
      "cv-corpus-6.1-2020-12-11/hi/clips/common_voice_hi_23849376.mp3\n",
      "cv-corpus-6.1-2020-12-11/hi/clips/common_voice_hi_23849377.mp3\n",
      "cv-corpus-6.1-2020-12-11/hi/clips/common_voice_hi_23849378.mp3\n",
      "cv-corpus-6.1-2020-12-11/hi/clips/common_voice_hi_23849379.mp3\n",
      "cv-corpus-6.1-2020-12-11/hi/clips/common_voice_hi_23849380.mp3\n",
      "cv-corpus-6.1-2020-12-11/hi/clips/common_voice_hi_23852746.mp3\n",
      "cv-corpus-6.1-2020-12-11/hi/clips/common_voice_hi_23852747.mp3\n",
      "cv-corpus-6.1-2020-12-11/hi/clips/common_voice_hi_23852748.mp3\n",
      "cv-corpus-6.1-2020-12-11/hi/clips/common_voice_hi_23852749.mp3\n",
      "cv-corpus-6.1-2020-12-11/hi/clips/common_voice_hi_23852750.mp3\n",
      "cv-corpus-6.1-2020-12-11/hi/clips/common_voice_hi_23852751.mp3\n",
      "cv-corpus-6.1-2020-12-11/hi/clips/common_voice_hi_23852752.mp3\n",
      "cv-corpus-6.1-2020-12-11/hi/clips/common_voice_hi_23852753.mp3\n",
      "cv-corpus-6.1-2020-12-11/hi/clips/common_voice_hi_23852754.mp3\n",
      "cv-corpus-6.1-2020-12-11/hi/clips/common_voice_hi_23852755.mp3\n",
      "cv-corpus-6.1-2020-12-11/hi/clips/common_voice_hi_23852756.mp3\n",
      "cv-corpus-6.1-2020-12-11/hi/clips/common_voice_hi_23852757.mp3\n",
      "cv-corpus-6.1-2020-12-11/hi/clips/common_voice_hi_23852758.mp3\n",
      "cv-corpus-6.1-2020-12-11/hi/clips/common_voice_hi_23852759.mp3\n",
      "cv-corpus-6.1-2020-12-11/hi/clips/common_voice_hi_23852760.mp3\n",
      "cv-corpus-6.1-2020-12-11/hi/clips/common_voice_hi_23852761.mp3\n",
      "cv-corpus-6.1-2020-12-11/hi/clips/common_voice_hi_23852762.mp3\n",
      "cv-corpus-6.1-2020-12-11/hi/clips/common_voice_hi_23852763.mp3\n",
      "cv-corpus-6.1-2020-12-11/hi/clips/common_voice_hi_23852764.mp3\n",
      "cv-corpus-6.1-2020-12-11/hi/clips/common_voice_hi_23852765.mp3\n",
      "cv-corpus-6.1-2020-12-11/hi/clips/common_voice_hi_23852766.mp3\n",
      "cv-corpus-6.1-2020-12-11/hi/clips/common_voice_hi_23852767.mp3\n",
      "cv-corpus-6.1-2020-12-11/hi/clips/common_voice_hi_23852768.mp3\n",
      "cv-corpus-6.1-2020-12-11/hi/clips/common_voice_hi_23852769.mp3\n",
      "cv-corpus-6.1-2020-12-11/hi/clips/common_voice_hi_23852770.mp3\n",
      "cv-corpus-6.1-2020-12-11/hi/clips/common_voice_hi_23852771.mp3\n",
      "cv-corpus-6.1-2020-12-11/hi/clips/common_voice_hi_23852772.mp3\n",
      "cv-corpus-6.1-2020-12-11/hi/clips/common_voice_hi_23852773.mp3\n",
      "cv-corpus-6.1-2020-12-11/hi/clips/common_voice_hi_23852774.mp3\n",
      "cv-corpus-6.1-2020-12-11/hi/clips/common_voice_hi_23852775.mp3\n",
      "cv-corpus-6.1-2020-12-11/hi/clips/common_voice_hi_23852776.mp3\n",
      "cv-corpus-6.1-2020-12-11/hi/clips/common_voice_hi_23852777.mp3\n",
      "cv-corpus-6.1-2020-12-11/hi/clips/common_voice_hi_23852778.mp3\n",
      "cv-corpus-6.1-2020-12-11/hi/clips/common_voice_hi_23852779.mp3\n",
      "cv-corpus-6.1-2020-12-11/hi/clips/common_voice_hi_23852780.mp3\n",
      "cv-corpus-6.1-2020-12-11/hi/clips/common_voice_hi_23852791.mp3\n",
      "cv-corpus-6.1-2020-12-11/hi/clips/common_voice_hi_23852792.mp3\n",
      "cv-corpus-6.1-2020-12-11/hi/clips/common_voice_hi_23852793.mp3\n",
      "cv-corpus-6.1-2020-12-11/hi/clips/common_voice_hi_23852794.mp3\n",
      "cv-corpus-6.1-2020-12-11/hi/clips/common_voice_hi_23852795.mp3\n",
      "cv-corpus-6.1-2020-12-11/hi/clips/common_voice_hi_23852811.mp3\n",
      "cv-corpus-6.1-2020-12-11/hi/clips/common_voice_hi_23852812.mp3\n",
      "cv-corpus-6.1-2020-12-11/hi/clips/common_voice_hi_23852813.mp3\n",
      "cv-corpus-6.1-2020-12-11/hi/clips/common_voice_hi_23852814.mp3\n",
      "cv-corpus-6.1-2020-12-11/hi/clips/common_voice_hi_23852815.mp3\n",
      "cv-corpus-6.1-2020-12-11/hi/clips/common_voice_hi_23852883.mp3\n",
      "cv-corpus-6.1-2020-12-11/hi/clips/common_voice_hi_23852884.mp3\n",
      "cv-corpus-6.1-2020-12-11/hi/clips/common_voice_hi_23852885.mp3\n",
      "cv-corpus-6.1-2020-12-11/hi/clips/common_voice_hi_23852886.mp3\n",
      "cv-corpus-6.1-2020-12-11/hi/clips/common_voice_hi_23852887.mp3\n",
      "cv-corpus-6.1-2020-12-11/hi/clips/common_voice_hi_23901985.mp3\n",
      "cv-corpus-6.1-2020-12-11/hi/clips/common_voice_hi_23901986.mp3\n",
      "cv-corpus-6.1-2020-12-11/hi/clips/common_voice_hi_23901987.mp3\n",
      "cv-corpus-6.1-2020-12-11/hi/clips/common_voice_hi_23901988.mp3\n",
      "cv-corpus-6.1-2020-12-11/hi/clips/common_voice_hi_23901989.mp3\n",
      "cv-corpus-6.1-2020-12-11/hi/clips/common_voice_hi_23936419.mp3\n",
      "cv-corpus-6.1-2020-12-11/hi/clips/common_voice_hi_23936421.mp3\n",
      "cv-corpus-6.1-2020-12-11/hi/clips/common_voice_hi_23936422.mp3\n",
      "cv-corpus-6.1-2020-12-11/hi/clips/common_voice_hi_23936423.mp3\n",
      "cv-corpus-6.1-2020-12-11/hi/clips/common_voice_hi_23936424.mp3\n",
      "cv-corpus-6.1-2020-12-11/hi/clips/common_voice_hi_23937109.mp3\n",
      "cv-corpus-6.1-2020-12-11/hi/clips/common_voice_hi_23937110.mp3\n",
      "cv-corpus-6.1-2020-12-11/hi/clips/common_voice_hi_23937111.mp3\n",
      "cv-corpus-6.1-2020-12-11/hi/clips/common_voice_hi_23937112.mp3\n",
      "cv-corpus-6.1-2020-12-11/hi/clips/common_voice_hi_23937113.mp3\n",
      "cv-corpus-6.1-2020-12-11/hi/clips/common_voice_hi_23937536.mp3\n",
      "cv-corpus-6.1-2020-12-11/hi/clips/common_voice_hi_23937537.mp3\n",
      "cv-corpus-6.1-2020-12-11/hi/clips/common_voice_hi_23937538.mp3\n",
      "cv-corpus-6.1-2020-12-11/hi/clips/common_voice_hi_23937539.mp3\n",
      "cv-corpus-6.1-2020-12-11/hi/clips/common_voice_hi_23937540.mp3\n",
      "cv-corpus-6.1-2020-12-11/hi/clips/common_voice_hi_23937551.mp3\n",
      "cv-corpus-6.1-2020-12-11/hi/clips/common_voice_hi_23937552.mp3\n",
      "cv-corpus-6.1-2020-12-11/hi/clips/common_voice_hi_23937553.mp3\n",
      "cv-corpus-6.1-2020-12-11/hi/clips/common_voice_hi_23937554.mp3\n",
      "cv-corpus-6.1-2020-12-11/hi/clips/common_voice_hi_23937555.mp3\n",
      "cv-corpus-6.1-2020-12-11/hi/clips/common_voice_hi_23937556.mp3\n",
      "cv-corpus-6.1-2020-12-11/hi/clips/common_voice_hi_23937557.mp3\n",
      "cv-corpus-6.1-2020-12-11/hi/clips/common_voice_hi_23937558.mp3\n",
      "cv-corpus-6.1-2020-12-11/hi/clips/common_voice_hi_23937559.mp3\n",
      "cv-corpus-6.1-2020-12-11/hi/clips/common_voice_hi_23937560.mp3\n",
      "cv-corpus-6.1-2020-12-11/hi/clips/common_voice_hi_23937561.mp3\n",
      "cv-corpus-6.1-2020-12-11/hi/clips/common_voice_hi_23937562.mp3\n",
      "cv-corpus-6.1-2020-12-11/hi/clips/common_voice_hi_23937563.mp3\n",
      "cv-corpus-6.1-2020-12-11/hi/clips/common_voice_hi_23937564.mp3\n",
      "cv-corpus-6.1-2020-12-11/hi/clips/common_voice_hi_23937565.mp3\n",
      "cv-corpus-6.1-2020-12-11/hi/clips/common_voice_hi_23937566.mp3\n",
      "cv-corpus-6.1-2020-12-11/hi/clips/common_voice_hi_23937567.mp3\n",
      "cv-corpus-6.1-2020-12-11/hi/clips/common_voice_hi_23937568.mp3\n",
      "cv-corpus-6.1-2020-12-11/hi/clips/common_voice_hi_23937569.mp3\n",
      "cv-corpus-6.1-2020-12-11/hi/clips/common_voice_hi_23937570.mp3\n",
      "cv-corpus-6.1-2020-12-11/hi/clips/common_voice_hi_23937571.mp3\n",
      "cv-corpus-6.1-2020-12-11/hi/clips/common_voice_hi_23937572.mp3\n",
      "cv-corpus-6.1-2020-12-11/hi/clips/common_voice_hi_23937573.mp3\n",
      "cv-corpus-6.1-2020-12-11/hi/clips/common_voice_hi_23937574.mp3\n",
      "cv-corpus-6.1-2020-12-11/hi/clips/common_voice_hi_23937575.mp3\n",
      "cv-corpus-6.1-2020-12-11/hi/clips/common_voice_hi_23937576.mp3\n",
      "cv-corpus-6.1-2020-12-11/hi/clips/common_voice_hi_23937577.mp3\n",
      "cv-corpus-6.1-2020-12-11/hi/clips/common_voice_hi_23937578.mp3\n",
      "cv-corpus-6.1-2020-12-11/hi/clips/common_voice_hi_23937579.mp3\n",
      "cv-corpus-6.1-2020-12-11/hi/clips/common_voice_hi_23937580.mp3\n",
      "cv-corpus-6.1-2020-12-11/hi/clips/common_voice_hi_23964471.mp3\n",
      "cv-corpus-6.1-2020-12-11/hi/clips/common_voice_hi_23964472.mp3\n",
      "cv-corpus-6.1-2020-12-11/hi/clips/common_voice_hi_23964473.mp3\n",
      "cv-corpus-6.1-2020-12-11/hi/clips/common_voice_hi_23964474.mp3\n",
      "cv-corpus-6.1-2020-12-11/hi/clips/common_voice_hi_23964475.mp3\n",
      "cv-corpus-6.1-2020-12-11/hi/clips/common_voice_hi_23964481.mp3\n",
      "cv-corpus-6.1-2020-12-11/hi/clips/common_voice_hi_23964482.mp3\n",
      "cv-corpus-6.1-2020-12-11/hi/clips/common_voice_hi_23964483.mp3\n",
      "cv-corpus-6.1-2020-12-11/hi/clips/common_voice_hi_23964484.mp3\n",
      "cv-corpus-6.1-2020-12-11/hi/clips/common_voice_hi_23964485.mp3\n",
      "cv-corpus-6.1-2020-12-11/hi/clips/common_voice_hi_23964491.mp3\n",
      "cv-corpus-6.1-2020-12-11/hi/clips/common_voice_hi_23964492.mp3\n",
      "cv-corpus-6.1-2020-12-11/hi/clips/common_voice_hi_23964493.mp3\n",
      "cv-corpus-6.1-2020-12-11/hi/clips/common_voice_hi_23964494.mp3\n",
      "cv-corpus-6.1-2020-12-11/hi/clips/common_voice_hi_23964495.mp3\n",
      "cv-corpus-6.1-2020-12-11/hi/clips/common_voice_hi_23964496.mp3\n",
      "cv-corpus-6.1-2020-12-11/hi/clips/common_voice_hi_23964497.mp3\n",
      "cv-corpus-6.1-2020-12-11/hi/clips/common_voice_hi_23964498.mp3\n",
      "cv-corpus-6.1-2020-12-11/hi/clips/common_voice_hi_23964499.mp3\n",
      "cv-corpus-6.1-2020-12-11/hi/clips/common_voice_hi_23964500.mp3\n",
      "cv-corpus-6.1-2020-12-11/hi/clips/common_voice_hi_23964501.mp3\n",
      "cv-corpus-6.1-2020-12-11/hi/clips/common_voice_hi_23964502.mp3\n",
      "cv-corpus-6.1-2020-12-11/hi/clips/common_voice_hi_23964503.mp3\n",
      "cv-corpus-6.1-2020-12-11/hi/clips/common_voice_hi_23964504.mp3\n",
      "cv-corpus-6.1-2020-12-11/hi/clips/common_voice_hi_23964505.mp3\n",
      "cv-corpus-6.1-2020-12-11/hi/clips/common_voice_hi_23964612.mp3\n",
      "cv-corpus-6.1-2020-12-11/hi/clips/common_voice_hi_23964613.mp3\n",
      "cv-corpus-6.1-2020-12-11/hi/clips/common_voice_hi_23964614.mp3\n",
      "cv-corpus-6.1-2020-12-11/hi/clips/common_voice_hi_23964615.mp3\n",
      "cv-corpus-6.1-2020-12-11/hi/clips/common_voice_hi_23964616.mp3\n",
      "cv-corpus-6.1-2020-12-11/hi/clips/common_voice_hi_23976026.mp3\n",
      "cv-corpus-6.1-2020-12-11/hi/clips/common_voice_hi_23976027.mp3\n",
      "cv-corpus-6.1-2020-12-11/hi/clips/common_voice_hi_23976028.mp3\n",
      "cv-corpus-6.1-2020-12-11/hi/clips/common_voice_hi_23976029.mp3\n",
      "cv-corpus-6.1-2020-12-11/hi/clips/common_voice_hi_23976030.mp3\n",
      "cv-corpus-6.1-2020-12-11/hi/clips/common_voice_hi_23976033.mp3\n",
      "cv-corpus-6.1-2020-12-11/hi/clips/common_voice_hi_23976034.mp3\n",
      "cv-corpus-6.1-2020-12-11/hi/clips/common_voice_hi_23976035.mp3\n",
      "cv-corpus-6.1-2020-12-11/hi/clips/common_voice_hi_23976036.mp3\n",
      "cv-corpus-6.1-2020-12-11/hi/clips/common_voice_hi_23976037.mp3\n",
      "cv-corpus-6.1-2020-12-11/hi/clips/common_voice_hi_23976043.mp3\n",
      "cv-corpus-6.1-2020-12-11/hi/clips/common_voice_hi_23976045.mp3\n",
      "cv-corpus-6.1-2020-12-11/hi/clips/common_voice_hi_23976047.mp3\n",
      "cv-corpus-6.1-2020-12-11/hi/clips/common_voice_hi_23976048.mp3\n",
      "cv-corpus-6.1-2020-12-11/hi/clips/common_voice_hi_23976049.mp3\n",
      "cv-corpus-6.1-2020-12-11/hi/clips/common_voice_hi_23976060.mp3\n",
      "cv-corpus-6.1-2020-12-11/hi/clips/common_voice_hi_23976061.mp3\n",
      "cv-corpus-6.1-2020-12-11/hi/clips/common_voice_hi_23976062.mp3\n",
      "cv-corpus-6.1-2020-12-11/hi/clips/common_voice_hi_23976063.mp3\n",
      "cv-corpus-6.1-2020-12-11/hi/clips/common_voice_hi_23976064.mp3\n",
      "cv-corpus-6.1-2020-12-11/hi/clips/common_voice_hi_23976074.mp3\n",
      "cv-corpus-6.1-2020-12-11/hi/clips/common_voice_hi_23976075.mp3\n",
      "cv-corpus-6.1-2020-12-11/hi/clips/common_voice_hi_23976076.mp3\n",
      "cv-corpus-6.1-2020-12-11/hi/clips/common_voice_hi_23976077.mp3\n",
      "cv-corpus-6.1-2020-12-11/hi/clips/common_voice_hi_23976078.mp3\n",
      "cv-corpus-6.1-2020-12-11/hi/clips/common_voice_hi_23997794.mp3\n",
      "cv-corpus-6.1-2020-12-11/hi/clips/common_voice_hi_24002515.mp3\n",
      "cv-corpus-6.1-2020-12-11/hi/clips/common_voice_hi_24004899.mp3\n",
      "cv-corpus-6.1-2020-12-11/hi/clips/common_voice_hi_24004900.mp3\n",
      "cv-corpus-6.1-2020-12-11/hi/clips/common_voice_hi_24004901.mp3\n",
      "cv-corpus-6.1-2020-12-11/hi/clips/common_voice_hi_24004902.mp3\n",
      "cv-corpus-6.1-2020-12-11/hi/clips/common_voice_hi_24004903.mp3\n",
      "cv-corpus-6.1-2020-12-11/hi/clips/common_voice_hi_24016296.mp3\n",
      "cv-corpus-6.1-2020-12-11/hi/clips/common_voice_hi_24016297.mp3\n",
      "cv-corpus-6.1-2020-12-11/hi/clips/common_voice_hi_24016298.mp3\n",
      "cv-corpus-6.1-2020-12-11/hi/clips/common_voice_hi_24016299.mp3\n",
      "cv-corpus-6.1-2020-12-11/hi/clips/common_voice_hi_24016300.mp3\n",
      "cv-corpus-6.1-2020-12-11/hi/clips/common_voice_hi_24026200.mp3\n",
      "cv-corpus-6.1-2020-12-11/hi/clips/common_voice_hi_24026201.mp3\n",
      "cv-corpus-6.1-2020-12-11/hi/clips/common_voice_hi_24026202.mp3\n",
      "cv-corpus-6.1-2020-12-11/hi/clips/common_voice_hi_24026203.mp3\n",
      "cv-corpus-6.1-2020-12-11/hi/clips/common_voice_hi_24026204.mp3\n",
      "cv-corpus-6.1-2020-12-11/hi/clips/common_voice_hi_24026210.mp3\n",
      "cv-corpus-6.1-2020-12-11/hi/clips/common_voice_hi_24026211.mp3\n",
      "cv-corpus-6.1-2020-12-11/hi/clips/common_voice_hi_24026212.mp3\n",
      "cv-corpus-6.1-2020-12-11/hi/clips/common_voice_hi_24026213.mp3\n",
      "cv-corpus-6.1-2020-12-11/hi/clips/common_voice_hi_24026214.mp3\n",
      "cv-corpus-6.1-2020-12-11/hi/clips/common_voice_hi_24026220.mp3\n",
      "cv-corpus-6.1-2020-12-11/hi/clips/common_voice_hi_24026221.mp3\n",
      "cv-corpus-6.1-2020-12-11/hi/clips/common_voice_hi_24026222.mp3\n",
      "cv-corpus-6.1-2020-12-11/hi/clips/common_voice_hi_24026223.mp3\n",
      "cv-corpus-6.1-2020-12-11/hi/clips/common_voice_hi_24026224.mp3\n",
      "cv-corpus-6.1-2020-12-11/hi/clips/common_voice_hi_24026235.mp3\n",
      "cv-corpus-6.1-2020-12-11/hi/clips/common_voice_hi_24026236.mp3\n",
      "cv-corpus-6.1-2020-12-11/hi/clips/common_voice_hi_24026237.mp3\n",
      "cv-corpus-6.1-2020-12-11/hi/clips/common_voice_hi_24026238.mp3\n",
      "cv-corpus-6.1-2020-12-11/hi/clips/common_voice_hi_24026239.mp3\n",
      "cv-corpus-6.1-2020-12-11/hi/clips/common_voice_hi_24026240.mp3\n",
      "cv-corpus-6.1-2020-12-11/hi/clips/common_voice_hi_24026241.mp3\n",
      "cv-corpus-6.1-2020-12-11/hi/clips/common_voice_hi_24026242.mp3\n",
      "cv-corpus-6.1-2020-12-11/hi/clips/common_voice_hi_24026243.mp3\n",
      "cv-corpus-6.1-2020-12-11/hi/clips/common_voice_hi_24026244.mp3\n",
      "cv-corpus-6.1-2020-12-11/hi/clips/common_voice_hi_24026255.mp3\n",
      "cv-corpus-6.1-2020-12-11/hi/clips/common_voice_hi_24026256.mp3\n",
      "cv-corpus-6.1-2020-12-11/hi/clips/common_voice_hi_24026257.mp3\n",
      "cv-corpus-6.1-2020-12-11/hi/clips/common_voice_hi_24026258.mp3\n",
      "cv-corpus-6.1-2020-12-11/hi/clips/common_voice_hi_24026259.mp3\n",
      "cv-corpus-6.1-2020-12-11/hi/clips/common_voice_hi_24026270.mp3\n",
      "cv-corpus-6.1-2020-12-11/hi/clips/common_voice_hi_24026271.mp3\n",
      "cv-corpus-6.1-2020-12-11/hi/clips/common_voice_hi_24026272.mp3\n",
      "cv-corpus-6.1-2020-12-11/hi/clips/common_voice_hi_24026273.mp3\n",
      "cv-corpus-6.1-2020-12-11/hi/clips/common_voice_hi_24026274.mp3\n",
      "cv-corpus-6.1-2020-12-11/hi/clips/common_voice_hi_24026280.mp3\n",
      "cv-corpus-6.1-2020-12-11/hi/clips/common_voice_hi_24026281.mp3\n",
      "cv-corpus-6.1-2020-12-11/hi/clips/common_voice_hi_24026282.mp3\n",
      "cv-corpus-6.1-2020-12-11/hi/clips/common_voice_hi_24026283.mp3\n",
      "cv-corpus-6.1-2020-12-11/hi/clips/common_voice_hi_24026284.mp3\n",
      "cv-corpus-6.1-2020-12-11/hi/clips/common_voice_hi_24026285.mp3\n",
      "cv-corpus-6.1-2020-12-11/hi/clips/common_voice_hi_24026286.mp3\n",
      "cv-corpus-6.1-2020-12-11/hi/clips/common_voice_hi_24026287.mp3\n",
      "cv-corpus-6.1-2020-12-11/hi/clips/common_voice_hi_24026288.mp3\n",
      "cv-corpus-6.1-2020-12-11/hi/clips/common_voice_hi_24026289.mp3\n",
      "cv-corpus-6.1-2020-12-11/hi/clips/common_voice_hi_24026290.mp3\n",
      "cv-corpus-6.1-2020-12-11/hi/clips/common_voice_hi_24026291.mp3\n",
      "cv-corpus-6.1-2020-12-11/hi/clips/common_voice_hi_24026292.mp3\n",
      "cv-corpus-6.1-2020-12-11/hi/clips/common_voice_hi_24026293.mp3\n",
      "cv-corpus-6.1-2020-12-11/hi/clips/common_voice_hi_24026294.mp3\n",
      "cv-corpus-6.1-2020-12-11/hi/clips/common_voice_hi_24026300.mp3\n",
      "cv-corpus-6.1-2020-12-11/hi/clips/common_voice_hi_24026301.mp3\n",
      "cv-corpus-6.1-2020-12-11/hi/clips/common_voice_hi_24026302.mp3\n",
      "cv-corpus-6.1-2020-12-11/hi/clips/common_voice_hi_24026303.mp3\n",
      "cv-corpus-6.1-2020-12-11/hi/clips/common_voice_hi_24026304.mp3\n",
      "cv-corpus-6.1-2020-12-11/hi/clips/common_voice_hi_24026315.mp3\n",
      "cv-corpus-6.1-2020-12-11/hi/clips/common_voice_hi_24026316.mp3\n",
      "cv-corpus-6.1-2020-12-11/hi/clips/common_voice_hi_24026317.mp3\n",
      "cv-corpus-6.1-2020-12-11/hi/clips/common_voice_hi_24026318.mp3\n",
      "cv-corpus-6.1-2020-12-11/hi/clips/common_voice_hi_24026319.mp3\n",
      "cv-corpus-6.1-2020-12-11/hi/clips/common_voice_hi_24026330.mp3\n",
      "cv-corpus-6.1-2020-12-11/hi/clips/common_voice_hi_24026331.mp3\n",
      "cv-corpus-6.1-2020-12-11/hi/clips/common_voice_hi_24026332.mp3\n",
      "cv-corpus-6.1-2020-12-11/hi/clips/common_voice_hi_24026333.mp3\n",
      "cv-corpus-6.1-2020-12-11/hi/clips/common_voice_hi_24026334.mp3\n",
      "cv-corpus-6.1-2020-12-11/hi/clips/common_voice_hi_24026345.mp3\n",
      "cv-corpus-6.1-2020-12-11/hi/clips/common_voice_hi_24026346.mp3\n",
      "cv-corpus-6.1-2020-12-11/hi/clips/common_voice_hi_24026347.mp3\n",
      "cv-corpus-6.1-2020-12-11/hi/clips/common_voice_hi_24026348.mp3\n",
      "cv-corpus-6.1-2020-12-11/hi/clips/common_voice_hi_24026349.mp3\n",
      "cv-corpus-6.1-2020-12-11/hi/clips/common_voice_hi_24026365.mp3\n",
      "cv-corpus-6.1-2020-12-11/hi/clips/common_voice_hi_24026366.mp3\n",
      "cv-corpus-6.1-2020-12-11/hi/clips/common_voice_hi_24026368.mp3\n",
      "cv-corpus-6.1-2020-12-11/hi/clips/common_voice_hi_24026369.mp3\n",
      "cv-corpus-6.1-2020-12-11/hi/clips/common_voice_hi_24026370.mp3\n",
      "cv-corpus-6.1-2020-12-11/hi/clips/common_voice_hi_24026389.mp3\n",
      "cv-corpus-6.1-2020-12-11/hi/clips/common_voice_hi_24026390.mp3\n",
      "cv-corpus-6.1-2020-12-11/hi/clips/common_voice_hi_24026391.mp3\n",
      "cv-corpus-6.1-2020-12-11/hi/clips/common_voice_hi_24026392.mp3\n",
      "cv-corpus-6.1-2020-12-11/hi/clips/common_voice_hi_24026393.mp3\n",
      "cv-corpus-6.1-2020-12-11/hi/clips/common_voice_hi_24026414.mp3\n",
      "cv-corpus-6.1-2020-12-11/hi/clips/common_voice_hi_24026415.mp3\n",
      "cv-corpus-6.1-2020-12-11/hi/clips/common_voice_hi_24026417.mp3\n",
      "cv-corpus-6.1-2020-12-11/hi/clips/common_voice_hi_24026418.mp3\n",
      "cv-corpus-6.1-2020-12-11/hi/clips/common_voice_hi_24026419.mp3\n",
      "cv-corpus-6.1-2020-12-11/hi/clips/common_voice_hi_24026433.mp3\n",
      "cv-corpus-6.1-2020-12-11/hi/clips/common_voice_hi_24026434.mp3\n",
      "cv-corpus-6.1-2020-12-11/hi/clips/common_voice_hi_24026435.mp3\n",
      "cv-corpus-6.1-2020-12-11/hi/clips/common_voice_hi_24026436.mp3\n",
      "cv-corpus-6.1-2020-12-11/hi/clips/common_voice_hi_24026437.mp3\n",
      "cv-corpus-6.1-2020-12-11/hi/clips/common_voice_hi_24026443.mp3\n",
      "cv-corpus-6.1-2020-12-11/hi/clips/common_voice_hi_24026444.mp3\n",
      "cv-corpus-6.1-2020-12-11/hi/clips/common_voice_hi_24026445.mp3\n",
      "cv-corpus-6.1-2020-12-11/hi/clips/common_voice_hi_24026446.mp3\n",
      "cv-corpus-6.1-2020-12-11/hi/clips/common_voice_hi_24026447.mp3\n",
      "cv-corpus-6.1-2020-12-11/hi/clips/common_voice_hi_24026463.mp3\n",
      "cv-corpus-6.1-2020-12-11/hi/clips/common_voice_hi_24026464.mp3\n",
      "cv-corpus-6.1-2020-12-11/hi/clips/common_voice_hi_24026465.mp3\n",
      "cv-corpus-6.1-2020-12-11/hi/clips/common_voice_hi_24026466.mp3\n",
      "cv-corpus-6.1-2020-12-11/hi/clips/common_voice_hi_24026467.mp3\n",
      "cv-corpus-6.1-2020-12-11/hi/clips/common_voice_hi_24026490.mp3\n",
      "cv-corpus-6.1-2020-12-11/hi/clips/common_voice_hi_24026492.mp3\n",
      "cv-corpus-6.1-2020-12-11/hi/clips/common_voice_hi_24026494.mp3\n",
      "cv-corpus-6.1-2020-12-11/hi/clips/common_voice_hi_24026496.mp3\n",
      "cv-corpus-6.1-2020-12-11/hi/clips/common_voice_hi_24026499.mp3\n",
      "cv-corpus-6.1-2020-12-11/hi/clips/common_voice_hi_24026513.mp3\n",
      "cv-corpus-6.1-2020-12-11/hi/clips/common_voice_hi_24026514.mp3\n",
      "cv-corpus-6.1-2020-12-11/hi/clips/common_voice_hi_24026515.mp3\n",
      "cv-corpus-6.1-2020-12-11/hi/clips/common_voice_hi_24026517.mp3\n",
      "cv-corpus-6.1-2020-12-11/hi/clips/common_voice_hi_24026519.mp3\n",
      "cv-corpus-6.1-2020-12-11/hi/clips/common_voice_hi_24028170.mp3\n",
      "cv-corpus-6.1-2020-12-11/hi/clips/common_voice_hi_24028171.mp3\n",
      "cv-corpus-6.1-2020-12-11/hi/clips/common_voice_hi_24028172.mp3\n",
      "cv-corpus-6.1-2020-12-11/hi/clips/common_voice_hi_24028173.mp3\n",
      "cv-corpus-6.1-2020-12-11/hi/clips/common_voice_hi_24028174.mp3\n",
      "cv-corpus-6.1-2020-12-11/hi/clips/common_voice_hi_24028185.mp3\n",
      "cv-corpus-6.1-2020-12-11/hi/clips/common_voice_hi_24028186.mp3\n",
      "cv-corpus-6.1-2020-12-11/hi/clips/common_voice_hi_24028187.mp3\n",
      "cv-corpus-6.1-2020-12-11/hi/clips/common_voice_hi_24028188.mp3\n",
      "cv-corpus-6.1-2020-12-11/hi/clips/common_voice_hi_24028189.mp3\n",
      "cv-corpus-6.1-2020-12-11/hi/clips/common_voice_hi_24038971.mp3\n",
      "cv-corpus-6.1-2020-12-11/hi/clips/common_voice_hi_24038973.mp3\n",
      "cv-corpus-6.1-2020-12-11/hi/clips/common_voice_hi_24038974.mp3\n",
      "cv-corpus-6.1-2020-12-11/hi/clips/common_voice_hi_24038975.mp3\n",
      "cv-corpus-6.1-2020-12-11/hi/clips/common_voice_hi_24038976.mp3\n"
     ]
    }
   ],
   "source": [
    "# Unzipping the dataset\n",
    "!tar -xvzf hi.tar.gz"
   ]
  },
  {
   "cell_type": "markdown",
   "metadata": {
    "id": "DxO8BRTgYayX"
   },
   "source": [
    "The data is now saved under `./cv-corpus-6.1-2020-12-11`. We can leverage datasets now to preprocess the dataset."
   ]
  },
  {
   "cell_type": "code",
   "execution_count": 86,
   "metadata": {
    "colab": {
     "base_uri": "https://localhost:8080/"
    },
    "id": "2MMXcWFFgCXU",
    "outputId": "07d4099b-e938-458c-dce9-0c110c07f877"
   },
   "outputs": [
    {
     "name": "stderr",
     "output_type": "stream",
     "text": [
      "Using custom data configuration hi-24242e0bc11eddb3\n",
      "Reusing dataset common_voice (/root/.cache/huggingface/datasets/common_voice/hi-24242e0bc11eddb3/6.1.0/a1dc74461f6c839bfe1e8cf1262fd4cf24297e3fbd4087a711bd090779023a5e)\n",
      "Using custom data configuration hi-24242e0bc11eddb3\n",
      "Reusing dataset common_voice (/root/.cache/huggingface/datasets/common_voice/hi-24242e0bc11eddb3/6.1.0/a1dc74461f6c839bfe1e8cf1262fd4cf24297e3fbd4087a711bd090779023a5e)\n"
     ]
    }
   ],
   "source": [
    "from datasets import load_dataset, load_metric\n",
    "# We merge the train and validation as the dataset is very small\n",
    "common_voice_train = load_dataset(\"common_voice\", \"hi\", data_dir=\"./cv-corpus-6.1-2020-12-11\", split=\"train+validation\")\n",
    "common_voice_test = load_dataset(\"common_voice\", \"hi\", data_dir=\"./cv-corpus-6.1-2020-12-11\", split=\"test\")"
   ]
  },
  {
   "cell_type": "markdown",
   "metadata": {
    "id": "CvVEA4q0QeXg"
   },
   "source": [
    "### Distribution of files between train and test"
   ]
  },
  {
   "cell_type": "code",
   "execution_count": 87,
   "metadata": {
    "colab": {
     "base_uri": "https://localhost:8080/"
    },
    "id": "6mZ_EEagyhFH",
    "outputId": "3730af00-f468-4cb9-c722-0bbabaf5d963"
   },
   "outputs": [
    {
     "name": "stdout",
     "output_type": "stream",
     "text": [
      "Training Data :\n",
      "Dataset({\n",
      "    features: ['client_id', 'path', 'audio', 'sentence', 'up_votes', 'down_votes', 'age', 'gender', 'accent', 'locale', 'segment'],\n",
      "    num_rows: 292\n",
      "})\n",
      "\n",
      "\n",
      "Testing Data :\n",
      "Dataset({\n",
      "    features: ['client_id', 'path', 'audio', 'sentence', 'up_votes', 'down_votes', 'age', 'gender', 'accent', 'locale', 'segment'],\n",
      "    num_rows: 127\n",
      "})\n"
     ]
    }
   ],
   "source": [
    "print('Training Data :')\n",
    "print(common_voice_train)\n",
    "print('\\n')\n",
    "print('Testing Data :')\n",
    "print(common_voice_test)"
   ]
  },
  {
   "cell_type": "markdown",
   "metadata": {
    "id": "phMlrKLfQmde"
   },
   "source": [
    "##### Removing Unnecessary Features from the dataset"
   ]
  },
  {
   "cell_type": "code",
   "execution_count": 88,
   "metadata": {
    "id": "kbyq6lDgQc2a"
   },
   "outputs": [],
   "source": [
    "common_voice_train = common_voice_train.remove_columns([\"accent\", \"age\", \"client_id\", \"down_votes\", \"gender\", \"locale\", \"segment\", \"up_votes\"])\n",
    "common_voice_test = common_voice_test.remove_columns([\"accent\", \"age\", \"client_id\", \"down_votes\", \"gender\", \"locale\", \"segment\", \"up_votes\"])"
   ]
  },
  {
   "cell_type": "code",
   "execution_count": 89,
   "metadata": {
    "colab": {
     "base_uri": "https://localhost:8080/"
    },
    "id": "mnelNz4QzkAx",
    "outputId": "eeb04f72-d784-4e9f-e49a-53ab0dea2ffc"
   },
   "outputs": [
    {
     "name": "stdout",
     "output_type": "stream",
     "text": [
      "Training Data modified :\n",
      "Dataset({\n",
      "    features: ['path', 'audio', 'sentence'],\n",
      "    num_rows: 292\n",
      "})\n",
      "\n",
      "\n",
      "Testing Data modified :\n",
      "Dataset({\n",
      "    features: ['path', 'audio', 'sentence'],\n",
      "    num_rows: 127\n",
      "})\n"
     ]
    }
   ],
   "source": [
    "print('Training Data modified :')\n",
    "print(common_voice_train)\n",
    "print('\\n')\n",
    "print('Testing Data modified :')\n",
    "print(common_voice_test)"
   ]
  },
  {
   "cell_type": "markdown",
   "metadata": {
    "id": "Go9Hq4e4NDT9"
   },
   "source": [
    "##### Function to Randomly print samples"
   ]
  },
  {
   "cell_type": "code",
   "execution_count": 90,
   "metadata": {
    "id": "72737oog2F6U"
   },
   "outputs": [],
   "source": [
    "from datasets import ClassLabel\n",
    "import random\n",
    "import pandas as pd\n",
    "from IPython.display import display, HTML\n",
    "\n",
    "def show_random_elements(dataset, num_examples=10):\n",
    "    assert num_examples <= len(dataset), \"Can't pick more elements than there are in the dataset.\"\n",
    "    picks = []\n",
    "    for _ in range(num_examples):\n",
    "        pick = random.randint(0, len(dataset)-1)\n",
    "        while pick in picks:\n",
    "            pick = random.randint(0, len(dataset)-1)\n",
    "        picks.append(pick)\n",
    "    \n",
    "    df = pd.DataFrame(dataset[picks])\n",
    "    display(HTML(df.to_html()))"
   ]
  },
  {
   "cell_type": "code",
   "execution_count": 91,
   "metadata": {
    "colab": {
     "base_uri": "https://localhost:8080/",
     "height": 1000
    },
    "id": "K_JUmf3G3b9S",
    "outputId": "801ef9b6-a40a-4c24-e9b4-8f27ec80c1f6"
   },
   "outputs": [
    {
     "data": {
      "text/html": [
       "<table border=\"1\" class=\"dataframe\">\n",
       "  <thead>\n",
       "    <tr style=\"text-align: right;\">\n",
       "      <th></th>\n",
       "      <th>audio</th>\n",
       "      <th>sentence</th>\n",
       "    </tr>\n",
       "  </thead>\n",
       "  <tbody>\n",
       "    <tr>\n",
       "      <th>0</th>\n",
       "      <td>{'path': '/root/.cache/huggingface/datasets/downloads/extracted/c96485295dfcd0d08e461a9bab70c7431c5b032810e282334a76757b3eb2d753/cv-corpus-6.1-2020-12-11/hi/clips/common_voice_hi_23795252.mp3', 'array': [0.0, 0.0, 0.0, 0.0, 0.0, 0.0, 0.0, 0.0, 0.0, 0.0, 0.0, 0.0, 0.0, 0.0, 0.0, 0.0, 0.0, 0.0, 0.0, 0.0, 0.0, 0.0, 0.0, 0.0, 0.0, 0.0, 0.0, 0.0, 0.0, 0.0, 0.0, 0.0, 0.0, 0.0, 0.0, 0.0, 0.0, 0.0, 0.0, 0.0, 0.0, 0.0, 0.0, 0.0, 0.0, 0.0, 0.0, 0.0, 0.0, 0.0, 0.0, 0.0, 0.0, 0.0, 0.0, 0.0, 0.0, 0.0, 0.0, 0.0, 0.0, 0.0, 0.0, 0.0, 0.0, 0.0, 0.0, 0.0, 0.0, 0.0, 0.0, 0.0, 0.0, 0.0, 0.0, 0.0, 0.0, 0.0, 0.0, 0.0, 0.0, 0.0, 0.0, 0.0, 0.0, 0.0, 0.0, 0.0, 0.0, 0.0, 0.0, 0.0, 0.0, 0.0, 0.0, 0.0, 0.0, 0.0, 0.0, 0.0, ...], 'sampling_rate': 48000}</td>\n",
       "      <td>उसने मेरे खिलाफ़ हथियार उठाया।</td>\n",
       "    </tr>\n",
       "    <tr>\n",
       "      <th>1</th>\n",
       "      <td>{'path': '/root/.cache/huggingface/datasets/downloads/extracted/c96485295dfcd0d08e461a9bab70c7431c5b032810e282334a76757b3eb2d753/cv-corpus-6.1-2020-12-11/hi/clips/common_voice_hi_23852779.mp3', 'array': [0.0, 0.0, 0.0, 0.0, 0.0, 0.0, 0.0, 0.0, 0.0, 0.0, 0.0, 0.0, 0.0, 0.0, 0.0, 0.0, 0.0, 0.0, 0.0, 0.0, 0.0, 0.0, 0.0, 0.0, 0.0, 0.0, 0.0, 0.0, 0.0, 0.0, 0.0, 0.0, 0.0, 0.0, 0.0, 0.0, 0.0, 0.0, 0.0, 0.0, 0.0, 0.0, 0.0, 0.0, 0.0, 0.0, 0.0, 0.0, 0.0, 0.0, 0.0, 0.0, 0.0, 0.0, 0.0, 0.0, 0.0, 0.0, 0.0, 0.0, 0.0, 0.0, 0.0, 0.0, 0.0, 0.0, 0.0, 0.0, 0.0, 0.0, 0.0, 0.0, 0.0, 0.0, 0.0, 0.0, 0.0, 0.0, 0.0, 0.0, 0.0, 0.0, 0.0, 0.0, 0.0, 0.0, 0.0, 0.0, 0.0, 0.0, 0.0, 0.0, 0.0, 0.0, 0.0, 0.0, 0.0, 0.0, 0.0, 0.0, ...], 'sampling_rate': 48000}</td>\n",
       "      <td>उसे फ़्रानसीसी जर्मन से ज़्यादा अच्छी लगती है।</td>\n",
       "    </tr>\n",
       "    <tr>\n",
       "      <th>2</th>\n",
       "      <td>{'path': '/root/.cache/huggingface/datasets/downloads/extracted/c96485295dfcd0d08e461a9bab70c7431c5b032810e282334a76757b3eb2d753/cv-corpus-6.1-2020-12-11/hi/clips/common_voice_hi_23852764.mp3', 'array': [0.0, 0.0, 0.0, 0.0, 0.0, 0.0, 0.0, 0.0, 0.0, 0.0, 0.0, 0.0, 0.0, 0.0, 0.0, 0.0, 0.0, 0.0, 0.0, 0.0, 0.0, 0.0, 0.0, 0.0, 0.0, 0.0, 0.0, 0.0, 0.0, 0.0, 0.0, 0.0, 0.0, 0.0, 0.0, 0.0, 0.0, 0.0, 0.0, 0.0, 0.0, 0.0, 0.0, 0.0, 0.0, 0.0, 0.0, 0.0, 0.0, 0.0, 0.0, 0.0, 0.0, 0.0, 0.0, 0.0, 0.0, 0.0, 0.0, 0.0, 0.0, 0.0, 0.0, 0.0, 0.0, 0.0, 0.0, 0.0, 0.0, 0.0, 0.0, 0.0, 0.0, 0.0, 0.0, 0.0, 0.0, 0.0, 0.0, 0.0, 0.0, 0.0, 0.0, 0.0, 0.0, 0.0, 0.0, 0.0, 0.0, 0.0, 0.0, 0.0, 0.0, 0.0, 0.0, 0.0, 0.0, 0.0, 0.0, 0.0, ...], 'sampling_rate': 48000}</td>\n",
       "      <td>सिद्धार्थ मेरा अच्छा दोस्त है और हमेशा रहेगा: आलिया</td>\n",
       "    </tr>\n",
       "    <tr>\n",
       "      <th>3</th>\n",
       "      <td>{'path': '/root/.cache/huggingface/datasets/downloads/extracted/c96485295dfcd0d08e461a9bab70c7431c5b032810e282334a76757b3eb2d753/cv-corpus-6.1-2020-12-11/hi/clips/common_voice_hi_23852752.mp3', 'array': [0.0, 0.0, 0.0, 0.0, 0.0, 0.0, 0.0, 0.0, 0.0, 0.0, 0.0, 0.0, 0.0, 0.0, 0.0, 0.0, 0.0, 0.0, 0.0, 0.0, 0.0, 0.0, 0.0, 0.0, 0.0, 0.0, 0.0, 0.0, 0.0, 0.0, 0.0, 0.0, 0.0, 0.0, 0.0, 0.0, 0.0, 0.0, 0.0, 0.0, 0.0, 0.0, 0.0, 0.0, 0.0, 0.0, 0.0, 0.0, 0.0, 0.0, 0.0, 0.0, 0.0, 0.0, 0.0, 0.0, 0.0, 0.0, 0.0, 0.0, 0.0, 0.0, 0.0, 0.0, 0.0, 0.0, 0.0, 0.0, 0.0, 0.0, 0.0, 0.0, 0.0, 0.0, 0.0, 0.0, 0.0, 0.0, 0.0, 0.0, 0.0, 0.0, 0.0, 0.0, 0.0, 0.0, 0.0, 0.0, 0.0, 0.0, 0.0, 0.0, 0.0, 0.0, 0.0, 0.0, 0.0, 0.0, 0.0, 0.0, ...], 'sampling_rate': 48000}</td>\n",
       "      <td>कितने सेब हैं?</td>\n",
       "    </tr>\n",
       "    <tr>\n",
       "      <th>4</th>\n",
       "      <td>{'path': '/root/.cache/huggingface/datasets/downloads/extracted/c96485295dfcd0d08e461a9bab70c7431c5b032810e282334a76757b3eb2d753/cv-corpus-6.1-2020-12-11/hi/clips/common_voice_hi_23849294.mp3', 'array': [0.0, 0.0, 0.0, 0.0, 0.0, 0.0, 0.0, 0.0, 0.0, 0.0, 0.0, 0.0, 0.0, 0.0, 0.0, 0.0, 0.0, 0.0, 0.0, 0.0, 0.0, 0.0, 0.0, 0.0, 0.0, 0.0, 0.0, 0.0, 0.0, 0.0, 0.0, 0.0, 0.0, 0.0, 0.0, 0.0, 0.0, 0.0, 0.0, 0.0, 0.0, 0.0, 0.0, 0.0, 0.0, 0.0, 0.0, 0.0, 0.0, 0.0, 0.0, 0.0, 0.0, 0.0, 0.0, 0.0, 0.0, 0.0, 0.0, 0.0, 0.0, 0.0, 0.0, 0.0, 0.0, 0.0, 0.0, 0.0, 0.0, 0.0, 0.0, 0.0, 0.0, 0.0, 0.0, 0.0, 0.0, 0.0, 0.0, 0.0, 0.0, 0.0, 0.0, 0.0, 0.0, 0.0, 0.0, 0.0, 0.0, 0.0, 0.0, 0.0, 0.0, 0.0, 0.0, 0.0, 0.0, 0.0, 0.0, 0.0, ...], 'sampling_rate': 48000}</td>\n",
       "      <td>टीवी चालू कीजिए।</td>\n",
       "    </tr>\n",
       "    <tr>\n",
       "      <th>5</th>\n",
       "      <td>{'path': '/root/.cache/huggingface/datasets/downloads/extracted/c96485295dfcd0d08e461a9bab70c7431c5b032810e282334a76757b3eb2d753/cv-corpus-6.1-2020-12-11/hi/clips/common_voice_hi_23839863.mp3', 'array': [0.0, 0.0, 0.0, 0.0, 0.0, 0.0, 0.0, 0.0, 0.0, 0.0, 0.0, 0.0, 0.0, 0.0, 0.0, 0.0, 0.0, 0.0, 0.0, 0.0, 0.0, 0.0, 0.0, 0.0, 0.0, 0.0, 0.0, 0.0, 0.0, 0.0, 0.0, 0.0, 0.0, 0.0, 0.0, 0.0, 0.0, 0.0, 0.0, 0.0, 0.0, 0.0, 0.0, 0.0, 0.0, 0.0, 0.0, 0.0, 0.0, 0.0, 0.0, 0.0, 0.0, 0.0, 0.0, 0.0, 0.0, 0.0, 0.0, 0.0, 0.0, 0.0, 0.0, 0.0, 0.0, 0.0, 0.0, 0.0, 0.0, 0.0, 0.0, 0.0, 0.0, 0.0, 0.0, 0.0, 0.0, 0.0, 0.0, 0.0, 0.0, 0.0, 0.0, 0.0, 0.0, 0.0, 0.0, 0.0, 0.0, 0.0, 0.0, 0.0, 0.0, 0.0, 0.0, 0.0, 0.0, 0.0, 0.0, 0.0, ...], 'sampling_rate': 48000}</td>\n",
       "      <td>टॉम ने तुम्हें क्यों बताया?</td>\n",
       "    </tr>\n",
       "    <tr>\n",
       "      <th>6</th>\n",
       "      <td>{'path': '/root/.cache/huggingface/datasets/downloads/extracted/c96485295dfcd0d08e461a9bab70c7431c5b032810e282334a76757b3eb2d753/cv-corpus-6.1-2020-12-11/hi/clips/common_voice_hi_23976045.mp3', 'array': [0.0, 0.0, 0.0, 0.0, 0.0, 0.0, 0.0, 0.0, 0.0, 0.0, 0.0, 0.0, 0.0, 0.0, 0.0, 0.0, 0.0, 0.0, 0.0, 0.0, 0.0, 0.0, 0.0, 0.0, 0.0, 0.0, 0.0, 0.0, 0.0, 0.0, 0.0, 0.0, 0.0, 0.0, 0.0, 0.0, 0.0, 0.0, 0.0, 0.0, 0.0, 0.0, 0.0, 0.0, 0.0, 0.0, 0.0, 0.0, 0.0, 0.0, 0.0, 0.0, 0.0, 0.0, 0.0, 0.0, 0.0, 0.0, 0.0, 0.0, 0.0, 0.0, 0.0, 0.0, 0.0, 0.0, 0.0, 0.0, 0.0, 0.0, 0.0, 0.0, 0.0, 0.0, 0.0, 0.0, 0.0, 0.0, 0.0, 0.0, 0.0, 0.0, 0.0, 0.0, 0.0, 0.0, 0.0, 0.0, 0.0, 0.0, 0.0, 0.0, 0.0, 0.0, 0.0, 0.0, 0.0, 0.0, 0.0, 0.0, ...], 'sampling_rate': 48000}</td>\n",
       "      <td>तुम अपने बाल क्यों नहीं काटती?</td>\n",
       "    </tr>\n",
       "    <tr>\n",
       "      <th>7</th>\n",
       "      <td>{'path': '/root/.cache/huggingface/datasets/downloads/extracted/c96485295dfcd0d08e461a9bab70c7431c5b032810e282334a76757b3eb2d753/cv-corpus-6.1-2020-12-11/hi/clips/common_voice_hi_23832734.mp3', 'array': [0.0, 0.0, 0.0, 0.0, 0.0, 0.0, 0.0, 0.0, 0.0, 0.0, 0.0, 0.0, 0.0, 0.0, 0.0, 0.0, 0.0, 0.0, 0.0, 0.0, 0.0, 0.0, 0.0, 0.0, 0.0, 0.0, 0.0, 0.0, 0.0, 0.0, 0.0, 0.0, 0.0, 0.0, 0.0, 0.0, 0.0, 0.0, 0.0, 0.0, 0.0, 0.0, 0.0, 0.0, 0.0, 0.0, 0.0, 0.0, 0.0, 0.0, 0.0, 0.0, 0.0, 0.0, 0.0, 0.0, 0.0, 0.0, 0.0, 0.0, 0.0, 0.0, 0.0, 0.0, 0.0, 0.0, 0.0, 0.0, 0.0, 0.0, 0.0, 0.0, 0.0, 0.0, 0.0, 0.0, 0.0, 0.0, 0.0, 0.0, 0.0, 0.0, 0.0, 0.0, 0.0, 0.0, 0.0, 0.0, 0.0, 0.0, 0.0, 0.0, 0.0, 0.0, 0.0, 0.0, 0.0, 0.0, 0.0, 0.0, ...], 'sampling_rate': 48000}</td>\n",
       "      <td>टॉम ने नीले कपड़े पहन रखे थे।</td>\n",
       "    </tr>\n",
       "    <tr>\n",
       "      <th>8</th>\n",
       "      <td>{'path': '/root/.cache/huggingface/datasets/downloads/extracted/c96485295dfcd0d08e461a9bab70c7431c5b032810e282334a76757b3eb2d753/cv-corpus-6.1-2020-12-11/hi/clips/common_voice_hi_23830783.mp3', 'array': [0.0, 0.0, 0.0, 0.0, 0.0, 0.0, 0.0, 0.0, 0.0, 0.0, 0.0, 0.0, 0.0, 0.0, 0.0, 0.0, 0.0, 0.0, 0.0, 0.0, 0.0, 0.0, 0.0, 0.0, 0.0, 0.0, 0.0, 0.0, 0.0, 0.0, 0.0, 0.0, 0.0, 0.0, 0.0, 0.0, 0.0, 0.0, 0.0, 0.0, 0.0, 0.0, 0.0, 0.0, 0.0, 0.0, 0.0, 0.0, 0.0, 0.0, 0.0, 0.0, 0.0, 0.0, 0.0, 0.0, 0.0, 0.0, 0.0, 0.0, 0.0, 0.0, 0.0, 0.0, 0.0, 0.0, 0.0, 0.0, 0.0, 0.0, 0.0, 0.0, 0.0, 0.0, 0.0, 0.0, 0.0, 0.0, 0.0, 0.0, 0.0, 0.0, 0.0, 0.0, 0.0, 0.0, 0.0, 0.0, 0.0, 0.0, 0.0, 0.0, 0.0, 0.0, 0.0, 0.0, 0.0, 0.0, 0.0, 0.0, ...], 'sampling_rate': 48000}</td>\n",
       "      <td>दुनिया का सबसे अलग भिखारी, ये है इसके भीख मांगने का मकसद</td>\n",
       "    </tr>\n",
       "    <tr>\n",
       "      <th>9</th>\n",
       "      <td>{'path': '/root/.cache/huggingface/datasets/downloads/extracted/c96485295dfcd0d08e461a9bab70c7431c5b032810e282334a76757b3eb2d753/cv-corpus-6.1-2020-12-11/hi/clips/common_voice_hi_23830502.mp3', 'array': [0.0, 0.0, 0.0, 0.0, 0.0, 0.0, 0.0, 0.0, 0.0, 0.0, 0.0, 0.0, 0.0, 0.0, 0.0, 0.0, 0.0, 0.0, 0.0, 0.0, 0.0, 0.0, 0.0, 0.0, 0.0, 0.0, 0.0, 0.0, 0.0, 0.0, 0.0, 0.0, 0.0, 0.0, 0.0, 0.0, 0.0, 0.0, 0.0, 0.0, 0.0, 0.0, 0.0, 0.0, 0.0, 0.0, 0.0, 0.0, 0.0, 0.0, 0.0, 0.0, 0.0, 0.0, 0.0, 0.0, 0.0, 0.0, 0.0, 0.0, 0.0, 0.0, 0.0, 0.0, 0.0, 0.0, 0.0, 0.0, 0.0, 0.0, 0.0, 0.0, 0.0, 0.0, 0.0, 0.0, 0.0, 0.0, 0.0, 0.0, 0.0, 0.0, 0.0, 0.0, 0.0, 0.0, 0.0, 0.0, 0.0, 0.0, 0.0, 0.0, 0.0, 0.0, 0.0, 0.0, 0.0, 0.0, 0.0, 0.0, ...], 'sampling_rate': 48000}</td>\n",
       "      <td>उस दुर्घटना ने पूरे स्कूल को सदमा पहुँचाया।</td>\n",
       "    </tr>\n",
       "  </tbody>\n",
       "</table>"
      ],
      "text/plain": [
       "<IPython.core.display.HTML object>"
      ]
     },
     "metadata": {},
     "output_type": "display_data"
    }
   ],
   "source": [
    "show_random_elements(common_voice_train.remove_columns([\"path\"]))"
   ]
  },
  {
   "cell_type": "markdown",
   "metadata": {
    "id": "vq7OR50LN49m"
   },
   "source": [
    "##### Removing the special characters\n",
    "\n",
    "In addition, we normalize the text to only have lower case letters and append a word separator token at the end."
   ]
  },
  {
   "cell_type": "code",
   "execution_count": 92,
   "metadata": {
    "id": "svKzVJ_hQGK6"
   },
   "outputs": [],
   "source": [
    "import re\n",
    "chars_to_ignore_regex = '[\\,\\?\\.\\!\\-\\;\\:\\\"\\“\\%\\‘\\”\\�]'\n",
    "\n",
    "def remove_special_characters(batch):\n",
    "    batch[\"text\"] = re.sub(chars_to_ignore_regex, '', batch[\"sentence\"]).lower() + \" \"\n",
    "    return batch"
   ]
  },
  {
   "cell_type": "code",
   "execution_count": 93,
   "metadata": {
    "colab": {
     "base_uri": "https://localhost:8080/"
    },
    "id": "XIHocAuTQbBR",
    "outputId": "adc184f8-442e-4a8a-9721-f1e288f4628d"
   },
   "outputs": [
    {
     "name": "stderr",
     "output_type": "stream",
     "text": [
      "Loading cached processed dataset at /root/.cache/huggingface/datasets/common_voice/hi-24242e0bc11eddb3/6.1.0/a1dc74461f6c839bfe1e8cf1262fd4cf24297e3fbd4087a711bd090779023a5e/cache-0a7eaa2ceef1d3f2.arrow\n",
      "Loading cached processed dataset at /root/.cache/huggingface/datasets/common_voice/hi-24242e0bc11eddb3/6.1.0/a1dc74461f6c839bfe1e8cf1262fd4cf24297e3fbd4087a711bd090779023a5e/cache-75b8f36eb0c0749b.arrow\n"
     ]
    }
   ],
   "source": [
    "common_voice_train = common_voice_train.map(remove_special_characters, remove_columns=[\"sentence\"])\n",
    "common_voice_test = common_voice_test.map(remove_special_characters, remove_columns=[\"sentence\"])"
   ]
  },
  {
   "cell_type": "code",
   "execution_count": 94,
   "metadata": {
    "colab": {
     "base_uri": "https://localhost:8080/",
     "height": 764
    },
    "id": "RBDRAAYxRE6n",
    "outputId": "1f03432e-b72d-4b2a-bbb6-a43ed4e7a07c"
   },
   "outputs": [
    {
     "data": {
      "text/html": [
       "<table border=\"1\" class=\"dataframe\">\n",
       "  <thead>\n",
       "    <tr style=\"text-align: right;\">\n",
       "      <th></th>\n",
       "      <th>audio</th>\n",
       "      <th>text</th>\n",
       "    </tr>\n",
       "  </thead>\n",
       "  <tbody>\n",
       "    <tr>\n",
       "      <th>0</th>\n",
       "      <td>{'path': '/root/.cache/huggingface/datasets/downloads/extracted/c96485295dfcd0d08e461a9bab70c7431c5b032810e282334a76757b3eb2d753/cv-corpus-6.1-2020-12-11/hi/clips/common_voice_hi_23830501.mp3', 'array': [0.0, 0.0, 0.0, 0.0, 0.0, 0.0, 0.0, 0.0, 0.0, 0.0, 0.0, 0.0, 0.0, 0.0, 0.0, 0.0, 0.0, 0.0, 0.0, 0.0, 0.0, 0.0, 0.0, 0.0, 0.0, 0.0, 0.0, 0.0, 0.0, 0.0, 0.0, 0.0, 0.0, 0.0, 0.0, 0.0, 0.0, 0.0, 0.0, 0.0, 0.0, 0.0, 0.0, 0.0, 0.0, 0.0, 0.0, 0.0, 0.0, 0.0, 0.0, 0.0, 0.0, 0.0, 0.0, 0.0, 0.0, 0.0, 0.0, 0.0, 0.0, 0.0, 0.0, 0.0, 0.0, 0.0, 0.0, 0.0, 0.0, 0.0, 0.0, 0.0, 0.0, 0.0, 0.0, 0.0, 0.0, 0.0, 0.0, 0.0, 0.0, 0.0, 0.0, 0.0, 0.0, 0.0, 0.0, 0.0, 0.0, 0.0, 0.0, 0.0, 0.0, 0.0, 0.0, 0.0, 0.0, 0.0, 0.0, 0.0, ...], 'sampling_rate': 48000}</td>\n",
       "      <td>सिंगापुर को मलाय में सिंगापुरा कहते हैं।</td>\n",
       "    </tr>\n",
       "    <tr>\n",
       "      <th>1</th>\n",
       "      <td>{'path': '/root/.cache/huggingface/datasets/downloads/extracted/c96485295dfcd0d08e461a9bab70c7431c5b032810e282334a76757b3eb2d753/cv-corpus-6.1-2020-12-11/hi/clips/common_voice_hi_23832737.mp3', 'array': [0.0, 0.0, 0.0, 0.0, 0.0, 0.0, 0.0, 0.0, 0.0, 0.0, 0.0, 0.0, 0.0, 0.0, 0.0, 0.0, 0.0, 0.0, 0.0, 0.0, 0.0, 0.0, 0.0, 0.0, 0.0, 0.0, 0.0, 0.0, 0.0, 0.0, 0.0, 0.0, 0.0, 0.0, 0.0, 0.0, 0.0, 0.0, 0.0, 0.0, 0.0, 0.0, 0.0, 0.0, 0.0, 0.0, 0.0, 0.0, 0.0, 0.0, 0.0, 0.0, 0.0, 0.0, 0.0, 0.0, 0.0, 0.0, 0.0, 0.0, 0.0, 0.0, 0.0, 0.0, 0.0, 0.0, 0.0, 0.0, 0.0, 0.0, 0.0, 0.0, 0.0, 0.0, 0.0, 0.0, 0.0, 0.0, 0.0, 0.0, 0.0, 0.0, 0.0, 0.0, 0.0, 0.0, 0.0, 0.0, 0.0, 0.0, 0.0, 0.0, 0.0, 0.0, 0.0, 0.0, 0.0, 0.0, 0.0, 0.0, ...], 'sampling_rate': 48000}</td>\n",
       "      <td>मैं तुमसे नहीं बोलती</td>\n",
       "    </tr>\n",
       "    <tr>\n",
       "      <th>2</th>\n",
       "      <td>{'path': '/root/.cache/huggingface/datasets/downloads/extracted/c96485295dfcd0d08e461a9bab70c7431c5b032810e282334a76757b3eb2d753/cv-corpus-6.1-2020-12-11/hi/clips/common_voice_hi_23849378.mp3', 'array': [0.0, 0.0, 0.0, 0.0, 0.0, 0.0, 0.0, 0.0, 0.0, 0.0, 0.0, 0.0, 0.0, 0.0, 0.0, 0.0, 0.0, 0.0, 0.0, 0.0, 0.0, 0.0, 0.0, 0.0, 0.0, 0.0, 0.0, 0.0, 0.0, 0.0, 0.0, 0.0, 0.0, 0.0, 0.0, 0.0, 0.0, 0.0, 0.0, 0.0, 0.0, 0.0, 0.0, 0.0, 0.0, 0.0, 0.0, 0.0, 0.0, 0.0, 0.0, 0.0, 0.0, 0.0, 0.0, 0.0, 0.0, 0.0, 0.0, 0.0, 0.0, 0.0, 0.0, 0.0, 0.0, 0.0, 0.0, 0.0, 0.0, 0.0, 0.0, 0.0, 0.0, 0.0, 0.0, 0.0, 0.0, 0.0, 0.0, 0.0, 0.0, 0.0, 0.0, 0.0, 0.0, 0.0, 0.0, 0.0, 0.0, 0.0, 0.0, 0.0, 0.0, 0.0, 0.0, 0.0, 0.0, 0.0, 0.0, 0.0, ...], 'sampling_rate': 48000}</td>\n",
       "      <td>गृह राज्य मंत्री बोले जामिया हिंसा के पीछे विदेशी ताकतों का साथ</td>\n",
       "    </tr>\n",
       "    <tr>\n",
       "      <th>3</th>\n",
       "      <td>{'path': '/root/.cache/huggingface/datasets/downloads/extracted/c96485295dfcd0d08e461a9bab70c7431c5b032810e282334a76757b3eb2d753/cv-corpus-6.1-2020-12-11/hi/clips/common_voice_hi_23852758.mp3', 'array': [0.0, 0.0, 0.0, 0.0, 0.0, 0.0, 0.0, 0.0, 0.0, 0.0, 0.0, 0.0, 0.0, 0.0, 0.0, 0.0, 0.0, 0.0, 0.0, 0.0, 0.0, 0.0, 0.0, 0.0, 0.0, 0.0, 0.0, 0.0, 0.0, 0.0, 0.0, 0.0, 0.0, 0.0, 0.0, 0.0, 0.0, 0.0, 0.0, 0.0, 0.0, 0.0, 0.0, 0.0, 0.0, 0.0, 0.0, 0.0, 0.0, 0.0, 0.0, 0.0, 0.0, 0.0, 0.0, 0.0, 0.0, 0.0, 0.0, 0.0, 0.0, 0.0, 0.0, 0.0, 0.0, 0.0, 0.0, 0.0, 0.0, 0.0, 0.0, 0.0, 0.0, 0.0, 0.0, 0.0, 0.0, 0.0, 0.0, 0.0, 0.0, 0.0, 0.0, 0.0, 0.0, 0.0, 0.0, 0.0, 0.0, 0.0, 0.0, 0.0, 0.0, 0.0, 0.0, 0.0, 0.0, 0.0, 0.0, 0.0, ...], 'sampling_rate': 48000}</td>\n",
       "      <td>मैं तुम्हें एक तोहफ़ा दूँगा।</td>\n",
       "    </tr>\n",
       "    <tr>\n",
       "      <th>4</th>\n",
       "      <td>{'path': '/root/.cache/huggingface/datasets/downloads/extracted/c96485295dfcd0d08e461a9bab70c7431c5b032810e282334a76757b3eb2d753/cv-corpus-6.1-2020-12-11/hi/clips/common_voice_hi_23964485.mp3', 'array': [0.0, 0.0, 0.0, 0.0, 0.0, 0.0, 0.0, 0.0, 0.0, 0.0, 0.0, 0.0, 0.0, 0.0, 0.0, 0.0, 0.0, 0.0, 0.0, 0.0, 0.0, 0.0, 0.0, 0.0, 0.0, 0.0, 0.0, 0.0, 0.0, 0.0, 0.0, 0.0, 0.0, 0.0, 0.0, 0.0, 0.0, 0.0, 0.0, 0.0, 0.0, 0.0, 0.0, 0.0, 0.0, 0.0, 0.0, 0.0, 0.0, 0.0, 0.0, 0.0, 0.0, 0.0, 0.0, 0.0, 0.0, 0.0, 0.0, 0.0, 0.0, 0.0, 0.0, 0.0, 0.0, 0.0, 0.0, 0.0, 0.0, 0.0, 0.0, 0.0, 0.0, 0.0, 0.0, 0.0, 0.0, 0.0, 0.0, 0.0, 0.0, 0.0, 0.0, 0.0, 0.0, 0.0, 0.0, 0.0, 0.0, 0.0, 0.0, 0.0, 0.0, 0.0, 0.0, 0.0, 0.0, 0.0, 0.0, 0.0, ...], 'sampling_rate': 48000}</td>\n",
       "      <td>यह लिफ़्ट छटी मंज़िल तक ही जाती है।</td>\n",
       "    </tr>\n",
       "  </tbody>\n",
       "</table>"
      ],
      "text/plain": [
       "<IPython.core.display.HTML object>"
      ]
     },
     "metadata": {},
     "output_type": "display_data"
    }
   ],
   "source": [
    "show_random_elements(common_voice_train.remove_columns([\"path\"]),num_examples = 5)"
   ]
  },
  {
   "cell_type": "markdown",
   "metadata": {
    "id": "IpIpkNN_RTjR"
   },
   "source": [
    "##### Extracting the grammer for our model"
   ]
  },
  {
   "cell_type": "code",
   "execution_count": 95,
   "metadata": {
    "id": "LwCshNbbeRZR"
   },
   "outputs": [],
   "source": [
    "def extract_all_chars(batch):\n",
    "  all_text = \" \".join(batch[\"text\"])\n",
    "  vocab = list(set(all_text))\n",
    "  return { \"all_text\": [all_text],\"vocab\": [vocab]}"
   ]
  },
  {
   "cell_type": "code",
   "execution_count": 96,
   "metadata": {
    "colab": {
     "base_uri": "https://localhost:8080/",
     "height": 81,
     "referenced_widgets": [
      "e140e97345994a93aeadd25a6fab7c2c",
      "34414916dff74b1aa4a129af9ae0864b",
      "b9efb7a853c94901986e36748bd878df",
      "f9a67ff5e8124baa8b3c785d9228babb",
      "e4f4b70fd21b4a699d3b4f7f80fc5d9a",
      "6e4cbc1344e7425b8798c2f8b85453cb",
      "9765c61453764db78191adc59c470fc6",
      "589e3838fa674207b0ccea6e61276ccc",
      "171c0ac14b104eed8e3363548f7d6547",
      "93438b2b5ab94dfab51e3447d11e6d26",
      "550042f3a8af4de9a9e6a3470e495e84",
      "b3afb233719f4a31bb2dd40256e35523",
      "e9c61e3d11e9463d800a08253cdd7dd7",
      "4214a7e83f304aeaa11151a4ce8ceea8",
      "8a57082b39df45acaf0bad912b6a2416",
      "c2d785ed9cd648828b32f2decdacaf8c",
      "1b8a3ab86c5548bd9440a2be56369c6a",
      "2e0838c933d44a8f8a950cde8a72db44",
      "8f88df2ee9574d9591393eb61fede4c6",
      "720042b08d51436a801e87fac01c134c",
      "82e10f179a7441d59af8e7e6415bec02",
      "ff0c7e2924564391869aee1b716fb9ad"
     ]
    },
    "id": "_m6uUjjcfbjH",
    "outputId": "f621498b-97c5-4b1c-bf4a-a7bc8ac749e6"
   },
   "outputs": [
    {
     "data": {
      "application/vnd.jupyter.widget-view+json": {
       "model_id": "e140e97345994a93aeadd25a6fab7c2c",
       "version_major": 2,
       "version_minor": 0
      },
      "text/plain": [
       "  0%|          | 0/1 [00:00<?, ?ba/s]"
      ]
     },
     "metadata": {},
     "output_type": "display_data"
    },
    {
     "data": {
      "application/vnd.jupyter.widget-view+json": {
       "model_id": "b3afb233719f4a31bb2dd40256e35523",
       "version_major": 2,
       "version_minor": 0
      },
      "text/plain": [
       "  0%|          | 0/1 [00:00<?, ?ba/s]"
      ]
     },
     "metadata": {},
     "output_type": "display_data"
    }
   ],
   "source": [
    "vocab_train = common_voice_train.map(extract_all_chars, batched=True, batch_size=-1, keep_in_memory=True, remove_columns=common_voice_train.column_names)\n",
    "vocab_test = common_voice_train.map(extract_all_chars, batched=True, batch_size=-1, keep_in_memory=True, remove_columns=common_voice_test.column_names)"
   ]
  },
  {
   "cell_type": "markdown",
   "metadata": {
    "id": "7oVgE8RZSJNP"
   },
   "source": [
    "Union of all sets of vocab"
   ]
  },
  {
   "cell_type": "code",
   "execution_count": 97,
   "metadata": {
    "id": "aQfneNsmlJI0"
   },
   "outputs": [],
   "source": [
    "vocab_list = list(set(vocab_train[\"vocab\"][0]) | set(vocab_test[\"vocab\"][0]))"
   ]
  },
  {
   "cell_type": "code",
   "execution_count": 98,
   "metadata": {
    "colab": {
     "base_uri": "https://localhost:8080/"
    },
    "id": "_0kRndSvqaKk",
    "outputId": "680969d9-34a5-4a2a-c3f3-64a778cd6d96"
   },
   "outputs": [
    {
     "data": {
      "text/plain": [
       "{' ': 17,\n",
       " \"'\": 3,\n",
       " 'a': 35,\n",
       " 'e': 44,\n",
       " 'f': 31,\n",
       " 'i': 42,\n",
       " 'l': 14,\n",
       " 'm': 62,\n",
       " 'p': 11,\n",
       " 'r': 61,\n",
       " 'u': 58,\n",
       " 'w': 22,\n",
       " 'ँ': 13,\n",
       " 'ं': 21,\n",
       " 'ः': 67,\n",
       " 'अ': 56,\n",
       " 'आ': 50,\n",
       " 'इ': 20,\n",
       " 'ई': 52,\n",
       " 'उ': 49,\n",
       " 'ऊ': 47,\n",
       " 'ए': 40,\n",
       " 'ऐ': 19,\n",
       " 'ऑ': 6,\n",
       " 'ओ': 53,\n",
       " 'औ': 2,\n",
       " 'क': 39,\n",
       " 'ख': 69,\n",
       " 'ग': 16,\n",
       " 'घ': 55,\n",
       " 'च': 23,\n",
       " 'छ': 46,\n",
       " 'ज': 1,\n",
       " 'झ': 5,\n",
       " 'ट': 0,\n",
       " 'ठ': 70,\n",
       " 'ड': 54,\n",
       " 'ढ': 8,\n",
       " 'ण': 51,\n",
       " 'त': 34,\n",
       " 'थ': 30,\n",
       " 'द': 45,\n",
       " 'ध': 68,\n",
       " 'न': 60,\n",
       " 'प': 12,\n",
       " 'फ': 41,\n",
       " 'ब': 18,\n",
       " 'भ': 7,\n",
       " 'म': 59,\n",
       " 'य': 24,\n",
       " 'र': 28,\n",
       " 'ल': 15,\n",
       " 'व': 63,\n",
       " 'श': 48,\n",
       " 'ष': 4,\n",
       " 'स': 26,\n",
       " 'ह': 43,\n",
       " '़': 33,\n",
       " 'ा': 38,\n",
       " 'ि': 9,\n",
       " 'ी': 10,\n",
       " 'ु': 66,\n",
       " 'ू': 32,\n",
       " 'ृ': 65,\n",
       " 'े': 27,\n",
       " 'ै': 36,\n",
       " 'ॉ': 25,\n",
       " 'ो': 71,\n",
       " 'ौ': 64,\n",
       " '्': 37,\n",
       " 'ड़': 57,\n",
       " '।': 29}"
      ]
     },
     "execution_count": 98,
     "metadata": {},
     "output_type": "execute_result"
    }
   ],
   "source": [
    "vocab_dict = {v: k for k, v in enumerate(vocab_list)}\n",
    "vocab_dict"
   ]
  },
  {
   "cell_type": "code",
   "execution_count": 99,
   "metadata": {
    "id": "npbIbBoLgaFX"
   },
   "outputs": [],
   "source": [
    "vocab_dict[\"|\"] = vocab_dict[\" \"]\n",
    "del vocab_dict[\" \"]"
   ]
  },
  {
   "cell_type": "code",
   "execution_count": 100,
   "metadata": {
    "colab": {
     "base_uri": "https://localhost:8080/"
    },
    "id": "znF0bNunsjbl",
    "outputId": "f1d7fd4d-3055-44e1-ebd7-d279982a4e56"
   },
   "outputs": [
    {
     "data": {
      "text/plain": [
       "74"
      ]
     },
     "execution_count": 100,
     "metadata": {},
     "output_type": "execute_result"
    }
   ],
   "source": [
    "vocab_dict[\"[UNK]\"] = len(vocab_dict)\n",
    "vocab_dict[\"[PAD]\"] = len(vocab_dict)\n",
    "len(vocab_dict)\n",
    "# length of the Vocabulary"
   ]
  },
  {
   "cell_type": "markdown",
   "metadata": {
    "id": "SFPGfet8U5sL"
   },
   "source": [
    "Now our vocabulary is complete and consists of 74 tokens, which means that the linear layer that we will add on top of the pretrained XLSR-Wav2Vec2 checkpoint will have an output dimension of 74."
   ]
  },
  {
   "cell_type": "markdown",
   "metadata": {
    "id": "1CujRgBNVRaD"
   },
   "source": [
    "saving the vocabulary as a json file."
   ]
  },
  {
   "cell_type": "code",
   "execution_count": 101,
   "metadata": {
    "id": "ehyUoh9vk191"
   },
   "outputs": [],
   "source": [
    "import json\n",
    "with open('vocab.json', 'w') as vocab_file:\n",
    "    json.dump(vocab_dict, vocab_file)"
   ]
  },
  {
   "cell_type": "markdown",
   "metadata": {
    "id": "SHJDaKlIVVim"
   },
   "source": [
    "In a final step, we use the json file to instantiate an object of the `Wav2Vec2CTCTokenizer` class."
   ]
  },
  {
   "cell_type": "code",
   "execution_count": 102,
   "metadata": {
    "id": "xriFGEWQkO4M"
   },
   "outputs": [],
   "source": [
    "from transformers import Wav2Vec2CTCTokenizer\n",
    "\n",
    "tokenizer = Wav2Vec2CTCTokenizer(\"./vocab.json\", unk_token=\"[UNK]\", pad_token=\"[PAD]\", word_delimiter_token=\"|\")"
   ]
  },
  {
   "cell_type": "markdown",
   "metadata": {
    "id": "mYcIiR2FQ96i"
   },
   "source": [
    "### Create XLSR-Wav2Vec2 Feature Extractor"
   ]
  },
  {
   "cell_type": "markdown",
   "metadata": {
    "id": "aDVqyYWDTtiO"
   },
   "source": [
    "Speech is a continous signal and we need to sample it.\n",
    "\n",
    "Sampling Rate : 16kHz\n",
    "Downsampling our fine-tuning data to 16kHz"
   ]
  },
  {
   "cell_type": "markdown",
   "metadata": {
    "id": "KuUbPW7oV-B5"
   },
   "source": [
    "A XLSR-Wav2Vec2 feature extractor object requires the following parameters to be instantiated:\n",
    "\n",
    "- `feature_size`: Speech models take a sequence of feature vectors as an input. While the length of this sequence obviously varies, the feature size should not. In the case of Wav2Vec2, the feature size is 1 because the model was trained on the raw speech signal ${}^2$.\n",
    "- `sampling_rate`: The sampling rate at which the model is trained on.\n",
    "- `padding_value`: For batched inference, shorter inputs need to be padded with a specific value\n",
    "- `do_normalize`: Whether the input should be *zero-mean-unit-variance* normalized or not. Usually, speech models perform better when normalizing the input\n",
    "- `return_attention_mask`: Whether the model should make use of an `attention_mask` for batched inference. In general, XLSR-Wav2Vec2 models should **always** make use of the `attention_mask`."
   ]
  },
  {
   "cell_type": "code",
   "execution_count": 103,
   "metadata": {
    "id": "kAR0-2KLkopp"
   },
   "outputs": [],
   "source": [
    "from transformers import Wav2Vec2FeatureExtractor\n",
    "\n",
    "feature_extractor = Wav2Vec2FeatureExtractor(feature_size=1, sampling_rate=16000, padding_value=0.0, do_normalize=True, return_attention_mask=True)"
   ]
  },
  {
   "cell_type": "markdown",
   "metadata": {
    "id": "qUETetgqYC3W"
   },
   "source": [
    "The feature extractor and tokenizer are *wrapped* into a single `Wav2Vec2Processor` class so that one only needs a `model` and `processor` object."
   ]
  },
  {
   "cell_type": "code",
   "execution_count": 104,
   "metadata": {
    "id": "KYZtoW-tlZgl"
   },
   "outputs": [],
   "source": [
    "from transformers import Wav2Vec2Processor\n",
    "\n",
    "processor = Wav2Vec2Processor(feature_extractor=feature_extractor, tokenizer=tokenizer)"
   ]
  },
  {
   "cell_type": "code",
   "execution_count": 105,
   "metadata": {
    "id": "lbWvt0EcUsZj"
   },
   "outputs": [],
   "source": [
    "#Mounting the drive to save the model"
   ]
  },
  {
   "cell_type": "code",
   "execution_count": 106,
   "metadata": {
    "colab": {
     "base_uri": "https://localhost:8080/"
    },
    "id": "yq7Bzuzz4zjQ",
    "outputId": "fad34408-fe58-471c-af68-3f8d0ff9cad7"
   },
   "outputs": [
    {
     "name": "stdout",
     "output_type": "stream",
     "text": [
      "Drive already mounted at /content/gdrive/; to attempt to forcibly remount, call drive.mount(\"/content/gdrive/\", force_remount=True).\n"
     ]
    }
   ],
   "source": [
    "from google.colab import drive\n",
    "drive.mount('/content/gdrive/')"
   ]
  },
  {
   "cell_type": "code",
   "execution_count": 107,
   "metadata": {
    "colab": {
     "base_uri": "https://localhost:8080/"
    },
    "id": "Par9rpypPsml",
    "outputId": "c21f4839-a7b9-48d2-cb18-f6391b447262"
   },
   "outputs": [
    {
     "name": "stderr",
     "output_type": "stream",
     "text": [
      "Feature extractor saved in /content/gdrive/MyDrive/wav2vec2-large-xlsr-hindi-demo/preprocessor_config.json\n",
      "tokenizer config file saved in /content/gdrive/MyDrive/wav2vec2-large-xlsr-hindi-demo/tokenizer_config.json\n",
      "Special tokens file saved in /content/gdrive/MyDrive/wav2vec2-large-xlsr-hindi-demo/special_tokens_map.json\n"
     ]
    }
   ],
   "source": [
    " processor.save_pretrained(\"/content/gdrive/MyDrive/wav2vec2-large-xlsr-hindi-demo\")"
   ]
  },
  {
   "cell_type": "markdown",
   "metadata": {
    "id": "DrKnYuvDIoOO"
   },
   "source": [
    "Next, we can prepare the dataset."
   ]
  },
  {
   "cell_type": "markdown",
   "metadata": {
    "id": "YFmShnl7RE35"
   },
   "source": [
    "### Preprocess Data\n",
    "\n",
    "Converting the audio files to 1-d vectors.\n"
   ]
  },
  {
   "cell_type": "code",
   "execution_count": 108,
   "metadata": {
    "colab": {
     "base_uri": "https://localhost:8080/"
    },
    "id": "TTCS7W6XJ9BG",
    "outputId": "2e9ab220-4499-437b-a61c-fa706a89f49d"
   },
   "outputs": [
    {
     "data": {
      "text/plain": [
       "{'audio': {'array': array([0.        , 0.        , 0.        , ..., 0.01033163, 0.00594568,\n",
       "         0.00187945], dtype=float32),\n",
       "  'path': '/root/.cache/huggingface/datasets/downloads/extracted/c96485295dfcd0d08e461a9bab70c7431c5b032810e282334a76757b3eb2d753/cv-corpus-6.1-2020-12-11/hi/clips/common_voice_hi_23795238.mp3',\n",
       "  'sampling_rate': 48000},\n",
       " 'path': '/root/.cache/huggingface/datasets/downloads/extracted/c96485295dfcd0d08e461a9bab70c7431c5b032810e282334a76757b3eb2d753/cv-corpus-6.1-2020-12-11/hi/clips/common_voice_hi_23795238.mp3',\n",
       " 'text': 'तुम्हारे पास तीन महीने बचे हैं। '}"
      ]
     },
     "execution_count": 108,
     "metadata": {},
     "output_type": "execute_result"
    }
   ],
   "source": [
    "common_voice_train[0]"
   ]
  },
  {
   "cell_type": "markdown",
   "metadata": {
    "id": "wSBIGEiaKHMn"
   },
   "source": [
    "File Format used is `.mp3`.\n",
    "[`torchaudio`](https://pytorch.org/audio/stable/index.html) library works best for reading in `.mp3` data. \n",
    "\n",
    "\n",
    "An audio file usually stores both its values and the sampling rate with which the speech signal was digitalized. We want to store both in the dataset and write a `map(...)` function accordingly."
   ]
  },
  {
   "cell_type": "code",
   "execution_count": 109,
   "metadata": {
    "id": "al9Luo4LPpwJ"
   },
   "outputs": [],
   "source": [
    "import torchaudio\n",
    "\n",
    "def speech_file_to_array_fn(batch):\n",
    "    speech_array, sampling_rate = torchaudio.load(batch[\"path\"])\n",
    "    batch[\"speech\"] = speech_array[0].numpy()\n",
    "    batch[\"sampling_rate\"] = sampling_rate\n",
    "    batch[\"target_text\"] = batch[\"text\"]\n",
    "    return batch"
   ]
  },
  {
   "cell_type": "code",
   "execution_count": 110,
   "metadata": {
    "colab": {
     "base_uri": "https://localhost:8080/"
    },
    "id": "afeicUeWlrRL",
    "outputId": "2207c405-8f4b-465e-a920-743c306a91ad"
   },
   "outputs": [
    {
     "name": "stderr",
     "output_type": "stream",
     "text": [
      "Loading cached processed dataset at /root/.cache/huggingface/datasets/common_voice/hi-24242e0bc11eddb3/6.1.0/a1dc74461f6c839bfe1e8cf1262fd4cf24297e3fbd4087a711bd090779023a5e/cache-e071f56ecca4a183.arrow\n",
      "Loading cached processed dataset at /root/.cache/huggingface/datasets/common_voice/hi-24242e0bc11eddb3/6.1.0/a1dc74461f6c839bfe1e8cf1262fd4cf24297e3fbd4087a711bd090779023a5e/cache-68cceb303387937d.arrow\n"
     ]
    }
   ],
   "source": [
    "common_voice_train = common_voice_train.map(speech_file_to_array_fn, remove_columns=common_voice_train.column_names)\n",
    "common_voice_test = common_voice_test.map(speech_file_to_array_fn, remove_columns=common_voice_test.column_names)"
   ]
  },
  {
   "cell_type": "markdown",
   "metadata": {
    "id": "ki5sXmzucc9Q"
   },
   "source": [
    "Common Voice is sampled at 48kHz, we need to resample the audio files to 16kHz. \n",
    "\n",
    "-->librosa library to downsample the data."
   ]
  },
  {
   "cell_type": "code",
   "execution_count": 111,
   "metadata": {
    "id": "6Y6AK3Z-kHwP"
   },
   "outputs": [],
   "source": [
    "import librosa\n",
    "import numpy as np\n",
    "\n",
    "def resample(batch):\n",
    "    batch[\"speech\"] = librosa.resample(np.asarray(batch[\"speech\"]), 48_000, 16_000)\n",
    "    batch[\"sampling_rate\"] = 16_000\n",
    "    return batch"
   ]
  },
  {
   "cell_type": "code",
   "execution_count": 112,
   "metadata": {
    "colab": {
     "base_uri": "https://localhost:8080/"
    },
    "id": "Ws8DyIL_kjwT",
    "outputId": "82089121-5653-493d-a580-aeabf8cef5fe"
   },
   "outputs": [
    {
     "name": "stdout",
     "output_type": "stream",
     "text": [
      " "
     ]
    },
    {
     "name": "stderr",
     "output_type": "stream",
     "text": [
      "Loading cached processed dataset at /root/.cache/huggingface/datasets/common_voice/hi-24242e0bc11eddb3/6.1.0/a1dc74461f6c839bfe1e8cf1262fd4cf24297e3fbd4087a711bd090779023a5e/cache-0dc882868869aefe.arrow\n"
     ]
    },
    {
     "name": "stdout",
     "output_type": "stream",
     "text": [
      " "
     ]
    },
    {
     "name": "stderr",
     "output_type": "stream",
     "text": [
      "Loading cached processed dataset at /root/.cache/huggingface/datasets/common_voice/hi-24242e0bc11eddb3/6.1.0/a1dc74461f6c839bfe1e8cf1262fd4cf24297e3fbd4087a711bd090779023a5e/cache-7740a3bdf8c3efca.arrow\n"
     ]
    },
    {
     "name": "stdout",
     "output_type": "stream",
     "text": [
      " "
     ]
    },
    {
     "name": "stderr",
     "output_type": "stream",
     "text": [
      "Loading cached processed dataset at /root/.cache/huggingface/datasets/common_voice/hi-24242e0bc11eddb3/6.1.0/a1dc74461f6c839bfe1e8cf1262fd4cf24297e3fbd4087a711bd090779023a5e/cache-33557b131b89cc50.arrow\n"
     ]
    },
    {
     "name": "stdout",
     "output_type": "stream",
     "text": [
      " "
     ]
    },
    {
     "name": "stderr",
     "output_type": "stream",
     "text": [
      "Loading cached processed dataset at /root/.cache/huggingface/datasets/common_voice/hi-24242e0bc11eddb3/6.1.0/a1dc74461f6c839bfe1e8cf1262fd4cf24297e3fbd4087a711bd090779023a5e/cache-9ad7a9179ba06095.arrow\n"
     ]
    },
    {
     "name": "stdout",
     "output_type": "stream",
     "text": [
      " "
     ]
    },
    {
     "name": "stderr",
     "output_type": "stream",
     "text": [
      "Loading cached processed dataset at /root/.cache/huggingface/datasets/common_voice/hi-24242e0bc11eddb3/6.1.0/a1dc74461f6c839bfe1e8cf1262fd4cf24297e3fbd4087a711bd090779023a5e/cache-1d8a1105c9207227.arrow\n"
     ]
    },
    {
     "name": "stdout",
     "output_type": "stream",
     "text": [
      " "
     ]
    },
    {
     "name": "stderr",
     "output_type": "stream",
     "text": [
      "Loading cached processed dataset at /root/.cache/huggingface/datasets/common_voice/hi-24242e0bc11eddb3/6.1.0/a1dc74461f6c839bfe1e8cf1262fd4cf24297e3fbd4087a711bd090779023a5e/cache-aa97831fd9bc3ad5.arrow\n"
     ]
    },
    {
     "name": "stdout",
     "output_type": "stream",
     "text": [
      " "
     ]
    },
    {
     "name": "stderr",
     "output_type": "stream",
     "text": [
      "Loading cached processed dataset at /root/.cache/huggingface/datasets/common_voice/hi-24242e0bc11eddb3/6.1.0/a1dc74461f6c839bfe1e8cf1262fd4cf24297e3fbd4087a711bd090779023a5e/cache-9f41e83ebe69da94.arrow\n"
     ]
    },
    {
     "name": "stdout",
     "output_type": "stream",
     "text": [
      " "
     ]
    },
    {
     "name": "stderr",
     "output_type": "stream",
     "text": [
      "Loading cached processed dataset at /root/.cache/huggingface/datasets/common_voice/hi-24242e0bc11eddb3/6.1.0/a1dc74461f6c839bfe1e8cf1262fd4cf24297e3fbd4087a711bd090779023a5e/cache-ae2312796762122a.arrow\n"
     ]
    }
   ],
   "source": [
    "common_voice_train = common_voice_train.map(resample, num_proc=4)\n",
    "common_voice_test = common_voice_test.map(resample, num_proc=4)"
   ]
  },
  {
   "cell_type": "code",
   "execution_count": 113,
   "metadata": {
    "id": "9XoLqJDyWPjl"
   },
   "outputs": [],
   "source": [
    "##### Playing a random audio file\n"
   ]
  },
  {
   "cell_type": "code",
   "execution_count": 114,
   "metadata": {
    "colab": {
     "base_uri": "https://localhost:8080/",
     "height": 75
    },
    "id": "dueM6U7Ev0OA",
    "outputId": "aeae7cbd-5e47-4276-fdf3-c4ef8fc7962f"
   },
   "outputs": [
    {
     "data": {
      "text/html": [
       "\n",
       "                <audio controls=\"controls\" autoplay=\"autoplay\">\n",
       "                    <source src=\"data:audio/wav;base64,UklGRiSqAQBXQVZFZm10IBAAAAABAAEAgD4AAAB9AAACABAAZGF0YQCqAQAAAAAAAAAAAAAAAAAAAAAAAAAAAAAAAAAAAAAAAAAAAAAAAAAAAAAAAAAAAAAAAAAAAAAAAAAAAAAAAAAAAAAAAAAAAAAAAAAAAAAAAAAAAAAAAAAAAAAAAAAAAAAAAAAAAAAAAAAAAAAAAAAAAAAAAAAAAAAAAAAAAAAAAAAAAAAAAAAAAAAAAAAAAAAAAAAAAAAAAAAAAAAAAAAAAAAAAAAAAAAAAAAAAAAAAAAAAAAAAAAAAAAAAAAAAAAAAAAAAAAAAAAAAAAAAAAAAAAAAAAAAAAAAAAAAAAAAAAAAAAAAAAAAAAAAAAAAAAAAAAAAAAAAAAAAAAAAAAAAAAAAAAAAAAAAAAAAAAAAAAAAAAAAAAAAAAAAAAAAAAAAAAAAAAAAAAAAAAAAAAAAAAAAAAAAAAAAAAAAAAAAAAAAAAAAAAAAAAAAAAAAAAAAAAAAAAAAAAAAAAAAAAAAAAAAAAAAAAAAAAAAAAAAAAAAAAAAAAAAAAAAAAAAAAAAAAAAAAAAAAAAAAAAAAAAAAAAAAAAAAAAAAAAAAAAAAAAAAAAAAAAAAAAAAAAAAAAAAAAAAAAAAAAAAAAAAAAAAAAAAAAAAAAAAAAAAAAAAAAAAAAAAAAAAAAAAAAAAAAAAAAAAAAAAAAAAAAAAAAAAAAAAAAAAAAAAAAAAAAAAAAAAAAAAAAAAAAAAAAAAAAAAAAAAAAAAAAAAAAAAAAAAAAAAAAAAAAAAAAAAAAAAAAAAAAAAAAAAAAAAAAAAA//8AAAAAAAABAAEAAAD//wAAAgAAAAAAAAD+/wEAAgAAAAAA/v8BAAEAAAAAAP7//v8AAAMAAgABAAAA+/8AAAAAAAADAAEAAQAAAP7/AAD/////AAAAAAMAAwAAAAAA+////wEAAAABAAQAAgD//wAA/f/6/wEAAgAHAAYAAAD8//f//P8AAAEACAAHAAIA///8//f/+P8BAAcACAAGAAAA+f/3//r/AAAFAAsACAD+//r/+f/4//v/AwAIAAUABwAAAPn/9v/3/wMABAAJAAUA+v////3/+/8BAAQAAQACAAgA/v/5//3//P8FAAYAAgACAP//AAD9//n//v/7/wIABQAAAAoAAADy//r/+/8CAAsABwD8//r//P/+/wcAAAD5//z//P8JAAQA/P/+//j///8IAAAA9v/7/wYAAgD+/wYA+v/3/wQA+v///wIA/v8DAAAAAAD9//j///8EAAYACgAEAP3/AgD1//n/BAAFAP3/vP/V/zIAUQBYAPv/fP93/6X/4P8/AEcAJQA3AAEA7f/z/9j/CAAlAFcAfQBBAPz/sf+w/9f/FQBZAFAANwDO/5f/v//R/yAAQAAzAC4ADwD//9j/0P/c/9f///8uACoABgDQ/5z/pv/i/ygASQA8ABUA4P/n/wQA//8EAAAA/P8aABcA+v/y/+X/7f8FAAsADgAEAO//6P8PACgAAADs//D/BgAPAAcACQAAAAYAAAD0//D/8v/+//T/AAD3/9//6P/q//r/+//r//r/BAD3//v/BAD8/wAA+f8KAC4ANQAwAP7/5v/m//L/EAATACwAJgAQAP//3f/q//P/7f8DAB8ACwDx//f/9f/9/wEA///+////CgALABoAFAD4//n/5f/u////9v8CAPz/CgD3/+D/+P/z/+v/4/8NAB8AGAAQAOX/2P/Y//n/DAAbABoA7//t/9v/0P/o//r/DwAbACQAKgAtACcA///e//D/EwAXAA0ACAD5//P/5P/i/wAAGQAcAPf/7v/4//T/FAAUAAAADAAVACgAJQAFAOT/5f8MABQAAAACAA8AEwAYAAEA8P/5/wEABQAHAP3/3f/V/97/7f/3/wEABgAAAPz/5f/3/wkA9v/4//r//P8CAPr/8//1/wkACADy/+7/8v8AAA4AEwAIAP//9P/z////AQAAAAAADQANAA4AAAD5/wcAAAANAB0ADgAEAP7/7f/h/9H/zv/v/wUAHgAgAPn/+/8DAAcAGAAZAEEANAAQABAA6//n//T/+P/6/woAIgAGAPP/4v/j/+v/5f/9/wsAEwASAAwAAADj/+n/8v8BAAYA8f/z//j/CQAFAOb/4v/x/wwADwADAAMAAADx//j/FwAKAAEACQD0/+r/9f8AAP///f8HAA4ABwACAAUADgARAAcAAgD///3/AwAKAAIA/f/z/+7/+v/2//7//P/x//3///8LAAkABAAEAOv/+v/+/+7/9//o//v/EwACAP3/AAADAPH/8f8EAAAAAQALABAABwAGAAkAAwAFAPv/AAALAAwADQAEAAcACwD3//H/AwATABUACwASAA4ABwAAAOf/7f8GABkAEgD4//L/5//b/+H/7/8EABcAGgAIAOz/4//s//z/EwAYAAcA+v/w/+//5//r/wEAAwAGAPn/9v/4/97/6/8AABcAMAAhAAAA7v/5/w0ACQDx/+j/9v/7//D/9v8AAAEADAAbABcA+P/3/w4ADgAIAAAA7P/g/9j/yf/B/87/5P/9/x0AJQATAP//4f/Q/9X/1v/z/y0AWgBpAHAAgwB0ADwAEAD5//T/4f+8/8T/5v8AABkAGwASABYAMQBfAGQATgA/ADYAVQBhADkANQBbAGYAQgAIANH/g/9M/3L/rf/P/+L/7P8DAO//vP+j/4P/YP90/9L/QQB7AHoAWQAgAAwAAgDc/+X/6P/L/7n/nf95/2j/kf/a/yMAXwCRAKcAewAmAPb/DADw/8n/GgB6ALEAsQBzAC8ABQD4/xcAkgADAV4BfgEwAQQBwgAmAJf/aP8E/4f+if71/tP/kQBJAa8BdAHhAD4Ayf+H/7v/DwA9ABMAc/+u/i7+FP5s/hv/SgAaAakAXf+l/qT+f/4t/xACigZfCE0HWAY8BQ8Ba/oG92j3dffA9Wb2lvuQAXwGsQvgEPURyg3hBvX+5fY48mf0svpO/2UAyQCHABD8s/QK8r/22vvg+6b7mv//An8BWAAaBbUKIgviCIwHtQRu//j8Wf9wAYABZgSwCv8O1xA4Fvwe5CE3G20Rxwjz/Ijtz+M+5VHrfu578FHzWfFs5qzYuNBMz6DQ99Qd33Ls/vZL/RsC8wVyBtQDdQA5/Sb7fP5HCbUXaSYgNXtBNUVpPoQytyZDG1AQoQmpCRUOCBIlFO0WsRq4G7wXGxI8Do8KOQTx/N/2ie4t4GHO0L4MsmelTZqelZGYbqBjrRnCcd1F+AENOB1/Ky81qDffN2Q7AT+FPLs2LDQwMtIqliABGiwWBhH9DJQPdxh3IsUqTjCqMLgochiVAyPt59XRwMO0p7RovEbIKthL6E7vjOpq4cTYg80TwJS4ybvFxfDSK+bF/58YZSrPNes9xkK3Q5ZB1jyANAcq4SDAGSET1A3YDA4OZwqWAAH5evhM97zuneXe5C3nvONE4ebszQLKEZAU3xSTFjEQbv7r7qftSPRf9qr1NPsuBJwFVQB8ACMJOhElFGMXjR1EIRcfUhqiFckPCgmXA4r/3vo/9W3v8+dI3uvWttYR24bd29sL2L/SRcs6xfvGn9Ep3pzlsejV7NLzSvv5A0sQLR2cIzoiEB/FHxgleSyCMtUzkS/vJlIbgw9BB3oERAWnBkkIogsIEQMXyxoZGUwREAbI+mXxdev76nTvavTr9QD14/Rj90n8EQJaB0YLUg3sDGIKzwcdB6IHUAc0BdcBzP7Y/Kf71fo3+hL5A/az8cXufu4s753vuu+V7jvrTefE5gnqCu6g8L/x6/Dh7AfoluYP6QDtJPG+9S36LP6eA3ML6RKQF2AaZRzRHCccvh2uIjknyydGJd8hjR0JGDwSWA1TCZEF/QEL/pn5FvXz73fpXuIM3TvbGNyc3r3iJOft6QjruetE7H3sGu5e8oH3jfv+/7oG1g3wEUYTxxSyFqUWBBWPFWEZ/hzOHV8dfxwbGewShAynB8oCe/wV9vTw+ew86oPqOe7b8cDyqvK285b0WfQQ9oj7SwFpBMsGvwpQDrcO6QwZC2IJlQZjA+8BagIsAwAD+gFtAJr+cfxC+rn4OPie+B/5sPk2+rT5svcZ9dTyKfEd8Yrzovdx+23+JAE1AyIE5QS2Br0IlQm9CSALag09DqYNcA1NDRcLUwdgBdcFJgbMBecGRwn6CTII8gUVBNcA3/t/9/v0F/PU8IXv1+8A8Jbu3uz563zqceeN5FnjgOLn4BzgmeH+4/DlSOlK7/f1A/ta/5EEFgm8C4cOAhMJF64Y1Rn+G8wdEB6LHsUg/SIvIzci+iGVIWAfqhsXGGoU7w7+CBwFXgPyAQgBvAHGAkQCkACI/9H+uPx0+RL37fWE9JzydvGV8TnxrO9+7pXuHe+N79zwF/Mn9UX2MPeN+IL5vvnR+XD6yPo8+uT5aPob+wj7+fpq+7T7PPuX+t76q/uU/Gj9kv44AGgBrwGVAZEBIAH7/9T+t/5N/8T/ewD7Af0DtQUMB4IIEAolC4gL1gtKDAsM1QpQCbUHgQWFAnL/2PxN+nb3BfWd8wvztPLl8kz0dPZ++FD6hPz3/vYAVAJpA34EMAVzBdIFWwbbBi8HoAcsCGUIZghZCEIIBQijBzUHvwYMBu4EnwNPAhIB3P/I/tP92vz6+1T7D/sr+5L7WfxQ/Rv+xf5q/wEAEQCp/2X/7P4M/s38rvsv+8b6i/qy+ob7Bf2P/k0ASwKIBL0GqAhYCoALOgxzDCwMRQtyCU4HJgV5Ajn/Bvxp+XD3pvUP9B3z7PIl82XzFfRB9ZP2//eH+Sb7kPzU/Sn/TQC5ALsAEAFmAQcB1P/O/m/+y/2T/HD7LPtX++P6LfpG+if7vfvT+zL8H/0K/pD+AP/A/8QAegH3Ac0C2QOxBEMFEwY0B/wHPQibCDEJTwnhCHYIiAh2CIwHdQYFBgkGhwWNBC0EZwRYBM8DWANhA6gDaAO0AjEC6QGFAdoAFQCY/0D/if65/Rv9gfzv+2z7E/vn+rP6gvqe+sv6xfqv+r76Hftl+3z70Ptm/N/8IP16/QX+mP77/k3/u/8qAHgAkQCfAJ0AkABsAC0AEAD9/+3/5v+9/4P/RP/j/on+Tf78/cH9rP2T/Yr9oP3Z/Qf+Rv6k/t7+O//e/4sANQG9AT0CtwLjAt8C2ALWArgCXgL7AbMBZwH3AK0AugCxAIAAeAC3APUAIAF0AcoBGQJhAnsChgK4AucCrAI4AuIBoQFiAfsAmgBxAEYA8P9U/9D+xP7G/qD+lP7S/hv/HP8Q/zT/T/9J/0z/Xf+c/9z/2f/B/4//O//n/qH+fv52/mb+Wf5R/jb+Ff7P/Zj9t/38/Ub+qP43/7r/7v/c/+b/BAAOACcAXwDvAIcBzwHYAc4BxAGFASkB/AAeATsBHAHwANAAoQA6AN//lP9L/0H/Tf9I/2H/eP94/3T/Uv9A/1H/iP++/+H/GQAxACgACQDe/8n/yf/Q/9f/0v+v/5P/af8m/+3+wf64/rf+vP7j/h//Vf+N/8v/8P8bAFgAkQDeADcBcwGNAawBsgGiAZwBigF7AWABRgE8ARIB4gC+AKIAjQB6AGMAWgB/AKsA0QD1ABQBNwFQAUwBPwEwAf8AzwCUAD8ACACv/zH/z/53/in+BP7f/b/9wv2//dD94v0D/kL+g/7L/un+Af8w/zr/Of9L/1L/af95/3v/nv+n/53/r//N/9n/zf/U//7/IAAmADMAOQAxACMABwDx/9r/v/+y/6//pP/G//P/CAAXAB0AOQBWAHUAqwDaAPcAAwEFAQsBHAE8AVIBOwEhASYBGQEKAQwBCAELAREBFgEEAfUABgEJAQEB/gDtANMArgCGAGQAQwAMAM//k/9C/wj/9f7k/uT+5v7g/t/+3f4C/yr/SP+G/7T/xf/e/+b/7P/9//D/4v/P/7X/pf+M/3P/a/9Z/yn//P7l/ub+4/7j/gT/H/8q/zf/T/97/6n/2f/2//3/GgBFAGAAdgCPAI0AgwCMAI0AkgCTAI4AlACRAH8AWgBKAFoATwAtADIAQwBUAFkAQABOAEYALgAiABkAKAAxAFEAYwBfAGoAWABQAEkAJgAPAPv/6v/V/9z/2//E/7v/pf+U/57/wf/K/7j/wP/F/8j/1v/Y//P/FQAqAD8AOwBGAGIAcgCFAIoAnwCgAJUAqgCeAI0AegBXADYACgDm/9L/yP+6/5X/bf9c/0v/U/9h/2n/hf+N/5n/sv/H/9j/2//c/+D/2f/G/8z/3//k/9v/5P/r/+j/BQANAA4AFAAOACkAKQAgADsAKwAeABcA+f/2/+T/wP+5/7D/lv9y/17/bP9r/23/ff+B/4n/iP+W/7z/w/+6/9n/2//l/xcAGgAtAEcAVgBrAH8AmwCnANMA/AAIAQIB9ADsAMwAzAC1AJ8AowB5AGIATgAmACIACQDW/8n/tv+h/6H/nv+s/7f/sf+u/5b/mf+n/7j/z//a/+v/zP/L/9z/1//Y/8z/2v/i/9T/x//E/8H/x//L/8r/1v/G/7//z//V//H/9f/5/xkAJAA6AEUANwA8AEMANAAzAC4AMQBNAEYAKQAUAAcAAQD5//P/6//w//v/+f8LAAIA6P/u//L///8KAAoAAQABAP7/+P8JAPv/AQARAAQAAwD///z/BgAaAA4ABAATABIAEAAUAPn/7f/1/+v/5v/T/9r/5P/b/9z/w/+7/8T/zv/p//H/8P/4//z/BAARABYADQAPABMA/v8DAAIA7P/r/+v//P8BAPr/8P/5/wkABgARABEABAAWABsAHAA1ACMAGAAUABAADQDw//n/EAAAAO3/5v/g//X/+v/w//z/+//5/wAA/f/x/+7/+/8OABUAFQAGAA8AJAAJABMAGgD//xQAHAAZABIA+P/9/wAA9f/3//L/7P/r/+//9P/t//D/8//u/+r/9//q/+L/9v/k/+z/+f/z//z/AAD//xwALQAfADEAKwAcADMANwAnABgAGQAHAPX/8//v/wcAAQDu/+n/7P/b/9H/9P/1/wQA///o/+3/4v/u//n/DAAeACAAIQAYACUAFwALAAUA7//1/+v/1P/Z/+T/0P/U/+D/1v/X/8z/3P/f/8v/0f/f//f/8P/3/wQAAwAQABYAGAAbABYAEQAoACYAMQBBAD4ARgAoABYALgAoAAkA+f8HAA8AAAACAPj/CQANAO//8//9//X/9P8AAPr/AQDx/+v/8//q/+z/5//9//r/8v8EAAAABwARAPr//f8DAP///f8BAAYA+P8TABUACgARAPf/+//8/wMADQAJAAcA7v/i//P/5P/P/+H/7P/7/+3/4P/b/8v/4v/h/9///v8BAAEAAwAJAA8AAAAIAAIADQAZAAoAFAAFACAALwAeACsAHwASABsAGQAPABoAIwAaAAEABQD//+v/+//y//f/CgAEAOn/9v/9/97/1f/g/+3/6P/u//X/BQD+/+P/6//z/+r/8f/y//T/EgAAAPX/FgAMAAsADgAcACgAAQAHAAEA+f/6/+z/+P/i/+7/AAAAAAkA9//3/woAHAAEAO7/8f/0/wAA9P/w/wgAAwD2/w4ABwD//wMA6/8AAAMA8f/+//v/AgAFAAUAJAAmAAYAAAAQABUADAAeACAAHAARAPH/AAAPABQABADy/wYABwAAAOb/8f//////AgD+//X/3P/o/9//+P8DAPD/AwDw/+P/6P/8/w8A+v/7/xAAGAANAPj/7f8OAAoAz//Z//D/6v/W/+H/AAAQAA8A5//u/+7/6P8HAAgAGQAnACMAJQAeABAAEgAiAAkABAD//wYAHgAQAAUABwAsABoA9f/w/xcAMAD//+b/5f/y//b/7f/Y/+T/+P/0/+7/7P8FAPv//f/4/+X/+P/y//f/AAAJABIA/P/j/+X/7//+/wAAAAAPAAUADAD1//b/DAAAAAUA7v8AAAAA9P8HAAAAAADz//D/7P/1/wgAEAAhABYAEQAJAAAACQAUABQACgAXABYADQANAAMA/v/5//7/AAD6//7/AAAAAPz/9//z/wAABgD8/wQACQAHAAkACgABAAYAAQADAAAA8f/m/9P/6P/n/+D/7P8CAAEA9f/+//j/EAD9/+P/7f/p//D/6f/r/wIAGgAQABEAJgAaABoADwAIABIAGgASAA8AGAD4//r/AAAAAPL/4//z/+X/4v/g/+f/7P/t/+n/5//w//z/9P/d//n/9/8FABAACgAPAAQAHwAWAAYADwAdACcAMAA1ACQAKAAsACIALQAgABkAJgAPAPf/6v/4/wsA8P/L/9r/5P/d/97/xP/B/9//5//T/9P/6P/x//P/2P/S/+X/4//o/+j/7/8TACsAIAAgACYAMAAsABwAFAAZABgAAQAJAAsAGAAdAAwA/f/6/xMA8v/f/+v/6v8AAPf/8//v//b/BAD1//r/+P/7/wMA9P/w//7/CgAYABEADQAQAAYAEQAPABUAIwAlABMABQAFAPf/9//9/wIA9//t//T/9f/x//H/8P/3//P/7P8AABQABwDx//7/+P/x/+z/6P/3//H/+f/0//H/+v8AAPb/+P8LAA4AEgATABIABQAJAAUACAAAAPn/AgD//xUA+//t/wAAAAD+//3/DQD8//f/AAD0/+f/+P8SAAMACQAZABoADQD8//r//P8HAPL/8P/u/+b/8v/w//D/+P8VABwACQAGAAEAAQABAAAABQAHABcACwAAAA8ABgAGAP3/8/8FAAwAFgASAPP//v8JAPr/+v/7//H/+v8EAOf/8P/4/+3/+v/t/+n/5f/j/+7/5v/2/wYAFAAWAPn/AAAAAP7/AQD8//3/CgAZABQAGQAZAAUACgAOAAoAFAAQAAYACQALAAkADgANAAgACwABAPX/5//l/+3/8v/x/9//5f/d/9L/5P/f/+n/8f8BABUADgATABMAKwAfAAcAEQAQAAsAAAD+//z/EgAVABYAGgAMABoADgABAPr/9/8AAPX/6v/v/+//7f/x/+T/3v/U/9v/5P/K/+H/8v/z/wUA+//3/wIABQD6//7//P/t/wwAHQAWABwAIQAjABYAGQAqABsAEQAFAPP/BgAdAAsA/P8IABAACwD7//v/7//j//H/7f/v//X/AAAGAPf/+f/3/xIADwDp//T//P8aABgAAwAFAAAAAQD6////9f/5/wMAAwAEAPj/+P8EAAMA9v/4//3/9f/n//D/+//5/////P/4//T/7v/0/wAA/P8EAA0ACwAPAPz/+P/0//T/AQALACAAFQAGAP7/EgAiABIACADs/+7/AAD3////DwABAAYAAADc//D/6v/d//L/6f/u/wIADwAMAPT/AwAIAOz/+//x//v/BwDx//v/9//9/w4ADwAjABkACQAfABMAEwAUABAADQD3/+3/5P/n/+7/+f/s/+f/AgABAAAA//8DABQACwAVABsAEwAgAAMA8f/y/+n/AAD5/+j/9P8CAAAA9f8VAAwAAgAXABIAFgAGAAAACQD8//3//f/x//3/4P/Z/wUA+f8GAAEA9f8QAAoAEQD+//L/AQD+//z/9//4/+3/8P8FAPv/9//7/+z/6f/0/wAA//8AABEAIAAsADIAIAAWABgA//8BAAwA8v/t/+r/7f/6//X/DQACAPP/9P/v/w4ABwD5//L/7//t/+D/6f/p/+3/+P8JAAoAAAAIAPn/BAAVABEAEAAAAAoACgAAAAAA+v/3//H/9v/y//r/8f/o//j/9/8HACcAIwAHAAoA/v///wcA7f8MAAoA8v8NAAIADwAcAPj/CgAVABAAIQALAAcABgABABcADwD4/+7/+v8EAAUADgDq/9//9f/q//H/9P/n/+r/6//n/+n/+f8BAAkAGwAPAAkAAADp/+//CQAVABQACwD3/wAACQAOABYAEQAHAPj/+f/+/wMAAADq/+X/7P/y/wMABwD6//j/AAABAAQA/v/o/+z/9f/8/w8ADwABAAgABAACAAoA+P8NAA8A9f8GAPX/7P/4/+n//v8KAPv//f/t/9n/8v/x//T/FQAAAAYAFwAQACcAEQABAAcA9f8KAA4A+/8QAPb/+f8jACMAJQAdABkAAwDs/+j/4//9/wsA+//+/wYA8f/k/+7/8//v/+//4v/d//b/AAD9/wQACgAPAA4A9v/u//7/CQAIAAAA+P/s//P/BQARACwAJgAQABsADwATACEADQALAAUA8f/9/wsA///w/+3/6f/j/+7/+//0//D/7f/s/w4AFAAAAPL/4P/m////DgDl/97/AgARACEABQDq//T/AwATAB8AFwAOAA0AAADy/+L/9P8FAAEA+//6/woACQACAP//6P/y/xYACgD6//z/AAAJABAAGgAFAPz//v/6/wAA//8DAP7/+f/z/xsASgAYAOn/6/8YAC8A/P+7/9f/IwAWAOj/yv/p/xYA+f/b/9z/9P8gAB8A7f/v/yoARAAeAO//7P8DAAwA+v/p/+j/9P8NABIA6f/k/wwACADu/+D/+P8cABEA7f/w/woADgAMAPP/5//1//P/7//w//X//v8KABEAEAAbABMA+//3//j/AgAEAOv/6//1/wwAEAD0//j/AAAGABIACgD9/wAAFQAUAAUACAANABoACgD1/xQADwDx/9f/0P/s//j////x////IQASAAsABgD//w8AHwAQAP3/AAD3//b//f/0//3//P/2/wsAAwACABsADwD7//P/8v8IABAA8f/f/+T/9v/4/+v/+v8AAPr/9v/y//3/AQDu/+j/BwAGAP7/7f/c/wMACwAGABAADQAaABAA///8//r/EAAWAAEA/P8AAAcAEAD+/+X/7f/3/wsAEQD6/wAACgAhABQA+/8UABYACwD4/+//+v8SABAA7v/6/wcAEwAMAPL/6P8BAA4A+v///+f/8f/0/+H/9//3/xQAGgAGAPr/9P8AAAMABgAAAAMA+f///wEA6v/w/wUABADg/+7/CgABAPb/5////yAAGQAKAP3/8//1/+//8f/4/wgAHQAJAAEABQAaACQABAD4/wEAFQAJAPj/8f/3/wcADwACANz/5v/+/xkADADf/wAAGQAeABYAAgAPACYADQDg/+b/9v/4/+n/3////w8A///8/+v/3//4/+n/7/8CAAMAFwAEAPj/AAAAAP//AgAIAPj/AAAHAAIABwAAAAkAFAAPAAMAAAAAAPX/+/8QABMAGgAkABEA/P/5/+f/5f/k/93//v8IAAoAAwABAAsAAwABAPP/+f8DAPj/7f/3/wcABQABAPH/8/8AAAAACAAAAP//AwADAA0ACQAAAPT/+/8RABcAEgD//+v/6f/u/wIAEQAUABMAAgADABIAEgDw/+r///8HABYAFQAHAPz/AQD1/9////8RABMAEwD+//3/BgAPAAsA8P/1//3/AAAEAPX/+P8DABUACwD8//7/BAD//+3/2f/P//f/CwAQABEACgAJAP3/8P/n//f/BgAIAAEA9P/2/wkADgADAOr/8f8GAAkA9v/f//f/AAD8//b/5//q//T/+//0//T/EwAZAAQA/v///wcACwAMAAIA//8WABUA///Z/9f/DwArACIAHAAPAPL/8f/f/+H//v/1/wIABwAMABMABgAEABMAGQATACQAJwAWAP7//P8EAAYAAAD2/w0AEQAMAAkACgANAAUADwAKAAMAAgD1/9z/3P/f/+T/5f/n//b/BQADAOz/8P/y//z/9//x//v/AAAOAP7/7f/3/wIA///2//n/+//4/wMABwD7/////f8CAAMA9/8CAAUAAAD+//3/9//t//3//P/3//r/+v8FABQAHgAUAAsACAAJAA0ADAAWABoAFQAMAP3/AQD//wAA///y//f//P8PAA0ABAAVAA8ACAAGAAMA+P/s//P/9f/8//L/3P/g/+T/3f/i//H/+//9/+3/6P/9//7/AwAEAPf/BQALAP//+v/0/wAAFgAQAAoAEwAEAAcAEAD1//3/HQAbABQACAACAAgACQD8//T/GAAwAB4AAAD+/wkAFQAoABoAGAAfABkAAQDf/+7/BwAJAAAA9v/7/wQABwAAAAAA+//z//n////7/+f/5v/m/9L/zv/P/9D/3v/x//L/+/8HAAMAAgD6//3/AgAAAPv/9v/7/wQAFQANAAUAAADs//7/CgD6//j/+P8AAA4ADQAFAAAA/f8AAPn//f8XABYAEwALAP//DQAPAAkAAAAAAA4ACwD7//X/AAAPAB8AIAAQAAoACAAAAO7/8f/5/xEAGwADAA0AEgALAAQA/P/6//7/FQAaAAcABgAGAPr/5//f/+n/4v/X/+P/4//j/wAAEQAGAAIA/f/r/+X/4f/w//7//P8GAAkADAAAAPz/8//t/wMAAgD6//T/+/8DAP//AgAXAB8ADwAOAAQAAgALAAoADQD/////GQAaAPv/7//2//n/8v/s/w8AKgAxACcABgD9/+r/5P/z//X/BgAQABEAAAD6/wgA9//t//H/6f/v//b//v8QABIADgAMAAEA+//9/wIA/f/r//n/DQATABIA9//x//z/9v/0/+f/6f////T/9//2//D/BAAPABMACgAAAAgADAAIAAYABwATABQABwD5//D/8//2//L/9/8LAA0AFQAbAAoA9P/i/+P/4//l/wUAFgAJAAIA9f8KABgAGQAVAAkAEgADAPz/9//1/wcABAD3/+j/7v/6//f/+v/+/woACAAAAAAA/v/7//r/+f/q//H/CwATAA8AFAAIAP7/9/8BAAEA+P8MAAAA/v8AAPj/8f/t//H/8f/4//P/+P/9/wwAHQAQABIACgAJAAkAEAAdAAQAAAAPAAkAEAAFAP3/FQAEAOr/5f/c/+T/2//k/wAACQAGAAIA+P/1//j/9P/5//j/AAAFAAAACgAVABkAEAAIAAcA8f/v//n/9//2//f/CAALAAIACAANAAUABgADAAEACQAAAAUACQAKAA4ACAAAAPj/+//2//D/+f8AAAcAEwAJAAIABQD6//D/8v/4//n/+P/x/+7/AQAOAAQA/f/7/+7/8f/8//r/BAASABYAGQALAPv//P/2/wEADgAGAPb/9P8DAAoAGQATAAUABgABAAMA8P/U/+D/6P/6/xgAGwAQAAEABQABAP7/AwANABgAEgANAAAAAwATAAAA+f/p/+L/9v/r/9//5P/3//b//v8IAPL/8f/r/+D/3//q/wMADQAVAC4ALAAgAB8AFwAQAAYAAAD5/+r/6v8EABUAKAAqABkAGgD1/+H/3P/N/+z/AAAQABoAFgAZABAABwD9//D/7//2//n/+f8AAAoAAgD5//X/9v/y/+L/7f/5//r/BAAKAAQACgAMAPn/+P/k/9f/9v/7////DAAKABgAJwAgAAQA+P////H/9P/9/+//9//1/wIADQD3//z//P8FAAcAAAAGAAoACAACAAoACwAGAAgA///x/wAAAgD+/wsAFQAcABgAAQDv/+7/5P/i/+H/5//+/xMAHAAXABoAGAAQAAIA9v/u/+v/7/8AAAEA+v8BAAAABgAPAAoABgD///P/+v8AAPj/+/8GAB4AHAAIAP//8//0//H/8//3/wAADwAMAAYACAAEAP3//f/+////+/8AAPj/7//t/+//7v/u//3/+v8AAAUACAABAOz/8P/1//3/BwADAAUADwAdACQAFAARABMADwD///j//f/3/wIABAABAPr/8/8AAPf/9/8AAP//AAAEABEACgD9//T/9f8JAA0ABgACAPj/+P////j/9v/y/wAAAQD//wYA9f/2//T/9/8EAAAACAACAAEACQD5//j/9v/5/woAEgARAAoA/f/6//7/7v/t/wAACwAYABoAEwAMAAEACAALAAQACQAIAAAA9//0//j/8v/x//3/8v/p//z/CAAOAA8A/v/8////AAD///z/AwAGAAMA/v8QAAIA5v/o/+P/5f/q/+7/9f///wcAGAAeABwAFAAJAA8ADQD3//L/+v/1//n/AAACAPn//P8JAAYAAgAHAAgACgAFAPf/+P8CAAQADQAQAAwABwDz//D/9/8JABEA+//+/wMA+f/5/wwAEgAEAAAA/P/s//n/CAD9//T/5v/u//z/9P/4//f/AAAGAP///f/2//z/AAABAP7/+v8DAAUABQAIAAoAEwAZAA8AAQAAAAQA9f/m/+n/+P8KAA8AHwAeABAADQALAAoAAAAAAAEA9//4//j/7//5//v/9/8AAAIADQANAAwA8v/S/9L/5/8AAP//9//5/wMACQD//wAAGgAmAB4ACQDy//j/AAD+//7/BgAMAP//8f/o//f/BgAMACMADwABAAwA8f/1//z/9f8FAAoADQD9//j/AAD8/wAA+/8CAPz/7//v//H/BAALAAkABAD9/+T/5//9//v/CwAMAA8ABgDu/+//9P/y//r/DQAHAAkABwDz//v/AAD6////CwARABMAHAAXABEADAD//w0AIAAdAAcAAgADAPX/+v/y/+v/+/8DAPn/7P/t/+3/+f/+//r/AgD8/wQACwAAAAcA/v8BAAkABgAIAPv/BgARABAABADy//D/9P/y/+r/+/8DAPj/+f/4//L/8v/3//z/BwAXAAkA+//7//f/8f/u//r/+/////H/6f/+/wIAAgD8//7/AQAOABUACgAXABsAIgAeAAwAGwAhAAcABQAPAAIAAwACAPX/+/8AAAEAAwAPABQAAAD9//7/+f/0//r//v/o/+j/6f/x/wIA/P/9//7/BQAPAP//9P/1/+z/7f/2/+f/9v/+//X/CQD2//H/BAAFABMACwAFAAQA/f/6//L///8HAAsACADy/+z/6//1/wkAGAAhABQAEAASAAgAAQD//wgACAAAAAIAAQABAP7/BwAcABwAEgABAPv/+v/2/+z/7f/y/+v/8f/m//X/BAAEABcACwAcABUA+v/9//r/CAD3//j/BAD3/wYA9f/n//D/7f/5//H//f8IAPX/7f/1//L/6v8AAA4AFgAGAP7/DgD1/wcAGQAAAA4ABgD0/wMABgD5/wAAEAAOAAUAEQAcAAkAEAAAAOf/CQAJABMAFgD5/wkA+P/z//7/8/8RAA4AAgAPAPr/7f/r/97/7v/7////AgD5//f/8//8/wkAAgAFAAUA9P////b/7f/+//3/DgAaABQAAQD0//j/AAD+//L/7//x//3/7f/w//v/9/8AAPb/AgAOAAkACwADAAUA/v/u//D/+v/4/+v/+f8EAAoAFwAPABcAHAAWAA8A/f8HAAMA/v8HAAcABwARABEAAwAPAA0AAAD9//7/AAAOABcAEAASAPj/8P/0/+n/+v8JAAUABwAGAP3/CQASAAcA+//u/9j/1f/c/9z/8f/4/wQACgAFAAIA9f/8//z/9f/y/+j/6v/z/+j/8//+//H/+v8AAAQACwALABkAGQAbAB0AEgAKAOv/5P/q//D/BQAPACAAIQAcACAAIQAdABoAAAD3/wkACgAiAC0AKAAdAAYADwAGAOL/8f/m/9L/8P/k/+//CQD4/+r/1//G/93/5P/d//f/8f/n/+//9/8DAPn/AAD6//j/AwDt//z/AADr/wAAEQAWABwAFgANAAYADgARAA0AEgAXAA0ADwATAAQAEgAXAB8AMwApACsAJAAWAAsA/v/w/+r/5f/1//n/4f/v/9//4v/p/9j/9P/q/+r/9v/n//3//P/0//H/4//4/+f/2//4//f//P8GAAwAFAAaABYAEAAMABQAEwABAAgADgAPAA8ADgAUAAoA/P8CAAUACQAPAAgADQATABgALQAoABMAEAACAPL/7//1//D/9//s/+X/6v/i/+7/2//b/+3/5v/s//r/+/8AAAEA/v8EAAEA///r//P/AQDq//P/9v/z/wIA8/8KAA8AAwArAAoA+f8OAAEAEQAkAC0AGwATAB4ACAD8/wEAAgD6/wcAGwADAAAAEAACAAAAAgD1/+b/7P/k/+D/9//x/93/+v/w/+H/AgD0/wMACQAAAAAA9v8EAA0ADAAFAAAA/P8CAAoACAD+/+3/6v/6/wgAGQATAAoAEAD1/wAAAwD0/wkADAARAAkA8////wkADwAaABIAGQANAP//AQDt//r/9f/+/wkA9v8AAP7/7v/1//3/8P/9/woACQANAAcA+f/0//r/+v8GAAoACwD+//n/AQD0/wEABgAIAA4ADAASAAkAAgD3/+f/7P8BAPX/8//5/+j/9v/3//b/+v/u//j/AAD5//P/9P/4/+//8/8KAA4AGgAMAP3/HAAPAAwACADx/wwA/P/1/xIA+f/+/wsA//8aADMAJQAaABsAFQAPAAIA7v/m/9T/0f/f/93/+P8LAO////8CAN3/8/8GAP7/+v/w//j/+P8FABAAAwD//w0AGAAGAAUABwD8/+//+f/5/wcAEAAFABwADgATAB0ACAARAAcA9P8MAAUA+/8OAAIA/P8FAAcAAQDy////EQAIABUAEgAPAAYAAAAEANf/6P/p/9X////0/+7/AAD3/+7/BQD4/+3/CQD3/+v/3f/g/+r/4//+//7///8QAAEACAASAAMAAQD5////DQAeACgAHgAbAAkA+//8//L/9v/0/+v/AwD7/wIADwD5/wkAAgAFABgABwAQAAoA8P/3/wQA/v8AAPn/+P8LAPv//v8IAA8AGAAjADAAJgAuABMA/P/v/+j/9v/o//n/AADn/wAABAD//w4A//8EAAQA5P/n/+n/2v/s/+b/3P/v/+3/+P/t//3/FwD7/wMADgD2//H//f/x/+z/AgD9/+//DQALAP7/GAAeACYAJAAYABkAAAD+/xEACQAKAA0A9v/o//L/8//p//v/9//0/wEA+P8FAAQACwAXAAoAFgAUAPT/AAADAOH/8/8AAN3/5f/6//b/GAAdAAAAEwAMAPX/9f/j/+7/7v/0/xUABwAAAAkABwDv//z////w//z/9v8YABQAAAANAAgAEgAYAAoABQANACIAGgAUABoA//8DABcAGwADAP//+//a/+D/6f/q/wkACAD0//j/7f/5/+v/7f/q/83/DQANAPn/FAABAPf/FAAiAAEA/P8BAAIACQAFAAIA7v/s/wUA/v/w//H/7f/s//j/CgD2/+/////v/+3/6//w//j//f8EAPv/DgAWABEAHQAPACQAKAAVACQAAADr/+7/5v/6//3/+P8KAAMABwAZAAIA+f/t//L/8//p//n/5v/9/w0A9v8MABkAEAAUAB8AGgAFAAcA9////x4AFAAsABMA+/8QAP//BQAOAPX/8//0//H/+//f/+j/+//u/+v/BAAIAPT/7//c//7/AQAFAAUA9/8XAP7/CwAaAPP/7//z//3/9f/2////7v/2//H/AAAVAP//EAAUAA0ABwD8/wAA8f/r//v/BQACAPv/6v8AABoAEwARAPr//v/7/+v/AAAAAPb/+P8eABMACgAkAP//9f8AAA4AGAAOABEAFQAWAAcA9v/2//P/5//4/woA///v//r/7f/8/xQA/P8OAAwA5v/5/w8AAgDs/+n/AwD6/+r/7//q//P/+v/+/wcAFQAQAAcAFwAPAPb/+v/3/+P/2v/d/+P/6v///+r/+v8LAAIAGgAHABMABQAIABIA7/8HAAkAGQAiAAoAFwAMAAQAFwAaACUAEgD0//z/5f/x/wYA+P8EAPj/7v8CAAUAAAD5/w4ACwAGABEA/f8FAPv/+P8EAO7/3f/j/+//6P/9/wUABgAIAPX/EwAbAPn/8P/h//P/9//e//f/8//g/+//BQAIABEADwDu//3/GAAVABUABAD8/wgABgASAAwA/f8GAPP/5v/x/+7/5f/r/wEAFQAdAA0AAwAEAPn/FQAiABIAFQAMAAMABQD8/+3/6v/x//X/7f/+//v/7P/5/wQADQANACUAGQACABwADAAHABAA9//5/wAADgAFAPD/9//7/+7/8v8NAP7/FwAZABcAIgDx//f/8P/3//3/7P/y/+X/4P/x//3/+P/z//L////2/wEADQD/////AwAcAAEA6//8/+//8v/z/+D/AQAMAPL/CAAUAPz/8v8IAA8ACQASAB8AKwAOAAsADgDp/+r/1//v/xEA8f8AAAUACgD//wYADgD4/xAA//8MABgABgAQABUA+//t/wMABwAKAPP/AQAKAPn////v/wcAEQD1/wsAHwD///v/9//3/wIA//8FAAYA6P/x/xAA+f/y/+H/zP/v//v/3f/w//v/6/8DAAUAAgADAP7/+f8HAAEA+v8UAAAA/v8AAAYAFwD+/wUACwD7/wUADwAVAAQACAAdAAMAAgAEAAUAIAAZAP7/7/8KAP7/6v8QAA0A7f/7/x4ACQAGABMAIQAjAP7/CQAbAAcA9P/x//D/5v/T/+L/9v/O/8v/4v8BAAQA7v8aABMACQAPAOz/BAACAO//AAD///b/6/8AAP3/6f8NAA0ABwAOAO7/9/8WAAoAAAD4/+T/+/8IAAoAAQDt//n/AQARAPT/5v8JAA4AEwAcADUAHQAIAAwA/f8AAPL/AQACAPL/AAADAAwA+//q//f/CQARAPv//P8GAAIAGQAfABQAEAD//wMA+v/c/+j/9P/9/+T/4f8JAAAA7//w/wcAFwADAPP//f/7/wIADwADAPz/7v/6/w8ACgD2//n/FAAaABIACAARAAEA6/8NABQA/v/+//T/8P/i/9n/8v/7//D/7v/4/wcABgAOABAAAAD2/+3/BQD8//H/+//+/xQAEAAcABQAAgAGAPn//v8JAPT/6//+/+P/4P/1//j//P/8/w4AIAAsABoACwASAAwACAAKABEAAAAAABEAAAD6/+//7f/+//P/7P/v/wAACAAAAAwAEgANAAAAAAAAAPT/BwAVABgAHwAYAB0AAQDi//n/7//v/+//5/8GAPX/8f8FAPz/8v/s////EgD+/wEABAD2/wAA+f/4//b/7v/s//b/9f/u/wEAAAAAAAgABgAMAPP/3//r//z/BwACAAEA/P/7////9v///w0A+/8MACgAGgAKAAAAFAAbACYAIgAhABsA9v8MABcAAgAAAPL/8P/6//7//v/5/+j/7P8AAAsADwABAPv/9//7/wEA9P/z//X/AAAfAB8ABADy//H/8v/v//b/9//3//H/AAAQAAIA8f/h/+r/5P/7/wwA7f/r/+3/BQAWAAoA+P/1/wAAAAAPAAAAAgAeABMAGAAeABgADAAAAPP/9v8BAPn/+P8AABIAGgAPAAYACwD+//7/FAARAA4AAQAGAP7//f8cABIA8P/i//X/AwAPAAUA+f/c/8b/2P/j//X/3P/R//3/DwAIAAYA+v/y/wQADQAOAPb/9f8XAB4AFQAIAPH/6f/1/+7/BgAdAAwACAAGAAQAEAAAANf/2P/t/wkAHQAbABMA/f8LAB0ACwAJAAgABgAGAAYACQAIAAwA/f///x0AFgAFAPj/2f/b/+b/8/8KAAMA7P/v/wYACgAMAAYABQAKAAAA//8NAAAA//8dABMADwD4/9X/1P/K//P/AAD5/w4A/v/z//L/BwAEAPz/8f/w/xEABQADAPL/9P8EAAkADQD//wYA/P8DAA0AFQApABcAEAAUAAAA7v/q/+X/9P/6//7/DQD9/wAABQD8//3/AAADAAYACAAOAB0AEAABAPz/EQANAN7/0v/K/93/BwAXABsAFgD//wIADQAPABQAEQADAOb/7P/t/+3/CAD+/wIAFwASABIAAADs/+X/6v/+/wcAAQD6//n/AAAMAAUACAAAAPX/+f/v/wgADwD6/wYABgD6/+//6//0//7///8HABgACQAGAAcADQALAPD/8P/s//3/DQANABMACAABAAoADgAFAAoADgASAAoA7//y//L/8P/3/wQADAAIABUADAANAP3/3//o/+H/2P/u/wIA/v8DABoAFgAQAP7/9v/2//v/CQD6/wsABgABAAsA8f/y/+f/9P8GAP7/CwALAP//AAAEAAEA9//+/+z/2P/y/wIADgAYABoAHAAeABgAEgD7/+7/+/8AABAACwAZAAcA/f8KAPX/AwDx/+7/+P/+/w0ACQAgAAwAAgAOAAAAAQD7/+3/BQAPAPL/6//v//H/AAABAPz//P/f/9L/1//h/wcACgALAAUA8f/z//r/AAD4//7/GAAeAAgA9P/p//L/BAAMAAkA+f///xIACQD+/wUACQD+//n//P8KABgADQD///b/+f/2/wEAEgD+/wkAHwATABQADAAAABAAHAASAAUA+//q/+z//P///w0AEwD+//f/AAD4//r/+v/w//f/5f/3/wQA9/8DAAQABwAIAPn/9P/5//3/BgAAAP7/7//l////AAAFAAQAAAD///j/BgAFAPf/+v8CAPr/+/8JAAsAAwAJABoAEQAUAP7/3P/k/+T/6/8AAAEADQAhACEAMQAWAOf/4P/j/+j/4P/Y/9j/6/8FABoAHgAhABwAEwAWABcAJQAbAAUADgAjACMAHQALAOH/5P/n/93/5//c/+D/6v/8/woABQD6//P/7//q/wMABQD4//P//f8KABMACgDv//D/+f/9//b//P/0//L/DAAVACoAJwAaABQA+v/6//f/1P/S/+r/+/8ZABkACwANABQAIQAaABAAAAD8/wgAEAAQAAkAEAAAAAAA8f/X/9r/1P/o//n/DQAdAAkADAAFAAAAAwACAAcA8P/v/+7/6//8/+v/9//1/wAAEgD8/w0AAwD6/wkACQAKAP3/9P/j/+D/+v/3//D/AwAFABwAMAAfAAgA+/8MAAIA+v/7//j/+v/+/xUAHwAgAA4A+f8CABEAFAAFAPn/+f/6//7//P/x/+b/8/8AAP3//v/8/+T/3P/2/xAAFwATAA0A9v/4//z/8f/y//T/9//5/woA+v/m//r/9f/y/wEAAAD4//D/+P8CAAEADQAKAAwAEQAAAAIAFQAjAB8ADQALAA4ADAAIAP//7//k//L/+//z/+v/6v/u//r/BAAHAAUADAAgABQAAQDz/+f//v8UABAAEwAKAP7/DgAKAAcADgD1/+P/9P8CAPf/8P/z//b/CQAbABQACwAMAAoAHAAjABgABQDs//D/3f/Y/+X/3P/o//D/AwAdAB8AGwATAA4AGQAJAOv/1//S/9v/1//l//X/8v/7/wYACQALABYAGQATABQAAAAGAAoA8v/6//3/AAABAAQA+v/p//L/7/8AAAYA+P/2/wAADAAOABEAAQACABkAFwAGAO3/8/8PABEAEQASAAsAEQAEAPn/BgALAAUA//8HAAgAAwAAAO//6f/o/97/6f8FAAMACAAUAAAA+f8GAPz/8P/s//b/CAAOABEABwALAAgABAAQAPv/6f/k/+X/5P/e/+H/9P8HAAwAJAAeAA8AGQAGAAAAAAD2//H/8v8LABoAEgADAPX/AAAQAAAA8f/5/wQAAgD8//H/6f/r/+z/+f/1//j/DAANABYAIQAjABYADwAVAAgADwABAOj/+f/z//D/9//p/9//1f/f//P//P/9//X/8/8AABUAFAAHAAQACwAHAAoAHAAHAA8AGwALABcADgAPAAwA+P////b/6v/t/+r/8v/z//b/+//w/wAADQAQABgAEgAWAAwA+P/0/wMAAADv//j//f8CAAAA9//u//L///8AAAEA+v/u/+n/3f/q/wgADQAQABcAEgAJAAkA///v//H/8v8AABsAHgAHAP/////+//r/7P/0//7//P8BAP3/AgAGAPr/BAAQABIAFAANAAkAEgALAAQADAAFAPz/AAD5/+r/9P/y/+n//v8EAAsAJwAQAPn//f/1//X/5v/g/+3/+P8GAP7//f8DAAcAHQAjABgAEwAMAPb/7v/z/wYADQAEAAQACwAKAPb/6//f/93/6//t//n/BgAJABYAIgAfAAgA+////xMADwDy//b/4P/j//D/6//9//z/8P/j/97/7f/1//v/AgADAB8AIQAYAAoA/v8XAAUA/f8BAPX/+P/9/wAABgAMAAEA9/8DAA4AAwABAAMACQATAB0AEwABAAYAAwAFAAwACQAPACMAIwAcACAAGgAHAPr/7v/g/+z/4//n//b/5v/o//L/+P/z//L/8//9/wcAAQD3//H/6f/j/+v//P8DAAYAFgAOABgADADv/+z/2f/s/+z/9P8FAPH//P/v/9v/5v/1/wcADQAdACoAJQAhABsAIAAbABMAAwABABkAHAAhABcADAAPAPL/2f/b/+X/7v/r/+7//f8IAA0ADAAEAAUAFQAdAAsA///5//3/DAAJAP//9v/y////AAD+////6P/t//3/+v/8//H//P/x/9z/3//V/+P/+P8BAAUAEgAgABgAIwAnAB0AFwAOAPD/5/8HABAAEwADAOT/4v/l/+//DAAUAAcABAAHABIACwD/////9f/9/w0AAQAAAPr/7//9/wUADgARAAMACwAQAAAABQAAAPT/9P8FAAAA9//w/+X/6//e/+P/3//t/+7/5/8LABUAHgAeABUAEwAWABkAEQD+/wUAAAD0/wEA/v/+//T//P8AAPv/AAAFAAAA+f8GAAMA/f/0//r/BAAGAAcAAQAJAA0ACAAKAAkACAALAA8AFAAFAP7/8//m/+j/7P/s/+z/7f/k/wEABQAJAAwA/P8JAP//EAAlABcAKgAoAA4ABADv//X//v/f/+n/8f/z/wEAAQAHAAAA+f/6//v/AAD4/+f/5f/w/wgAEwATAAwADgATAPL/7f/+/wEACQAMAAkAAQAIAAwABAAMAAAA6//n/+P/9v/4//T/9P/1//n/9P////7/+P/8/wkAEAAYAB8AGQAKAAAABQDx/+n/5//y//////8PABIAJgAoAB8AHAAYABEA7P/b/+P/9//9//X/+v8OABcAEAAJAAMADwAQAAYA/P/9//P/3f/i/+n/7v/p//H//f/7/wEAAgADAA4ABgD7//X/8f/6/woAFgAKAAYA/f/+/wAAAAAGAPj//f8PABMAEAATAAUAAAD0//L/AAD2/wAA/P/x/+7/9//9/+r/9/8JAAgAEQANAAsADAAEAP//5//w/wMAEQAJAP//FAAaABsACwD6//v/AgD+//P/AAD8//n/+P/y/wMAAwD8//L/7P/3//j/+v/6/wMAAgD2//r/+/8DAAAA9v/7/wAADAD5//v/BAAAAAYA7//u/+b/6v8EAPz/AgAPAA4AFAAMABMAGQAlACYAEwAbABkAEgALACYAIwADAAAA/v8CAPT/7f/z//n/+f/5//X/5v/f/+j/9f8AAAoADAAIAAgAAgDo/+b/1//Q/+3/+P8LAA8AAAAAAP3/9//4//n/BAD+/wAADAD+//3/AAABAAMA+//x//L//P8GAP//BAAfABgADgABAOv/5f/n/+f/8f8CAA4ADQAFAAwA/v/u//b/BwAZABgAFQANAAgAAwABAAMACgANAAEAAAD//wkAEgAYAB4AFQAJAP7/+P/8//j/+v8GAPb/6//u//L/9f/m/wAADQAEABsAKAAnAAwA/P/7//P/+f/7//j/8v/0//P/6v/0/+j/4P/g/+v/AADx//P/AAAIAAwAAQD+//r/CgAOAA4AFAAPAAgAGwAfAAQAAgDs/+T/9//4/wYADwAQAAcA+P8BAAkA+v/y//r/AQD//w4AEgALAAoA/v8IAAwACQAAAPP/7//r/+//9f8KAAoABgAIAAcA+//z/+7/4//e/9r/+v/9/wEAAAD+/yoAHQAJAAUA8v8AABAACAANAAoAEgAbAAQA/v/2/+r/6f/v/xIACwD6/xIAAgD1//X/7P/4////AgARAA4ABwALAPj//f8MAAIAAgD4//3/CAD//wcACgAIAAYAAQAFAPv/6v/1//r/6f/9/xIA/v/7/wkA+v/n//H/9//v//v/EAAGAAAAAAD7/wIADwAPAPL/5f/z//3/BQAJAAYA9f/z/wkACwADAAEAAAAbACwAJgArAB4AFQD7/+b/8f/k//P/9v/p/wcACAD3//z/+v/v/+n/6P/w/+j/4v/x//7/BAAAAAoABAADABQA//8AAAIABgAPABIAHgAUAP3/+f/3//j/DwAMAA4ACQD//wQACAAKAAgACwAWACIACQADAAIA8v/u/+n/7v/5//j/7//t/+j/8f/5////AAD0//D/7v///w0AGAAVAAAA+////wIA9/8OAAAA+f/8/9r//P/5/wYABwD3/xUACwAKAAsAAAABAAoAEwAWAAMABQARAPn/9/8TAA8AAAD9//3//v///wUADwATAAoAEwD4/+7/8P/Q/+P/9P////f/9//8/+3/8f/+/wgAAAAQABwAGAAUAPj/5f/t//b/+v/4/wsABgDt/wAABgAAAAAA///0/+X/9f/6/wEAEQANAAIA9v8AABcAFAAaACEABgAGAPH/3//6//n/BwD//wgAHQD///3/+f///wcACAAYAAsACwACAPn/FQAMAAMABgDx//L/7P/y//j/6//x/wMA///q/+7/7f/0/wAA9f/p//P/6v/k//D/7/8GABgAIwAvAC4AFwASAAwA9f8HAAEA+f/9/w0ADAD8/yEAFQAPACEADQALAP3/7v/z/97/7f8SAAMA/P/9//j//v8OAA8ABAD///H/8//4/wEAAADw/+z/8//7//n/4//U/+r/6f/t/wEADAD9//7/CQD6/xAAFQAWABAA+P/9/wAA9v/+/wgA9/8GABUAAwAPAAwABAAIAAAA+//o/+r/7//8/wgAAQAVAAsABQAIAPn/9f/0//H/+f8AAPn////6/wUAGQALAP3/FgAWAPj//f/z/wAAEgD6/wUAIQAJACAAKAAVAB4ABgAJAAUACAAKAAAAAQD6//z/AgAIAO3/5P/s/+3/7P/x/+r/2v/0/+j/5f/7//z////l/+T/BQANAAMABgAAAPP/8/8DAAUADAAWAAUAEgADAPP//P/6/wMA+//j//T/AAD5/xwAIgAdABoA+v/4/wMA/v/y//r//v8UABQACgARAPD/9v8DAPb/7P/g//j/+v/7/xEACwANABcAHQAaAAYA9P/y/+v/5P/t/+3/8//4/+z/9f8FAAoAFAAbAAsAEgAsABIABQABAPX/AAD7/wAAEAD9/wAAFAAGACEAIwAOABAA9f/u//L//P8GAAIABgAMAAwACAD0/+z/7//o/+z/5v/s/+H/7f/1//H/BQD7/+7/9v8HAPL/7v/7/+3/AAADAP//BgACAPH/6//h/+j/9f/5/xEADgAcACUAEwAeAB8AGwARABUADwADABoAGwAYAPr/8//8/9n/+v8KAPn/FwAOAAkAJgANAAAABAD1/wYA9v/V/+n/7v/k/+z/6v/p/+r/4//b/+b///8YACEA/v8OAB0ADwAiABgADwAIAAAA9f/h/+P/7v/7//j/CgAkAB0AIAAbAAQACAANAA8AHAD6//D/BAD4//P/9f/x/+T//v/u/+7/CADk//z/HwARAAQAAAAHAA4A6//3/wcA7f/+//z/BAADAPn//v/7//f/9v/5//D/9f/q/+//6v/4/ykAFAAFAA4ADgAOAB4AGQATAAYA5/8DAOn/5/8PAPv/6f/6/wEA8f///+z///8SAAQAIQATABoAFwD7/wUACgAMAAcAAADw//f/AgD//wAA4v/W/+b/7f///xMAFwArACYAAAAHAOn/8P8OAN//3v/v/9z/5v/2//z/AwAHAAAABAADAPL/IAAbAPH/EgAIAPD/+v/0/+X/9f/l/+r/IQAZABcAGgAQABYABgD0/w0AGAABAAQA+f8CABUAAwD4/w8ADwAJACUACgALAAgA9/8EAPT/+//4//7/AwDl/9j/0//6/wgA6P/2/wAA6f/v//v/AgAYAAwACQAQAP//8/8EAPf/7P8DAOX/BgAhAAgACQD7/wYAEwAKAPv/BQD2/9X/7v/h/+r/CAADAA4ABwD5/wMADwAMABEAAAADAB4ACgABAP3/AgAOACUADAD2/wIA4/8CAA0A8/8DAAQA9P/1//T/9f8GAAkADwAYAAMA5f/w//D/3v/4/wAA/f8fABcAEQArAAQA+P/v/+H/AADs//X/9f/m/wQAHAALAOv/+//n//T/BgADAC8ANgAcAB4AGwAAABIA/f/6/w0AAwAGAOT/2v/T/9r/8v8DAAoA+f8BABAAEQAJAPj/4P/p//T/+/8iAA0A/P8dABsAEwANAP3/9P/5//n///8AAAIA/v/1//v/9f/w/+z//v/7////AgDq//f/7v/u/wsADwAMABYAEwASAAMACAASAP//EwAHAAAAEwD4//z/+//i//b/9//u/wgA9//o/+3/5v/w//T/BwANABwAHgAJAB4AFQARABsACgAMAAYA8//1/+j/4//v/+7/9f/1//r/8//r//L/4//t/wMADwASABIAGQAQAAgABgADAAMABQD///7/BwD8//v//P8PAA4AEAAhAAUA9//6/wYAAwAHAAYABQANAAkADADq/+3/DQD6//T//v/1//v//v8CABEADgAFAAsABgDq/+7/5f/f//D/7//5//r/+P/3//j/6//l//v/+v8AAPb/9P///+v/8f/1//n/FgAUAAsAIwAaAAYAEAAXAAoA/v/0//f/EwALAAYACQD8/xIAFAAHAAcABQAEABEAIQAMAA8ACwD8/wwAAgDx//n/8v/j//j/DAAUAAQA8v/z//7/AwAEAAcAAQAHAPL/4v/y/+z/9f8PABAAAQAAAPb/4P/p//f/BgAiABsA+P/2//P/3f/o/+7/9//7/+j/7v/8//7/9v/y//z/DAANAAYACgAAAP7/EgAAAPf/EgAQABUAIAAeAAMA//8QAPz////7/+//+v/7/wYAAgD7//z//v8JAAcAEQAcABkALQAlABoAJAAIAPX/4f/T//b/+v/z/+z/7//2/+//7P/r/wwABwAEAAQA+v/y/+f/9v/c/+L/+////w8ACQAFAA0A/f/8/wAAAAAOAAEAAgAIAAMACQAKABEADQDs/+b/+P8GAAcA+f/9/wUA/v8DAAUADAAPAP//CwAJABMAEwAFAA4AAAD8/+z/6v8PAAkA///9//P/9v/q//P/AQDx/wcAHgARAAEA/f////z/BQD5//H/AAD+/+3/5v/8/wQA///3//7/AAD9/xIACAAFABgADgASABgAAADs//L/7P/v//7/+f8DAAMA9//6/wkAEAASAB8AFgAMAAkAAADg/9D/7P/6/xgAJwASAPn/5//4/wEABgAQAAkA///s/9//9P/y//n/8v/j//H/9f8GAAgADQAdABEAIQAdAPj/7v/z/wEAAwAEAPn/9/8MAAcACwAKAAgAFAAVAAQA9//w//D/AwD9//X/BAARABYAAwAAAA8AEAAVABoAEgD///T/5P/r/wMA+P/m//r/+P/s////AAD9/+X/4f/4//L/AgD9//L/BgD9//7/CQAFABUAAADu//f/7//w//T/BQABAAYAGAAfABoAAwAHABEADwABAO7/5f/u//n/CAAHAAQACQAHAAgACwARAA0ABAAAAPX//P8OAAEA8//o/+T/+P8CAPH/7v8EAAMADwAUAAUA/f/w/+//+/8GAAUAEwAIABMAJgASAAYA7//x/+z/7P8DAPz//f/3//L/BgAWAAoAAQANAA0AAwAIAA8ADwAOAAAABQAEAO//8P/r/+//AgARABcAAQDy//f//P/2/wAACQD5/+n/2//q//f/8//r/+n/+f/0//D//v8AAPv/CgD7/+v/AAD5/wUAEwAIAAcA+v/+/xUABgATACMAHgAjABgAGgANAAYA/f/p/+//+v8bABoAEAAYAAkABQD5/+f/5v/k//P/7P/i/+z/9/8JABkAKQAQAPr/CAAOAAYA/P/2//f/+v/v/wAABwD+/wAA/f/2//D/9v/y//D/9f/1/wMAEgAKAAkABgACAAAA+f8NAAsA9f/u/wMADQACAAYA+f/x//L/AgABAPr/AwD4/wIACAANABQACAAGAPz///8IAP3//v8QABwAEwAKAP7/9v/5/+v/9f/6//n//v/x//H/9f8EAAMA6v/0/wIABQAZAA8A/P8DAAwAIQASAPr/CAABAAUABADz//r/9f/u/+7/9P/1//H/9P/q/+r//P8CABAADAAEAAIA+/8SAA4ABgAKABIALQAQAPj/+f/0/wYADgD2/+L/6f8JABcACQAFAPr/9/8IAAAA9v/x/+3/7f/r//P//v8QABQAEQAYABoAFwADAAAABwAIAAcA+//z/+X/4v8BAAsADgARAAYABgAAAPb/8//z//j/BAALAA0ACQADAPr/8v/x//T/AAAMAAEA7f/+/xMAEQAKAAcABAD//+v/2f/P/8v/2P/y/wwAEQAaAAYAAAAOAPn/CAAdAB8AGAANAA8ADQAAAAMA+P/Y/+j/+f////3/BQAbAB0AIwAPAPz/8P/s//X//P8HAP7//f8JAAEAAAD+/wAAAgDs/+z/AgAQAA0ABgALAPj/8P/6//r/7//n//T/AAAFAAgA+v/n//z/CQAbACIACgAIAAsACwAPAA0AAwABAAIABAAJAP//+f/5/+n/8v////v//v8FAA0ACAAFAAQA+//3/+7/3//k//b/+f/6//b/8f8DABcAGAALAP7/DAAVABEAFAAKAAkACwD9//3////1//3/+//y//T/8//4//L/4//r/wYAEQANAAYABQAQAA0AAADu/9//7f/7//f/+//1/+3/9P///woACwATABIAAAACAAAA9v/5//3//f8QABMACwAJAPL/+P8LAA4ADQAPACYAMQAyACoAFwAPAAEA9f/1//f/+f/+//P/3//a/+b//f8HAA8A/v/e//D/BQAOAA0ABgAAAPj/9P/c/9H/z//l/////v8JAAUADAADAPj/9//y//n/8v/v/+L/5P/+/wQABAAVABQAEQAaAA8ADAAWACsAOAAyACcAGAAHAP7/+f/0/+//7v/5//n/9v8AAAoADwADAPH//P8HAAEA+v/3//r/8v///wcA9//q//r/DAAXABwACwAGAPf/4//V/9z/6v/m//T/6f/u/wMA9P/o//j/DQAQABEAFAAQABMAGwAPAAMAAgD9/wYAAwAJAB4ADAAAAPj///8OAAgABQAEAAQA7//c/+P/9f8MABgAEAD1//X/AgAFAAkABwAMAAIA+v/2//f////x//f//f/z//j/8f/y/+3/1f/m/wQABAAHAAQAAwAOAAgACAAHAAAAAQAFAA8AGgAaACMALAAdAAYAAQAMAPr/6//t//z//v/5/wcABwAJAPr/9/8EAPr/9P/8//r//P8NAAUAAwAFAAEABwAAAP//+f/9/wAA7P/q//j/9f/i/+D/1f/g/wEA/P8KAAUAAgASABIAKQAnABsAAAD3/wAA8f/1//n//f/+/wMABQD9//H/6f/s//L/9/8BABIADwAJABEAGAAZABUABgD6////AwAeACwAEAAMABgAGQASAAkA8v/e/9X/4//7//f//v8EAPb/8v8BAAYACAASAAcAAQD7//P/7v/o//H/7/8BAA0AAwACAPb/AAAUABkADQDs/+r/8f/g/9j/5P/l/97/7v8EABUAHgAnACQAGAAfAAwABwARAP7//f/5/+z//f8FAPz//v/3//n/8//o/+3/7/8OAB0AEwAcABUAFQAOAAAADwAQAAsA+P/7/wkAAAAEAAMABAD7/wAAAgDz//D/7//r/+P/8f8EAA8AEwAVAA4AAAD9//v/+f/1//X/8//z//T/5//u/wIABwAQAAYA7f/b//D/CwAMABMABwAEABIACAAAAPv/+P/2//P//v8BAAgADQAMAA0AFAAcAAUA+f/6//X/+//7//b//P8AAPX/+v8IAAQACQALAAIA/f8DAAAA+v8AABAAFQAUABsA///w/+b/6f8EAPv/8v/1//f/+/8FABEAEAD0/+z/AAACAAUACgAJAAIAEAALAO3/4//k//X/8//3/w4AEQAZAAwA+P/4/wAAAAD1//n/8f/3/wkAAAD/////7P/8/wkA/P8KAAQA9v8AAAkACQAQABsAFwALAP//9v8CAB8AEwABAP3/7//v/+b/6f/z/+//+P8FAA8AGwAWAA4ADQAIAAsAAAD4//n/BQAHAOv/7//s/+b/6P/t//P/8f8IAAsABAANAAYA9f/7////+v8KAA8ACwAcABwADwADAAAABwAGAAYA+v/z/+//5f/n//L/BAAEAAgACgANABgAEwAPAAkADAALAAYADQAGAPf/6//s//j/+v8BAP//8/8EAAwAAAAKAAMA6//t/+n/7f/t/+b/6//u//b/AAAGAP7/9//0//X/CQAJAAoAGQAMAAYADwALABEADAAAAA0ADgD9//H/4f/h/+z/9/8FAAkABAD0//D///8KABgAHwAdAA0A/v8EAP3/CAANAPz/EQAEAPf/+/8NABYABgAEAPD/+v8GAAUAFQAHAPv/+v/z/wIADgAQAAsAAAAIAAUA9f/r/+v/7v/3/wIABQAFAP7//f///////P8AAP3/+v8DAAQACwD9/+7/7//d/+P/8//8/wcAAwAFAAwAGQAPAPj/7//u//r/+f/w////9//x/wUA+f/7//P/6v8EAP////8NAAwADwAbABIAEgARAAIA/v/x//3//v/8/woAEAAIAAEADAAKAAsACAALABIAGgAYAP//AQD9//f/+P/8/wQA//8EAAEA+f/z/wEAEQAKAP7/9P/1//T/+f/4//z/AAADAPz/8v/y/+//8P/u/wAA/v8AAAMA/v/6//H/8//y//T/+P8FABAAEQAIAPv/+f/+//r/9/8HABcAEAAJAAUA/f8FAAwAEgAVAA8ADwAPAA4ABgD7//b/8v8AAP7/+P8EAAIA/v/9//j/3//c/+b/8P/9/wEABwD5//H//P8BAAkAEQAHAP//7v/s//b/AAADAPX/BgAGAP7//v/z//7/AgAEAP7//v8LABEAHgAQAPr/CQAcABAA///3//P/8P/8/wAA8v8EAAoACQAdABUAEgATABMAFQANABUAFQAOAP7/+//3/+//9f/4/wsAAgD6/wAA/P/0//f//f/8//r/8f/v//P/BAABAPX/8f/s//j/+v/z//n/+v/6//j/+f/2//v/BQD7/wAABAD7/woAAQD4/wMA+f/7//v//P/+/+7/+P/z//H/BgAGAAMAAAANABUABQAQAAUA7//0//3/AAAIABwAEwADAAQACQAIAAgACwATABAA+f/y/wMADQAXABMABwD3/+z/8v/1//3/9//9////9P/+//7/+P/7//j/8v/2/wEAEgANAP///f/y/+n/8f/4/wMADwAVACIAFQAJAP//5f/m//L/AgANAAYABwANAAUAAAAAAPr/8f/0//n/AAAPAA4ACAAHAP7/+/8BAAgA///5/wUAAADy/+b/6//u/+r/BAATAAgABgAEAAkAIwArACgAGgAHAAUABwADAPv/7v/q/+//6//2//v/+v/z/+f/8P/y//T/+v8DAA4ACQD///L/6f/v/+//6//9/wYA+v8HAAYA8//5//z//f8FAAsACAD9//n/AQACAAUA/v/y//n/AAAEAAcACQADAAEACQAOAA0ACAAGAAgACgAIAA4AGAAXAAsAAwAMAAoAAwAPAB4AKQAnAAsA/v///+7/8P/2//L/7P/r/+v/3P/o/wUADAAHAAoADAAFAAIA/f/w/+D/2//h/+T/8//8//j//v///////P/4//X/AgAPAAYAAAAMAAsAAAACAPj//f8UABEABwAHAAsACwD5//L/9P/6/wsAEgANAAMA+v////7/+P8MAAIA8P/v/wEAFwADAP///v/+//r//v8EAAAACAARAAYA/P8NAA4A+f/z//v/AQD1//L/AgAEAAQAAgD6/wAACwAIAAsAEAANABEADQAFAPr//P/8//n/BAADAPf/7v/o/+3/AgD///b/+v/+/wAABAAIAPb/7f/z/wAACAAQAAUA+f8GAAgACAAKAP7/+P/4//j/+f///woABwD+/wAACwASABQADAD9//v/BQD9//v/BgD9/wEAEQAVAAQA9f/t/+v/AQAOAA0ADAD9//r/AwD+//n//f/1/+7/+v/9//X/8v/o//f/BQAAAAwAEAAJAAIA/P8FAAoACAADAAIA9f/x/wUA9f/z/wAAAAD5/+v/+v8BAPv/9P/6/w0ADAD+//r/BAAHAA4ACgAAAAIAAAD8/wAAAwD//wQABgAAAAcACgAAAAEACwAAAP//+v8CABcAFwAlABYAAQAHAPz/7v/p/+3/+v8AAAEACAADAAsACgD7/wQADgAFAPz/+f/6/wMA///1//T/7v/1//3/+v8HAA0A/v/t/+r/9f/6//r/+/8CAPf/8v/8//z/DgAOAAIA+//q/+X/4//l//f/BQD//wIACwANABoAFQAOAAsAGAAbAA4AFQASAAgAAAD9//L/9f/7/+z//P8LAAoACwACAPX/9P/3//n/AAABAAYAAAD7////AAD///3/9//5//n/9P/6//z////+/wEADgADAAYABwAHAAwA+P8AAAsAAAALAA0ACwAFAPv//f/4//T/+/8BAAUABgAKABAAGQAZAAAA9v/1/+b/6P/r/+v/9P8BAAgA9/8AAAgA9/8AAAAABAAMAAIAAgAAAAMABwD2/wkAEQD7/woACwAOAAEA7//+//L/+P/9/+z/BQALAA0ACwD0/wEAAAD3//D/7P/2/+f/5v/4/wMAEwAeAAIA+v8BAPv/+//q//v/BQD0/xAAGQAiAB8AAwAZAB8AFAAFAO3/EAAmAPb/5P/k/+j/+f/v/+j/7f8LACIABwAAAAcACwARAP7/9f/8//3/AADs/9v/9f/1//f//f8HABQA+v/0/+n/7//4//j/AgAGABoAFAAJAPn/9f/1//P/BwAGACIALAADAPz/CAARABMAEAAHAPf/+P/6//j/BQAVAAoA8/////n/8P8AAPX/+v8LABwABwD9/xEAAAD5/+//6//0//L/8/8DAPn//v8NAPj/+f/u//j/8v/l//z/8P/7/wAA/v8IAAgAEwAMAP7/AADz//n/DQD+/wMABAD+/wsACwASAAsA///7/wQABgAIAAYA7f/v//L/AAAIAP7/BgAIAAQADwAPAP7/AgAJAAYA///n/+b/+P/2/+z/9f///////f8IABUAFwAdAAYAAAAJAPv/DQAMAAMADAD8//L///8EAPX/8/8AAAUADgARABIAFAATABIA+//x//D/7//y/+D/5v8DAAgA+v/0/wsAGAD3/+r/9v/5//T/5f/1/xcAFwAJAP3//P8LAAEA+v8IABQADwD//+z/+f8VAAcA/v/2/+v/+v/d/9j////7/xoAFgAHABYABAAGAOn/6P8AAPL/+f/9//j/AgAHAAMAAAAFAAgAAwAPAB8ACQAJAP3/8v8MAAQAEAAOAAsAGQAUAAgA+/8FAA8ACAAFAPz/8f/5//j/5//W/+f/+P/7/wIA/v/6/+v/8/8DAAAACAADAPb////4//n/9v/v/wMA/v8BABcAAQAQABQA9/8OAAAA+v8EAPj/+f/+/wYABQAAAP3/CgAZAA0A/f/8//3/AgAIAAwADQAKAAYAAAAFAAkAEQAJAAAADAAPAAQABAD4//D/AwAGAP7//P/7/+3/6v/l/93/+P/4//j/DQAIAA8ABwDr/wMAAgDn/wEABgD1//T/6v/m/+7/6f/p//j/GAAeAAUADgATAAUADQAVAAcABwD///T/6//s//3/6P8AABkABgARAAMA/v8MAAgADQADAAcAHQALAPn/9f/2/woADAD8//v/BQD///b/9P/n//L/AAAJABEAHAAoABQACAAPAAIA+f8AAAcABgABAAUA9f/u//f/5f/y/wAA8P/7/wAACQAMAPb/+//6/+//+f8DAAgABwACAP3//P8EAPv///8JAAAA+f/z//L//P8AAP3/AAD4/wcAAwD6////+/8XABAA+f/1//P//P8JAAoACAAUAA0AAgAIAAYAAAAAAAAABwAOAP7/9f8EAPv/8f/5//X/AQAHAP//AAD9/wMABQD2/wEABAAJAAMA5v/j//X/BQD5//f/+//4/wsABwABABIADQALAA4A+f/v/+z/8v8AAAUADgAHABgAFQDr//j/+v/0/wgAEgAfABIADgAWAAYA///r/+j/+f/1/wAA/P/n//j/AgACAAsABAAAAAQA//8HAA8AEwASAPr/8f/+/wsA/v/u//v//v/9//P/+f/9//z/AQD0//T/9v8EABEA+P8AAPz/9v8FAPH//P8HAPr/BAANABEAAQDw/wkA+v/w/woA/P8GAAYA+v8DAAAADwAGAAYAEAD8//3//v/t/+v/AAACAAkACAD1//r/AgALAA0ACgAGAA0ACgAIAAYA8P/w//X/7v/8/wsAAQADAAEA+f8AAAUAAAADAA0ABwAVAAkABQAKAAgAFwAEAPP/+P/z/+r/8P/u//T/8f/t/wAA+//3//z/+//6/wwABQAIAB4AAwD7//z/+v8CAAsADQD7//3/AQD7/wcAAAANAAoAAgAIAOr/7f/x/wQACQACAA4ACAAYAA8A9//z//T//v8IAPf/AwAAAPP//f/w//X//v8EAAYAAQDz/+//7f/2//z/9/8DAAkAGgASAAQABQACAA0A/P8AAAgA7/8IAAIA8f8BAPn//v8FAAcA9v/1/xAACQD+//n/+f8FAAwA+f/6/wQAAgAHAPH/8/8FAAoAFwALAAAA///3/+n/8f/+//n/FgAVAAkAFQABAAEAAQDw//f/BAACAAoACQAFAAsA/v/s/+f/6f/s/wcAEQAMABwAGQAJAPz//P8GAAIA7//4/wEAAAALAPv//f8LAO7/7v/m/+P/+//t/wAAAwD1/wgABADt/+n////s//H/BgD4/wEAEgAIAAsAHAATAAkAAwARABMAAQDy//T/AwADAA4ACgABABEAGwAYABkADAD+/wsAAADv//7/AwD7//P/9f/5//X/+f////3//f8HAAQABAAEAPX/+P////L/7v8AAPr//P/2//f/BwAEAAcA/P/4/+7///8JAPj/CQABAPn////x//X/6f/q//T/3v/t//T//v8QABMAIgAjABoAEQAQAPr/+P/+//n/FAAXAAMAEAAIAAIADQAMAA4AAAD5//z/+v/4//7/AwAAAAkABgD9//j//P/6/wkAEwAEABUAFAAWABkAAwDz/+3/6f/s/+//8P/9//b/9P/v/+z/9v/4////+//w//7/CQAAAAkAAQD2//P/7v/u//r/CgANABYADgACAAAAAwD5//L/9v/y//f/+f/7/wAABAALABsAEwAYAB4AFwAVAAYA/P/0/+3/6//t//P/CgABAPb/+f/w//7/+/8CAA0ACQAOABIACAAAAAoAAAD7/wEAAwACAAAA/v8AAAoADQARAA4ADgAcABsABwD8//H/6P/u/+T/5f/m/+P/6P/k//b/+f/z/wIA/v8DAA8ACAANABEAHQAUABAAEAD+//n/8v/4//H/3//r//j/BAAEAAgAEQAGAAoADAATACUAEwACAP///f8AAPT/9f8BAPr//f/5//j/AAD5/wAAAQAGABIAAQD0//H/7P/n/+H/9/8MABEAFwAEAPf/+f/4//b/AAAPABAAGQAMAAQADwD+//X/7f/l/+7/8P/w/+3/9P/0//D/BQAIAAMAFAANAAkADgD//wQACQAEAA8AEwAGAAEABwAFAP3/8v/+////AAAXABgAEAAEAPr//v8JABQAEwAKABEACwAIAA4A/f/2/+7/9P/1/+j/9f///wUABwD+//X/9f8AAAMA9f/y//T//P8EAP7/BgAGAP7/9f/h/+7/7f/g//7/9f/t/wUA9//8/wgA+P8MABEAAAAEAPr/8//8//b/7v///wIA/P/4//b/8P/5/wcAAAALAAcADgAWAAoAFgAIABMAIAANACEAEQDw/wYAFgAXABIAFAAPABAAIwAPAA0ADwAEAAMA9f/1/+v/1//o//f/8//2//r//v/7/wUADwAMAAoACQANAAcA8v/y//H/4v/h/9n/3v/p//T/9/8AAAwADwAQAPr//f/9/+3/7v/r//D//v/9//L/8P/+//L/8v8BAPL/+v8AAPb/BAAWABkAIAALAPX/CwAPAA4AHAAJAPT/AAAHAAUAGQAjABkAIAAVAAAABAAMAAwACwAMAAYA/f/0/+//8//2/wQACwD///v//P8EAAEADgAaABMAEQD6/+r/6v/x/+//7//p/+L/9v///wAAAwAKAAwACgASAP3/6P/2//D/9//9/+z/8P/p/+//7v/x/wgAAQDu/+n/9/8BAAoADQAYABYAEwAMAAIAEAALAA4ABAD+/+7/2//u//n/AQAAABEADgAUACIACwAIAPr/8P/7//r/+P///w8AEwD8/wIACgD7//f/9v/8//X/CgAdABMAEgAAAPn/7v/m/+//7f/r//z/AgD5/wAAAgD8/wIADwAWAAYABAAHAAcAEAD///z/BAAAAAMABgAAAP//+v/x/+H/4//r//P/FAAPABUAJwAdAAcACgAUAA8ACgACAAsA9v/2//j/4v/o//P/9//q//f/AgD9/wMADAD///3/CwD2//X/9P/v/wkAFQANAPz/AQD5//n/CAD4//r/CAAHAP7/AgD7//P/8//q//f/AgAJABEABwD0/wQAGwAIAAQABQD5/wEADQAQAA4AEQAWAB0AIgAXABMAGAAHAPv/9//u//T/CAAZAAAA8f8AAPv/9f/t//D/+v/g/9b/4//t//////8IABgAFwAkACAADwANAAkADgAEAPr/EwAIAPD/7P/W/83/4f8JABIAAQD///L/9v/1/+X/8//8//f/6f/m//L/+f8AAPD/3//3/wsAAgDt//T/EgAKANj/tP+a/5b/tv+s/8j/+v+3/7D/9/8DAOf/jP8r/27/0f94/43/6v/q/2gA2wC/AIcAIQDN/zcAbgA2AG8A7AAtAecA9v88/5b/zv9sAFoBPgGOARoCFwEj/1P+b/57/6MAZP8b/mf+if93ATkCbwD3/nT/d/+7/xEAif4U/jgAYQCi/jD9Lfz5/aoAuv8T/a/9iP+K/1D9hfp4+qb/GAPCAZkCgQKHALIAggIZA9QB//8i/1EBa/1Q9csKRDL8NCQKhdk82GMA2wrg6B7dfQeiMX4eldYypWzMRhRbHDvqdL4O01oZGDlDGOf3VQUXNBRQ7jIoAYb/DCJ1Ljgepv+A9sETjiTYDpPsP9a545QEhv0j0mLMI/nyGAAIENIdv/rvaglp5sPJwtVp/isO3uRLvvjPdP1MHBQnvxAL8dTyewsQGT8FbuZG/8lJyWt2QBT6+/wrMN41QA+U6QP3YSukNSAOLAFX/dv4PQmZAb/az8lXvgfCpurm0UWqxskd6YDpB+kF1Ibhzx60F14BrRykMIdFeGdQWMdRomP4VsBSzkhYG/IDkhc0EAP2ENePzTXu/fYJzQKtQbYHxbLEJqUQj1Ch2r3jywHNv8a8yLreoO7v8Gj0B/UU+7gNTgid9yn5jgshLGFDFjW6H18nfDT5Ot8w5iB3MVpF3DThKWQ6KUiNO2IrvynHNXcrYf5p9+8KShMR/IThxuSH7L3sE9874DvoYeMn29DkMvlN5oHOGtzh9NcBDvUQ8MUFARCv/ZftTPAs7bvqiugv5ifquOXx4k/jyOAv4/XoLfDm7zni8dpL55bvQO1s7gz8zxU0IxwZxA9DGHsYXSGNKJceXigCLocuiCjIFv8WDChLK38gHx1WG94bVRA4/OYCQxIIE5QJNAABCyYPafzc7kTxy/Zz8z/r5+uO85bjYNVv233fWOQj6Tno0+tj8pTrvPJmCHoTqR3dJrYr2TCwLkgqLDG1L14elBKaEj4NsfU+2xHPusVgsV6gxJn3mXKadZLEkISYKZ5CobmnT7PHw5PWbuYv9xMI9xfzKAJAbFMRWppkw3DMcmlxt29gcTZ1ynDaa3FnsWFzWStQwEfhNsQp5x9SEq8DHvWK51PZMczywWC797LBqXug5JuQms2Xfpa1lkedAqOup8SuUbe1wazIRtZp75kHtRaYIaowqUMuT09R3lZUZHRvjWtrXd1QPUywR+83Jx4GBOfuqNvKxh+x1KJ/nzqlhafkn+iYhqACsmm8pb4lxyzc1u5D+jIDPhXGLtU+DUT5S0JdlWpsbeJqj2x1cBhuOWflYXVgoVrETgI+6CvYHocVyAyg/ezpCtr0z37DI7JAogSaj5e2kpGQjY0KjMWRK5hsm3GdPaZytQbDp8wv2HznJfjhBT8Rfx5QL9I+HEjITahRAFZfWXtZoFhMVixSukuuQiw4pi+RKdEhlhhlDbIDXPzr+s/8Hv/E/pf6kPjk9k72CvR18370Wvjv+NbxXeh75O3pJO1G5lXWUMuQyIHHecB9uRa7gMOJye3G4sV4z0Tj3/ML+VL4xP7nDHIW0hh7G3IlJzAkM1Qx9DCQN2BC/EvETdVJC0i7S15PyUj0PJk0djLNLA8gFhCLBCD/5/nH8PzhcdVrzkTKE8GXsgWlEp34maGVnY6jijyOn5YdnkKkD68nwDbSN+As7Gn5PAl0GOAjGCzDNZVBHE38VPtZ7186Zh1rmGoXZ5lhE1xGVOZIETo7K94fJhS+COD7EfIO7UfuuvD+8sH1dfni/g4Aev5R+hf5F/n/9xPxduVd21HV9tKYzlzHtr5aueS0RrB5qjKpEq1cscmyj7N7uXvErtJd31fs3PhHB/sU1iBdKhs0+T5TRs9H+UQbRqlKNVB8UbBQvVC9Uz5XV1h0V2JVVlRXUWtJqzkyKEsauBBpA+Tv6tyf0BbJ+b48s4ypw6Q+oQyciJSWjkmNTJAnlCyW1ZlOo76yKcJuzzbeKvIwCPkZPic5NXRGfFZ8YJRka2eqa8FuhW0MaLti/F5iWvtP5kBGMuMmGxzpDH37i+v+3/nV980nyWfJgc1L09vZK+CV5/ju5/Z1/N4A1AJ4Am3+ufc88WXrheQm2lHQKcieweS4WrEYrnqwbrSGtwa8ZcNczn7ZqOTH7238Agi+EZAZnCB5J/gtyjN+OIg83j/FQm9F9EixTZpSKVZzWcBc9F4bXQdZTFTeT5tIjz2rMAoj9xWECEf7cexk3onSLcllvi6yTqh/ovKdJpbajRuJBooYjWOQTJVmnnerIbpcydvZL+zg/10TcCV1NX5ES1O4YMdqiHAfdP92mnhadkJwLmdIXCVOSTzZJ6oTvQGV8SfisNMMyJq/S7oZuK+7pcPHzZfWDN+N5ozriu307jD0jPpR/iH7SPVw74frd+aN3yHZUtS0z+/F97kvsYqykbnhv+jCU8dK0oHiefR8BbgXhSrWOZxAOUGIQoFIJU5kTZVF3DwHN2M0mTLPMTU0YDl4P8BBpELuQ75I20rMRuI8lDK4K5Ak1Rt+DlsBgPS66ivhZ9jy0bfOA8zPw7K5c7Jds0+2yLdsto616bY6uoy/18W2zbPVidxc4Gnjeenq8wT+VwNsBPMGbAyZEqUWuRn1HAUfkx6ZG18Y+RR0EroOkAmuAqf9FP1T/1QBcAFrA+cJPBW9ItgvGzqZP8Y/dDuTNAwujipPKQMlXxpHC2r9evIe6TngcNhg0WPHWrpirgqrEbBMt5O6Krsev9zIwtYh5cDy0P5KB+4JeAibCO0O3BeNGwkX1RCtDxMTHhZtGFIctyD+IqYkkSsYNwtCd0azREk/Qjr7OD06mTr4NcEtOiL4FOoIYgIdASD/R/n170LmPNwf1BPQ7M/6z9/N9MuRy+3MRs5ozxvPc818zLrN9c+70TDVStta4d/kvOhS8GT5j/8jA5YHXQ0LEZoRDRBuDgkNOQz/C34Lzwv+DAYPdQ9DD4wQeRSuGncjEDD7PKFE/0LDOgAwFydEI0YlwikVKhkj2BVlB0H8g/bZ89rumeQ51uTIysDDwKjG+8txyyHGp8NVyIHSzNua36TcV9XvzSvKJ8sxz8zS29JU0JfQ8Nh35/X1nQDeCQIUvSDzMGFFwVhYZChnOGZ1Zklo3msybtZtTmlhZJhe51Z3TixI00J8OIkqMRzFD/YBvvSg6jbjQNoQ0BDH/b70t72y+6+JqtShn5nOlaGUe5aFnReoxLBFtme8W8WM0EHcV+dB7n/x7/Rj+lz+TgD1AQ4D/wCh/ST/DgZHDZAQUhLsFCcaICQAM/ZAuUYwQsk3sC2CKFwrpTUiQuRITkcIQWs8TTwoPqM9HTcYKcwVlAK29sr0Lfib+cn03OsH5ZvlVOtA7wPssuFq0rjBkbNVq12na6KZmyyWw5WGm6und7X7wGPLcNmX6mz6QwkFHCcwHDuBPCQ9aUHiRSRJ70xZU+9almLRZr1i81dmUGxP30sHQkI1DigMGaMMrQgRC9EI5P748pjooOB23JPZ4c5+vSqvPqnrpTek8qeGr420xbdPwNDNi9n34PrnZe3t77XxMvPM73zpl+Ws5TPomuzM8+z65P5nATIHjw2LEkEbhim8Nko94zq4M0AugStWLNQyCj/7TD9WG1VKTVRHrkQ4Qec3mSUlD5z6buor4ETc4tyB3eXZ/tIW0RvWDNtW2vTQ6MEgtBGqyKSkok2gyZ4hohSqm7UmxS/UxeA97Q79WRHiI+0v/TvSSsVUdVXeUotSR1PqUpFQq1FuWAtiKGjHYU1RP0TvQBI+YjP7JEcYIgwIAbv7Zv2c/cj3mu7A5DDcTdUZ0PjE6bL9owOdpZvVm0yfqqaUrsG2n8BFywXR+dIx17zbn95/3/neWN1G2gPajN3j4ZjmH+2s9ST9YATeDTAYByETKIg0X0duWDhhWV2UVOVRiVQnWsNi7WuYct5ztmr0WUdNTkQyOd8negy98T7gIdN1yrXHTsatwmG9K7d0tG+3ibiStVqt5p/olESO24qNi8WOF5VXoSuwur8Ozs/ZO+mc/mgUuia8MwY7W0fhWdlkL2feZJxeOlyyXEpcXWOJbrdz33DCZRFV50wBTH5CmTTzJTAY1BDtCY4B9vzK9mnr49951RLM7cWmvV+uIKGTmaeZI55yn9GhQakntAu+tcVmy3bPTtP/1nHbFeAY4frgS9/f3a3g3eQ97Az0Kv1QBxUSfh4SLdU79UC+PVU7bUX8XelxSXQubSRja1wNVG1HKkFTRdFMwEqsPGQjfw8/Bbj7evSP60rdUsvxtaantK25uqq7EK7/nZqXJ6Lorn60gbgUtxmyi6vopTGnQbOnwZ/L5NPq3YfpuvaaBUEZHDCxQOBIi05EWoxlzWllZ7NhI2CoYcReC1r0XDNmcW8FcG1iq1B6RlM//jgqNQkwIyirGfwEcPUl8X7tGeVN2enJwL0ttq+uY6iWpuKkjKDvmYWUIJsMqkuzibTYswq0Lrc2vGPAc8agzNHOfdAN1PPYKuI768DxkvsMCgkZ/yTwLEEyIDsHQbg/dj0PPlhHgFtpcGp4RXHCXehHPThXLUcozC5eNy00PyPvCsr7E/2oBZ0HiP0+53fPGMPfwbfIbdHB0TjILL5nvWvJH9gD3v7Y08xQv4u3cbZ1t7y5cb2zw0vMkNM/2p/iTOw0+WwJUBelH+UkDStON4JHolL7VPBRnEwJSSRJFU19VkZggGI+W0pPzUX0QwNGbET7Pdo0ZSlCHbUSJQyOCWwElflT7LzgjNld1kfSJcgQuhWtCKQ2oImfyKAwotihKqHaoo2mDakqqm2rCq0Tsd24gMHGyYHS/9wp6u35PQmDFngheCgqL643RT5gQf5ABT1cOGM0IjJTN2JFJlV0XRpYG0mEOgAvTybIIrwk0SxBNnY2My3GInUdMx5/GzYN6fk450nVBsi0wGG9kL2ivHi5s7r9wIrJzM/hzFXEx71ouG2yQ676rYuzMr5byt/VyN3N4orrkfrfDawi9THKOGM76T+jSMFQNlNPUdpO5UxlThpVKF/uaf5x13Lgaxhh7VaWTgpGBjv3K9sZ3gbj99rvy+oW5cDehNaGzJ7DhLvXsvmo9J0jlRORqI+AkDmShpEWkX+TQZcwm5CfQKc9tcPGRdd15brvK/c1/nUE9grbErUaPSKLKL4sATFpNc05+j5bRBhIIUoiSjdIRESMPFgzoS2HMkRDHFb8XxRf8laITKk/nC89JhgpKDHxM8ApuBNRAMb0jex05PjVaMDnq22cKZaknXmn5aqNqMCiM6KzrDa5N8Evw9a83rQUr7CqZqwytvXCZ9Jj4XnsyvVD/SIF+BH5IawwMT2NRflLH1MwWVZfXGfKbrhyW3E3bbttsXPTd2B0C2gJVj9E9TQvKFYe/hQgCTX6/umE3W7ZcNur3OHYhc+XxN+8tLirtTiyK62ep9yk+aUIq3WxjrSSs1SyErLgstW0lbc6vM/CX8rn0rjbtOE35qTtsPk7CAYU0BkfHDcgcSdJMEs4wzxBPhA/XT+HQCtEHkfORpFDmj43O3I70jxHQUJKIlGMUZJKuD63M/MoAxoBDi4L1A7cEvIOugKn9qDteuXp3v7ThsT+tleu5qv6rLSreKk/qiqsu7JPv9nMDtYc1lfNh8VrwqXCJcd1zAHSGt2w7hEEGBiQI/UqtDXLQgZN6VMtV/RZ11zSWk1WhlPLUplT8FNKTkxH/0H7PeQ5xzKPKEMfExmcEEUHP/8J+f7zHe0g4zPcpNdM0ovOWsojxcm+iLoxuoO7Tbj7sBys+KoTrAivTrJntRy5Or0wxTnNodTE3XXnifDe9mT9gQebEXAWCRc6Fl8Y2hyeIJki1SNjJcwnOyuSLvg0jztlPkQ8Bjf8M8Ez0DLkMBUudinQJeIkrCzbPPZJiUzQRZM6BTAhJR0Xbw1lCm0JjwioA9n4Be3l3+PTXc3FwgKx/pzBisCCmIR0iWOP2ZYuoKuu9cKh1Y3jLe088vT3cgD2BswOKRWuGt8lJTGtN7c1hzB6L5U1qD2OQRVD6kIgQWs/+jonM+0qMiDrGSgXQxZwFsQSfg8KDaoN6xDqELANQgau/Vb5HfX18ZXs0ORh3z3bl9zl4AbiTd7S1j7Tc9V815LWa9Cby0zIEcbGxlrFqcZpyKXKD9H71hzfnOdb7T71ePwZBs8NUA3bDJ4KHg2rE2cWWBztHzEhNyQjJGcoNS7wL0oveCrlKHQpACjmJ0kmtSZFJnEgxR5fH04jnikOKwktvi2fK8EpaCQ3HlEXtw0uB24AUvu99h3pktaQwHivl6mmoyucfZKciXCJGY6EmiutzcEh2hrvEQWqG74r+zhPPPo6FTwaOXM4kDH3JBAekBYRFAwNtgF5AQAEaQ20FlMa3yK/IDUbWhupHQIrsi6gKw8sNCqaL9gt5iiVKNkiYyGXG1ATFRHOB/n9uu5b2n/O48Ntu2iyp6jSpuSmI6Zhps2q3bZiw//OltsN6UT1yvsm/sgA5QRTBXACHPrh7+/mb90T2YPV5NG7zwPOO9Hn2D7lgfgqCiUXzR+UI28pJTBbNypBqkhiS/5Ng0/cVXhhUGVPaB1nJGQcZJ9ZlVBXRH0yiiV6E7wM2gusCbINQAdsBN/+RPFj6qDhGOSM5mvgRd/f1GDKl8DMtDC0eq6vojeW+YiYhpOMJpR9nnyvLsRv2F7st/6aGAsuOTMAMtkmICPGH10XbBfVFb4f4SB+F9MXVRS4HRIlXyYSNcI1jTabNRgrlDFEMZAxijEvKaUwKDNwMwA0ei/fL38ldhrRFKMNvgpS/+7w/OPh0u7FvLW+qaKpH6pDq8aqV627s5y2X7iWumHCb8zU1aPd6d+Q4/jll+Iy4BfgF+Bx4F3ffeR274j0O/eL/SUGRhLrIm80EUdKUp5Wc17tZGVruGxbZV5gGlqcVHVPqUYbRLI7eTA/JtAXXxIQCdz9HfSU5drfg9gzzs3QL9p/5gTuv+lW6uDpouJw4BLd2d8M5UXf/tefzU/DHL1TtLGwzrOttc+0a7JcttLBUM8E3n7q6/rmDJYbcSyAOOxDzkmrQJg3iDBvLAQtIC1rND87pTk/N6cyCy4BLKIqeitxLEwqSSW4G/cSLxMbFs4WthPNEvwXlhW2D2IH3vk67xrcPswsxnm+Br32tYeu17AksaGxxq+WsK26GsVwy4HNZc700XLY9N1n4SHpgfSp/TkG8g2FFm0dCxxnGjMZYRiTF+YUURKBEEMTTxSkFl8VPxazJE0vUzelNw87DkdaRtRFOkChPrFAhTP0LrEoCyY7JngVCgt9AP78Iv4c8cfud+5z7H7pINWzyx/Nwti46cXo9+938WzpL9nIwsLIL9Ea2CPcb9c032PjSN9I1p3RptoT3lLX2M/Z0Wbened07Tn57A+KKlY8TEj5UtBb9FyXRncp/hkEEOELGQTcBqsWKxyPGhUMyAVKDbkUGRuvFNsSQBf2EHIGAgL6CLMPpgjOAJr9WP8tAf72OOya5wTq+uch35rd/uOq6fPl8t4X2DjS4cwkybvKetIa3TPj8ORK5zvssfA78Prw7fhWAqoKMg5tFtMemh1xGKEN4wYfB9MJRgq5DCARCRKFDrgJ3Q8xG9AlcipuJ88kQSOrH7MWIRPuFkIVShQuEZUMLg2vDY8NFAZmAjv/8/bR84vrceg76tLmSemP41vf7OTb610AIAaQCwYRgAWKBHLzl+tC9tD00frr8WzmIOli4bLdM9Xg06Teitgx11XUHdYO6HTwPvvaCFsc+TUMOrQ8Iz1FOn43biI2GNcKJgLnAMH2qAB2BvwP9RXtD40aRB1kImEl6xpvG3ET7AxFC4oCRwqjCjQG7QlVBWEIkAO39UDvHOo96gzjsdqR1ajPgtBd0S/SUtOn18LZmNRG0GnVvN9l5d7mqOi276z0mvjX+qT/yAdNB/IDHf4P+yD8h/uc/JT/GQXOCvkRaxJgEuMWvReIICgkPSoqK80qXTM5KSMsbSmCJSArwR8RJGEsMzQ8N9srQSUgGKsNGQXA8AbvAOql4bHdCM721Zva2OCa6Wfx/QzfDRsL9ADC62LpptQvymTOOc5x1orLVMoO0E3P9thF0l3VN9xv1+jd9NoA5bL7/ANjE2QYXyxxRxVHk0tCQ/hDgDfQFiMM8wDJCmcLwQOwEKYWTCVbKZIjkyrbKf0oRxznD3QT7g7CEmYQtg0UF4YWExRnDRsJ8Abf+r7p6Ny41wzVa8+iy1XLQcmGy3zL48gczqnRVtOZ04nRWddo27Lg9OZC64L0Rvo1/1v9U/yDAF4CkAAx+UT5QP5IAMcBkgi4ETAYQx1kHs8iCywZK4gqJS/VLPwoXyngKncouS7CL1Ys8Cb0G78gwiOGIDoO//6z/avux+A/1ivXrd9I1w3Rr9FBzy/b5uEa8FAQ6BybJ1Qj8xTBDND4IfR08Ynsw+3J3vPZ1NYu0mjWXcUewTnGi8Va0ePQ1NU35Un5PhCzHuA27UUxTidSy1V9X2VLhjb3Hz0SHxjjCvAMiBI+Fv0ZbQ1+FW0WgQrcBlr4qfmH/Bn3n/33++YFMBLAEnEXYBcZFsQS4wu4AbfyeOUq2eDEjrkbvHO+Tb2UuAa88b/+vz3C8MhI08neN+cw7KL3CgVbEKsS9A7tE4cZaBjiFUMSSRXbGHsWrBF2CxQQTRGvDicLGAwRFZcNawluCooS2yIwGgIZWSGBGzccXBV3FdokCCp5KM4fiBbTE9gIH/Sa7d7mSN85z0S/IcLduF/DIsOUyCnk5vKIISgr8yovQnUx7yDjCmr7zAhWCZ//cfW09If6CvT+6wnZNtSg2BbHWb6QuzbHvdxK780NNC0RSuBakFu/Wn5YO1JpPOIe/AtUBIIHD/7r/lAOgRNzGYwUohPcEeYFmPes5hTfjuAZ4xvn1vEU+lMHgQxECFUJLgcMCXcD/Px5+3X4GPf54lDUC9Tdw3G8ALY7sQy5Kbazv93TpOLv7yb4LgEpEi0bQyE9ILcUBxwEF+0RyhSeEbUduB2VFh0Wlw1MCdgA+vC68pLtP/YK/dX3MglZ/vIE7QvhAq4IKPkBAxsSchZsHSga9R5RHgkWORHCC7QM4Q4pAXHwhumH5ivdZtjN2DPsUg00Gns6J1dIVLNFtSftFdkHQ/N75bfkDfHo6ojcpNcmy6HKLMM0tny+ob2sxLLJgMYJ1yT0yR54OgpI6F5ObcBmPUqPNpI1Ah5HAkHwSPImE1wUfhMHGqUWeR/xB4L0uPIJ8vT8sfUV+8MKcQ25E+sLRgNmCbsLIQqf/DvzO/Vq8cHsouUU6pHt9doBx3TAjr6jtwCw06z4s4DEZ9SU3v7xVQTwC84RCQ/VEsQa1xd9EsERARDYEGkTmQwqB7wGrAPmAW38TPPl8zT44f1O+7sDXxGDFGok9R4sIFsmdRWTECYOTB9DL8YnciPrG8EfXBqmDCITxQ42DnMBLPBv5VTbW+ZU3ADmefLlEYJKPETcN84hkRD+BtPf4s4g1Sjk3OBzx3PC88fSynLBxKptpxytnLqxw9vKT+caBusorD1tTuJqnHcSbiFVaz9IOJon/hDA8yPvqRkVGSkcyygoH2MpBQuo9OP8KwljEo36bvs7CXcPPhZr/k7xafIv5RXdP9M721rsdvDR8H3mP++F+DTrZtdDvQS6Lr4trkqf9aQivYzWpexTANUZyC6vKRobJhsRHwoXkApo/cX+fAjfBfUCd/o59I33UfHK8bj6TAtOF7MPbhNtFpYdxSA4ER0NThTrIMwiOiGKGvwgJjQQKc8mOy98J8EhnwqE64TuJPiG+oL4pfJ87yLzuPjE6X7rHgDhFj4ikw95A4cIigMl6lbZ6NyV7qrs4sovsyevFrUmtH2pWKxUvUDKSddx5rb80SIFQ/FPFmDxbZx1l3XTWB9ChTVrLTUhxAmDBQQJkQWE/dUHzRIzFacWmwIsAFMJowLkA2wGFxAmGDMNWQKE9UzyTeQ2ztrNFcxS1DDWc9OS4hDtUfLm6zfiFtt2zjTIgL6PuIa+J8Uj0P3a4O4XB/QVzBoXH1gjUiCTH0kVYgxVCEQCnP4f+877gPoq+s/5zQAQCeQP4RZQFfsbkSCqIjQmPyNZHsoPug05C98CpRt7KHYswjZ+LUopLhjZAzf1Bu7G/BzzBe7n9zL15v70+qj3JwcNDKkJBwBY/mH4tOo93VrF8M2X4C/gUebn2W7EvLzNreudup2NqEKzzb7a1EnzfRs4QaxWiWb5chd5AHmxcCpcskhwOWInAh/dGnMXgBRQDMP/4v0O/wn5eA2OEgkMCBylD1UO5hK0BF8FAQXoBkgB9/wI83fcV9d1x5++4cMcvKLEashivInDs8zh0kPesOF64m3nier/4N/dHuUT5KztTvcJ/WENHRgFHlQeNBsPGb4Mrv1z8gPsbexf71b47/8iBV8O1REdFr8gCCapKHYloiIaJm0meCjDLWE2uDGdL+YzGCiPJmwl7xMZCzYBH+4E6izpSe4S/KEB0wDK/yIDvQBqATkJWRFkHvAengde79fVkLntqYejZKpdva3FI7kqr6Cx7bLntnq7DrvmxBHXPPARD/sxRVejZnlrrm21cOB0CWgvVgY9riaIHjoSpgeABOsALf5i/KX5Kfge9/DxFu0PBh8hcycgONo1KycuHn8NxQRyA2YDAvlO5BnRa8Rowqy3Uq9Xrh2iWqSFrAmvbMG22eLnyfFZ+SH9OghpEbMNogmvBj8EjwbQBLoFqAwTDIkH7P9x9qbz0u466GfprO/O+1IL7RQzHfYmyyq3J2ohRySpK78uly8jMrI2vDjJPUE+6jOdLI4f1gtNAhH02vJA90znR9z/0R7LydZR5Wfw/f9qBjb77vm9DeIbkCk6KQML0u87zFeoUqGIox6s6LrJtgGpu6J5pMWqNrUhwD7Gndo19soNyzHaWO9q1W3fbmlzknd+cHpfU0g7NUQmoxbzDvkJnQFfAUkAZ/Y+9fX18/SR+HP7rQMJFJEnyjSZOvw5WzB7JhQUTf2P9Kjri+Y06anfRtNzx/21PqfInBWXq5hzn9Sqnrxw1Oftu/4UB04PDRQtF9gcFx/+IPgfNxW/BkT8pfb98l3wR+rc5ZHmWuSE6fz1tf8PDxUbaB9sI4QohyytJ3sm2CuzKgkugjQnNu49Az+5Nwk1wS5GIYwS8ASo9bnpLeGw2M/UmNbr1nDbgemi79TwPPlQ/s8DnBIUHG0fuhwbCfDt29dcyPy+p71WvSy5j7Jup0ecRZoWokyuGr6dzyDiFPraF94ykE/PaDtto3FDeMFtEV7MUYJDcTN3KU4fYhHXCqoAJfUz8A/mR+GI4W3kr+3Y+kAHzgvcJw9AxjtFRlM6+h3MFIL7SPAo/ef9SfmY517NB7cjpKWZvpSxmkWgI6dnu+nJYNyX9sMB2Qs5Gu0jcC+sNEAyJS4fJn8aJgzO/e7zwuz84OfaCtqZ2KbheuoV8vYAPAqkDYESmBZEGZYeNiX3JxcsnC+ZMcY3Qz0mQ19Gy0POOGAmsRffCEv78O4Q4gzcmtR5y5zI2cj/zovaeuXz8AX8NghMGAwnQStPInUSvf5S6LPTHcdBxgrKLcY3vPeuGaCKmmGbnKEIsizDqtY98S0KWCZ5SCBifW2Sb41w+28ra0hhXFH7Q7Y3AynRGUoJ4P0b8ybm/N6L2OjV3dvC4iftc/4iDTQXUyFcJZAvCz4tOXY05S+3HxoV8gQc9cPzoeuE162/rakiml+TG5OBlbOhc7AwvFnPb+BA7eT9hgn1FbkmTy5fNYA6DjIwKR0dmgyUBEL5AOpH4qrbcNmM38DjW+oF9pL8NQN8ChUR/Bv5InMqKTGGMVM3QjqnO01Dh0PmQfBBgTeyJyAYIgPo8NLmatzy1x3Zndct1evTf9ZZ2+nqmAG2E7UoDS9uJUodWAs0+tfu0eB22hTW9s6jxXC2V6mznZqSwJA2lHOeG7XczHboIgldIfw46E6mW1Bnsm82dJh1L3CsZa5X/UaRMl0cMQhQ99Lnh9tx1RDRw9KT2A/fee2I+dgDkRFLGv0jMyxOMHE2EDnkNqcwjiZ/GSMKwvlJ5AnRd8OztGKqBqIlmqqbTKFJqNW2N8iu1lzmPfSr/zASAiQzMD08sEA8P1877zCkJvscsg8DAYjwy+Ga19fRndKz1RrapeAU5d3qzvPT/0gQWR6YLKM7jkMAS0ROl0uqTbtKvEWxQkc0ECZUGcoEqPTU57/dBdmEzl/FAsQkx8bS0d+G710C1A3SEugLxQJAAWf97fpO9G7uFe6G39HKobYOo2Sb6JcAli2evK3cv73VtunR/VMa+zK+RjhXPGGibCBzlnVGdRFuw2UoVjE/3CZdD7v7UurZ2xHSR8w3x1rIkcuazx7cV+jFBogkPynfNbMyCyq0LnMj9CsMP/4/DDYnGTr2sdKzvfmsTpu7oTyc8pjVpKGgNqs1vdbHLNvJ714EHBt3Mt05ODscQQA5fjKYK0ggxxuFESsFufi97zTqouAe3a7Zpdhy3mPfZePJ7G31JACtCsYUECVsNYpAqkyMU49XlloDUUBIAUL1MhQnHxg9AZPx3OJO1SbSL80uyc/RwttL4ZXiVNw82XXgTeqE8sn8JwUvBEn6GuNDyU+81rTRsVqvHqt1sNW7CsrY1+/jUvhIDOYajSkmNRBHz1qRYmNmomgCavVrSGVHVYtHXDw0KmIYlgVy8YzlhtWtyQnHz8FSx4/SC9097Oz6dws4Gbsf7iJaJ2UvpTSDOeg7PjOLIKMC2eHTyHW3Pa2fqNWnyKdAqX6tt7KWuYbAhMvw2ynuCAOoFXEmaDOxNvA5dzuYNzU3pDKsJwccVgzBAef7ivGa6OnhON5N27vVfNTZ1i3d4uV87pv9RhGbJq05z0fJU9tb4WCkXeRShEuRRGw5cSfSEIECOP6q+PDunOnt6a7kJNJouFGqQbQpyHfVe92+38zbnNFWvlCtkqcNq4i0WLv/vRzEHNPW5l/y7/c6AgsQrh26JYEsxDtISqVVX2JaagZv6W2RZBNcqFLGRHM4zi0pIZcRUP0V6g/ehNLVxUm+Qr6CwiTKmdfa5WX03/9fBM8MbRbcHcQpnDPRNAstZh3PCUP4vebS1WPPlcptwUi7MLlxvhzGH8n6y2HU3N+26fj0fv+dB1QQ1hhzIfIlmyQ8JJgnPinrJqsi6RrkDsL8M+xt5SfhRN5D3YPe9+Ix5kzq6PBv+2YHxBJPI4A0EUPATmpVa1kfWERRekecOZQntRaiC38Ckvrm87PsoOSU1TnAqK8wqxKxWbwVy0rab+ZP7abum+1p7GbrLO2m8fXxQe7Q6zrr/Ozd7l/uTeso5+Hi+d6p4Szoqe1P+JIFCRJIIBoucjv1RxNR3lVJWLhZElS1SEY8PS2NIEUVUArQBHUAafu39orwIupd5SLjF+Py5i/vEPdL/TMBJ//n+h/3K/IT73nuE/F89J7zpe9Y7JfrPOl86CzoBeTr5Onl1eeY7Vzt/usg6aTmium/7Zj00fmN/msEZgmxEIsUyRSNEykPiguNCsEKxAiBB84FWAGaASkDzQUbDC0QGhboHikmdizUMH8wxisgJgsgChwKGgYWvRPwEngQvQ1iCaAE4f4384TmLdxy0nLO+s/V1FzbreDW5l/qE+vR6hjpcuiZ5n/lm+bd6a3vk/MK82btCelY5afhQuMh5F/nrOzV8NX5zQF0CKUQ3RZsHhwoti/oNHs4oTjONX0xLizyJ5EmxSVBI4QfPhlKEvsMaQjfA8AAlAD7/p/9F/9N/zcAewK5AwYE4wPdAmgAg/2c+n/5U/rU9oTwK+6f513fdts103DQ19LT0n/W+9fs2FfZ8tgj22bb3N/s5qHuQvg//ZYBUQa5CGIMcRAdE7oXDB5dIbsfRRoxFNsRvRHUD0IQtxTJHIIkQyQkIb8coRc7FsAUmhYxHWskairzKNggExdUDmIKmgofDMkNggp6ARb19uZg3grYvNO80ZfOe8+UzzXQE9COzKbJqcSNxY/MftVv4X3pHuwb7Cjpo+dn6uvsSPEs+HEAHg6lHdIr7TewPFo6nzdMN8M5Tj/JQlpE2kTRPw46WjEXJFAXBgqWAloAdP9YADz9vPan7Bjf8tWs0YvTzNiS3vLlMugn61brQe2l8/3y3/eQ+Xz9KgId+pb1geyY6zHxZfL79kjxZe4+67fn8OeJ4hHsWvW0++sCBv9qBYAKbAm7CDsFpQotE6QZwhkMFQIQpQuhDFkOfg6iDIUK2AhUBtADVQNQClQYCCbOLBspJCDZG/YdMSjwNR1AnEauQlQyIhxUBDDxruUb24DSPsyqw4e6TrDjpZia2pBajZyRhKEEtPnCGM9g1BvdEeoR+ioPZx9UMOY8m0IBRn1BSjxHNeQvLjM2Pa1ILUzASKNBajcPK6UeURQLEGQQEBDTEEASChDABjn3xOHqzG7BW75GxpHS19bp1BjN7MHZu4O/mcvt2l/rP/qSCXMWgxsnHHEckyDQJaQs4zImMoYqtB1HERkKFginBycJgQW0+fbsteBI2jnY2df02QLbpdtA3rXiUeZP6KvqG/Bm+pIEbAi3CJIHigezD5cegzAfQopHRjr+IN8ImgLiERMsM0UTVBdTez9nIP8DH/Mq71H0Rvie9WDreNh9w/KuAZvujPSK65W2pz6468B9wUG93rt2xVTcdPn8FIgu00EmT/JYrl7yZWxqVmrYbOVujnCYbRdgDUuoLyoWDQdXAFL3Ieg92PXJ0LyArAGh+6LBrGK13bmowcDLHdfv4GXic+JG4WjmnPoaDecUjBWGEzMTYhIZEMcSLRqHGhcXaxoGIk0pkyr6JxApxigGJrglzSXBIM0SUQUJ/W32tPAX6G7jTN/Q02/K1MTCwl7Ba78fwWXD1cjA1EHsoQuVICQq2SyYKYwitRtjJbpCFWQOdZxqn1E9MQEPj/Ye65/vRvYY78vYcrgtnuSP/Il8iyKUCafMwY3ZUuSE5nPnaOpi918ORSw8SzJd4l7bVkFOt0xvUUhZR14MXGFVh0tXQfQ4Di2jG8MJtP5W/v0AyPvT6rXRAbqepUiaQqL2sjLBd8KlsCefwJknoP6xDMaG1njkivBY+Qz/OAP0CDgWuiloPPtJhlCGTXRAUTKaK18uejiyPfI4BCzVFdkA+vT98nD3hvl4+/L7yPip9cXuz+h85b7gpeHs5WHnbuoq9SkIchlrIW8hIB3bE0cCp/doB58q90ZVR9guwwwA7rzYsNEc4Fz1Xfls5XzBh6IaleKVl59Irau+QNA72hfbPdUp0kHahunF/VYZkDeqTMJPWkU+PfxBA0/FXQBtIHcacntfOlBpStVBhy1dFGwIDwnrAT/xseLy1nHDz6TTjpWSqqlKv6/A/rE9oo+fhbPhz2/j9O+C/KoIkQtlB28LIhpQJFkhLh6aJccsyCX+FEEJxgjjEHIb6iIwINUPlQDs/kcGOQ/qFTkcZxytDzz/IPT+8Vz01/Re9rT1YvKp9mYAXAPZ+6r0z/gRAVUEwQwJJrNCUEYfLcwQLgB49iHy5veuBMQGofDsyzmst5tDmpWjxq6bszK2F7xuwH++h75/zd/pzgfRIHo35EgtSOI86j2bTzRm7nLmdd1zb2UTT8Q+4TshPVgw2B3bEPADBvbz5DXYsNPOy0XDV8Dfw3TKFstixfu5urIcvR7RgOMI65/ofeiB6G3n1+0y/oIOjBErDO0KRA8HFAYVmxVhGf4bLhxYHisdHBVqDnAMPhDAFTgX/hi6FSAH5vQQ6IvqU/RO97L15+9D7/X2p/ry/u0EcQhrCAsA+wIyHuk+dU18PrInlBieBhD5uvlFCFQVpwEw1GytC5zQnJmgT6TxrtK+Ocs1x166d7vMzJ/j4fZkCgcprEb6Sdc4YDApO89OqF55aX1xSWr/Ud06Ji0RKmUndSg3NqstxAMr2NrBasrW1kPVSt375x7curYSkjSOTqYizb7rBewo3MbFjrn1xMPP2uW4EoczaTQnG7wJIRHiFogWdiTwRi1is1O0Mowd2RJoE9IadidDMqEnFg+o++Pt0egJ7Qz12fZ46xPh6uKx59jpXOyN9gcHIQm5ANoAQwmQE0YXXxcaHjEhThWE++rk7eKK6CXq4eJT0kDFP7gkqaSkPqsNvDTOjNNB0IDPn9r/6xX4xAK9Eo0nIToYQrJF00y6UrlVElu3YmFoX2f0WxBMrD2rMfcuwjMMNJYt5hyRARLk08zDxjTPHNjC2oXUFcYmrTeS8YnWlhmxxsY6zJnJCMDTtee3ashJ6M0LByISKHwhxxrsG30hmCcHMIo9XUcNQbkuWRwHFDMW0BenGzAgwhqXDWb9m/V2/WUFLAfJBGoAwwBQ/0AA1gsgHDElNBal/jv+QRJDJ9EkDg8gBQf/he2j1ljLFtwn7WrekbkInLecTKn+qFOppbbbz4/e+s0Ru63AZ9lf804BNw/uJXI2cTTGJ90pWEAWWKtlAGieaXdrBmPcU+dIyUT7Q6tCLEEAPe4sHRFX9STj0tok2MrZa9+83C/K+LBTnpqZSp6npXysyrGBtki5nryXw/LOL+QI+w0KqhWcH8IpQi/sLV8xzDlEP0Q9pDdKNK0uSSTvGYYWGBjIFVcPMwcS/9D5T/bH9RH2dPXJ9HfygO8p7xr5dAsnFfUOFgH3+woJcBkgIwco+ik2JTwOZ+123Lflqvkf+j3g18L9sI6pt6RxpvW2Y8wx0ozBQ65preK8CdAh3y7wHQcOFiYWPhHOGCAwskd7VX9exWpOdi50QGS/VltTwVbVWTZXZ1L+RVwoCQS86GLd1NyA2ojWtNJhyWK3haGLljKYD52so9KqTbOTvc7A2b70wPvIPdwl9UgIKRbpIGIo3ipeKk4yzUFwTKZKZT+ZOmo7XjZ3LpAn+SFUHY8WpxKaEjMOzQM79pjrgugK7eL1EfmN9Xb1Vfov/lT4De869MsExRKRGoshySojJDwDguAP2JPsCAKP/vHpmNJCuaqhUJJfmBqyC8hNynq8eq/qsL69hMqe1VLoggN/Fkge/SFrLbg9RUWtSTJbv3P/f3h8DG4YY+ZcSlUbTSRLtEf0Qu06kh7D/SHnl9rO1qLNCMiB1brdYs7dr5ObNJlanTipare8x9PSzsm2wfvBRsVr27f1RwZ7E/IcmSZ0KFYfDhy0JSo1hDuaO+hBJUCTL94bYA71EBgYtRYNFTwSEQzHAH/x8OpQ64/vDPdU+0sEkQ5IDeMB3PG07o3+nhRZKPA0iDyDNa8Wgfbw6eby7AGe/ujvo+Qe1Yq7Y6GOmpqoSbd+uf+zerVruz27s71rxl3UmOnn/HkLnBc/IcQsbTZ8ORw/j04lXxRkdmMnZuhmOV+NThREuUg8Sg071CSrFJsNMQZj9ZnlZeMs5ejZ7sQLt9O31b2pt4uns5+LoxuqO67tsWu8acxK1z/bN+I+9HULIBynIkEodzW/QotFD0LDQZhFoURSOUwwNDE+MRUpMxuXDskGKP2X71jkZ95V3s/gL99b2jnbi+cJ9bj2Q/KY9dQGwRmAIq0rRjvcQgoz+xBp/ckFtBDaCiz3O+cq30XNYLQuq3K1y8BNvLCtj6hRtDTEA8wL0d7Z7eUt8rD5kwNeGaQw+TuOOh07q0fgVEJXnFJKVepbJFYVSpRDFkRYQkYx5CIVIpMdbxP/A5326fAf5SLX/s+zzebK/L/lsUOl1J/SpMikWaMpqcCvOL1Myl7SquGL8Gf7FQefFJgnizh9QTRCTT7CQJlCrECqQkNBfTz+NHsoCSCZGskR0wb2+oTxCezz6Rro3+Nz4K7ep+By58jvhfZC+uT+2wV5DckW+SDtKzszGi76H8sROQeR/lbzL+jX4bPditWrx1u9GrzZvDe5jbAprOmzUcDnyZjRJNyt6bfyvPXv+lUK5x8fMPA4KEAWSlpTE1ZjVe1VUVhVWW9VLFEDTj9KNEYWO3wq5R1EFugSowuD/XPyXukq3erMeb1CttmyrK5tpzyex5sYnHWd+KMNqwG3MMbB0SLfIuwJ+bYINBXEIN4rZTY+QV5FXEaNRjNCYD6DO6U60jqgM7MpHSJKGcEOhAPC+lT0KuxD45Xdr9wX3T7dGeH36SD0x/oo/rcCvAkWEIcUfRpxIocobCiRIOkX1RJKDLv/JO053KzRwMgnwaC9+L7HwUW+f7a6ssW1r7wwwVDFdM9b3+Lu9fjVA8ET0SGLKmcwdjh5RIRO5FNqWKtdUV+gWyRYClZdUq1LhkGvO586MTE9InUZqRQtCzv6D+lX3hTW28ZMtKGsfKw8qgum2J6pmYCcFqEuozGpZ7Z1xnrWveHM6Jr2hAjVFfUhFy55ODo/Gz+uPH1AD0ipR8JBNkD2PC40Qyp5InQfvRhCCQP7XPNs7THlQ9+A3WfdGOKl6szzXvuD/YL9a/8NAkwFQAywFscboBgAEwkN6gaw/nPz2ui13urRjsWpwDrAwL0pvPy86cA4x7rKY89W2MDgOOdM7v/3NQGrCloX7yTdMiA9+UNwSzdOyU17T+5SdVQET7pHeEKhPRY5QzSxM78ybCklHWsSggpVAHPwYeTS32Dd+dZJzm3JCcQwuoOtxaNso8WmFqmWq8euVbV9vSnFYM4y3GfuNv3LBiwPWxfDH+okxie4LiQ5K0HCQk9BskD+P2s9vDdkNOk02TCBJmsaZhA5CVQCevrm8tnvtfCq8Qb0J/dY+0H/kv1J+h76h/tA/MH6YflB92jyE+125wPjVt/C2K7P7cXAvgK8jbritxa22Lkmwv3K69R74KHsSPeb/qoELw2QGHQj6Sw2Nc477EIeSrBP5lQSWVFbvFp3VqFQbkpbQ+Q6yTKmLeAnSCBUHHEaphWQDY8FYgHE+tfrhtuQ0IzIDL3ysVeuMa5BrS+p6KSlpAWjX6DpoMCltq+EvGvK6tSk3UPrmfygD08eOCk4Nbc7lTwlPWZCFkoFSiBGq0SjRghIIUODPuY5xTBWJfcaNBdcE9YI3vyJ80/u2ukX5zPqZfAr9YT35Pt3AZcC4v2Q9SLuxOe24hzg+N6E3ibbLtWazWTGMMSXwz7C6r9/v5zEhshsyULM0NWJ5dbzhQHoESgiBisYKowpfy4sNlY9EEJ4RiFJV0iPRmpGBkh4SP5GTUJ7OiYzgiwXJ0ciaRwSF5gTgBJEEPMK1ANR+6bzzOmY3UvUNM5PyUnA6rOYqQWjPqChnHia4p2RpEutxrQVvQbIcNKp27TjVPCQAt4UvSPvLII0tjoSPiVBYUVCTJBQfE9qTJhJSkegQc05gDKLLNAnESHrGWMSlQhg/O3u4+Sz35nfDuGd4DPg3d+h4djkNejr7PvwkfJn7uLmxOAV3Zvdfd/+4QXkyOIv32TZX9YH2LTc8uJO5mDpUu3C8Tj4mP4LBtMN4xSRGu0cvR88IwAlFiTxIewk1Cv+LxMwky80MBEuRSk5JlAmoiWBH94YzxfLGaAZ2BYvFaQTIBAgC9kGPwW4AGn2Gel33FXU8s4jyzjHZ8P0wAm7P7P4rKiq8K2gso+6XcaP0ybgS+kc80L91Ab2EU8cmSd6Mdg3+TsXPIE89T2LP55BekLYRAJFl0D8OZ8xhCojIS8UTwdv+nPuXeKx2L7UetVT2s7e0OGe5OzlKuhN6jrrd+398PPzdfJB733uLe5n7GbmpOHq4pzk4+O+4RDjb+dT6g3tl/FG+/EEAQncDMwR+RYrGiEb7RxHHX8cWhvMGnkbMBpDGtUbshr/GB4Z5RtJHYoZ0BS4Ec4OvgpXCJ8MqxIaFC4UhxXdF2MVDgwVBdgAG/xG9UHt4uhB4qfZO9Jzy3XJbsalw+7BfL3avEy9J8HFyOHQ1t4m6y/2tf/tBFIN1RPqG9YlryzmM3M0ZzMjM74xWDTfNGM3YzrkOKQ2mC82KQAiIBb9CiT/bPfc8NTnW+FC29vY5NhM2qDgHeet7oL0R/Wj9EXzXfVe9770FfKO8N3wpO666N/lJeU15Hzh498D5VTsJvKz9Vv4if1ZAg0H7QzcEjcYWxnlFjASzgwJCvAI1Qm9C9UNMxGiE1cUjRNeE/sUxRYFGRcbKx0lHh8clBiPFD8S5hJ8FscajRvlGQMX6BKvDP8D3f3Z+qD2YO0M4GPUe8puwSK6N7Yut5S4crhjuBm6vL/qxyrScd366Ar2TQI4DBsTGRgMHs4jmincLyo2wTv4PWI+Zz58PqA/+D8YP8o6qzLMKYkgmxcLDccA5fRU6OXcI9O/zMrLUM4K1NDZRd/T5tXu5PVu+J344vq1/Ff8U/mU+Hf80f5o/a35k/hY+tb4rfSy8dfzgvij+LP1qPN69OL0a/E474rxG/Zk97Hz6/A28eDyFfTI9bD7UwTRC/YPCRK5FdUaMh8zIuklKyyYMbgyEjFhMPkxfTMpNDU2KjlzOSk0ayrJH38V3wuZAmj4juzw3bHNHr4jsQap36SwogihPKC8otWnX67xta++u8nQ1eTiZfGMADkPYBr9IUUoVS8COLc/yUUTS9VPGVPPUgRQOUz7RsU+xjI2JckXBgrP+lDqGdsTzz7G/b9AvV3AXcmz1GreX+b97qr4KwGCB/MNUBU1GgAZVRMoDyoP/BBbEf8POA6GCgEDAvkW8WHuIu6I7E7p5+YQ5nzjKt5u2YPYgtpD23PaOtvy3sjjNOfJ6kHxQvorA7IJfg/JFjEfxibhK3AwYjbOPLNBx0MGRd5GNkikR5lE/0B2PUk4HjAjJQIajw/ZA431p+X81hrK6L3SsmmqlaWxojGgAJ/2oASn/K81uvXEMNDI28fmD/FE/MQJZBgUJXIuhDXHOn49AD6VPspA/kIFQ9xAuzysNc4qjx3CEDgFBPp67kzjndmW0WzL/MeuyBDOYNZK3/nnffEy/AIGUA2nEv4Xwx0MIs4jgiMSIl8fwhrJFfQSrhLvEfMMtgMN+UrvtuZj34Larteg1BrQnsuuyarKlc2Z0c7ViNkF3bHhP+ii7w33c/4kBZcJtwsqDnwTrhvXJH4t/jRqOhk9hT1qPUU+zj9wQHI+2jkjNEouYChCIp0clRerEbIJTQA/9+fuI+b33KfU3c2Bx1fAX7mbtOaym7Nbtge8vcTUziXYLOA56C/xd/rHApcJVA8qFLsXwBkpG8odCyJCJlwoOihrJ1YmqSOaHkYYzhGICpcBQPhS8fXtgOxH6+fq5uwy8Xf2M/xFA9ELlxM1GIgZNhlYGE0WCBMdEOQORw6VC1sG6gBq/Zb7+fnM+KH43/cL9C7tYub+4V3fQd073Ebdb9/c4E7hN+KJ5Kzn0ure7cbw9/LT837zJPO29Bf5Cv+4BH0JRA6mE9EYtx3EI08r/TE4NWk1TzUkNjI2lTQeMzwzsTMDMu4tTym7JKceJxbYDLsErf2e9SPrZ9941DXLmcPYvQ+717tsvj7A3sANwmzFSsrLzhTTWNhC3qzjIugY7Zf0w/3XBtsP7Rj8IQ8qTS8FMhIzIjJAMBkuTyu8KJclXCC+GeARFwrIBAABM/4N/RD8dPpF+Hn1WPRg9Q72YPbK9of23vW89Df00/bO+yEBngaCC3gPzBKAFJ8UixNwEPcLmAZc/2f3PPDk6ZLkYN/D2lHZIdr32njbdNsW3HHd0N113uDgWOQT6N3qYe0i8mr5HAIsC84THxzOI+8pKy/HNLk64j+YQgJD6UKuQuNBAkDLPNA49jPwLZAnRSGfGgETXAnh/RjyzeZ33BDT/8mowWq69bPbrpyrfqruqyyv6rOvuvzCNsx91TTeXedH8Yv7CwaUD+QXWx8NJb0pUS4HMho1rDZrNdUyTS8iKo0kFh5CFtEObgeUAKn8aPrJ+Hz4+ffL9wL5wPnj+uH8Tv1e/Fb6kPfq9kL4Lfoi/fP/XQL6BJ8GSgjUCvkMbQ7gDdQKOQffAp79qPi+8/Pv7e3s63rqBOpZ6Urpzely6pzsRu/J8Ivx7fB67xvvcu/E8OTzYvfn+pn+4QE9BuYLbRFPF1gdqSLYJl8oUyd6JdYieB8SHLEYFBbrExwRsg6eDb8NsQ4PD1QOAg1pCg0GRgBp+YTy9utY5X3fO9vq2LnY09nb2xffAeMd59zqoO3p7+fxTvNr9Fr1g/Zp+H/6ufx7/6sCjAaiCvMNpBCwEvUTwxTBFAMUERNaEaYOfwtkCDgG9gSdAxYCZwBh/m/8nfoW+WH42/fK9k/1ifM+8h/yi/JM83f0qfXv9vj3hvih+er7Mf8wAzwHIwsVD00SdBQPFo8XWRnLGtAaoxmpF8EUHBH6DBsJSAbFA7EA+vyT+PbzoO+p69bopOeb50vo6egV6YTphOoN7C/urvCY87r2Mvkl+339uwAPBfIJxA5LE7wWSBj+FzQWixOIECwNtglABn4C1f7Y+975V/lI+j38tv7VAAMCVQLrAfkAxP+O/p/9+Pyw/Pb8xf0R/+EAFQODBeMH0glRCy8MAAzGCtUIfAbmAyMBY/4F/A/6R/ig9hn1svNX8hjxGPBK74fuqu2Y7EzrB+oW6cPoTOm66hHtNfDL82r38/pi/qIB0AQNCFELNw5bEKIRVBLxEsUTERXuFvIYWhqLGmsZTBe8FBASkg9SDRoL8AjZBucEYQN4AioCVwKVAnMC8wH4AEr/8Pwe+jT3jfRM8oTweO9C77/vzfBL8iT0Ifb090f55Pna+Tv5GfiK9q70tfIK8fnvpO9f8C7yyvTp9zL7jv47Ai0GJwr6DRsRBxORE9USZREUEEsPEw9HD4QPgg9LD+wOkg5nDjIOeQ3GC94I3wQ3AGf74/Ys85rwBe827i7u2u428CzygfQe99T5PPzv/cX+zf5K/pj9BP3V/Bb9f/26/XD9pPyg+5X6wPlD+fT4ovgl+FT3evb19en1cPZ79+X4hfo//Pj92/8YAq8EoQfMCu8N7hCtE/kV7xesGScbShzYHJkcjBvEGUsXPhTBEOMMughcBOn/pvvQ92X0UfF47sPrN+nt5u/kcuOh4k7iY+Lg4sXjRuV051Dq7+1G8gH3xft0AOAEJwk+DfQQchR5F7UZCRtTG7AaUBlDF6IUkRE3DpQK7waeA9sA//7f/S39tvwd/Cj70fku+Hj26fSD8zfyN/G38OjwIfJ69Aj4o/ylAYAGrgrPDcUPkBBPECIPLQ16ChEHQgNH/3X7LPh19VnzqfEx8NXuiu137K7rVuuQ60jsfO0d7yLxefMf9hz5V/zh/4QDNgfmClAOkxGHFC4Xlhl3G78cQR3cHJ8bixneFrUTLRCPDMsIKAXBAab+CfzD+f73hfY49S30JfNi8sXxWvFS8W7x3/F78j/zTfRx9dP2RPi2+Uv7yfw9/q3//gBFAksDFwSoBMYEqQQyBGoDeAI8AQ0A8v79/Wf9Fv1G/eX92v48AMMBWwPSBPoFwQbsBpAGvgWPBD8DCQIuAdEAAQHPAQwDlgRJBtgHGgm8CZAJoAjeBosE6AFE/9f8qPrw+Kr3wfY49gX2FvY+9mD2ffZ/9nP2efaa9t/2Rffz99r43/kR+138t/0A/0AAfAGDAk4D0QMHBPIDrAN4A2gDkAMCBKUEdQVWBksHaQiXCbwKtwt7DO8M8QyJDMELlwocCWcHjQW1A+4BXAAC/9D91fz9+037mfrQ+QX5Efjz9rX1gvSC87nyZ/Kg8kvzaPTQ9XX3Nvnl+nr81/3k/pb/8/8LAPf/2f/5/24AUAG8An4EkQa6CLwKYwxvDbwNIQ25C5wJBgdEBIYBH/9G/S/84ftX/HT9A/++AG0C1gO6BBUFxQTyA6sCIgGs/0b+Kv1C/Kz7a/tY+3/7oPu3+4z7/voa+sL4P/ew9Tz0JPNr8jvyivJU85v0Xvag+FP7OP4zAR0ExwZMCX8LkQ1bD/EQQhIdE8IT/hMaFAIUzhOQEw8TRBL0ECYPxAzUCWcGmQKM/mH6TPaF8k3vv+z96g7q8ul36pPrG+3e7t/wuvJ29Ar2fffp+D/6lvvy/Gr+/v/hAfUDMgZcCCUKdQsADOsLJwvmCUwITgYSBNUB0/9h/qj9gf3j/YL+Lv+v/wEAPQA8APH/Sv9T/nP90/zD/HH98f5iAWIE0Qc5C00OuBAWEk0SOBHwDpsLbAfLAhH+gflu9fvxSe9t7XLsWez27NLt8e4n8Fjxd/JQ8wr02vTw9Tz3KPm3+y//hQMjCAcNwxEsFs8Zpxx0HuIeHB7SG4sYnRRFENoLTAfmAs/+Ffsp+MP16/On8qnxZvAL77rtlOzZ61LrTOu2697szu6s8S/13PiQ/EcAgwNEBn4IDAp1CxAMWQtIChkJIQiHB+AGbAYEBssFUQUeBTYEQwPSAe//Hv6U+6T5+fdG9+L2evf0+Az73v29AHQDbQbYCIAK0QvXC54LeAoWCbEHYQYYBhAGrQUCBO0BYQHDAPD+r/jl8LPr7een5p3km+M+5EnkIeNn4RziDebR617w4PNa+Mj/FwuWFtweeyEJHzAdjRzFHu8hsyLdIsohAiFFIP8dExteFiYR4w1HCzYKBQcRARj5JfEo7Srpyehc5s/ireK/4t3mdeqc64DsgO1l77XyjfT69h34T/mM/O38df1K/Ob6o/y1AJgCIwNWBFAFlQxMDosMVAq7BYEIjQUzAt/+vv3Q/97/dP2L/Tf+lvuk/0v/6wO2AzIEUgq4F0EYDQ11/nX1vwv1D7cUZQkeDfggZyJtFOPxEfSA/GUHM/8A5mrmlPCh/S77LuSR0mPSQ+ru81HmZNw22Yz3ogmEBAL0Jukp+P4HKRXmCkn8rADCDTIezh5XFG0L+wgBCVsOhArECsgDzQC8GSgJswc66ojdm/bY82sLFQFkDAYYug+bEfICr/50/ar1k/kW/x4EFQcUBn0ORAhC/tHy2/5HAKb8nP5J86URkwVy9B70x+SyAF/2bfEc7M7n1gOnAMj/l/Wo9QgKAhJACKT9N+6FBVgMEBrtDS3u9hMS/0sT0vtb5ZQL4QUlFdkFefiCBYABfAT1AWrsCgFzAqwH1QD/6Tv+cgl2B5X5I/TN96MGh///+e7+cPqHABgFHP7mBKn79OvfAQj/DQ+hDDj8GAx+Ay3+QPRI7CkBVAZ//0r/we9k/0z9FPd28ZjnRf1I8c73we+a9UIHogB6AQLs/v2ZEMAXQxeJ/coUtySmIIschQitEk8eQx05FJAUhwUICeQQ0APrAxHvjfkR+e3yL+9b5JLltuPB4JTfm97a2r7tevCY8p7snurkA0gL6wGw+RwIAyZ1LcEWHAcUEAQqtzGrFNQB9Q3RFXUGF/H45xTyk//e+6z4p/d69RrzVPIS7Izpi/HR+64Ctvk7/kgFtAae/FnxbQA1D6YJpwaeAqcIgRg7ClIHdwA6AqgMwgN/Bjj+tfwXAeoBEgCF+df4fvEj+JTy7+qp+k37QvuY7vHrNPuQ9kPuleOj7BL+IPcX+/j60fvDBx0ANQtQD40Obg4HDN4ZqxjxFIIYZhkJF3kZdAvFDGkFZAHAB0D5TwSp+DMDjw+w/h/1298+6Kjw8OgZ6QLsDfOR9oTwo+7z9wj/swEL+x8AZQ14CI0LYwNwAX8JiQj4FPQGaP9KBU8BAAU6+vvvtwLKB/gE3Aiq+UAFqwS+ADEC5/kI/GX4lP/O+5MDXgmtC2n9xvUvCMYIxQz1/4MAzgirCoH7bfBV+ZYHAQ598UnzAPreBEULp/Wh95kAmQFR/7fzQuiB8WsAcARO/en09vZACQX/we+l9Rf6iBAnCYAFTgcaA7wKWPTS8of+IP70DCwEIQIADeD+EgLs/ZT/Rfuc/FgWsgqmAZL4+vxzEhwGFPZa+VIDPgtF/xD4XP0jBQ8VLQYn9P34DPTl+Tb7WPiBA0/4/O8y8Kv5rf+Q/0sBMQB290vvvv+LBL4FTPf++RkIVgGoASr2yfw6FTMOQAUyBYoGch15FGoB9gJsD3UQ0AGkAuT/wQdlB5oB+Q4WFHsMSAAqARb9evXc/af2dvrZ96LoIO3I7Tz2l+8b6KjsmeeZ9S315vGgAQL/GAFMAhsBIwMv/UT+OABeBHUObQqwC+kTcA2iA6n6CQPUCB4DzgCi/UH/igWNAYz81f/N/vb/vQIW/tz3f/2s/YQLZhIOB70CuQTmDj/9zPx99+P0GQyU+X33XwMiCGUIyvOG9G38w/1d+wbzVPoR/c8DvQT8AoX6cuR/+uAB9vzW70TtNBAoFJQHDfHp+GQN+wcP/6rrFfg5FRAU0A+lCw8PmAmz+KX00vnm93D68hD2Co8LywZ/AdoP8v8g9QvyAgd2GKL7ufuj9DYHdhaQ7L31uOk0AdkRQuxe7azz/AlWC7b1VvcjAZ762Py/74n5gACQAbgFNvjqCHb4sPVc9pL3hAw1BCYE1QZhAqIFLwAy/8MIogoRE2UTYA53ByAFTApSCcQHfgCvCFsQCQSE84rtIwXUBFvuSuUN7Rb/cfRO6rztifW+AM33XPAQ9XvzGghu/jLrG/+p/DsT5wsr91QMowc8FrwN6ACODNgALAtYDy4JIw3UAGQDYAre9X//HwJ+Bj8NBvA6+dIB6QhT+Efir/hN/38EZv2S9KQET/9C+xX5LPQiCan/KAAYASL5CgSoAiYRsf+R7a0D0gnpCD799vgFECwKQQWg/5r5whHeAyT1gfnp/NwFh/jg7wn/xw1VAx/we+4/7kf4NPjv8z0AKfZ1BJIQtPeP7TTwRQpfFNAIQgxlG3sd0gqG/GP+DQnzCSER2AC+CGQRAfdx9O7jTO9i+Lr1qAaG+iP0pPR497H+K/Aq9Lr8Lw7YCWLuXvYn9lYJMgJ0+zwPLgkNCtf+Zf4wBU8CRAy1Cz4NlQedAdwSlPda9F38Pw9nJkn7BvhR+XcILAbi7Of2kfgRDVAEDfUuAin2ovU8/RX1qP6R/o36MP5cBkcCo/kK+in5qwyT/Vn0SfosAEgU3wnC/qP76QBCBgABIvth+6z/4wQe/oL30QEcAAT8Wv2W8PnzgQZRBoMEke6x5XkBbA+4/2jnb/A0D4gMGPkx8UP75A4A/1n52f6bDbAPZftLAa0JpAzCB58JdgH2DM0STg83F3cHwQitCaMNlwSl9Ub+EARxBhD5A+/I8Kv26PbY5xLlJetC/4cCbPK09IzwawKXAETwJfv9+/4QfgtD9+39xgSfFAcFhv4fCpsL1RAjBU8KhQywDE4O4gVvDdsK7QmtB0/3MPuTB1UEhf9x+qb53/6X+HzyN+yi7U/7LvWr9tX47/Yb+R/uuPc4A5L8sPzD/TD/CgpqCCALPwnKBMAMWAvFDUQHJgH4BbgJcQi89snySf/N+379U/FR8fL3pfLr8tjjg/KJ+mL4kfYY8/v/rv/4+DH4IwHJDrYMCAWeDccRbRSUCRYMgBmZGPMQZAVcCH4IVQ+pBib6Z/vgAZMG0PqM8sj0ywF0+SvxDPLR8dz8tP5M+hrvZvWv+zb07PQ28DX47AG1AU//OfyHB2wMngoSBvD9OA3dFc4QBw1xC2ITjxPlCqgCsQV+CB8Eyvtu+J37jfwC/vT0QvBk+Mf7DvkS85DwCvNb94L5svXL+SD+X/8d/kL6Mv8vA4r/9v81CSwMhAzgCwEKwQf7B20GsQTSBnEGkAkEBSAAFPzl+oX/2/rd8UPyNfQc9r34kPIl7zrv7fdp+UP3w/g0+60HqgctA0AFuQkDCGUIYwsUCQsMrAvyCFUEMwR0BjT/qv7cA1AF0QURA4H/OP4D/Z/8aP4Y+SfyzfXz+v76q/mz+Hv02/b0/Nn6Uvl794b8MAT6At8FaQJ6AmQMDgwnC5QJGwt+C34NkQ4rB6ALOQvGCrIJzf+I/kb/3flX9/P3vfGK9T75Svk6+Rz2W/Pw8N/1nvVK9fzyovesAusCCwXFBEECOgOlA0UEagDMAS0G5QctD0cKfwVmBeEFXAUM/dX8M/9kA00GSAQ2AwIGlgLP/2YBiPyL/rj/awLjBx0E+P7BA5MG3fw19oP4cwDNAi8B9vve+04C8/3K+B31bfb8+bT8PwEL/mr7fABNAAX87/Y+9Kb3h/ld+8T40/vH/s76BvwT+cT0tPjw+0z8vQGMAowDEAo8CngIMAccCFANvgv4DLILfQuvEpYMHAf4BXsLHgjD/yUAefq2/5P9f/UA+Z75Hv3V+6H4l/Y59mf6aPQh9dT7lPzh/bz/WwLcAI798/5GAFX9U/xzACUDnwPYBjkHXAjfCJMHlwTPAhcFIAYSBjAE5gd9CCUGUgWtBJP/x/0CAKj62v3O/Ib7WP3F+db5qfiA+cb1N/Q3+NP33fhn+MX2Zvj59+X19vZK9rT3KfkP+rv+8QF0A0ADGQQ4BdYGYwXCBU0FJAMGBgAIPgkjAlkCRAeEBrAL4AR1AygMyQ2wEF4LPwpqEfYTrxAODecMyw/wD3QIJQVcAq0B1/+S+lT4cPWF9jj2++/V6w/lS+S+5Wre4Nh21cbZJdpO2yHfRN8e5s7tQfVk+L36ygEACmkPJBFKFJEZrh67IvIj6SPeHmkZ1hMADwoQfgeqAFz4IPBF8I3nOePk4Mzi/eRI5TTqauiA8Tb6TQDpBqMF7wm0D6YYdiA+JBcoLivyKqcqzzA0MgwzDjHkLI0vSyz4JC8bsRj9GUMSyAjP/sT7hP2X+w72We5K6EvnEuVH31Ha3dW61ePVbs66yHjFDsS9xszEb8DPvyPFtsjOyuHO+9SG3iHlsus99DL8awb/C6EMTw0dD4MVHhvvHEIbBB2vHrAenx2lGB0cJSVPLBQwZzX3P3FGrEQJOEcuVizVK+MzmT1kSqtNiEIvNAYjohlFEjII0v9x94fn9c96uyyuy6kip1aeuJktmyyftKSGqnOyBbokvP63Kbl5xVTWVuUN8O749AR0DsgU8h22KVI1gz5mRLVHXEogS+BIlUMEPuI43DeNOkU/W0IlQg9BsTqmMmUrniRJH4AWxAsAArj6pfNx5H/V9sxqyKbDlrw0t5+3CbshtjiuSKxWrlexrLKVuA3FHdGL2mPe2uRb7TTyWff3/aQH8Q9HFdcYOB17H/wf2CFpITkk4yc2LFs8P1F5YBFiDVexSe5Aoj+kQcxKalvnZupe4kVAKecSLAgAAYf1EOld20/JQ7UQpBuWjo2yjVWMY4qJjumXs6aBs4+53Ltzvm7Cg8U6zVDewvKaA54Myg8bEwEaQx8FIm8ofDFJOc8/uUQyR/BIBUbuO6UzSTLMM346b0bMT1lUflKKRuA5/zOQLWUmzSFJGwsTZwps+qDnYdu603zOjsvnyDzGc8Rcvgq0aa0erTGwMrNCuLHB78xg1RTXr9Xy2A/ir+rd8Wr7VAdeEakUABFHDvIQng8mCtMJyRPpJIA1pERbVNhdg1ViQXwzaTTtPa5FdUvMUqFTMEQtKd4O7f3Y9pfwm+XB14vINLqSrKqdppCDjXaTm5rJn3CmJLMdxP/QsNbG2lbfv+Oi6RD2Zwn6GsMigyHdHx0jVCb4JX4nMS9hNo01uzC9MFY5aT7KMNobERVpHq4uYTpWP69H/U8FR/kwPSJdIr8rYi+aI3AV0A/DA6DtXtoazQnJR80Qzi3ObNLjzSTB3LnFuNi6MsKwxnLHF8+Q2bred+Cj4l7nK/Ie/nEDGwjrEakVSwznBHoGowgsCKoCtv2ECU0cbiSiMORE0UtZPwQsmCPsNL1OQlMjS2lLEUgoLWQEAuam4o7vw+r9zUq5fbaWsl6jv4+5iSuacrG0uRy68cRB1/jioORE47Dr9f6tChgN1Rd/KwU41DTiJg0euR+1IZIeGx72JXUooRzgDb8KVhcNJuchqBTwGMIpKTSpMxIxajthSxVEBC2vJ3o0Hzp3LbgW/wdmB8791uPl0GzLCciPx17G8sAuwbjCTLqQsyy2b7z+yOnSEs+xzAbXo9/B4QjiReMw7YT+IAmTC3EK1ATv/40BhQOr/W76QARYFVsgUyPIKqtGNWQaXPQ2Nyj9QkBlS2qmUwpJqVB7Ph0EC9XT2Ov4Af8A1e6mOJ9Ip46cnolKiBKjd8XZ1W7XNN9x6xDvfu3U86kJjiPvMSYy+C5FLM4k2BiFEHkQGBQ3E54NHAqVCiwFLvKK4OrgSvCCA0QSVxm9HrYjmSAYGx0g9y8VQo1Mz0m9Pr4yqiR5EmMCyvrC+qn6Ou992cfGrryKt0W2xLyuyvTWf9iA00vRlNXy2yvhUevr+wQJMgtrBmIC7QHRAhMFnQmDD64RrAsLAQL3Ouxt42zk8+/YAEQN4Q9CEUchxD23TANBqTCCOG9Wf2meXHlJkkudSQIfguBxxnXfoPvb5x61Z5hGmuqYoYtlhhiVg7Va0oHdh94Q4rPpxPN7/eAHgR6KPplO7j5rI6UWrBluG8ATZA2QD0UPbAVe+VLwMugU4RffXeZo+UEUAickJYMW4w2CGIwvTULLTrRZU1nmQ/0kUhOCFXIYbg7VARb7o/BD2Zm/E7cRwJTLk9HY1LTXxNOaxxbBXMv44HH0WP9WA9T+kvRE8ez5UAabDeINXQ+EEvAMB/+N83Pvz+z066rzXgHRCcoF3/2IC1Yv+UWpO5wkyCSiQaVWqEt5PSpHrUqJH4/ehMXM4tICg/GmvfGZn5Esjy6MOY0hmC6wvM0/4c/m4OzJ/soQ6RGgEKQtFGALb39IOR6IGOEnKyyhH3YWRxTfBZfwUujr6THm3t7/3x7rufc8AicKDg+TEgoYBChRQeRVSGAVXopH7CikHCAn7jL8KNUJfev92iTOzLwksq+zUrjRvKm/z7+uwl3FA8QRxh3SgOk/BGgOtAIY9Tz4oQfmE+Qc1CRfJB0Y6gfhAtoIkQai+tL0UPfG+Hb2Bvip/ZAHnB2JOPdCazRrJcU2CVRmUmpA/UNIUzg8dvgoynDWPPFr57G+aaDslveOx4c1iVmT6aYow4LaZd6F3eDyzBSLH/sRbhpeSuNs11jjLOcbFyjCLx4oSiIPH/8O/fU25U3hVuDZ3pPkvu798hv1OvsSBDsL7Q8aHdM08EuDXjtmmlSvMCcYhx5xNtU6vh/Q/l7mhM6FtymvCbphxV7EzL5xvFO+jsCOwxDNytj45gb+mA5ABqPvVOk1+2UPORh7GTEayBcMC5T9wfur/Zr8Df/hA/sBZf5B/r0BghJNKbsw+ydsIeEyJlQLW4tAljN7RzJIGRYh4BLZjPTe+13Xl6uSlVCM7YfIiv6U1KSQweHb0tmTyxLZQgW0JbIgThhvNjVe01c0Lx0arCHsK80rKClzJ0IZr/w/5ZzeWd8e5pf1KvxH7CfaRd4o9kkLKRUSImEzUjzCO6BC2E23SIc37i0ALlYntRPZAQP4CeUzxy63j8Avy9XDWrbQsXi3er/px7fTIdxw2yTgrfBn/+4CCAPsBMQCpwC/BnkWACHRFicFrABqAnH/JvxjARALfgykBmQCJhHnLbY47SmbFjcdVUIGW3RQKURUS3NJnh+G6Gzbufg5Dhv5bcyMqGWUeozQjeaVVaTPwFLaCNYSvzfBJe1xFecWfA9BK0FVk1TtLwsbeiGJK+wpUCqIMj8qBQ2M74TemNhD3jDzNgcfAzHuztxY2rDmIPtpGhA4XEG8PKI2iDBHJwMlxDL2QBM7pR8pBK/1luThzIHBL8v/23jePc9cvWK2LroqxWLUM+MT7TnxtPFz7G/pcfaBC4gW3BFJBmAHDxH2DkUGigR0CHQHcv4D/ZsCJAXqAAX+XRZPNy07DCYsEqIcIDz0SFJHVVHjYtlPOQwb2BjeqwekGoL2ucYwqG+PyYL0hbScu78N3OzdB8OdrpXDX/Y/GEwYWxjqNJpIuy/+Eq4WlCo6M+UpOSc7LUUffwJB7Z3kvuN961H9FgVj+NHnltz62jHlnPvGHpM1jjMsMSA3rDV3KDYk2zVdRpQ7rx4FCioBFO4Y0SfGodFi4UDivNLkxCnBJsUOz0XaweOo6i7uqu766hntgPxoC3oNiAfiBVQM5w1tBr4GAREgEbj/4++K8R36Ffsv9gb5wBEaLGcrOxaJBD8RaThJS8BBYkXoWrNU2Boy4NDgERGUKIMHWdo8wCulJ4nNgAGVbMRV6D7lmMYYrnK73+dYB2cM7hgTNug/GiXqDuQa1zArMFojHysKOsApmwYc9P31ZPW06s3t1P7gAuHtHdDxyDHbCPS8CccSERbaG1If+R9/HkInXziDO24sJRmiEysXNgqG8Tzlo+it7Nfl4d0R3+ngfd392dHeOOnq7Ibriuib5d/qwPeHAYEBxftl/4AJbwlfBNAIqBQWE4cCcfVV91b9MfkR9Ln2sQXUGBseUxGYAxoKLyOSMw4wezY3TvFL0hoY64Pqegd1D2T3zuRN3wrHUZwmin+jdcve3m/X78j3xfHOT+H09tEImxviKlQndBdiFZgmCzUoLoYg7CRsMKIoHRTmCwwOewVc9Ljw/v1+Bu33nt+M2ODhAe4h+doCNQ6GF8EXbRWJGCkidCxvKlcenRXaFj4ZMQ/t/vX1pvKO7Z7mp+W97i/0cu6s5Vrj5+ew6iXt+/Fq9Dn1ifQe82rx9u2Y8Mf8qgb/BDYA8QEcA836AvPm9h0BYQIX+ZL3pP7r/UL4Z/1tEJIhBiLQHX4hTibtJD4hKSc4M88yVyFICFX2SvBj7Iro9eNu3t3VOMRqtMyyzLtbyC3SztkR5JHsH+898DX1EAFWEH0btiEfJVolICDhGOoXwB6vJ9QqlyWOHcIUCQqBBMcG+gkVCNUAcv2C/x39uPdu+vAGYhG8EMYNgxGpFHwNugLxAWIIwgvhCNYDz//V+APtW+PL43ftH/d5+IHxkOgc48fgw+Ko6bbw5PRd9TvzG/Gc8fH2Qv2a/3wBVwZdCRsG8AFmAkUD4/7G+0sDZQ1zDI4C4vvo/MAA2gRbC0gSLBVVE8EOigsID1Ua2CJ9HswTsQ5nDtwJ4QHX/zMEsAS++j/s/uIc40zp6uyG60LrSe//8BvpK+AL5F/woPfx9d/wXe+g727vlfKL+DL96v1n/eX+EAGuAo4BCf+iAEcFKAnSCXQIawn4C4AOXhP7G28jUSRoIegfFCA/H+QcQBvcGXAXYhX2E5EQGgnHAd3/xAB7/0v9F/xd+F/wOOmK58TqIe8t8O3tbepo6X7ukfRy9PTwB/HE8hnwRuzw7cTykfPi78XvZfUw+bX4l/ks/kECJQMuBF8INQ0xDsIJbQSfBHsKKA6ACWkBcP6xAOkACv1B+2P+tABU/Nbzpe8G8zP4gvmy+Vj/eghyC24GkQPNCQITUxYgFWcVQxW6D6AHBAQ0BvEIRAiOBKT/IPvQ9lfxP+zv63HxWfUD8XHqSeqK7d7svetm8zIASwUBAlECIgozECIPEAzAC4oNTRBqEy0T8wybBekC+wKlAeYBngY8CUkEDP4O//IDqASRAwQH6QsMCy8GvQUQCkgMywlmBCX+rPkK+gb9q/uF9QvyU/Mo8kXsLOvD84D8I/06+8j+uAOCAb36uvlCAWwJMQr9A0f9ZvpD+lj55vVH8lXxbfEx7hXnE+Jd4w/mouTq4lbowfId+O72DPjA/9EHKwu8DecSMhdzF9gVJxVZFL4SYxIzE+oTERUSFrESWAlpAr0FWQ7rEfgOsgvaCcMGkwSiB5UNWw+ZCx4IUwgSCgYL3wphCNMC9f27/fr/TP+K+m/1m/Gz7YTr9+yq7nTsnui/6PrrsO1J7p3wZvJ28MTuuPJD+mH/XgCd/vj5Cfbe+UADQwcCArX84/1V/2z8N/vd/5EDCQHw/sAElQ7gEgAPjwnkCLsM0BDkEWIRKxFDD+kJUANRAN0BgAMeAaD61/Rc8yXzmPC+7mLy1PeI9nfwz/Bh+fD/fv8F/wMDHQa9BN4CewMCBCoEEQbXBhoDOP48/p4Aj/6V+pr76ABMBB0EXgN4ArsAqgAtBacLbg7kDZQNAg45DncOVxBzEsIRiQ9DDh4NWQm7BKkDqQPcAMn8avu7+xr40PF07wLxDvHB7Wjr7euV6w7q/Okn7QPxCPJj76PqS+kz7vX1Pfrc+Gb2ivSB8dXw1vVN/fb+tfmj9/f9IgenCrsIAAkpDdIRMhNeEhkUNRd4GWcYChTaD5kNJg57DaoJmQYTBnYHqAUbAhMCywFcAJz+Ev7k/98ATgM+BdYCcAHVAfQDuP9Y+QgAmAnGDM8JRQt7EKMEGezc30fr7//PCBcLXQwiBOHyS98M2lvjTu6y+S4CBgbEA1X8TPZt8kjxbvUe/WsDLwQWApQBJAF4/1z/swPZB88Fof+s+c74vvsuAbEFqwQHAe39X/7T/gr9tvw9/uAAiAKLBI0IoAkpCskIvwQRAsT+AQJQB3gFAAAx+bv3UvgT+Bj7lv8iBDoD0ADQAF0BPQLIBHUK1A3wCu8DV/5Z/Ef8N/23//j/g/31+or6TftQ+df3m/m8/Z/+Y/3C/h0BPgFB+1b6Mv4hBC0JKQlDDBkIAQacBWUFFgjpBOwI2wwzDWkM8QgvCuoG3f/8/Mn66/1/+8/3yvfn9nkAAwtgFLMSZwK89tntXO3T8WX4WAc3Cu0G9v5I+Q/7J/Ya9V7weOtS5/vhQ+Ot4yXmJeyX8jn5h/lj95j1/PSx+ikB3gizDXwPyRBSD4kO+A67Eb8SUBCDDewKmwef/0L6Gf1sBSANxA82EngQywjv/9z8AgOJCFYKAQx7DDEMVwjaBPMDzwFoAcn/T/4s/Kr5IPuY+t/45PeU9kT2TfKC7sTshOqT67fuFvW7+Pb2ofYO+N77i/49AmYJDg1eC7IFAAPUAxQFeQdhCBEI8wRoAqsCQQBh/dn7TP8kA98BbQHe/z4AyP/xAHEHQgrBCigGqgC1/+f/pgRCB/gGjwbCAY39QfpY+kX+U//J/yUBTwEuAd/8s/oC/nEBcAY0BuYEcgSk/5n7lfUV8gvzU/FN89nxMO/F7RvoQ+je5mDpi/CW8WTyNvF+9hoBSgiTE3MbpB5QGp4RiBAtEOQRPBSDFvUVfRGfDpsLAQdwAKb94/1U+yX3WvW3+Vv9CP2l+935Ov3w//UAJwHn/9MBcQI2A0cGKwvfD14PCAzYBz4DMgHlABAAufw498Hzr/Jw8TjxOvIN9PT0t/N78k/xlfTP+4gCmQZSBagE9gPqAFv/eP97A1kFvQJ+/jD4LfQk8wL3bv0IAAACzwPFAwIC3P/kA1ALgBAWE34UkxWeEz8QwQygCJoEqwFZAGf9bPad7qfpz+Z35fHnCewt71rvS+2E7efuwPI++bb/WAT0BXYHWAlVDPYP5hFmEq4QsQ5KDekKmQeFBO0CpALxAUf++vrz+oT84vxq+6H8/gDxBSkIigjwChAMtA0mD2cO2g6ODqAO9AzaCe0I3gcHBUr+4Pm9+h75w/U288v0evm5+EX0wvD779LuD+wz7VDzz/tc/yT6LvQp8vfzcfgs+vT4m/fw9oz1afKP7/bvVPSC95T3wvmd/b//bgCEAc4GAQ+nFY0aJx80Ia0f4hvFFSAQVQ7PDkwNcQeCAIn9svyL+GLyvvFk9cD2p/MA8Pzx0Pdh/TICBQavCGIJnAnKCm0LoQtmC6kL1gqnBxcF+ANWAo3+K/p995j0KfCU7SHvQPHB7yXusfBj9Tn40frH/2gDMAKl/wYDZwqMDEcJ9AaaCGwLWgtCClwJ4AanAEL5NvUH9dL4bf3q/hD9m/qZ+mT7Ifo7+FL61f+iAp8D4AYwDGsODwu3BhoFCQV7AoL+Wfur+DP4e/mM+vr6L/st/ED85fq1+v/9VwFeAO//twNECAQJzAW0BI4HEglrByMFXwNk/yr6u/dJ96v3Efj596P3tvTw8NHw0/KO9fj59f8gBBAELwTvB+AL2gvuCpoOCxOnEbMMDgtnDD4LVwmYCLwFy/+L+RP3qvdh92339fok/t37WvgP+Or4+vnv+/f/fwXNCMgKPA53DtsK2QpqDM8JkQZ7B2AL0QuWBSAAOQHq/5z2HO9Z7LLpyef36ErxRPyi/j37vvjU8xHty+qd7d/yZvfE+Az5zfg595n3tfhi9RXxUPDe8TT0kvTD9iD/QgcVDoQXQSK8KyQw3CxEJ5gmoybmI/khIx9aGyUWPg9iDWsNYgeyAB//ePxV9pvxcO+m7yHvyeyf6sfmfeC92xPfT+Gq3XzjzOxL7jLrtes1+JgE2gflCG0QHBuSIx86ZUp+PDUsKCFoFmcFDfUGB4ogxhEx6FXP1M6SwB6mVJkQlrmQRoPXhrykP8AZ2dP2BRK7JqA861dGZ01pWGq4bRZveWRDX7JoqWSnTcs00CJkFLQAE+r62DTQnsk/xFLGqNHh66oC8vxm8evxePTA8BHm0u0TDBEeoh9vIc8jlx+KD9n1EtoPw2yzbK1MrlKvlbbvwgrIb8w92bnpcfYZ+fv3YQCNDmAaZyfbM5M7EUEEQdE5QzMfL+8m9xssFPEPhA9oCJv2Se9074jmlNyr04bQJeOLA3EcvipWNfxALktMO94d0StsTi5JASTn/wfvTuI7xeeud68GrBiYI42NktSex7bX0WPmWfneC3cjoTrwQfFC3EiHSJk8czU+PCFAdDnRLDAcOhEzBcPyhuZy3CLTdc2Ax3jH/dNM5JLnNe01A/kU5B0iHLIZ7CEkHoEYDyJHLSwz+ixRG5QAa+Ngz0LC+bRUpNigIKvZr8G3qMr04OzvwfaMAfcSnyKGJ70sXjWLNos2mDLMLc4sEyaEHdQUgw4xCmMDDP6i9gzzpfNV763tVete5U/lbOe7517uhfv0CYkkiUgDXZhgLmIdYFZOdCn8B8kJ/RRz+67ZuM5IxVKwEJnijrmQw42bhziR9KQ1tIHS+PtdFCEl6zqLTidTy0rRSdNOBEfSNKQuxzOhLCAcdhKaCFD13+Av0T/HssJQv5DBwcfPzxjhKvXAAhYNjR+aL2EucyvjKQgtezJ3KhoobikpIDESaPdI3X/QHciMwPS36rcWwYfLbtUP4AHxuP02Ab8E0gp9FqYiMilVLZ4xCzQSMm4tkiWYHKMTaAl2AVj7hPgO+cL38PHu653tqOyh4sfayteq10XXNtpB6Z0ABBS9HyYsujkVS7dYhU5QPss2fyveEoLy0e0FAQYA1uaSz+THFLsBoouTDJQUl/KUxprPrHjCv+CkAaIahCknObRP6VnUU4lMlUwkSjA8tzBjLdYqNiDJDYP+tvMM63PgGdbi01jX1Nru3pDqVfouBZEHUwmAF50lnCqBJ8IcVBmPFJAIEQWpCAsP1wuU+lPrPuLh28/VodCbyT7CXcQDy33RntpN6GD5TQRFCkAZQy+HOEA17zVcO4Y8sDSmLZEqJSG9Ek0ILAVEAC/4LvKL6u7h89vM3JLdLdlE2Unc09wA3PXfVurJ9MP82ASVDxUWzyA/OTZJbESYN0IwVijwE0L8nfagBB0Eq+603dbQLsasu0mtJaQYoLiffamEuIjFQtvF+bUNFBdDIw422EbyR9Y8+jdAOfgylikLJb4ktCOuGUsO0QzND+4NXwcQBMEG3gtwD0ISFxdjGrcXkw4bB5oFJAOo/vn2AvDQ8Zz0SvTH84vxb/En8WfoTN/s3kLgA96Q2WLYDN6F4ojj4OYR7APw1/LS9xP9AgI4CcYPthU3GtQdqSEuIM8cOxsZGPsS3w3jC7sJUQRd/6f9cPzI9ubui+jc4/Tfi94F4n/lg+eG7FPxN/Lp9pYCDRBUFWAPjhv9NZY3cCtaJ2gu5i5UGD0PDCKVKqoXRv9s8m7kOtFRwYC5trgOt226/cR4ylLQq+A37HvrRu2e9pYGZBHIENgYHCjWLOkoiiXlJ9Mq/iROHUshmigeJwki0iBvI4YiXBxUFa4Pewb49XLqoeOq2+XaYODW6YHx+PF79QL8+/lv81v1Z/oW+ODyQPSo/ET/rPhF9Df21fJe5w7iP+FQ4F/g1uFv6ufz7foLBNQMwRGSFO8ayiCLIRofox/FI2Ui/B3YGgMYYw/t/8v0We2A53rjkuGj5PPnSumi6qbsLe2x7OLsvu198cz2MPzCA4YRkhuuJXU8ukYWQBoxJyCfHfsQA/qS++gLdwuk+knx8/KF9nTrg9on2RfRxcKuwa3Gz8lkzgDZtORa7Zjx2f1hEL8NLgIyBewN9xKyEVgUtiKpKzEnjygmMzc1byxMIGEYyxJYCgEINQ5qE0YRLQ52DDQCpfT27vvs8eZ74KXiJO3w8qPx7vhzB6gN4QyRDSARpxAXBtz6NvZa8x/uYep26HfkceFo4Z7lAuoo6xvtnfXe/90CywZDCroJxQf5ALH/wwMYAJb6gPm1+979Jf0hAUoH9Qj4A5b9vP7a+zv0Su+G6xHuy/Be84/7kwHbB+4QyxV0FUcYHh6vH/sa5Q+pF6wqLiWIGZoV8BpVG6AHyf9+Dx0brxEZBTgBMv4n96Lp1eCp27fOAMZVwxTDQ8nl0jPdueLP52fvMvkrAEf91P9PB5UKOg2GCqgKSg8hD/URmRkYHusehhmWECMNJQqJCFQMNw87EWoTaxFmD0YMnQnzDD0NzAriCIAMFRKwCnUCnwMJBvEDqvnm9gT/kflQ7KzlVOOc40beUd9J5lbmpuno8YkAXwIa+/L8t/uP9wXqvu0H/h8AA/9C+hkG1glVBMgErgSYBnD5eflL+x34q/vJ9uL8+f/1+4MBhgE8AosEhACE+3f4iv8MBgkFgAUsB6QPpBDODDgT7Q8DFV8YKRJIFPwSmxtOHiMTnw8eE2QSUAQg9r/z6/B67/bsge6a9t3yiPBb7mHqEutd6XnqxO5V7TjuyPVU+yb9J/mh+Av/ygFa/ywEfAvzB0cHGQhnCkAQAg8lE6AVxQ87DRgJtAR4/AP6ZP+A/m3+AADlBpYL3gi4AZP/DAEu/uT4E+/87+z25/b279/wZ/1HAsf3lOzC7Vf2G/Oz6G/sevjJAn0I1gqJEz4jVCNRGsIXIBtQHCEXiAYBCTwQQQHQ+bnwavmN/WvpGeGW58LxaO1d3RDlHe/x9Zvy/+jc+rn7BP2m/9/8FgLxAnwJmwi0BuAOJhKHGjAY7Q2EDj0EZ/wc+0D2I/L6+3n/dgLEBzsHtA+4DE0FuwSRBhgGyASxBx4L3BCMCokBtQdkAj3/hPeI8Yv4DPgN89/u2/Ri9cnzr+7l8ZX6Dfqd93v5GfbN84364fxBCFsMGRSwGGUVzxN8DBoSKA0R/fjzl/ID8XLsK+NF5VHxoe2m8DbupfY2ARAAbQKABtoUWx2/ImQiUiJhHk0jIx6DEuILsAo9EjcIyPy69R8DWwPR8h7pYe5O9mrtK+MW5k3wue6S8dLuFPU1/ksAxAKK/vf/a/z/AFUA0vgv/wL98v8l/JDr4uwa6tPj0t422RrkTu889u70k/pZC5UVwhHtEMMcrB+GJOQUnhdtIVwczBjcDxYZihSGFy8S4AhlDDEBWf7e+d/yOvdiAMcB0PnG+FL6mPmG9sPxX/H49yn7d/qs/Xz7LgiEDm8JgALD/2kGIgEJ99bvfffJ+2Lzfuzp7GTuMfYD9n3sLu3N9YH8+vwn/ub/jxR7E1YMvw87ELgbyhOLDD4EsQQdCfAEB/yx+Y39sgA7/4HzKfiI9lAAHfgV97v1TfnuC+H73P+KAF0Qeg6YCtQOzQu1GcULrwtREYgFWAOp/kj+PPw+7FrtSObi4dHc3dSG3MzWtd5c31rnyPN76xj/ZP9VBXcPggsGEuAdIipiHGYdGBdYHxsj9guOAmcKnAkWA6/8N/SzAV8KnAV38eH2XPrJClwGRPLh/CEJIw84/vz7XgLREHEMKgOOAdwIQw4IBqj+xPVy84DyAfIe7xfprOtf9jn4sO4T6VX8U/tc9kr26PXyB0AKTggkERkUtRQnE4EKGgcRBrL/ifZK9PbtWvPD+K71a/gI+Bb8VgEc/kD8D/8DAzUIFQFs/ucHNhRHFBYOVA8iD/cYEBNH/ykC/QDSBXT8yO2q9hz0J/FZ66brLe8r9Ab4UPTX+yX/2QASCUcKSQzrAQT6tgTXBZn/GQBIACAKrw08Amz+vALJDd79hfbP6krxMfwK7+r2FvldArYA6gPS/24Iqgx2B3gQhAoMEHwPjQwRDTQIdAHs+zj12fgZ8PLt4+lW6E31Punm9JP7ywOHBUv9HAV+BnEKPgIiB3kE6ggJB60CIhDuBaQPYAzYCQAMQwbyA/f4qPpc9tP28fiN8Grv1vyb9wn0eviQA6ATnwUhBuwKgRZ4Fz8I9Al+Cx0SxQOL+ED7e/un+z/u5uWW7Cj2V/Vx7HbmMfnlBPcANvjZ8oAPfQ7SAvv7mgEbGioQdwTU9MIEvBC1ApD7ru4J+9gAN/Nd6/rzFvxg/+/19/da/BT/eASA/wEE7v5pB1cJQwaKCnUPNw7LDO4JbQlFCaf+EwOZ/h4Dj/+K+ZYDYgKB/iT6p/WL/YP6vPfh9TLz7f3j+vQDrgL1BpsNWAzgEioHOAaVDJANUQrF+yH9y//u9/v0C+/99ZL1KfQX7SjsEPjQ9dT3nPtR/b4ApgyhBosB8QtPDdcIlwkWCkAJ8xCPBuoFAAhn/UX6oO+P8azvM+md4vflnvSu9v715PKNA0UQGwpv/0MDmRVFHc8PZQaqEZIZVRpPB6QE9geJBBD+o+we7dnvdfgs+Kzv9vDL+c4ExAEo+cL6AQWJBCEFyP2oBGERIAx6DZUHcQqBCmQQ0gmP/Tf8l/tP/Zby7e7576L5ofRf9trvfvQSAHT9kwJ092wAxwiuDaUKFwaHC4cOswj8CTADXP/RBe4C9//h8ej5WvnpAE39M+0t7nD+4voR6m/2Avih/2L5cPqd/z0BEQnpB7oIKAoHBM4N8QyZBZwLWf4IA/AALwTvAGL1JgALBsz5OfJ69zwA6AH+9Cb6UQD6BEL+zgCgBIkC+QhMAcYBOwJIAtQBVfgR9gv7UPwB+S71N/jO+6b8z/t0+ZoAqAkwB0oKogoFC58R9g+bDWgMaxJ7FHYOAASfBGgENf6j93nwM/C8733u2ejz61jtZPVX+A/x6PUh/FUBKQF2/osCtQP5BB4JIwa2Ct4Hng1zD8QGfQuHC1cPmgj2AtYDNAUHBFsBQf4I+ZEB4/2n+kD9ifp+BQgCafY+9j76IAA49GfzDff49iL8IPh4+dj3hvcR9s32dvdO9j/7g/+TBF4DGgRyD1QVZBYMEpsQ1BtkFT0LcQbZC8MPDv7g8o/28AFj+VTmlOnw8bP2Cezf3nfrG/Wm8hjkQeNo9Qv9Xvm89LP96QvcEPMMoA8zFt8dih1FF2oXXxw/HmUbQReuEogQwAqABpUBb/qt8ajsi+dC4v7iGOI05KTkiOKL5mztO+2P61P0gvpi+B30u/YRBKkLOQjQBgcQ6BkaHXsYYhtqJzwoHyLkHc8fRyaPI58WnxJrEaUM2Qhc/2D7KP24+IzwsuiO5rvoI+Tt227XfNk43w7butmH3LngB+VW47rotO4T9S/4kv2wAjoF3g1mEwkZTRnzGcEfbCEDIcAg8x0kGSITxwyMDSYKbQEl/z4A7gAe9DjrYPAa+Hj2YOtu6tfwb/t39rzp1e5F9tn77vlK6VHshfmE+3z3ye/A+38K1gxUCAIM6RlpHkQcCht6HD4ckBzpHfchGyVTIDkauhOCDDz9x+wn5w/fCtOyxYzBZMaGxJzAPsRuy23Ov82N1tjng++/93wIQBvfJQcuCTh7QmlO6k3wSdFJIExES8NEezrULyYrICMbFzkIeP9J+5Xv6+FZ2pTbGdnt0MHHCcg6zy3L3spm10Xfl90W2F7Yf98l31HguelO8TrxFvAJ+tEHhwzsCjsPBRc+Gt0W3he+HtsbaRKTDeUSpBbLEXATKBYZF0kRcAk/Eq4VYxGwCTEEzQhPAFH2UfI278HuduTH3EThPujJ6YnqqOzP7oT0WPbM+GL+yAO8CZQQxxbOHnouujaGNBMy8i0yKaEfSRQMFQkbzxMLBgL+tfXs5wHSR798swKnHZu0kzKWu5ujowCvz75Q0QbdV+1bAQoPWRrMI702Oki+Su5RKl0dZmFm2F91XFlabFTpQaE2uzHPJqkcyxGgB+P6SPHj5A3bvtaK0FDNj83q29Pj2OOO6wjtye/w8qLtzvAp+3r+9/zH9+/xcOuf5U/fUdvt2XjTbNOq2LjbieF15hHsV/YS/L0BzwtiFucbHRpaHR4iPiMLIIkcxhogGVwWQQtpCWcNtATV+/r0VPHR8kTuT+wC7sXrb+3X8Cj14/h9/i8GPw0tFeoZOiZMMOgvhC8NLJss2DaXQSdHWkOpMyol8hWKACrxou7I8AXrKtyZyRS8SbKcpZ2YgY/TiW+H84gTk/Oj8bULztPnlADJGGcsDkAZT3ZVJVnaXKNifGYKZV9eBlgxTiA/pzIJJjIXRgbF+UnuR+Wd4svgiOTA5e3iMORh6c7vEvQeA2MUDBilIckyMD3mPJArdx3HHYgN5/Q86pXjfNRPvSKqeaEXnDqSf5N/o9yt1bImxaLiV/hyACIK6x+UMic3XzayOw9BUjfWJeEcDxnJEscK9wKd+ATteOJm3Y7cxtW00HXUA9vG4M7ofvZyCC4Y2iE/K8M3i0OtTAdTVFmoWzxb1VtXVbhK+T3bMOQp8CStGCsJfPZb4PLNa7zar4yturPgugm72bEjqWGoa6rbpz6fUZmzmUaew6XOtNHL2+Qj/ZcQkyNLNmBAMUnFT29NfkqlRpVEg0Y6QoU8KjjAMHQn3x0LF/cPwgcnAqQAigKCB+EMSBRMG8gcCR0wHs0iDivDMkIyai4rMB8sQyCAD6z7xvV27erYoMmwuDao4pqrkLyM2YyTkc6bFq7wv5rKo9xe9RQIuhjAIQAn6ipJJoYhUBqBENkGIPuY8x7vyef84r7htN+V4LPgT9+G5HTua/RD+aYCvQ2tHJoqVDcpSINX/2ALZoVp0msParVlyV02T6FCNDSMJeYW/wP595Txy+1n6cnf/tTAytnBO70au3fBcMx/1ATYVc88xd6/kbmdstOmJ5ifkA2QL5d4pay4idMQ7ssFoBtJKZk0lj1dPvk/xkCXPLk7cj3jPwtF8kc/RjZE5j+5NZsq0R+9FYkPJAyrCmkK+grfEBIcKSW8KQUoHSYTJ5QlOCZDKvorgShOH9cQ9AFO8RPezcz5uYemlJY2jLGKXY2jkmWeRqxvuw/LNdno6Qz4Uv9+BecJIgtKC64HGQXmBAv/UPff8Y3scOiP5LbhEuNM5dXllegL73j1c/zWBdQQoR1+K0c6JEsZW8pmuW+Vdfh1pHJMbK9hk1TuQ2cx9R/jEDsDv/TC5yLe2dsI3wPgZuAP4XPc+9TXzyDRH9gm3k/g995X26HTfcikv9y2Y6sEo8ubTJjbm3Wj7LDQwNnQG+JI9HIIlRm/JZcxrzh4PqxEGEbMSKBM9U72UldV8lL4TBxEoDl/LZshuxXjClUEPP+d/cIBIQaeCgQRFRjmHzEndizzMJYzNy8ZJiUe6hT0CU7/t/O26NjaVMuuwCe4nLD3qR6lyaPxoXSjD6zTtH29rsbcziLXFt384CTmdurE7MzvHvR49pr4p/6FA20EgQLz/9YAQwK5AbADXghuD1IXBiAELn486En7Vfpbl2ALZgtnqWQzXiFT70kXQak0rSewHNMTRQsmAJH0JesW5QrjHeEk31HerNuT2LDWXtSE1tXdweLb5NTkWuGs3ErY8tNa0CTNq8fOv165JrWcsyW2VrpPv5/FNsxi0sDageZy8gz+EgpHFLEdEyhFMi89LEdkTs1UlFgQWB1WwVNqUFlK3EIaPWo3XTGhLB8pESeHJKEhNyKnI0MjySKrId4e3xjCDpgF3P2589npiuKS3FXWXM4Yx6HCTb7husW5L7h6tGSwZq78rvWuJ66srquugq5fsZS36b+EyQ7UTuDB60H0cvw5Bq8OThRbGPIbTyAJJMIncS6RNgU+c0UATZhVEVyOXXxdrltQVrZN+0J1OiQ0+SytJ+AkhCINH3cZvBQhEloQihDJERYQLAmv/pXzFOmg4Nvcpt7u4HzdYdRGyLe81bM7rZ+pk6X9nk6aQ5ixmT2gpKhwsSa4Vbyqw+rOQ9x26sv3RQQlDRsSNxlxJOAxJj79RWZL6FBNVfFXzFlBWQ1WjlJbTspKoUh3Rd1CCkDmOmg2tTKkLxQurCyBLB0riiQFGx0RYgf++8Du/+Nu3P/URMzawuu6vbQasMCtC6ysqYGnCqejp1KnX6bapcSlNKUQpd+oeLFBvfLKB9nQ5o7zO/8hC3YWsx7vIl0lNCg9K0ouRzEeNEE3kDrkPupE+Er+T3lT8VPYUPpL50fZQz0+0zdKMrouhCvsJ7clOiTDIUUfcx8jI90mryU+HAkLA/fU5Zfa4tS+0ZDO4sgYvsKwg6dypMejMqGXmyWVsZCxj4OTbpx9psCu0LbAvxvKZdcB5w724gAQBgMJ6Q2RFQQf0CrROIhFYk+vV/1dYGEfYeVdyFq2WANWcVKaTtVJGURgP388oDp8OW04fDesNjo0lC4bJvYb5xD9Bcn7VfHc5mndUtNRyP69LLW8r2Wt7qopqOCmf6Z6pj+m1KRxo/CiWKOXpoKt6rX8vWLFpsyc1AzeMuns9H3/tAfHDfUSVheUGvMd3SEvJekoxi59Nsc/V0l7UTdYrVwYXn5ezV7zXCJYKlFUSfJCxz4hOxg3xjJtLSwnsyL6IJwgRh/WFw0IVfXd4zfWudBr0JjP5swCxva6rbHoq8mojKhTpfebPJP0jraNWpCclSWclaU2sGm6ascn1hviIew29Yr7YAH0CVoVKSRANDxCXk+9XGNmi2uKbghvXm4KbqBre2bJXyBXu07CSHJDhj3/N8AyMS6zKwYqwSYxITcZrA+6BhT+VfSu6vjhHtkd0GfHZb9OuXe0Fa/nqfGlWaPzoaqgfp5xnHGc1p7RohWnoautsRu5q8BeyEzRadyW6I3zvPz3BKsM5xNnGuYf7CTRKbguKDSQOmFB/khbUYhY4Fw5XoFdfVx/WzBZLlaLU/ZQgE4yTBRJg0SxPTY1ri4nLKQrXilKIecSgAHn8Hzjktok1vLTLNFTyj6/t7M2qxWmt6Fimw6TM4yBiQmLto/flbmcp6SfrYa3vcKtzhjawuQT7qv13vw8BYcPBRy6KZk3e0XhURJb7WAkZJtlHWdKadpqHmq/ZQ5eKFWgTHtE+jyxNq8xQS4fLOQpEydcI8EdIBa5DVEFS/2v9RDuquaw36XYFtLszO7H7sEavJS3gbOQrqeojKNpoC+euJzvncihKqbfqgSxhLiOwBjJf9Oy4GruxvnAAgkKJg/tEuEWIxtIHzAjbie3LKcytDiRP7NGqktcTalN3k5LUQVUu1YaWTNaflnHVtVSRk6DSGpChz6FPOs59DShKzsdyAst+ZrobN4a2WPUbs6zxf+5wK6YpV6e+ZlOlaWOgokRiB+Kw5CBmhqkSa0qtRm8IMUe0PfZneKM6pfxrvkNBAcQjh2xK2w4TESsT7FYbV6jYaBinWIZY7Jj+2LUXyBZUU9uRV491jeuNf816DV2NM8xbS25J6UgnBeRDa4D3/lT8e/qN+Vx31raptW20NvLwMaIwY+8+Lb2sFes7KixpcKjtaNBpVWoQaxjsB61qbm2vWHD2Mse1gjhPOta84n5Cv7MAYoGowz5EqMZEiH/KF8xAzq3QhdLMVIyV3Fbyl+AYwVme2exZ6Fm+mOEX7Ra9lXjUEZMb0iNQyM8WjB7H7QL2PeM5nLaTtPVzYPHo75QswCo+Z5SmIKTTo+RioKGfIWXiMKPapmnoj6q6rDvt3vAy8q+1Hnc/+FB5prrQfTY/wkNfRrEJrAx2Dt9RXFOQ1bcWyVfRWHlYrljomPuYbxdAliuUYZLy0agQ4ZB8T8APvo6iTZ6MBYojx0vEoYGS/t08ffofOEh283Vf9H6zW7KY8a9wVy8NLbGr9qpfqS0n56bOZgIlniVspbCmXmeSaRFq0G0C78Uy+vXgeRP8NX6bQMIC4QSjRkFIKIm5C35NRc/2EgZUh9aR2BNZDJnVWlqar9qWWrAaKplwGC/WjRV+1G+UPFOeku+RK452ir3Gd8JJv3L9OjuROgk3pDQGMI2ttat96ZYoGCY6I8VitGIsYydlBOeiaaOrIewB7Xzu8XEmM1G1BHYM9tK4fTrJfrVCHgVEyB7KSYypjrKQk1JoE1BUDZSElTbVTpXk1dUVvpSmE11R9hCk0DeP/o/hz/OPfg6eTbqL4Unzh2dE1kJuf419MHqI+Or3QraxdcT1R7QtMltw4K9qrZcrqWmuqHHnzefXJ4lnQyduJ+ZpIaqf7Igve3JU9bh34rn0O+r+Y0CQQnODewQ3BQ0GdgchCF3KeIyODtcQ2JJ8E0nU4lW71cFWNBXeFe0WDNX81MHWVdhfWXHYG9VpknrPdkuihtpDc8F7v0v8Wzd1ci8vC61L6yhoDKV6Y9bjqSNG45jlEyiELQexHXPttjl43nxOvsU/ZT45/Lc70Tv7e+O8iD47v8tB1ELfQzRDUASYRf+GQEa+RqmIL4rTjnQRPVMNFM4Wf9d8l4vXAtZkFYSURJGLTe2KIYdShTnCT/9tfFG6ujkrN4S1+DRr9Jg1pjXW9VM0yrUxteZ2iXZ3dSM0V7PvMs3xvXA874cwBbAor37u769kMM6ytnOMdH11AHduOa37mv08vq4BKQQOBuMI3IseDjwRYhQh1YbWgxeB2EIYN1aIFQ3TtxJkUiDSgNMvEn3Qh44+SmDG6sQqwxvDdYLSAMP88Pezcoju9quxKEdloqPhY9tlJuasqMksmfEitVF4GLm/OoK8An1C/f19+j56PvS+9P4t/Xp9Fb15vN37nXobejF8IX9dAkWE6EclSX5K54xSjk/RNBP0Fh6XpxghGDAX2ZdaVdaTVtC8jZcKMsUdv6L6//dH9Vo0CnOMs7z0KjVuNqW3ibjk+pK8oX2qfZX9kn4Vfha877p49zY0a/KncRkvQi17a/QsDe00LczuyvA+Mb1zBLUq92Z6AX28APlD/AapCbWMyA/PEa4S25SqllyW/xWlVIuT5JKpkFeNWIrIiZJJk0ncyXgIiIgmR3MF14NtAjhD8IbRRw5C6v0NeHI0F3A+q7SoyOhlqETo52jWqXUrHu4dsM0ym7SPOJt8x8AlgdbDl4YPhw0FdUJaQC+/Hf7OPr7+Pn1VfXY98j6/P39/pkBYAg4DgoVUyHXMopDekvwTVZQ6FKOVsxZZ1zJWzxTo0UVNOMd4QbH8QXh0tPryAzDgcEhwcy/rL92xdnQo94v7FL4wwJoCh4PHRBZDFsEyfjY7OzhRNfkzmTIgcJtvCi2z7PttI+2ibkIv6fIi9Py3R/qx/X9AekQlyCfMMc+ZksMVuJYJVbOVStbkl/7WCJMZ0LfO/I2xjGeLbkoKhu1B831ZeqZ6jb21gmOGJQVsQW68EffJNXNzPTGTcIHvqu9k75gvnC7B7oOwRvNSNsj6tT4PQdjDRwJnQMuA98EegFN+YbzP/WE/MYBogGP/Bj1XvKV91wAQQmwEmAaSh0zHzYkuiv/MW4ywy+tL5Yz8Ts8RR1HhjxBLMcfPBUdCm3/v/XR7/TpYeD91VbLvMFbvAe/oMqD3JvyhwQADT0P2QySC+YObRBDDEQEhvv28sro/9uezsHEqb5MvJXBnMqo0GvUkdWN1EHVLdni4EnvUQPqFB0h+invM3lBdEhXR3hMq1wGacJi5lIpRac9Uj7bPNo0iCNvBnjun+HP2afclu6PBfcIKPK31u7FQ8TiyDDIbMnRyrvHq8jUx2DCb8H5yLbaTO6y/jwPNRw1IdsX9QcSBbcJfgrzBj4A2f/8BKUFRAP5/KrzZ++L9AcEcBQOIJsnWiRfHDAZtB1aKhQwYizTKSMoxCgHK1gtqCv9Hi8OeQHm/FD+DPsy8qDl6NVQyjzERsBSv/fDhc9p3j3s0PYs/cQBUgNRBC8NCxmAH40cnw/gALT0MetO5BnfTtvS1RDRDNJT1XPXltci1f3Vkt2a5m7yaQFBDasUuhd/HqkuoD1oRS5IP0+sXL5elVTvSXFEI0rMThBHljNJEx30gd3nzLLJVNeU8mMBiurRwY2mX6UssvK3dLqkwTDI78nExBe/1sHrzVXjz/rpDpwj7jIpNMklzBL/D80bySMdH6ERfgewAUT5YvEd7dHstvE3+xkLmB2DKiEwJC3IJLUeeSCYLH84UzpNNVgu0ilaKJ0niiNAF9UE5POz60/oXd9h0r7GWL0Lt620Q7gdwN7Fs8mI0Yng7vHK/dkFFA3sE6gdFSbGKFYk0hV9BL34r/Ep7sXsw+lA4urXmNHi0xXaTd043kHhNubM6e7wjQHxEdIWuBVMHCAugT7lRM9NK2A+awhiNUsEPSBIyl3xZhhYNzPrDE3vB9iYyx7OjOLa8kLgn7VAkVGLAJ7CqWet0LPPuvu/2bqzslu1nsDA09XqLwX7Ig835Dv/Me8itiLyLic5JTj4KdkZ1QwPAJf0eu4P8Bb0OvqDBqEVXCE+IysfYiAEKgw5TUjJUuZRUUP+MJsl0CUeLecu8ibYFrkAY+zO3CvP28IUt9GtQ6mJqHCrHa9RsdqxwLQrwwzaiO2s+okCHgpNFXgd4CHNJOEhRBlQDg4Fj/4Q9xjvX+Vl2yvWGtQL2IffXuMh5p7nUem77+D5egU4DnEXvyS2MKs6jUKATeNdSGbiZL5elVjyWYtbb1e8SFUtgBKX++DpiOH235Hl1OEqx1mluYzSixieoaypsqSwHaxerVewGrgsxibXUOux+24KnRk8H4McGBVEEEAaBCzUN1A0rCB2Cj35gO4B7LjwHfwMBaoFoAb4CmER1Rk3In0s0TnWSRdbbWMpW5xGcjPrLC8vMTSYNycwtxu3AMPo9dlI0KjH+r4DtlOuaqkfqmyuvLG8tpHAmdBg5FL0Uf2mAFED4QnmEugb3iClHpYTVADp7nTmTOZE6Ubm1dyB0f7IEscxyr7Rv9o74yrtbfZYAc4M1BTzHc4m/C4wOiVKv1+FbzNypGuWYAxd/GGCaIJpwVZMN0UbCwXC9QDtGvCd91Lpz8PfnL+M55jjqbqyuLNMrUOoeabFp8KvRb7T1QfvfwAND5AZjRnxDP37xvw7FNEtujfpLhwcrwZQ8VrilN7y5Qbze/zg/9cAaQFqBakPuxvRKBE6kE0iX25mOl9MUmhHQkGeP6I/7TycL+sY2wL68BfjstY1ytG/MLTMp4CjIahtrxW1KrsryJnaceu79wsA2AYFDRIT1hr1If0jmh70ECT/pu+t5kblWebE4s3YHst4vr22ybXJu5rE9s0m20/sHP64DCYX1yPJMN02rTtpSZRh0HP1cyVr42K+Y6xpbGeWXtBKQy8GGawFM/l/+JoAswKj6I+/caCEl/+kibBctda41rA8pamf66NDtFLJYeDF9FIFoRNOGAEVTAtt/0gC1xOkJfItWyadEG73VORI3E3hUu0F9+T70fw8+uX3L/4CDdAavCQaLmY9NFH/WR9Ww1AoTs9Oi056S/ZEtDa6JPwR6/4t7kXe+dGvxWu0Sah3pfqoPq6WsVi64Miz16PlGu+U9lT9egIPCxUVHR6cI+oeHRNxBED34fAj74Hwq+6N5LzYY86Txn7Bh74RwQ7H3c7R2uroN/YJAmQQOiLxL5Y54UbnWB5ptnBjb1ZnSlzwV8ZefGUlXRRIvTF5FzP2NeCd6moGZgkO5sW3d5u3klOTQZ4YsHW7SbrosHCnFKQUr+rL0OsPAIQPESbpOCsxlBTRBDsOTB+8KM4pPiX0EWXwhdZa0JbYnuNE7Uj1ZPUE9hECIxMgHBoXCBb+JjU+HFCAWuFg7F8qUylF0Tv0NlA2XDUlMLYbz/eR2I/HTb5us0qqN62FtCW1gbGxsde6/MdP1tjpDf8ODwQXrxekFa4TyRRoGkMc2hQjCSv+YvWp7TvmeuGH3oXXC825xU/EU8aZyAzMLNDa2ODrdQCREFoaIx9qKOYwyzWtQXNajnNCcq9aUkLGOS1Ip1QcVABL7jb/IDQILfEr6r32tw3rCmvmQb8GpiyjYac9ozio9rOiuLS1z6xPq0e2ZcnZ4Ef04glMIEoptiZbGtgQXxsvKwsxpCu3G+ALNAEY+Bbw5+xe8fb1ovU699EAohHGHv8bPxEaEAwbGy87Ru5TOVY9T4tAZjCMJNIj4isdL88hHwbY7aven9DXwdm1wLIst7q8RMCowUvE78YYysLRN9/79HwL/BUXFXQRqBBgEegPKAz6B4sDmP6M+CTxBumY37nXYtLrzWbQ2dgT3RbbzdYq1k7fQ/HmBWEZLidHLWsxXzYePDlClUoTVyldQVrKUIhCrkFmSnFN2EoQPAopKRbd/nrxlPLy/64HyfHKzNmnBJKtl+Wg0qUBqvenNKbKn5yZTKOgucTW+uz5+2wRriJEK+crHSINIIQprjP8OIwxoCPrF4EOUQYw+w/0zPUY+tkDyhDkGT4fjRwcFEEPSxFYHFkw40QTTM1BFTLTJw0laCfMKIUoxiWjGcAF1PA53ZLMocFAu/O1qrNDtve5Z7qvtUKyALzSz6rihfKO/8UIOAxOChAI+QkrEGUVUxahEy4LbP+m9WLsRuSg3rXcWN8p4NzbQtU/0c3SttiI5J72dQjVFh4ipiv4NOI5G0BpS7BSzljuXkxlYWmSWzpJUkQjRuZFWTZxJcMcZgoc9QHhfN048T33S+lMyXygr5BElayg3KgJphOoT6geng2W85oNuJ/YfeZI8u4DTxbmIzwi8hrhHaUkiyurMMEu3Cs/KWMkiRoiDTEK4xLPH3cswy6nLKctrChCHzUV9w1NEukeOyntKvIlER+TF3UQEAynDlQZUiOTID8PuPji5MzXQNL9y/LEdcCCuv61q7Gnrx63/sLZzj7YR+AL7Jb3rv8SBEcEEAd0CxwM9ApGBn4A+f7h/pP9cvpW8uvml90G2C3XcdwP5gjt5u7X7vTx1/u9CWsZhyj1N4dENEsSVXde4WDZYK9dplsjWDBNYEm8Ti1ST0SeHq/9RO6Z6NXoluj98Jz/Nfzy3q6ySJIrj4ubWaZapCueLaLRo5Wc4JUDmhCwKssb3nruFwVfH1As9SgqITYdGiROKnwnnSiVL5k3MTt1M4AolCTSKqwzRTM8LlIqFCs9LiImbhj3EKALTAYLAfz+6gbaFOcfXSQ/I30fqxqsFNgLxQE1+iD0Cexz387NAbuFrXOnoqW2p4Cwkb840Djaad1L497qJfDg9SP7TAC1BAwGHAeaBY8AvPv/9fzvweqh6vzxVvWV8A/pLeEu3jjg9+Vm7874TQQBEQYcrijSNttEm0/YVt1ga2ihZkBhJl8AXdFPFUO9SeVWilE2MvIOof3h9OLr6epH9rIBcvt448zDBafZmjWcQ5s9kq6JG5JlpC6p3KPsqHu9rc4p0+7cYvScEMEj2CYoJSAkFCN2JDojSiHRJis0BkCNPtk3pzguPHM6By7NHWIY0hv4HksdXBazECYPswtjBAMAwAVUEkcczyFhJIgl/yXNH0IRvQD08trrjehk4MTTq8fzvRu2HbEmscy1L76Ox/fOBtdd4Y/r7/JR9V70k/Wj+mb9y/oD94T0XfQi9h/3Gve29BjufOZc5P3oM+4g8sf0G/Uz+Gn/kwfcEQsd+Sa/L2M4G0R4Uo9ewmF3XPVW/E7nQ3E+ajt7OrdCRE1ZS980SxfdBqz+we8I3lLfw/IA907kfstBsyKijpkRldyQa4p8i42Wdp3pmlmewbZUz03SNdJm30j0FQXLCy4TsSEEMWg7iz6OPZ47Uj0WQoA+3jU6NJE32ThUMXsiIRmcGkIeQBzdGPEZuxtSGsUVbBDqDqcPkw9AEisXbBmOGXQXYQ9aAtT2CPAq61rk3tqn05vROM7SxMa7xbgRulC+ZsVOzxzb+uSZ6zjvru696ybq9+of6uPo3e4i+Hb6MPRT7Tbsbuu+6VztGPUm/Kb/2wIDCBQKTQoIDQcS0BUVGcEk+DQQP6pEd0hhS+FMEU+xVXBaJFW3Rxg+wznWMRUvUzcQOa8negzQ+U3v1N4XzWnLnNio3djT08s2xve9erl3taCoYpRKijSUO6C3oWCn47411yrc/9sn6ZL9Rg7xGdAjgSxANDc8D0A1Ox42ITxnRZZBwzEFJt0k4CUnJOchGyQMLPAxUS7FINYTYA8ZC6AAL/UT8ln6dAa5ELoXARoMGhUYmA8UAtf4oflv+j7vnt5Z1OXQ/Mvdwq68e7tHu6y928RBzSPVZt2F5bPpD+nG6vDw3vPn7drl7uZJ7tTyevTT98z+bwRSBbQE8QRVBxgJRAcSAYL4tvbw/ZgH5xCtHSAwWUAhR4JIFEtQUbpXkln7V7tUv1DmSrE+bSu0FgIFmPQn6p7wzv9xBBD52ehk3dTR3MZux+nWg+bA5m7dJdNsycPFFsj8xD64p64psSy20LLarrq6StEO4CDnYfQpCa0WNhleF7QUqBjrIeYpcC3fLZM2jkfQUh1P8UG7OiI40i/mIjwW5xIUFnQSIAis/nH9ogGWAjoAif4rAuQJng08DckL7QzzEqQTRwrx/jH6kvrC81vkGNej0LzO28uSyvPQ69eX2uLXIdAiyw/Me9PA2wveDOA24xDnA+n35R/pXPMC+8L+ogBWBRIIpwSMARL/v/+7AsgDvwpsEukWuh9IJlctNDJyNztCQUfUSoFLVUkpSIw+0jF8LnEpWSMVHCYSlgr6+DfsoeeS5fDt//Xj/1cFXvuq9i/1FPC76tLlju6n8jHrR+PU2MjSh83ByIjEwbkksiKxj68NqW+m1LQ4yCTVRuFQ93cRiCFlKlIwPjWaN1U0qC9bKdYkHytbNxZA8T0BNQsvYSbSGhwRagu0C+AKQQphDaEPaxACDYIHNQRrARQDHAiuDJIPRQ2JCy4M+gjlAoX+UQGyBIL9u/Du45DWV8gDvoi/icfrzPvRsdaI2DjUa86C0KbT89TT17zerubN513pM/JO+4j/1AFUCtsW0Rt9HJYdNx4UHgUeAiILJUEhKxz4GtkavBmyGRYf8CNdIf4eaiBdIi0hgR7+H84hpR9IHMYZ9xc0E8UMzAd1AycBkv5r+5r5Qf5QCdELxgOH+O7w2ev23knSINAG1t7cjtrF0lLO6cw50CvMwLz4sgy1jrzTvDG4YsCF05HetOUc8NcD1hs7KNEybTdgOFA/uj2YNcsstidrMEYzRzHKNZQ3MDtvNtctfSoxI70eaRlgDhIIOQTrA98BUvlp+Dz6Ofsp/ND9/QOJBUIE1QOY/6z55/MO8t/w7+fP3kbXPc6GxSq9HroVtw+yO7S4vODHBdIN20bnuPLs+J/9DQIfB5QMrg/EEe8S1xFYENoOZgxKDI4OhBSKG+MciBxrHYAe+R3xGY0WBRVvEgURgxEFEysVgxmyIVsrBDKLNP830DjXMrQnPhltDqIEo/g/70rnqOPA407hxt0K2ErY6eR08BD2pvdg+gcAHfw985Xx6/TC9QXqGdnIzx7NHM+TzKjBg7cftK+3LrqVuUvCSdQ95AvtB/OyASUWtiYtM/M6ikLaShVNsEr8RaVF8kugTq5NIUx2SsFJJUR6OnIvoCKNGgkV9g1mBv38rfK75S7ZTdR60mXOAMvQzLbSdtdg3ZbnKPCE8TTwCvG28YvvXOwP6Uvh29UDz9HOzM4pzSLPfNaO3EfedOF46WbzyfvjAjQJzQ3UEaIWIBmgFmUSzBDrEGkQYxOhH4Iw7jspPgA7ETdZMeEpvyK8G1sU9guaBC0ALv/aAYwF2AdUCO0IjAoWDEgNoQ2TDZkMewgUAeD2De3O5f3dTtc11PrTcdQW1Fbax+cN84r6mAHuCWcNKgi8BBgFuwFM+Z3ufeZW3hXWgdMA0cnKP8VYxFXHr8cLzIjbROww9739DAh6FvQgFyxuOm9Iw1R/XHFh8mBmW8dZFVi9UuxMUkjVRZ09IzF8KEof5RW3DQ8G6/6w8uDm8t2M0JHD5rr1t1u4vraVuWa+778Gw1LGc8mJypPKys/g0mDS6tNM1gTaJ9zd3+boR/Ft+5gHIhH1F8EbVSHLJlImoCT5IkkhdCCxIH0l5CouLpQxLDJnL1EqjyUzI4wemhhuFLYQoQ2wCWwGoAPl/oz8xPxy/WP+qf6UAIIAjPv69l/zpPCY7KblJeD+2qXWf9QG07bUTddj2Gfatt1t5GfsafKh+iUF3w6rFUcZNx7JIqkjayNQIl4hOx+EGTUS1Qd7/Ub29OyZ4F/Twclpwzm5wK8Ermu05r+cy+Tb0/HkB08eFTJTQoJQ8loKZGppuGljaQ9nrGJsWo9PVkr5RR4/5zaNKrEf+hIcAmjySN/Ezbm+z7FBrBOj5psFmimWC5kgnHqlcrrfybnWz9tJ3UjlIOj67dfvBum26M/kxeNC5nDlOPBs+gAA2wi/E3MpXTrjP39ESELKQD89xDMvMe4u4SzULKYoiSeSKA8rYy29KIwk3yC/Gr8RhAHq8VrlltdoyqLBO8Irx0LNtdQ823bkhuvz7wL2vvlm/24D0QEy/uv2s/N58ODovud/6N7sjvTL+EgCEgssEbAZjh0hI4cpxSxIMKQt1CzYLsUnnR4zF88SVQ6t//7wdecS3ODQwsXwvZm5brP4sVS03LbXv13M79mA6Ln4YhF0Kgs8fUyLW75mHWruZYVjg1+GVVNKmj7NNGgsjCM+HVAVdwyvB1YBYPec6jzeo9YDzGK9Y7HDp/SgT5rjlUmaV6SYsZ2+LshG05/fOetI9bz7XQOCC9IOvQ4HDYANqQ/7DsMO5BGgGZkkQyzpMBI1izc6NzIxbSgsIjUb8xFVBxf+bvlF9APvve3q7sry1fWi9+f5RPlc+OL27/Ju7z7sx+qg6MLkjOZO7m342wHaCeYT1hzMIasjMCJMHzsaWBLWCHf+/vbu8ibwwO1H7DXuT/EH873zf/TE+C7/1gQACiUPUBbhHPogoSX6KZgtfC/TLv0shyazHfkY9RTuDK0Bzfjm883pR9m1ygfAsbaJqwaiNJ/Jnt6hD6s5tjbEbNZK7Y4EkhWWJt45BkhFTiNPHVI6VJpOjEh7RQhDvz9jOvU1CS9cJJ4bJBK1Bmb60O6w5VjYPsqowlW9H7idshayqLiTv1nJ7tbm5Rn1SwEIDoIZJiAvJXIlqh9JFekIzP4y867n0OB93ITaDNrb3QHmY+z88m36twABBigKKQ/LEHMNVwtACn4HQwMkAkoGxQhUCYINnhMBF24WihYGGFQUwgyjBnMBN/tg9MzwXfBc8K/zOfswAxcK3REfG9AhQCOWI+4lzSV6IMkY/hGnDKAFXP6V+tj5wvvB/Rb/+AF7BWoJtgyuDQUOjw7JDpkOYQ1PDAAN/Q2dDRQKegQTAan9yPaO7MDga9cVzvnAJrQ9q/ul/aCWmvWWdpgKnjinhbJ+wBHSmuVb+/4POiL0NlRLO1pdYhhnOW5VcyBydm7Ra5xpYWLiVu1MF0MCN/koKRnNCCf4QugV22PO9MGAuZi0cbAcrJarerFPuMq9xcRczyTc0OWz7bP3AwGeBrQIAwqACxYL1giRBaYARvo29Lrvg+wN6lzqV+4v8gX1G/iL+5v+QP42/P76Pfrg+iH8Bv8yBOIKcRO7G4UjCyt3MAUz1zIfMektxig7I+gegRp3FYMShBIzFEMVRBaVGJ4Z/xgAF9UTvg9qCjcG2wEQ+4P0YPFB8Ebs0ua65ZXopehL5WLlQOl46zfpO+c96e3qoutV7Xnxrfdh/YQD7ggzDRESmxVjFRoR4gzvCS0DVfe466Dj69k/ywG92LRXsKWq56VWpqisGLY5wU3PSuBe9IYJlxwqLX49k07iW9di0GaLa+Fu3mxVaBZlyGKCXfFUy0wkRLQ5yiycHW4N9/vd6iPaack6uwex6qkMpEihqaRQrPazm7srxhvSfNut4cvnf+5Y8mfycvC77i3uCO6Q7Tfsz+vd7Yzw5fF384/4j/8sBGsGCAp9EK4WZBraHAggDiSAJ9ApkCtsLowyUjWwNbE1bzfvOCo3MDPmLhkqXiOkGo4RdAh//zz3uO+A6V7lj+Op4vnh5eK25Zro4el56oXrBOxI6y3q6unj6SPpcOis6Irq0+228aD1a/mF/asBZQUqCUINjxD7ETES9RJeFDMVfBW1FTkVJxPTD3wMZwneBXEBpvsr9Ljr9+Pu3OXUiMv0wrS8gLeKsgqwcrLXuPi/fMdT0uzhLfQHBlkXoSm5POtNDVscZQxuG3WqdnFx2miDYDRXrkkMObIp8xwCEFABh/Mq6c7gRNf3y6nBaLoLtTKvc6kbp/2oaayUsD+4uMTw0jrg0+3V/DELkxYeH1QlhihPKIkl2iCeGm8Ucg+xChMG/wOTBToI5QlWDMkQohRnFaMUbxSXEzMQFwuyBgEEawJcAecABwJbBY8JcAwADiQQihIOEjkN8QaiARP8fPQ67HLmA+Ro43nj/eRW6RvwbPbr+aj7/v0mAEb/PfuV91L2iPWs88zysPUo+2UAEQVlCkoQNRViGA0aTxpRGdQXBhZWE3UQCg8pDzkPnw7NDjwQfRE0EU4PcQxXCOICCvxY86XpVeDF1//O3MV+vuy5BbeBtAizm7T8uIu+i8Tky9HVhuFd7Z34iwQbEo0f+yqKNB0+rUfiTrhSeVSIVQxVulHKS3tEpjziM58pYx4+E8kInP6d9M3rpeQJ3wPbI9k62TTaH9zF33fkSugk627uPPL09DX2kvfF+cv75fyN/Sb+a/4Z/gP9mvpY98r0EvPa8DTuVO1Y74HyK/Vb+Ir9xAOBCDULeQ3JD9wQwA+EDdwLxgolCSEH1gWCBXwFSAXPBOcDpwJGAYT/uPwM+Sf23PTU80XyJPIl9bj5r/2yAYMHYA7RE00XaRpKHZAeEB7cHE8b/xhXFiAUOhIeEDAOTA3QDHULdQkPCBkH8gRpAbX9Wfqh9iryAe4M6+boROfg5k/oq+oN7bbvjvIX9A3zO/CV7DbnBd9D1UnMlMRIvfy2zrNgtGu3R7yRw6DNY9mG5fTxo/4CC70WDyK/LCY2oz4bRyFPXlX8WUVeKWK9Yz5iS1+4W/JV4UwDQvo2LCvXHT0QwQMi+PLsbOOK3DTXdNJ3zzfPMdCD0ALRUNM91nXXHtdR1znY4NfR1e/TVdP50kjSVtIF1PTWpdpP3xnll+uB8gb61gH6CDQPYRWaG54g7iPPJhMqtCy2LfYtuS4JL0otFyraJvEithzLFC0NxwV6/Rr1EO+V6+/oj+dX6dLti/In9yH9vQOUCJwLxg7rEfESCxKyEfoRpBC/Da4LtQqTCNcEqwHM/0L9VvkS9oH0CPOq8K3uUO6J7rTthexN7HrsBew+6zXrB+wq7e7u6fGY9Sf5vvy7APADCwWeBHADrQAO+5nzPuzN5FHc7dPdzT7KuMfDxjTJ4s4E1jLeauhq9HIAtQvdFtwhTSueMsw4YD6RQhpF7Eb5SOpKlksES0tKZUn3Rm1CqDxENpkuESWmGrAQ3Aab/BDzbesp5UHfNdot14rViNPL0GPOUcxTySzFA8GGvUO6HrdQtRq2HbmWvSXEns012XTl2PG//sULlBeLISYqYDGDNsM57jsOPZw8wzqIOGY2qjPRL40rdSe6IswcMhZGD80Hrf+198TwnOoN5Rfhk9/Y3+/gU+Ov597sW/GQ9YL6Kv/BAeMClAR/BoAGPgVRBcEGaQcdBy8I7ArGDOwMWQ1yDskNcApmBrQCvf3P9hLw+OqE5vfhvd4x3lzfEOHJ41ro7O0N8833yfxtAbIEfwaGB9IHwwZ7BO0Bjf8C/WX6Uvg69672HvaK9e30+/M38ozvPex26LDkZeH33gneH9904gLoiu/a+HwDgg5DGX4j1SyQNFQ6ej5XQdpCB0NwQnRBIUCLPvg8fzupOUw3pjSjMaYtQSjSIZYa/RG6B438GvE15dPY3Mw/wi65crF4qw+o3aZCp26pfq3DsnW4gL4/xVfMFNPG2VfhsulT8qf7DQYeERgcgCZXMPo4Kz+lQvlD4ELGPjo4QzBzJ8od7BMiC+kDz/3k+A32PvVr9Qf2YPdu+Vf7V/zo/Ir9yf1j/QT9Mv25/W/+sv8GAuUEggftCYcM3A4IEL8PWg70C10IvAOK/jn59fM877PrmOmr6LXo6+lM7GvvuPKG9cX3j/mx+hv7l/o2+Wn3lvUV9OHyyPEE8f7w1PFH89T0Q/aE93f4GfkU+TL4g/Za9D/yhvBO76Xu3O5Z8DHzJ/fV+78AsAWkCmEPihO+FiMZKhsIHdoeqSC8IkolUSjeK+svNDRYOBs8Xz/+QX5DgUPaQY8+yDl0M54rfCJzGNgN6AIf+M/tEuQV2xPTPMx5xo7Bc70humG3BrUMs32xXLCxr6+vnbDCsi22+LpKwRvJT9KI3GTnhPJp/bEHGhFQGSYghCV2KUQsIi41L58vii86L7gu9i0BLcQrQip9KGkmIiSSIa8elhtaGBwVwRFTDhILEwhTBdsCzwAz/+P96fxH/Nb7YvvL+v35zfgL98/0LPJC70jsbekK52jlv+Ql5Y/m4+gB7ITvC/M59rP4N/qN+uf5ePhq9jD0S/JE8V3xrPJi9Vf5KP5eA3wIDQ1zEEkShRIREQQOuwmYBC//Evqr9U3yN/CL70LwCvKm9Nb3L/tK/vAAEAOKBFcFowXfBUYGEQetCGcLWA9uFI4abSGdKKovFTZnOzQ/K0E6QUY/YzvZNdwuySbsHakUVQsWAlL5PPHn6X7jE96n2SDWcdN20fPPuc6pzazMoct9ykTJHMg4x7PG08bIx53Jgsxj0DbV2drt4Ebnoe2t80b5QP6DAj0GfwmBDHoPdBKmFQYZhRz8Hywj/SUaKG0p8CmSKYYo7ib8JAcjNCG1H5we6h2OHUYd7hw+HBAbOxmtFoQTxQ+vC3MHHgP3/hD7afcU9O3w4u3q6gzoU+XM4pvg994h3kTeat+Y4bjkk+j27HzxzPWg+a/82/4vAMQAygCaAH4AwACKAfgC9wRHB6wJ1AtoDRsOyg1nDBMKCAeBA8f/J/zx+Dz2CPRe8iXxRfCg7xvvwO6R7qnuOu9S8AjyavR79zL7V/+6A1IIAQ2mEUAWshoDHzIjBydzKlktgC+2MM0wzi/GLbEqzSZaIqId9hhlFDgQcQzmCLoFoAJv/wP8HvjO8/3uqun24xbeU9jb0vfN3smyxovEUcP8wmnDU8R/xarG4ccayUrKtcuYzTLQudNQ2BfeD+X57Kb16f5dCLERpBoPI8gqmzGoN/A8XkHtRJlHaklMSgRKjUgdRrBCND7vOC4zHS3OJkQg3BmgE0UN1AZyAFb6Z/SX7kzp0uRV4c3eUd0c3dndVd9k4dHjYuaJ6Erqs+uX7ODspOw97Kvr6upO6vfp++lS6grrc+x/7gjxCPSZ96r71f/DA1wHtQpRDcMOXw9PD4UO+wwGCzwJngf4BXAEXAOMAmUB3P8y/kz83/kU93b0W/Kv8LjvBfCv8WT08/ds/HsBhwZmCzYQmBQSGOMakh3tH4IhqyIdJKUlmCYVJ94n1ygGKW0ozydEJ9UlEiPjH4ccEBj5EQ8LDgQ+/DHzAOqm4bjZ09HIynbFY8GYvW26ZrjXtse0Z7KjsFCvzq3drLWteLDJtOa6i8OazhXba+jT9swFKhSEISwu/TklRF5MU1NeWbZdDWAaYVthUGBuXVVZr1QWT/pHyz87NzcudSQ9GjsQlwYq/T30KuwR5fneIdqd1gbUatIP0pbSaNNJ1L7V0teI2ajaEdw/3k/gj+G+4tLkI+eJ6Ibpe+uZ7pDx8PMq9xX8ewECBuUJlQ6eEwAXkRjIGbgbRB3uHKQbRht/G2YaWRfTEwERmQ3lB3cAhfnJ89LtveYW4PPbHto+2LnV6NQF10jafNxt3gnjVuqZ8bb3qP6UCKATgxyjI6orHDXAPHdA8EKfRiBKmkonSA9GYUVDQ+M9GTeXMYYs2CSKGkgQgweQ/qLzAehz3uzWW8/Qxuy+FLoZtwSzKa5Eq/CqQKpZp/ykvKUUqDepUKoVr023ib+vx3vSfuAI7wX8PgkRGFAmQjJ0POZFm04fVURZE1zVXVFe31xdWbhUeU9LSbtBFTnCMJwotB+5FloOGAdLAEz5rvOz74nsIOqF6Fzo5+hF6SfqZuu17JvtJ+5U79DvwO5x7WLsdOsk6e/l+uR25erkYeMR49rlSuhe58nnNO0o9C34LvokAGcKWBHqEqYVPB2JJIUlcyPtJBko4SZMH+EVyA/bCQv/+O9g4YrXJs/KwgG1BK3SrUew2616rS63e8Z40YXX0OJI9rwHMxHMGa4qcj9STPxRDlrhZWFuo26Ra5Jtm3Hbbp9k3liqUB1J9zvyKvccqxP9B1T2OuXu2WjSLMibu1u0qrEMr8euLbKytD6ysayeqW+pDanirFm62MZQxbK8qblSvsfF580L3JrtBPZT9sz5gwLVDJYXXyKcK0IyXjgGQUBIuUYpQBE8RzcFMAUuYDTsOrM3wy3XKBQoISNaHc8e9SNmIoQapBcsG+0alhNCDRIN/wsKB4QE6QU2BhwAE/cO8ePq2+Xp5IbkwOFE25PWDNVjz2/J28qy0ILTZ9KQ1xLlEe/A8Wn0hf8RDk0SwhJrGkUmbC+/KmUfNh2oHs8d2hQ4BkcA//xk7/3U+rvVtgW6BbAemuWN2pbunlqX15RQqabK/N6S4PPpjAbnIgIywzkESWNgNm2lailq0nFOeo920mSwW9BcrViqR9k0xC6UKQgZQwKX8Szs3Obt2F3Js8Imw9+/wrdlsxa6pcEjwrvC2MUh0b/YreT0AZMGKv1b9h7nzOwe6efl2AxyHxgTPfvj3nPXh9Kg1iLmjfJ7+intHegr6FLbGOrlAMULmRarHxY2JkR2OP8qeSveMfQqQCwNQstQBkseN3srvymYImUaWxyaKCkm6xeLFIsOyAUy/BjxIPGL7RjoV/GZ9irxMeui6EHmStsM1g/hwe+E8+TpO+ce6sHgr9a/2Mrm9vQe/I8ECgp2B70BMgWUENsO+wjuDy4ckhvRBlb3wvjE9V3gOMLgty/BL8V+utWt3rGBu3e4tLCbtnzSW/J1/o4Clw3hIWI2nT8GRZ5aHG1/btxs4moMc6B1JmibU+9KfEbKNCcfxxAeDW4GTvFa12/IcsUoxXa+Vbuwv/rES8lxx+vIpdXU5dLyVvW6+kUDRBaBO9UwpRCdDHD/IgXj/TvrahmjLeUAQsvspVSuD72fxkLWad8W4ifHarm2xeXISenIDXIPXg3YF3svtzxFLdIcKSxxPBkrVSbnPwFRbUH6HYMNbA+lEV0P/BDJIDMcZAgWBYf9/PrZAaEBAwVHAXT/kw1/EmwK8AGdA/EKnwY4Al4NOhZmC+P3tudl5IvoiuRj62z3A/La6Ivg+uRT8dbygPYq+wMD6wHx7mvt+PfzAIkDj/HV407eLNGOwFK127gGwEvARLQ5pW2smr8Az//Zd+Mr+9ATnxu9HxQ0tFX4ZkVjml7+ZmB0QXMeavNmPGQbWR9BjyqDHmMT7QZ89Prh1da0zmfIwcG9v37Fxsrvyg7OSt0z8an+2QPpEGomCSxeJxsjvib3MD0qaSGEJF0kUhkF/u/jVNco0fDNvMXPv2y/aLzMtEun8p+zqvq+NclV0mHpdP/fDOYHgv+vC5AXfyFtLNU0Gz6NOZgu5yOYGRocKSJnI0YgZhshGhsWswlZ/Y/9+QHw/5n/JwU9DoMRjAx0CY4IeAqTDI4NUxRCGZcbhhzJFNYMPgmvBzQBVfc59l/yLe+q70Dtcfs9Ac/wduyH65LtwPY9/MANoR3RFKf6ceF42jHeVul89qD4w/RN5KXJ9q8Inp2gIKyPszWyRq5+tyK/rcB2yPzX7u4DA2AUFid4PXhXDGNZZWpltGEla2F063IWc7xtR2HMSzYvDxmEChACsPjN7Ifj6dcaztDJwcQPwcTBecbBz/7bV+yE/QcKuBETFvYalBtMIA8rZy7YMEMpzi4oPGMXqO942SLLkdH3vDG6jOBC6PfP16WjjyebnqwEySLeP+ou8Qvrn+py553qnQ7KNf08BjM1Os9K40eBLcQVPh3OJ5sbKBLZFckZkg3i9trnJOJH6LvvH/Ws/rIAIwMwCKIC6v5rA/ULTxURGZserSbjKIQipBX2EQ0WkBVdFHER4wsUAjDz5Om17CLz7u+D5zHih+H64mXit+rc/IYKCgn9+rr2Yftl+bL2gPivAUkJGv3v6Ljd5NXCzULFlL6fwuTPxdUqzAPCLcbB1Qri4+HU6SYLMSryMLIwHjoRTMdUe0xKTPBdQ21+a4tcnU+HRug4dCVzEIkCJf0H9vDp0d1f0/PNdsxTySHIr83R2NTmN/VVAEAISw9KFgAdDiGWJdMnuyYTJi0dchXlE+ALTAD47Y7Z6c30xqvDf8AcvpO72rROshK0X7qiycLYCObR9eACIg6CGZghUSg8LbowQTUvOwJCj0BSN3EtQh4hDoQDW/zh+ij7evNg6jvoJuO43bvgC+VX7RD3X/pnAPYJtBHWF9cd+iN+KMAvWTRuMjY06DKxKjYjxRrzEoAKPgHB+VHyJOs54GjdRObM5nPl6eQy4OTfaN4k5NT22QbEEqAWNxQ+D1QCB/oo+db93gldDJMBvu+h32DX1ceusw2sgrP+voe+wrlAv6HJbMshxvzMMuQQA3Mfpy/GOrBGjk7MUKhPz1IgX/RqfWm+XqlVRkusOPQgNgxx/xn3MO6P6ZHo0uLo2lrUO9BE0PPTl9+48Jj/bwn9D7kbKCYWJ40mNCT9JHYq4Cb5H7obuxGa/ybnu8+Ewei9Nr3It2OyA65bqtusxK9fs9TC7NjD6mL3hAOXEy0jnCySML009TteP4M/ED82N0ArwSDmE2sEM/bF7XnrJuh94OPZZ9ji2KvY8dsi5S/xMv7hCfASrxt3JB8teDXCPHBESEpAS5ZHGT9eNS0rGyDeGOMP9wJO+RLvLeMf19rNxs831KTS1c+t0QbbuOA44sPqSPg8CeoU0BM8Eq8XcyAoIYMT6gUHBocM+wP87XDkV+QH11+6UZ+EmWqk0Kmzpv2mzq0JuKbD+czc2DjyWRIxKQk0U0BeWBdv7HSfbUtoymuxa0Bk0176WQ1SmEGVJdQIlPR96n7nruXH4U/dd9u+2cnW99bv3DToYfR3/bAH/ho6LpMwFSjVHS8UdQ+YDEIQOhmLFJ//HeS3yQ22rax+rwyyNq0IqT6oQqt8ri60kMXg2/rro/hJDVQnHTldQJQ+8DldOLQ3xzlOO4s2WysGGvMFovHC4+ffLt3W2MzTUdAR1LDart+c5W7tPPclAwoRfiA/MZM/m0WcRgBJSkyUTm9Oc0lDQKc0qiZWGVkOawFJ8qzkS9fQycDCsMOmxSrIGM0F0TLVcNqP4Z3ui/u4AyURwiOZKUQiHSAVI6keZQ+Y/pL8QwJL+J3j19Xryce1hJ3liyuL/5q/q7Cx7rFxtZrBM9TS4+ryMw0CLVpA0kcdUQBhp3HxdT1s1WN5Yo1fZFfPTBpBDDTdIdYI5fIE6E3jWeB03bTYxNZR2/vg4OPC56fvevmxAA4FIg84IY4s5icRHuUY1BOeCpsDYgP/Anb4oeRf0grGV7sxsvWsgagFpXmpS7XSv+DGvc8e3SbrSPY5BWwezzYOQaxBK0JOQrE+Hji0MqAvlCmRHe8PcgN19z7tN+Qm2qzSnNHo1FTav9/n5APtRfbK/ZkHJhXOIr8vmzrmQHhEWUUDQQY7IDaiL0Uo8SBWF14MxwBK84DnSd9F1ifO8st/zVjQ0dQn2lXg+OYk7fL0oP+dCIsO4RagIAIl1SO6IiIiHRoBBsnvSufY68TsR+OI2JDQ1cMGrseYvZQepi29gMmszYTVQOWQ9jEBmAlbHDs4IE43V/NbumRSbaFpPFY2Qfg3pzQGLTghYRV4CvL7fOed1qrRe9OC2KLiXO2z9BX9hQkmFgIeLSKvKc00/jpxPBhBwELXNXkgjwwm+V7lqNRky8PH9r6Or5+jipvmk0OSYZj2oX+v1cIN2Zjsm/qhBr4U0iENK1Q1HUMYTgxQaUfgNkwm+RjoCXT5h+1g5k3fXtTfyLDFashNyCzKgNT84kjyEgKhEWkgICuaMXY5JkKCR9JMcVILUlZM/UTLOlsuPSEBEwkGx/vO8mntVupx4oHZ+NYC1pLVvduF5r/wMveT+TX/YApdEgwXRx0uHrIWpg5tCUMI1Qp6Cfb/1fFI5L3cJNoH1APNAdBH1U/OAsNvwrrMLNam037Ls8zi1bDeAegC83X+7QtEGLgblhqMIVAwCzyiPOQ0eDPnOag3sCt/IjAdjxdwD10FLQA1A2UIegq6CfkGgwUnC7wU1xv0I9EtLTSlNlAzWCswJ10laSGtHm4Z4Qwf/1jzHeW+0jfAPLRrsc+vEaipokiml6k0qt6tC7W4w7LYyuoD+5YKehYrIsgroy3MLAwumC1RKEoeNRHLBX/80+6h3j/VdtFbzQvLZM2R1Gbe8+WW7Wz5wQQpD8Qd7y6UPi9LVFQoWd5YKFf6VUlSYkwARqs+XjSWJCkTbQbn+xzwS+bP4J/dHNt+2d3XXtiL3tjkkOdM7EPzTPp9AJ4CaQc5EkMUugt/BIX9gfXb79bqN+hg6k/sHeom5arfNtzL2lvT8saNxojRo9li4ZHq5u2G6r3h09k43CXmAfI0ALULxw/+E60cCCMCKI8vvDPMM2c0ejUgOAI60TW/Lr4nlh64Fa4RXBBJDo8MqwlfBW8Ghgp8CrcLhxGLFyQcRx1/HRYhKyBTFhMObA0bDfUGhf398a3k/tgFzTLCtb37uoW5ILpwtSyydrrpxbDN3NQ+3jrr+Pi+A6kNVBmgIskliCavJLcdgxeVE5YMjQKv9d7nq94w14jOt8qszU7TmNme32jnnPSQBMQS7R+pLd079knYVCpa21xnXwdftVk1UV9JeET2PekvbxwWCtn7JfH3517gWtzN2efUUc9kzUzQs9V1267hzec57U30Tv6cCIsOWw1bCNQDNwCG/pP/Sf/h+bzw/uaY32vd6t8p5WrrTetX4YXWi9LE1S/eJuY36zfwk/Jf7/TqxOg46bHt9/Jg9FP2fP65Cm0X1SBcJEgn2CzdL5Qvji8wMJ8x0DHuLCImqCIMIGsaZxEhBmD+/P9BBtEJUwu4DWkSFxjMGQ4Y6RhwG9EZQRMcC4cGNwk/DQUJZ/x97ZjhnNpx1NTMFckRy3/N18zzyTXJjM6C1kDb3d1v4nXqjfVS/wsDIgTVB4UMpA5rDCkHnwIu/S/yauTY2ZrTBNHt0GbRw9N22oXjZexI9VX/Xw3HH7sxmkHiUNNbBl+KXcJapVdcVWNUWVJkS3o+3S5HIM8RywHO9DXuLOnV4jve49p71uTS3NFA0hHUtNnf5Bbzgv5WBR0KiwtJCPAF0Qb8BZMDnAPqA9//wPZR6xzhqtl91W/Vntd72YDd2+O15GzdfdeQ2k3jjuud8mL6cQGbA//+f/Zh72btqvCc9D30jvOs+iUHXxH+GBEhsCm/L2QvOSq+JgEnSShxKPglTCEiHRgZrxI+C7EFgQODBT8KFw9FFNIaFyKpKH0seiw5Kp0nWyQUH8QXZxBkCsID9PjR6uHeAdi10+3Oqsl1xjfGKcYexILBA8I2yCjSHdve4NnkouiG6zDsmOsx7NjvWfY9/LX9mvoS9bftguRx3KLZsdy14z/tjvc6AP0Gvg0MFbIb3yJbLjs+3UxxVVlYzlcVVQlROkyfRs9AxzsTNh8sfR0FD6QEM/289T3uienO6FXq5+t77OTsZ+747+DvJvCy9Nn8ZQOjBT8FJgMG/sj14Oyi5Q3hjd+j34ndF9g20snMU8aMwoLIGdf85PftXfZ8/0MDQ/8v+3/9pAGBAcH+tPyZ+nT3R/R78EXq9OPY4prmiun56z706ALyEKkabiMzLSo0oTXlNJg0pjJZLqMqPyilJPIfYB3IHCAaERUzEkYT/hSKFdMWzBnnHNYeyh/UH2MeJByjGVAV/w35BLX73fEw53ndDde8017R8875zKbLEcpFx0bEtMOlxovLStBi1JPYMd0b4vHmaOp765Lriu2K8V30dvR/82HyP/Dq7SbuwvGE9/b+lAflDnETDhjQHxgpfjAvNjE820FLRRRHq0i2SQhJNUZ2Qd06VjNALB4loRxOExMLfgRT/jr4q/Ph8TvyRvPb89zzkPOG8p/wHO8b74fvg+8U8Xj1C/hw8n7lINg+zrnGL8LIw7LKhNEi1NzSgdBx0Xja4Op1+sgCBAfMDO0SAxXrExwUjhUmFG0O0QXe+xrzM+4J6w/kkNkj0zHVB9vg3+Lmg/Q3Bm8VQx8VJiUteDV3PV1CV0OdQj5CbUBHOvUwYyi4IY8aDRLxCo0HPwdnCIEJ4gg1BqoD5AOVBi8JjArvC1EOMRBgD6ILswaoAVP7gPLW6FXhqtyS2AbTTswyxk3CosCtv0e+Q71rvh7CN8elzWnWS+FI7HL19vvd//sBygMaBtAH0weQBhAFwgPYAsMCkwOLBY4JpA+9FRQaex2eIVomJyrnLJgv/DI/N1w7mD0xPUA78DisNbYwmysHKJAkjR6dFeULRgNA/KX2TPIG7xPsiege5Jffadxt25nc89594Krfe93o3OPeOOEm4lXiiOJG4krhwuAH4gTlzOhw7LPv6PPX+icEnwzvENMQ8Q0RCaICG/wO90zzTe906vPlj+Os48DkzeRt4+/hRuKz5UnsQvWb/+IKdBZLIdcqeDNqO2dBVERoRAJCST34NjowNimEIf4ZNxS7EKQOBg3dC3sLKQyqDfQOcQ/aDxgRihLLEm0SWBNrFfYV1xJ6DE8Ewvpy7zHjetgd0c/Mxcmjxm7DZcCGveu69rhPuLK5hL3kw43M2NaM4XrrLPRy++cAFgRKBXwFTgWDBKsCBgCO/ZP8zf2mAPEDQAdqC+gQCRciHXYjdCqcMbM36TtfPuM/JUGgQVRAOT1uOds1ajIwLjUolCDCF18OWQWZ/Rj4wvRE8nLv1uuS51LjQ+Ai35ffseA94mnkUeaC5rLkHuLw35reA94Y3tLevN8p4JXfxN4836fh6OWz68Dy6vlJ/08BMgBh/S/6k/ez9Zn0DfTT8zjzq/Hr7xLvWO+578DvF/Ay8rz2Ff3aBMcNRhcqIGkn3Sx7Mf01rjnfO5s8RDzTOv83UDMoLbsmFCAKGcMRJQvjBosFGQaKB7UJIwwKDqgOFQ6VDXkNKg0gDDAKEQhZBv4DAQBt+hPzbeoI4XDXGNAozZrMhsq2xNG6E7C8qMSlaKgLssG/as0X2NLdhuEb6MLwjfgZ/nkA4AFCBbcJfA5tFPEZhx3PHhwdjxoGGmMaUxmxFloT+xEXFaAb+yMALZQ0jDn4Ox88gzuJO747jDuLOlw4SjXfMDMqlSHUF6QNswPP+ejvTOfF4E3cwdlc2KvXYNe31obVh9Rm1GzVEtcr2IvYWtml21jfVeNs5m3oo+lA6t3q7utY7RrvF/Ey86z1fvjc+pr7N/pE90v0RfPO9Av47PsB/3QAIAE5Ah8EngbcCO0JHwpVCosL4w4eFL0Zbh7vIE0hViGxIsslxynlLEYuCy5YLM4pDycvJLEgOxz7FtYREQ57DNQMzw3BDT0MtgmOBpgDSwHN/4j+tvz5+Q/2KPEn7MTneON43jbZitSr0JvNYMvuyd/I68dXx6nHFslyzHfS/dkZ4R3neewt8TD17fiA/F//1AAuASkB0gD8AOUCJwZfCS0M8w5kEckSrRMXFeoWshjGGp4dtCDtI/cniywcMK4xtTHQMC4vtS1KLUctYSwmKqAmuCG4G7cVPhBRCkwDCvyQ9drvCet/55bktOF83+reHOAa4k/kUea+5hvl0uJL4bngtOAT4bzhCeJc4rTj7uXW5+Dol+lQ6gjrZez17sjxuPOT9Pv0NPWZ9Qb32fkC/dP/5QI4BjYJpAujDeUOtg5ZDV0MegypDUoQPRRpGNMbXR6VIFUidSOxJCEmQCeqJ20neCYSJO4f9hr7FWURyw12C9wJMAglBs4DMgFu/pn72/h39l30qPJ38WDw7O5I7cXrBOtz68fsj+4K8PfvGe4z6wToOuU342Hiq+Ko41jl0Odm6pXsIe717h3vp+5O7qbuVu8D8Ovw+/Eu8+v0XPcz+ur8X//WATkEpwbOCbwNpxEsFYcYxxvlHvch9iRGJ1EoCCjbJj0ljSMnIrQgpR7LG2MYwRQWEZ0NXwomB9IDDwF8//P+Ov/k/2oAYgDp/7T/MwDVAM8A6P/Z/Wn6RvZ28onvSe0s62zpHui+5lTlGeSV4mjg2N2T2yHao9kj2vPbct6k4LfitORT5qnnDukF6+btpvGU9mf8DgI2BwAMWBBSFCkY5Rt4H4kiISWyJwUqwCvALLUsoCvDKeInkCZxJSEkQSJiH5Qbdxe2E44QmQ1bCm8GoAFe/KH3KPQL8iDxyfBy8A/wwu/B7/zv7u9K7x/u1+wm7J3sNe4M8Bvxy/AN73ns1emy5x7mw+SE44biTuJD4zrl6eeG6jvsLe3X7cPudfAC8032B/rs/RwCtgZhC5IP8hJJFbYWwhcjGR4bWB1rH+kgiiE7ISogwB77HMEaOxiGFaAStw/qDEEKfgdjBEkBkf5k/C/7Hfvk+0j9Cv/6AOACkQTsBbQGtgYMBsYE6gK8ADX+Tvv991j0z/CE7ZvqXejJ5tnlheW05XfmhOeS6LLpwuqq617sMe0f7rnuIe9179rvZ/BA8ZnyJfSf9UH3QPmm+2n+hAHnBDgIMAv6Dc4QiRMTFncYwhqwHEgeASCuIdwiYyNLI4siCCE0H3wdshuTGRsXShQHEWINsQk8BtgCav8k/Ej56vYd9R303fPZ89Pz6vPn86bzRfPg8j/yJfGm7/ntMuxl6sPoYOcZ5tHknOOW4s3hXuGZ4Y3iFeQL5nroW+tz7t3xmPVs+Rb9fAClA5wGewl8DKYPmRIWFQcXYRglGVkZKhmLGHcXEharFJsT5hKPEk4SuRGvEFoPLQ5TDdsMrwyRDEcMzgt2C2ALWAsRC0gK3QjlBr8E0wIaAVP/Yf1p+9L54vjN+E35mPnx+AT3P/RI8cXuFe0C7N/qWOnI59rmJue/6Efr7O3q7zTxT/LP89H1BfjU+cv65vrP+jv7Ofxe/f79rv2b/JL7k/sF/Yr/VwKqBDQGKwcgCHwJDwtZDPoMCw0DDX4N6Q49EeITGRaiF4YY+BgoGRUZfhj9FpAUhBFhDnwLFQk/B8EFcgQqAwQCKwGnAGkAcQCTAI8AWQDh/zX/Lv7L/BX75Pgs9gfzrO9T7CbpT+bY457hlt/s3eTcmtwj3V7eQOCm4njlvuhP7CDw6fOA98f6mP0gAHcCnQSXBkAIgwlICowKego2CvIJxQm6CdcJLArECr8LOA0vD3kR3xM6FoYY1xocHTwf8iAQImQi4CGqIOAesRwYGg4XjBOmD6ILxgc9BP4AEf5a+9T4oPbI9E7zFfLf8IvvHe6i7DnrDOop6YboGejx5wToV+ja6HLpIOqv6g/rR+tc61frQusw6yvrS+ul60DsHu1H7rnvhPGj8/P1e/gx+wD+9wACBBEHHgr5DJcP+xEgFA4W3hePGRkbbRx9HUcetB7BHlQeah37GwMavhdFFbMSLBDBDX8LYQl5B9kFmgS0AxEDwgKuAs8CDgNXA44DkgNVA7oCpAEOAAn+ivuk+Gz1A/KY7jDr+ucH5VriDuAd3rPc59vF22Lcsd2/32zilOUb6c7sfvAA9Eb3OPrS/Aj/yQAgAgMDhQPLA+0DBQQmBF4EtAQ7BRQGXwcgCVkLAQ4CEUcUpRcLG04eMiGgI2AlSyZnJrklOSTzIeseOBsOF5YS8g1YCegErwDi/JH50/a29EXzefIy8lPys/JO8w/07vTu9fr26feC+L34hfja99r2kvUL9C3yCvC+7VrrD+n85i3lr+OD4sfht+F74jHky+YR6srtvPHW9Q36WP6bArMGbAqeDTkQIhJ3E0YUhhRAFIcTjBJ8EXwQng/oDkUOtQ0uDaoMQwwJDA8MNQxsDIMMUgzxC3UL6gpfCugJagnuCGgIxwcbB1UGfgWFBFsDDgKqAEj/+P2q/Dr7r/n+9x32TPSi8jrxKfBZ78HuV+4Q7gPuNu6h7kHvDPAK8S/yfvPt9HP2/fd3+ef6KvxE/S7+3/5k/73/8//+/+v/0v+6/7z/7v9SAPUA6AEwA8cEpga5CAELVw2bD88RuxNUFYUWPxdqF+oW2xUxFAcScQ+BDF0JKAYOAyUAn/2L+wD6Ffm8+AL5y/kC+6D8cf5VAD0CAAR1BYIGAAfmBjMG3AT2AoMAlv1I+rL2DPN47yDsKOmq5tHkoOMm427jbOQg5m3oSuuX7i7y9vW6+VX9qACXAwMG6QczCd4J/QmbCdAItgduBgwFsAN1AnUByQCMANAAegGMAgUEvwW1B9cJCQxKDnAQYBIGFFcVTRbTFuMWcxaUFUkUrRLYEMQOiAwwCs0HcAUcA+IAzP7Y/BX7d/n89632evVq9HDzivLA8frwUfDJ71XvCO/Y7s/u++5S79fvivBf8WTyivO89Pr1MPdS+FD5K/rn+nL74ftB/If80Pwv/Zr9Mf73/uz/KQGYAjwEIQYmCEgKcgyRDosQORKaE48UDBUVFZ4UqxNUEqgQrg6MDEoKBQjjBfUDUgIJAS8Avv+y/wAAlwBxAWsCWwMyBNwEMQUiBa0ExwNxArUAm/4w/I751fYa9GHx0e6G7J7qI+kH6GbnROeX52XopulN62Ltwu9d8jH1Cvjh+qD9KgBfAikEfgVGBpcGYga8BbwEYwPhAU0A1/6j/c78ePy3/J79L/9hARwEUgfpCq8OexIfFl4ZIBxUHswfeyBXIGUfsR1hG5UYUBXSETwOnwoZB7cDmwDP/UL7B/kS90f1u/Nn8jPxIvA/733u0u1V7ffsueyj7Kzs3uwq7YztEu6v7lDv/e+v8GPxK/L58s3zsvSa9ZT2nves+Nr5HPty/OX9X//nAIkCPgQLBucHyQmyC54NdQ87EfMSeRTFFcwWaheVF0sXghY7FYgTcREID2YMmgnMBh0EowF8/7n9Vvxh++n6z/oX+7P7dfxj/V3+Of8KAKkAAAEeAeoAbACd/4b+K/19+6T5nfd59VXzPfFS753tPexN69Lq3ep265fsRO538ATzz/XJ+Mn7rf5WAZ4DZAWjBlgHeAcbB1MGIgW0AyMChgAP/9b97fxu/HL8/fz//YH/dQG+A2EGNwkTDPIOpBEYFDMW0RfyGH4ZeBngGKoX9hXYE1URhQ6IC24IUQVSAoL/7Pyi+qT4+fam9aD05PNp8yrzI/NI85Tz+PNx9P/0i/US9oj26/ZA93r3o/eq95P3X/cM97D2Svbj9Yb1MvX/9PH0/vQ89bT1WvY19zb4aPnV+l38Bv7I/6YBmAOSBZkHkAlsCyUNqg7uD9kQcBGmEXkR8hAMEN8Odw3ZCyQKXQigBhMFtwObAscBRwEeAUkBxQF0AlMDQwQlBfsFlAbjBuYGkgbjBdMEdQPEAc7/qP1l+yT58Pbq9BjzkvFr8JLvJe8Z723vGfAB8SPyXfOw9Av2Wfed+Lz5tvp++xj8hvyz/LH8gvwq/Mn7V/vU+mj6IPrr+ef5JPqb+mf7i/z+/b7/wwESBJIGNwn0C7QOYRHqEz0WMhjLGfcapRvaG4QbqRpFGWcXHxV6EpYPggxTCSwGJgM7AI79RftY+cb3kva59Sf15fTi9PT0J/Vh9Yr1lfV+9UD1zPQ39H7zpfLK8efw/e8n73zuAO7D7dHtFu6k7n3vjfDX8Uzz7/Sw9nz4V/o7/Cn+BwDmAbYDXwUBB4MI4AkoC0gMLw3fDWcOtw7ZDswOkQ46DsENNQ2sDCwMvQtZCwUL0AqvCqMKqgqzCr8KvQqcCmgKEAqGCcoI0QerBlYFywM0AoMAuf7y/Cj7aPm09xX2nPRI8x/yKPFy8Pfvt++w7+nvaPAR8fTx/fIe9GL1nPbG99741Pmh+jH7hPur+5z7UPvc+kf6pPkD+XL4Fvj99zf41PjG+Rj70Pzc/jEBvANwBj8J+wuNDuoQ+BKoFPkV4BZYF2sXJRd5FncVQhTgEmERyA8bDm8MxwofCYYHAwaFBBwDwgFuAC3///3Y/MP7zvrX+e34Evg292j2kPWz9NLz7PL+8RHxNvBL73buy+067d/sv+zc7Eft+O3m7h/wpfFa8y71NfdF+T/7NP0L/6oAGAJnA3kETAX9BYQG5AYtB2UHngfgBxwIZgjGCDEJqgkqCrMKIwuDC+YLJAxRDGQMWAw1DOYLfAv5Ck8KlgnLCOMH8QbyBfAE5APPAr8BrQCp/7H+1v0S/WD81Ptf+wb7zvqu+qj6x/r0+h37Tftu+4P7hftj+y/71fpR+qr51/jr9+f22/XV9Nbz+PI38qTxSfEx8XHx/PHP8vLzX/UN9/r4EPtA/ZT/9AFFBHgGdQhKCucLSw2ODpUPUhDUEC4RTxE1EQARmxAaEIEPvQ7zDQcNCQz3CswJqQhpBykG8AS2A34CVQE6ADD/OP4z/VP8hPur+vT5OvmC+M73G/d79tv1TvXQ9GL0DPTM86nzpvO88+DzEfRU9K30/PRM9Z316vVD9rL2Hfd59/73lvg++f35y/q++8j86/00/4IA3gFJA6kEDwZmB6II1QnpCuYL1QyjDU0Oww4YDz0PMQ/+DpAODg5XDW0MZQstCugIiAccBrUEVAMNAt8A3P/r/iT+kv0O/br8mfyU/Lj8Bf1W/az9Av5M/of+tf7U/tr+wv6N/jL+uP0l/VH8WPtP+hv50Ped9mX1PvRB81Tyt/FF8QLxEfFi8QPy6vIM9Fv12PZ7+Cv65fuo/WD/FAHAAksEuQUXB0sIXglXCikL7wuHDA0NgQ3KDQQOFQ4FDtkNkA0oDaYMFQxoC50KugnXCN8H0AbQBcUEsAOkAqIBrAC//9X+7/0f/Wf8ufsQ+2/65Plb+d34c/gC+KH3VvcF97b2fPZA9v/1xPWG9Ur1DPXO9J/0cvRV9FX0VvR39MD0IvW39Wb2Svdq+KL5B/uH/CT+2v+KAT0D6ASABvgHVgmJCpULbgwWDaQN+g0rDjAOEQ7YDWsN7QxmDMwLIAt0CsgJIQmACNwHSge2BjIGtgUwBbkENwSxAzADqAIgAocB6wBRAJ//7v41/mf9ivyW+636xfnF+L73uvay9af0p/Ol8rzx8PAz8KHvOO8A7wPvO+/B74jwafGR8vrzevUr9/v43frN/Lz+oABtAiIEpgUFBz4IPwkSCq8KJwt2C5oLngt8C0wLEwvFCm8KBQqhCU8J6wibCE8I7wetB2IHHQftBqcGdgZOBg0GzwWIBTAFwQQ1BKIDAgNKAoQBogCk/7P+rP2a/J37kfqU+bX44PcU93T27PVn9fT0ePQY9LzzWvMa88/yivJs8mXyY/J78rjyGPOw83f0XfVr9rL3Ifm9+nb8N/4XAPwB3wO6BYQHLwmmCvoLEg3uDZQOCw9SD1oPMg/RDk4OqQ3bDBoMTwt8Cs8JIwmCCP8HhQciB8oGigZjBjkGJgYEBscFgQUcBaEEEwRoA5gCrwGqAH7/NP7f/IT7H/q7+Fv3BPa/9JLzhfKc8dTwPPDJ73zvWu9X737vx+8r8LPwWfEh8vXy1PPW9N319PYk+Gb5svrx+079sP4CAGUBswL6AzcFVgZpB1gIJAniCYwKEgt+C90LIwxdDI4MsQzIDNkM4AzPDMUMrAyQDG4MHQzjC4cLBQuBCskJ7wjkB8IGjwU3BOECdwEFAJL+Hf3W+5X6cvmC+Kf3D/eS9j32Dvbr9e314PXq9fv17vXj9bz1kfVa9Qf1wPR29Cz08/PQ8+jzJvSm9Gz1Yfa29zD52/rE/Lz+0gDfAtEEnQZACKkJvgqEC+oL/AvTC2MLvArnCfMIAQgVBzoGewXoBIAEQARCBGAEqwQPBW0F9AVkBsoGOAdtB5cHjwdbBwcHdAbfBQAF9QPYApMBYwAN/7z9hPxC+zL6PPlk+MX3R/cK9wP3Evde97/3LPit+CX5ovkJ+l36jfqE+nr6SPr/+br5Yvks+fz4+Pg3+YP5FPrU+tL7AP1N/sj/NQG8Ai0EfgW+BrUHfQj4CC4JNgnwCHIIyQf+BiIGKAVEBFgDfQLWAT0B2gCJAHAAeACOANoAFAF7Ad0BLAKHArAC4wL5AvgC6AKdAlsC/AGNASMBhAD8/2b/vf4v/nv90vwt/Jj7KPuy+lj6Bfrk+fH5Afov+nH6z/o1+6v7PPy8/Eb94v1j/uf+a//x/3EA2gBVAbwBLgKYAuUCQgOKA9oDEQQyBFcEVQRPBDUEAATMA5EDQgPvApcCMALVAYYBPQEPAeYAwACwAJsAlACNAHYAbgBkAFsARQArABAA6P/Q/7H/gv9c/yz//f7P/pX+bP45/v39wP1m/Rn9y/xz/Cf84Pur+4n7dft1+4r7q/va+yf8g/zq/F/9zP1C/sz+SP+7/yIAgADcAC8BiwHfAR4CYwKbAsYC7QIRAzIDTgNqA38DiwN3A2IDTQMOA84CkQJZAjIC9gG5AYsBVwE5ATABFAEOARMBFgEuAUQBVgFoAWkBVgFKATQBAQG7AGYAFwDM/3j/H/+//mP+Cv6q/U/99fye/D/85fuT+yv73vqp+nT6Yvpn+oj6z/pE+9H7efxN/S/+GP8WABAB+AHGAmsD+gNeBJYEqASDBEAE3QNqA+QCQwKrASQBugBmADwANwBKAI4A6ABRAdUBUgLPAk0DrwPyAxsEIgT+A6UDMwOkAvcBOQFiAI3/w/4G/mP90/xl/A781vvE+9P7Bfw5/Hf8u/z6/D39d/2p/bv9pv2S/Xb9Sv0W/dL8jvxc/Dj8Ivwj/Df8a/zM/Fb9C/7Q/rT/qQCkAa0CoAOLBFYF7wVeBnwGdQZJBtoFTgWeBMcD5wIGAjMBeQDZ/0v/4P6t/qL+v/4C/3D/8P+AACsBwwFGArcCIANSA1kDPgPqApECFgKTAfoATAC3/xv/pf4+/un9wP2k/aL9of2e/aH9j/1z/Vn9GP3P/IP8LPzo+5L7Vfs2+yr7Oftk+7X7Hvyt/Eb97v2h/lH/AwChADwBxwE6ApUC4AIYAz0DUgNJAzoDGwP1AsoCmQJyAkICLAIxAjkCWAKNAsoCIgOIA+4DYQTJBB0FYAWTBZsFigVcBQQFjQTuAz0DaQJ9AZAAnv+i/qH9vfzk+yP7jfoQ+rX5d/lI+Tr5Q/lW+Xj5pfnT+QH6MvpK+lf6XPpO+i767Pmr+YD5afll+Wv5l/n7+Zb6XPtI/FX9bf6z/wMBPgJ5A4wEjAVnBhYHmgfxByEIIAgYCAgI3geqB38HQwcEB+0G8AbrBu0G7gb/BiwHRwdhB3cHgweFB3EHWAcgB7sGTwbJBQ8FRAReA1ACJQHl/5T+Pv3k+5T6Xfk1+Cf3P/aB9en0hfRI9B/0FfQc9DX0O/RT9G30ZvR39Ij0pfTJ9Oz0NvWX9Rz20PaW94n4ovnS+iz8j/0P/48A9AFFA4sEqwWXBm4HHgi4CEcJrgkDClEKkArYCg4LUguRC6YLvgvDC7QLoQt7CzMLxQpGCsAJGQlJCGEHYgZdBUsELAMfAgwB/v8O/zj+bP25/Cf8rftW+/r6rPpq+i36/fm1+YP5Ufn++Lv4hPg/+An49ff09/n3Dfg8+IT44PhC+aP5GvqI+u36XvvB+yH8dPzO/Cr9lv0I/m/++P54//T/hQAYAaUBNwK+AksDyAM0BK8EFQV9BdQFJgZsBqcGwAbHBtoGvAaaBmMGKgbvBZQFRQUABbwEewRDBPgDvAOCAzID4AJ3AgYCkQELAXcA6P9X/7X+Hv6a/Rn9pvw5/Oj7p/to+0X7JPsU+xD7A/sF+wz7FPsZ+x77Qvtt+5j7zvsB/Er8l/zk/Er9mf3o/T3+if7i/h7/ZP+6//3/UwCqAPwAWQGkAfgBTgKSAtQCBwM7A2ADggOoA7kD0APNA74DuQOZA2sDPgMGA8cChQJDAgcCtAFzATEB7ADAAIIAYQA8AAIA2P+t/3f/OP8J/9L+if49/vb9vv1+/UL9HP3r/Mr8xfzC/Nf85/wM/UH9W/2X/cv98f1E/o7+2v4q/2n/pv/j/x8AVwCCAKkA0ADpAA4BNgFUAXgBmgG1AdcBBAIaAjMCVgJ6AqcCywLpAusC5wLqAtkCzALIAqcCdAJFAhcC6AGnAXABKAHAAGsAKADU/4b/Uv8X/93+tf6a/n3+Y/5e/ln+Sf5I/jb+HP70/b79if1K/RX96vzK/Kv8lvyl/MH87/wv/Xv96P1P/rb+KP+I/8//BwBOAHoAogDDAM8A3ADkAOcA1QC4ALAAqACVAJoAqwC0AMsA5QD4ACkBZwGxAfsBNwJ7AqQCygLeAtgCxgKLAkoC/QGyAW4BFAHDAIkAWQA9AA8A/P8DAPH/BQD7//D/5/+8/6r/hP9o/0P/Df/z/sv+oP57/lD+Uf5G/i/+NP4x/kH+Tv5V/nL+i/6n/sf+6/4d/z//bv+K/6D/yf+5/7n/y//H/9n/3f/w/w8AIwBEAEgAbACIAJAArQCiALgAswCeALEAiQCJAH8AcwCjAJ4A1AD8AB4BfwGVAdUBFQIsAmQCYwJvAmQCKwL8AaMBWgH8AIkAKwDA/2L/H//O/oX+V/4h/gL+9/0L/hn+IP5D/mT+gP6a/rb+uf7F/sj+rv6k/oP+X/5F/ij+Ff4A/vz9Ef4p/lj+jP7S/in/dP/g/zUAhgDXAAcBNgFWAW0BegF3AWoBXwFYAU4BPQFTAVwBWgFwAXQBmgHLAfcBHAJRAosCwALzAv0CEwMUA+kCxAKFAiICtAE8Ab4AJACC//L+Uv7P/XH9IP33/OL85/z7/BL9Nv1l/Yz9pP3A/dT94v3k/d795v32/fD9CP4q/jv+av6J/rT+7v4S/0X/dP+Z/73/7/8wAGIAqADuADIBewG2ARUCWAKLAtMC5gL5Av0C6wLVApoCZwItAvYB0AGjAZkBogGPAY4BnQGpAa8BqgGTAXMBVgEfAd8AhQApAMn/SP/U/mT+9/2n/Vn9Ff3k/K/8o/ym/K/8xvzw/Df9cf2z/f79SP6h/vP+K/9r/5X/tP/j/+v/6f/i/8X/qf+I/2P/Sv8//z3/TP90/6b/4f83AIgA0AApAXIBswH5ARwCPAJYAkwCRgIpAhICAgLRAbwBmgFtAUQBFwEIAfEA6QD4AOAA5QDxAPAABAEAAfwA+AD+APoA1QCrAHgAJQDU/4r/Jv/W/oX+Pv75/a79gf1t/Wz9ef2i/c79Ef5Y/q3+Af8+/6L/6/8vAGsAewCfALoAnwB6ADIA5/+3/1X/+v6W/kr+L/4B/gD+F/5B/pX+8P5c/8n/MAC2AB8BbwG+Ad0B6QHtAdQBsgGUAWABPAETAdwAwgCrALQArgC2AOAA6wAMATUBRAFXAVABQgFBAREB6QCzAFAADQDD/3b/Nv/q/r3+lP5p/mr+dv6U/s3+8/4q/2v/lf/C/9f/4f/r/9r/v/+P/17/Mf8C/+b+yf69/rz+rv7A/un+G/9q/57/0v8UAEgAgwCwALUA1wDyAO8A/QDxAO8A3QDCALwAsAC5ALMArwCyAL4A2AD+ADABMwEuATABGAH3AN4AtwB+AFMALgD9/7v/lv9o/zL/KP8Q/wn/D/8H/wT/D/8u/y//Q/9i/3D/lv+3/8L/0P/s//X/8f/s//T/8//S/8j/xv+8/7v/q/+o/5z/oP/B/77/1//q//v/GwAnADMAKgAnACoAOQBNAFUAXwBdAGQAbABzAH4AfwB+AIoAkQCEAIEAbgBfAFsAPgAaAPv/8P/a/9L/zv/J/87/1v/n/+H/6f/r/+T/3//P/83/0P/l/+H/zP/a/8z/yP/P/8v/zv+//8r/zP/Y/+H/zv/U/8v/0v/s/+v/6v/x//7/BAANAB8AIQAdAB8AGAAaABwAEAARAPv/5//u/+f/7v8AAPz//v8KABMAHwAbACoAOQA1ADcAOQBBADEAKgA1ACgAKQAjACIAJQAjACsAIwAoAB8ALQA1ACcALAARABkACQDm/+n/0f/F/7X/q/+x/6P/r/+2/7f/yf/R/9z/6f/0/wQABAABAA4ABwDy/97/0v/P/8n/u/+5/7T/t//J/8X/x//I/+L/7v/s/wAADgAfACUAOAA+ADoAQABDAEUAPgBDAEEANAAkAAoADwALAAAAEwADAP7/BgAGABsAJwA5AEUASABEAC4AKAAVAPX/3v/X/9X/xf+//67/sP/F/8n/0v/e/9//2v/i/+z/6//u/+X/1//i/+X/6//4/+7//v8RAAkAEwAdABsAHgARAAIAAQAAAAEA9f/6/wYAAwANABQAIAAkABsAGwAgACgALAAyACsAHgAZAAwAAAAAAPb/6v/p/+f/8//8//3/+/8AAA0ACwATAA4ACwAWAA8AAAD8/wcABQD0/+T/1v/F/8z/3P/X/+X/5v/f/+L/3//e/97/6f/y//f/8//3//3/9P/4/+n/5f/2//H/9//5//L/9P/x//L/AAAJAA4AEwAXACkALQAmAB8AGQAZABYAEAAUACAAGgAhACcAIAAjABEAGwAeABEAGAAXACAAGwAdACMAGwAUAAQABwAAAPT/8f/r/+X/2//g/+j/+/8HAP3/8P/l/+L/4v/p//X//P/z/+n/6P/k/+j/6//e/9P/0v/G/8T/yv/L/9T/4f/x//n/DQAVAAsAFwAOAAYACwAKAA4AAgAAAAYA/P8AAA0AEAAZACQAJgAnACAAHAATABMAFwAMAAwAAgAFABQADQAUABwAGQAbABUAGAAaAA4AEgASABEAFgAFAPv//f8AAAMA+f/w//P//f/2/+//8//n/+b/4f/T/9j/1//d/+j/4f/w//r/8v8BAAEABwAOAAAAAAD5/+H/4//m/9z/6P/c/97/7v/q//v/AgACAAUADQAUABkAHQAfACAAGwAJAAIAFwANAAUABQD9/wQABwAEAAgADwAQABcADwAKAAcA/v/8/wEADgAYAB0AHgAjABoAEwAXAAgA8//x//L/7v/1//n/+P/3//n///8EAAcAAwD4//n/+f/t/+z/8P/o/9v/5f/p/+z/9//2//v/+v8EAAQA/v8BAAAAEAAMAAIAAgD4//r//P8BAAcAAAAEAAYAAwD///r//P/7//b/9v/9//3//f8DAAgA9f/8/wsA+P8AAA0AGAAXABIAGgASAAQAAAD+//b/+f/1/+v/8//7//f/8//6//3/AAAAAAUACQD//w4ACQD+/xAAAgDw//f/9v/w//H///8DAAAACAAKAA0AEgAOAAsAEgAKAAIA/v/2//D/7//4//z/DAAEAP3/CgACAAgAAwD0//X/5f/r/+r/4f/p/9v/4f/p/+P/8P/8//3/AwAQABUAEwAGAAQADAAEAP7/AAD4/+3//P8KAAMABwANAAYACAAUABwAHgAdABkAGwASAAAAAwACAAkABgD//wkABQAMABsAGQAVAAwAAAD+//L/8//2/+r/+f8DAAIADgARAA4ADgAFAPz/9//0/+3/4//j/+L/2P/f/+7/7//w//f/8P/k/+j/7//w/+T/5//z//X///8BAAcABwAAAP3//f8NABsAIAAeACAAHQANAAAA9f8AAAIA/v8PABgADgAGAAcAAwD4/wMACwABAAgACgALAAoAAQAEAAQAAQAJAAoA+//6//n//f8GAPL/AAAMAP3//v/v/+7/+f8EAAgA/P8EAAkA9//u/+//+f/5//X/9v/w//H/+P/5/+7/8//8/wIAAQD6/wAABgAAAPb/9v/w//j/BgACAAQABgAPACQAJQAeABUAEwANAPz/8f/k/+7/+f/2//z/+f/5/wcAHQAeABIAFwAKAAEADQAFAAAA+//x//n/AAD8//r/BwAXABQADgANAA8AEgALAAQA/P/3/+//5P/o//H/8//s/+3/9/8DAA0ABAD1//b//P/4/wMACgD9/wIABwD+//b/9v/6//X/8f/y//n/AAAQAB0AHAAYAAUAAgAAAPn//f/8////+//v/+z/7v/y//P/9P/x/+//AQD0/93/8P/3//T/+//5//L//P8AAPr/AgAEAAMA/v8DABUACgAKABgAFwARAA0ABAD+//7/AQAXACUAKgArAB0AFwAOAAsABQD7/wQADgAOABAADQAHAAYABQALAAsADgACAPb//f/w//n/+//t//j/9v/x/+7/6v/w/+//7f/z//P/8//6/wEABwAGAPr/+f/x/+3/AAD7//H/9//t/+z/7v/g/9r/1P/k//b/9P8AAAwAEwAWABMAFQAMAA0AEAAOAAsA/f/6//v/AAAMAA0ACAAKABcAEwAUABEADQAWAAwACwAEAAAA///0/wYABQAGABoAIgAkACAALgAWAP3/+v/q/+//7//z//z/+f/4/wIA/v/u//T/9P/7//L/5f/v/+v/7//2//7/BQD//wYA9//j/+z/5//t/+b/3v/6//j/7f/6//n/+/8HAAgADQANAAIAAwAMAAkABAALAAcACAAQAAwACgD7/wUACwADAB4AFwAWAA0A/f8FAPj//v8RABEAFwAjAB0AEQASABUACwAFAAUA9v/r/+7/6v/p//b/+f/3//X/7//7////9f8GAP//7//s/9v/4//a/9b/5v/r//b/9P/6/wIACAAIAAAABgAGAAsABQDw//b///8AABMADAD1/wAACAAAAAcAFgAeAB4AGgAZAA8A//8BAAMA+v8JAA8AEgAjAAkA/f8EAPz/AAD9////+P/s/+//9//1/+z/+v8AAAoAFQAMAAgACQAGAPT/6f/p/+7/6f/g/+D/5//w//z/DwAXAB0AEQACAAcA/f/y//f//v/3//D/8//m/+b/7//r//3/DwAbAC4AMQAsACUAGQARAAwA/P/2//3/+v/1//X////7//z/EgARABQAHwAbAAwABwAMAPf//P/7//T/+v/x/wYABAD///7/8//w/+X/8//v/+//9f/u//j/+//3/+3/8P/j/+3/AgACAAsAAgAHAAQA9f/q//H/9P/z/w0AAwACAAcABAAMAAQAAQAHAA0ABgAKAAkABAALAA0AFgAXABoAHgAZABMAEAASABUAFwAHAPj/8f/m/+z/4f/b/+7/7f/z//H/+/8MAAUADwAKAAYACgD+/wYABgAEAP///P8CAPz/AQD4/+z/6//i/+7/8v/w/wIACAAXAAsA+f/+//D/+P8AAAIAAwD4/wAAAQADAP7/9//7//v/AQAAAP//BwAIABAAEwAOAAcAAAD2/+z/7//+/wwAEgAhAB0ABgAJAAcAAAD9//j/8v/v/+3/7P/5/xEAFgAOABIA///2//7//f8AAAEAAAD///X/7//2//X/AQAEAAoAFQAWABsADQAMAAkA/P/4/+v/7f/v/+3//P/v//D/AQAAAAgAEAANAAcACgD4//v/AgD1//3/8P8BAAgA/P8JAP///f8AAPX/9f/0//3/BwAIABMACAD+/xMAEAD///n/8v////3/9f8GAAIA/f/7//3/+v/3//b/8v/+//T/7//6//v/AQAJABEABAD//woABQACAAIA/P8CAAYA/v/6/wIAFAAfABwADwAHAAAA7v/v//b/+P/7//7/FAAYABgAHQAKABcADwAFAAwA+f8CAA0ACwD9/+v/7P/s//b/7//2/////P8GAPb/+//9//D/+v/0//H/7P/l//T//P/2////AwABAAIAAQACAPv/+f/6//n/7P/i//H/+/8IABMABwD+//7/BQAKABMAHAAXABgAGAAOAA4ACAAOACIAIAAVAAkABAACAAEAAQACAAAAAQAAAPf/8P/j/+H/7f/3/wEABgAAAAkABgD///z/+v/4/+b/6f/p/+3/8P/w/wEAAgD//wkABgD6//D/6f/s//b/CwABAPj/+P/z//D/5P/z/xAAFgAbAB4AGwAoABcAAwAMAAgAFwAOAP//AgAAAP7/6v/p//n/CgAHABIADAALAPz/5f/2//7/JgAUABoAEQDw/xAA8P/p//f/zv+7/9P/8P/p/9z/7f8qADIAEwAGAAUACgDn/9j/7f8HAAsAHgDc/73/+v8QAD0ALQAsACYABAANAOf/4f8DAPT/6v/Q/+f/DAAZAEwALAATABgAGAAzAAUA4v/j/+H/2f+v/8b/AgA+ADcALQAtAA8AMwAAAOH/4f/l/+D/xf/x/9r/1v8OACQAIAAfAB8ALgASAA8ABQDD/9n/3f+q/5P/y/8eAAkACgAAAAMAHgAWAFkAAAATAEcAjv9Y/4//yf/w/yEAoQAsAMT/KgBCAGQAYAAhAFUASQA5/xn/aP8VAGAA6/8RANsAUwDd/14A2/+LAGQAQQC9//r+9P+P/4f/cAAEAGD/xv9tAFwA1f8XAf8ACQDDADf/jf3c/k0Atv+1ABwACwB//9//0wHY/3YA6AF5/wr+jP8n/pX+lv/NAWgBjQHQAML+T//U/xoCpADLAU0DNQIMABD+/vv1/zYBNACY/5wArQEd/vT9Y/+PAmACFgD3/iICpAOxAJH8Evvh98D38voIBhz2bv3PCqADSjgYGKXlB+DH5UP6AeMX+GsJ2v2z/hv8vfSQHCpdKDkEADrspN6W1SLdYucPsYfKLEbbecBmiBgaohiA39nVQ1pqozI18/vJArUP4vYYMjZBLx4HEtp+zX76TSLbEorm5dMR7VcOujv3Ps79jclKyf8CDyeeFIzhxMKt4wj8sgvZEFgC5vfvCXwzoy8T/c3HQ8Ev6/QnXVXBRTcPz+iZ6nkGShSzDFr7+tV2y4Hn+A0QKe8hHhEs+yr81wPM75jUFMlX4joDzh2KIT0C+eAD4zUJfCEpCebkPuZL94YAJgMJB+QHChCgGjcMPvPy3lXirfQQGB1BLExBQOsigATj+qsMFh2kEOPusckGwJDLj9JW4vL0YgLtCsYDZPUO4s3lTAPaFAAethux/VHl5Ow69hj5Gvof+P7zVfNX95z+pxMAJdsqJSQaFfsG4fiY8x/2aQEzDNoTzRsAFKwCpPuyBUMdESrZGVn1kc4dv37So+ta7H/rpfUj+cP20/Ie9Dn5igSFEY4UthNnCbj/9wLLDSsclxzkDsj8vuzi55j0MQJ9/lb4CewQ5/bx/PzvBIcFxQ2/FNMOYAY5ARwGvwvxBDD96/nH8bzvE/Wv+D720/Cu8wz8zQP/CU4KaQd1CTAHWgdjDPUOsBVIE0EPnQ6gDI4MDwnVC34Ppw5WDJkEP/8c+cvvMPDS9mX3b/CK6cvmV+u08fn0i/pf+iT7qv5X/IP7w/q1+N76b/1w/SP5GO8g7K/wdPkvArED0wQ3BVMCOQXDDuwNLASr/6P/eP2k+Bf5Ivsm+iL6tfsdAEAAYfyv+Yf7ZgYREcAWYhRHDcII5AfsCvUNWA9aCVv/awFQDYoS6g5+DMoHuv/P/gYBIwJt/rX6xvrb/X8IRwx7DM0LMQCD8rruY/U591D0oO8E6rvsXfac/QT4RfWK9rLybfUc+gH6oPZu+hr+6v8FBpMFaAUSCL4HqAbhCU4JyQNGCB4OKwhHANP+nPvx9yX9hQJYBK8DDP6Y+2UB1QudDVcE1/kQ9EL3H/2H/Rj8U/j+8B/zsvzFAG/9IvU/8bv4fANeCN4GcgRhBPcEgQS2Afb/WQXoCnIJMQX1/J73sfkBAfUHIgjlBYEAdvl0+MP/CAX2AzkEEQRpAFYB/QXZAwwA6QNIB2wF0wQ5ASz7Iv14A2kC5f+mAJ35dPRW/L0CuwTcBrIDBP1O/Bj+a/ln9sT4A/oP+GX0EvQt+Ir50/tqAiQDGADj/z/8PPbq+TEFGQxxBwb/+/ok91z5XQW/DH0GM/4O+0z6AgKdDR0NcgQaAA4CpwqnEOgLkAkYDsgL6gVDCVkNYwyGCxUL2AwADh4FyPaf8qz3vf+qBCT9AfG57jb0N/cx+DT3a/Ek7grzIPoP+Tnz1vHV8Pns2O9H+br6L/fH+f3/JAKX/rb6IfnW+eAABQzWDZEETf6d/wMCAgWIByIFEQNLB5AKHQlICGMH/AZJCocMYwuGCuQGuACbAIkE4QRIBS4G9QC6/JcAjQJ0AdEENAVQ//78xv6F/xgA7/+SAJIBl/10+ov8S/sz+cr+PwKg/Xn7Nv04/aL9TAAiAnL/+fgW9Rz2Afgr+wn/qv6p/EH9ZP1W+zP73v8ABiEJ+wqoCpIDlPxv/1IHDg0RDegEp/07/h4BCQFFAH//8PzT+lj5E/o/+9X51Pgo/I8Ahf54+8f79vxA/icA9AFFAaL/S/y7+uz+LgSeAyIAegDl/5f9oP6jA2sG5AOXAC3/Nf9O/lv/VgGnANX+9/0O/8j/JQEIA9kEzQVaBFkCjwEwA+4D5gE3AA0BhgGx/vL7uftN/Aj8ZPxK/mMAVgHj/zj9D/2eAPYDxwR6A4QBlgArAG8AjAC7/4b/bwBdAA//D/8eACgA6P40/hH+nf3v/uoBNQP1Aa7/1v5zAKkCOQRtBI8CCwH+AfgCTwOxAzECyv8AALgBngFaAFf/4P7n/if/RP9P/j39kv0L/5X/Zf4f/aP89Pyw/TX+vf2//Qz/U/8d/uj8J/01/j/+xP2Q/icA6wC1/9782vtO/Rr/1gCrAQ8Bjv/B/TH90/4tAdMC2gJzADD+mv4QAEwBXQKZAvwB1AE1AkoC1AFjAOH/TgHWAv0DzAM8Ac/+/P4JALIAlgEcAn0BbADT/8L/HwBEAK4A+gErArgAZgC6AOL/y/+tADQBbgH8ADUAxQCEAbUA/f/X/4n/V//Y/2cAPQCC/yj+N/1R/a39zf07/tn+U/85/x7+pP3h/XX+QQC5ASQBk/9i/mT+dP/n/y0A4gCkAGf/ZP67/ZH9lv6A/73/1f91/wf/3/6g/u/+8P9bALoAbwFfAeoAlgCHAN8AeQHJAXYBIwG5ADgALwAcAPL/agDdABUBVwHDAEgAiQCyAAoBbAFKAdgAPgDK/1YAPAFGAcsADwAo/zH/WgAaAd0Az//E/sT+N/9h/4H/h/9W/0H/Q/+E/+z/3/9+/13/rf9YAAUB5AAVAK3/fP9U/6f/2P/v/+T/Sf/9/kz/n/+z/2b/0/7M/qz/VwAvANb/ov+e/xMAbwAuAPH/5P9BAAcBKwHLAC4Aa/9x/wAAdQDbAHoAxf/G/9f/2P/x/7L/Zf+g/wAAXAC9AEMAXv8L/yf/pv95ANUAdADU/zb/C/+G/wYA9f/i/wIAHwB3AEgAj/9Q/4D/9/95ALgAuQBmAMf/Zf+P/+P/QQBzAFoAaQCNAE0ABgABAEwABwFgASoBzwBhACwAXACgAP4ACAFpAAcAwv/Q/ygA6v9x/4j/8f89ADMAQf/T/mb/xP8IAP7/cv82/3D/sP/8//3/k//s/rj+If8AAOYAZwBZ/9X+1/6R/yEA5//T/wAAFAApAPP/gv88/3//AADnAJAB7wDI/8b+tP70/1IBfQGdAML/M/8V/8P/hwDLAHcA8P/R/yEAggAtANn/1/8ZANoA3gAlAJf/fv+8/0MAsADIALYADwB5/47/0v8mAHAARQAIAPT/oP9q/4r/y/8IADEAGQDG/9D/zP+h/wcAXABhAF8ACwDz/zgADQD2/zUALgBNAD4AyP/B//j/EQBWAHgACgDH/7r/df/J/0EAHwAjAAAAm//k/xMAvf/B/8r/xP83AHQAHwDG/1b/S//m/z4AWgArAJ//X/+Z/wkAPwAyABsA4P/U/w4AKgAsAA8A7P/p//v/MQAxACIADgDd/+3/IABLAC0AKgALAOX/NQAgAAwALAARADQAQwD//+T/3P/O//r/CQDU/93/6v/x/0QASAAKANL/gP99/83/HwA3ABQA5v+m/6//wf/L/zQAOQAhABsA2//Q/8T/3P/8/y0AYgA7ACcAwP9y/6f/xv8WAGoAZgBHAP3/z//d/wAALAAmABwA8v/s/xoAAAD0//P//f8rADkALgDw/7T/r//R/1gAjABRABsAzv/k/wMAFAAqAAAAAwD5/+7/AAAMACAA7f/V/+7/7/8JABIA9v///+T/zv/V/+v/KQAVANn/t//L/wcAMQA3APn/0//d/+L/CwArABoA5/+6/9f/IgBWADMA+//5//f/CwApABMAAQD6//7/CwANAA4AAADV/8D/8f8vAD0ALgAIANz/3P/u/x8ALQD+/9r/rv/F/wMAHQAQAM//rP/T/wkACwD5/+//uv/G//D///8eAPr/3//q/+P/BQAvADMAHQAcAC0AMgA4AB4ACwAKAP7/EgA+ADkAHQAFAPH/7P/5/yMAKAARAAUABgALAPj///8RAAIABwAbAAoA///0/9r/3//r//7/GgALAOz/1v/K/9n/6f/x/wcAKAAVAPT/6//a/+7/AgD5//P/1P/N/+b/7P/2/wYA///4//X/8P/+//n/7P/+/wsA//8AAPD/7/8AAPf/BQAVABQAGwAjAAIA8//6//D//v8QABMAFAAPAAIACwAXACMAJgAMAAMAAAAJAP7/+f8SAAkADAADAO7/9f/1////CgAVABIA7P/V/9P/6f8BAP//CAAHAAQABQAAAAkAAADw//D/6//6/wMA/f/5//L///8QAAkA+//0/+3/4P/6/xgAJQA1AAsA9/8BAPv/DgAiAAoA9P/s/9r/6f8LAA8AEAAHAOn/BAAKAPP/AAD9//3//f/x//3/BAD2/+T/2v/k/+b/9f/3/+f/7f/z/w0ADwACAA0AAAD8////AgAKAAQADgAAAPj/+v/p//r/AgAGACMAGwAhACsABAD5//j/9v8HABIA/v/m//P///8AAAcABAAAAAIAAAAGAAgAEAAYABEACAANABQA+f/i/93/4//u/+T/9P/+//j/CQACAAMADwAFABEADgD+//v/6P/c/+H/7P///wMAAgAAAAoADQD1//X/+v/3//r/7v/u/+7/5//x//z/+v8AAAsA+v/6/xIACAAEAA4ACgAGAAQA/v/9/wAA//8PAA0AAQACAPv///8HAAsAEAAgABoAFgAUAPz/+/8CABEAIgALAPH/9f/z//b/EAATAA8AEAAAAPz/BAD4//n/7//j//P/9v/8//T/4//l/+3/9/8AAAAAAAD9//r/BgAFAAEABAD4/+//6P/k//H//////wAAAQD2//L/AwASAAoABAAEAP3/+P8BAAUA+v/x//n/AwAKAAsABgADAPr/AQAQAAkABQABAPP/+f8DAAAACwANAAcABwAIAAIAAAACAAUACwAIAAYADQAJAAQAEAARAAoA+//w/+3/9v8AAO7/6v/o/+f/9P/1/wAADQAKAAYAEQAJAPf/9f/x/wAACQAAAPv/8f/o/+3///8AAAQABgAJABIABwAAAAAACwAdABgACgAFAPz//v8MAAQA///8//T/9//v/+X/4P/v////AAD+//H/7//z//3/CgD//wAACgD9//T///8AAPn/BgD+//n/+v/x//n/8/8CABUABgABAAMAAAD9/w4AJAAeABwAGQAPAAoA9//1/wAADgAdABQAAwD+/wAACQAIAAsABQDz//j/7v/j/+b/6//y/wAADQAIAAEA+//z//j///8BAAQA9//q/+H/4f/z//n//f/7////BQADAAcAAgAGABIAEwAIAP//+P/v//r/AgD4//n///8CAAoADwAPABUADwAQABYABwAAAP7/+f/6////9v/1/wcABgABAAAA/f8CAAcACQAJAP7/9f/3//r//v8FAPf/8P/z//D/9P/z//D//P////P/8//t//P/BgAGAAsAAwDz//v//v8EABQADwALAPn/8//+/wUACwAMAB4AHwAtADMAIQAdAAwADwALAOz/6P/h/9n/1f/O/9D/xP/V/+H/3f/r/wEAIwApACcALwAjABgAFgAPABkAFwAPAPv/5v/1////AwD2/9f/yP+4/6T/n/+e/6L/pf+g/6n/qv+l/77/8v8SADwAbwCOAKMAogCaAIYAWQAvABcABwDz/9b/p/93/0X/G/8C/wj/J/86/0z/Tv9A/z3/Z/+4/yIAuwBYAdABDgIjAigCAALFAWEB2gBbANf/cv9d/4b/yP/5/9D/cv8R/8r+y/4a/4f/2//d/5X/HP+k/n7+g/69/gP/SP+c/9L/IACKAPwAYQGEAYwBnAGNAYgBZAELAWgAf//K/or+0v6W/y0BzQKcA4MDXQKTAIz+//zR+yr7APsi+zP8Ef6xAIQDBQZMB8IGIwUQA00BjADVAJ0BwwGKANb9I/rg9i31OfWK9g35HPzT/twAVAI5A4QDXAO9Ah0CZgGqAEkASQC7ANEBZgPUBL8FVgboBuUHPAmLCrQLcAx2DAoLrggnBkkEsgNsA2QCbv8l+nPyeOmF4eLbCdqZ2xnfSOSL6RHu0vHP9Lf3nfoT/Rv/QAHjA5cH0AyqEzYbByIJJzgppyhHJhAjkiAqH7AdgBskGJQTCA7VB9gBIv2B+rj5iPqU/eEBIwVbBa0AU/Y950TW6cYGvNu1k7LvsHqwI7L0tyfEFteG7S8DmBRlIDMndComLQoxHzW8NgM0VS4RKNEiGB95HaQdMB24GoYXkBb/GH0dfiEWIrEd8hNzBgf4Nuu24Yzbadh+1wXY59lS3KvdSNwu2J3SbcwNx/7Ex8hk02fjvPU9BxoVtR3SIUIkSihsLrA0gjhhN70wNCY/GwQTiw07CVYEr/2B9antTung6fPs9e6U7iDtU+x97b7yBf0iCQ4SHhUOE5ENfAUG/ab31PYf+fz7jf7WAAUC6AFBAk8FuAoEEEkU/xdqGhYaCBe2EuQNNwgnAnz9v/rZ97vy4Ovj5Mje89qM26bgv+ZV6Y/mLuAE2bLT/dIN2F3g4udj7QvzpvrOA8ANYhdNHkUgtx1MGqAZJBwJIEwjPiSPIYUbzxQ2EGQODg4uDa4Kmgb3ASX/FQBXBCAJJgsoCcYDHP0F+EP2k/e++dj60/oc+1D9HALtCIQPORO+EjIPBAu6B9EF1QTBA8kBAv9v/Lz6o/kL+FH12vHB7vns8+xc7r3v5u9Z7tDr3emM6cLqZOxK7cfsTev66Q3qBuwx78byMvZp+ev89QB2BfcJ/w1RERcUrhYTGe8aAByAHIgcVhwKHB0b7RhEFVEQ4go4BvICwwC//gn8Gfg381XuvepJ6Z3pquqT6/7r9esD7LHsY+4B8QP0P/fF+n3+OQK3BccIOgvhDPINrg42D8cPvRA9EucT7RTiFIkT7RCmDTgKGwcsBDEB7/09+pr2mPOe8b3wrvD98DbxXvHi8SzzYfVj+Pz7zf9wA6oGcAmDC3gMLwyZChsIegU0A6kB1wBGAJv/3f4Q/hD9G/xw+/z6ovpr+nb64/qG+xT8efxk/LL7mPrB+Yn5Bfo3+6/8af5HAC4CRgSDBpAIEwrZCr4KBAr8COcHAwd1BggGcAWhBLoD5QILAm0BNQEnARABvwA3AFr/K/6v/Pf6KPlQ94n16/Op8o3xe/B573nuju3E7A/shutb65XrWuyq7aDvM/Ih9TX4cPvZ/kgCtAXoCAcM/g6AEaoThxUwF6oY0hnEGmkbtRvLG7gbgxsXG1ga9BjmFh8UsBDYDOIIFwVyAUb+jftL+Z33XPbE9bX1/PWa9lT3HPjD+BH5+Phw+Hn3GvaV9A3zpfGI8Mnvj+/77xjx5fI/9cr3Kfo9/AD+Lv/f/zEAFwC//xD/Gv4s/Wn8+vvX+/r7Y/zt/Iz9U/44/wUAwwBoAfoBZQJ9AmsCQAIsAkECkAJJAy8EHQXpBZkGSAfdB1wIswjXCJkI1geqBk8F6ANZArYAA/9C/Wb7gPnd96P29vXH9Qr2w/bn90/54frG/NX+4wDYApAEFQY+ByIIvAgGCUYJPQnyCIYI2gcTB0AGgAW+BO0DDwMKAhMBDgAZ/0L+cv2o/N/7P/vN+qL6svoR+537TvwI/bD9VP7S/jP/Pf8a/7r+Gf5c/Z78Evyy+7z7PPw+/a3+cABsAngEmgaQCD8KngtvDLUMYgxYC8kJzweGBR8DpgA9/gv8JfqK+DX3Rfat9Xn1rvUl9tn2mvdv+GD5Zfp7+4X8ff1h/i//sf/5/zYALQDt/2v/vf7T/bH8uPue+tj5Vvnn+O/4Ifm9+ar63ftJ/cP+SgCsAdwC6QPeBHEF0AUcBjMGLAYiBigGCAYIBhUG/AX8Bd8F2AXEBa4FpQVdBTcF9gSFBC8E5gN+Az4DFwPcArsCcQJAAgAC3gG7ATkB0QBSAMb/Lf+5/kD+yv1y/eH8efwI/ND7oPuP+8H7yvsX/Eb8nvzu/Cj9j/24/Qn+NP5d/qD+1f4J/zf/l//H//P/KQAsADAARABXAFcASgAyAB0A9P/N/6f/fv94/3D/Yf9I/zz/Of84/03/Vv9q/3X/Y/9y/27/Yv96/4H/m//C/+j/EQBDAHEAkgCoANIA+QDnANwAtwCvALkAqgCrAK8AuACwALcAtwDbACIBWQGvAfEBMgJjAogCngJ8Am8CTwIXAtMBagECAZYAPQD6/6v/YP85/wv/7f7s/u7++/79/hL/Ff8Y/x7/K/9I/1H/Xf9q/3P/c/+J/5L/mP+7/9L/4f/e/9b/3P/b/8P/qv+S/3//fP+L/5f/rf/c/+n/8v8ZAEIAaACXANcADAEiATIBIgEOAfIAqwB6AC4A2v+1/3X/M/8B/8n+rv6Y/pD+j/6L/qX+rf63/s3+4/4G/yf/T/+L/87/CwBOAJYAzgD0AA4BDQH6AOkA5ADHAI8AYQAZANL/mv9h/0D/TP9h/2j/jv+1/9j/DABFAHEAjgCsALUAwQDiAPoAFQEkASkBIgH3ANcArQCSAIoAbgBcAEQAJAAFAO//8v/1/wQAGwAjAE0AcwB/AJ8AtgDXAPYA9gDxAOEA2QDPAKwAhQBPACAA/P+0/2v/OP8E/97+zP64/rX+qP6j/qv+nP6j/sX+3/7u/g3/Cv/0/vn+8v71/v3+CP8L/x//QP9b/5b/x//s/wsAEQAZAAwABwANAAMAAwAMABEAAADy/9L/vv/F/8v/5v/8/xAADAAOABEADAAvAEcAVwBsAJkAywAGAU8BhAGyAeABAwL3Af0BFQILAgAC7gHPAZ4BfQFiASkBBAH8AOEAvwCuAG8AIQDZ/47/Vf8X//H+3P7A/p/+hP5u/mX+dv5//oz+pv7F/tn+1/7K/sD+yP7g/vH+Cv9C/2j/jP+i/6T/uv/A/7z/s/+4/7r/sf/A/5//gv+F/2v/bf92/5X/0//v/xYASQBsAJMAvQDVAPAABQH0APEA5QDMAM4AwgCkAIQAYQBCABYA9P/r/8//yf/B/6//t/+5/8n/5P8DABAAEQAlADAARABsAH8AhgCYAKoAqwCMAIYAhgBvAFYAOgAmAAIA7v/Y/8D/u/+U/33/gP+L/6n/wv/f/wAAEQArAEIAPgBCAFEAUgBRAFgARQAqACYAFAAHABwAMwA1ACoAIQAcABcADQADAAAA+P/1//H/5v/q/+r/+f8NABsAJAA4AFEAQwAyAA0A8f/f/67/lv98/13/Wf9X/1f/cf+I/5L/t//j//f/AAAIABkAJwAjACcAGgAPABsAFQAEAAAA9f/t/9//v/+o/5n/g/9s/23/Xv9I/0f/P/9J/2X/iv+n/8//CQA1AF8AhgChAMUA3gDzAPgA4ADiAMYAswCzAIIAbgBlAD8AIwAIAPv/9//0/+z/4f/r//H/BQAQAAAA8//u//b/+/8GAAoAAAD//wkACQAIAB4AKgA1AEAAOAAuABoADQD//9X/v/+w/5z/jP+W/7L/uf+8/8j/5P/u/+3/+P8KAAkA/v/3/+X/7P/5//X/9f/w/+z/+f8IABoAIgAaAA8A+//3/+n/1v/Z/93/5v/q/+z/8//6//L/6//o/+b/4v/d/+D/4P/b/93/8f/9/wwADQAJABkAJQA0ADUALAAmABYADAAQAAUA/v8JAAwADgATABwAIwAgACYALAAqABoAAADv/9//0//U/9r/3P/b/+D/5P/f/+v/7P/i/+v/5P/c/9r/1P/U/+D/5v/f/+L/8f/8/wcAHAAwAEUAWwBaAFYAXABQAEQAPgA1ADMAJQAeABQA9v/0//j/5f/g/9r/0v/E/7v/tv+0/7f/uv/V//D//P8LAB8AJAAyAD8ALwAtACIAGAAkABQACAACAO//6v/b/97/5//t//7/8//w//7/9v/s/+v/6P/d/9f/6f/6/wkAFQALAAgADQAJAAUACAAFAAMAAgD2/+z/5P/Z/+D/9////wAAAQABAP//CAAVABYAGwAaABsAFgAJAAkADAASACAAHwAiAB0ADAABAO3/6P/n/+f/6//y//T/9v/y//D/AAABAA0ABwD5//b/6v/s/97/3P/o/+z////2/+f/5P/d/+X/5//9/w4ADAAWABoAFAAPABAADQACAAYADgALABAAEQAWABUAEAAKAAIACgANAA4AGAARAPj/+P////z//v/1/+3/6f/w//n/AQD9//r/CgAAAPj///8EAA0AAAD6/wwAEwAaABEABgAHAAAAAAD0/+X/5f/S/93/7P/j/+r/3v/h/+7/7P/y//X/BAAEAA4AEQAHABAADgAWABUAGgAXABEAFwAOABEADwAHAAQABwAPAAIADAASAPz/+v/p/9n/2v/d/+f/5//2//r/+v8EAAAABgAOAAsAAwD9//b/+f8CAA8AHgANAAEAAQD//wcA///x/+3/9f/2//r/+f/w//X/6v/i/+z/9P///wQAAwD8//z/BgAFAAUADQALAA4AFQAKAAwABgDz/wAA9//t//P/8v///wgACAAGABAAFwAZABcACwAGAAwACwAIAA8ACgABAPP/5v/0//v/AQAGAAgAGgARAAkACgD7//D/6v/k/+H/5f/p/+z/6//u//n/AAAAAAkADAD9/wIACAADAAAAAAABAP7/9//7//f/7P/u//P//v/z//7/BwD+/wAA7f/n/+z/7//3/wAABgAPABUAFgAfACIAJgAZAA4ADgAFAPz/9f/7//3//v8FAAwACAD+//v/8v/1//v/7P/y//P/8/////T/8f/4/wEAEgAdAB8AJwAjABEAGwAOAP3/AQAAAAIA+v/0//7/9v/l/+b/5P/e/+j/7v/s//f/+//0/+z/6//5//D/9v8AAP//DgAIAAoADQAUAP7/5v////b/8//0/+3/9//1/wAACQAFAAQAAAAJABQAEQAHAP3/9//m/+L/6f/v/wAADgAbACAAIQAnACQAHwAfAB4AJQApABUACQD8/+j/8P/w/+3/9//y/+j/7P/r/+z/+P/8/wgADgADAP3/+v8AAAYACQAOAA8ACQADAAIAAQD1//z/BQAHAAsA///4//f/8P/h/+H/7//v/+r/6v/g/9r/5f/q//r///8EABAAEAAYABcAFwAnADgAIQATABMA+P/2//H/9v8IAPz/9f/r/9j/2//U/9L/2f/Y/+D/7f/x//T/EQAZAB0AKQAgABoAGwAsACwAKAAeABQAEAARABwABQD//wMA/f/8////AQAAAPv/8f/s//j//P/3//z/+f8AAPH/8//+/wQAEgD6/wYA/P/t//v/8//w/+f/5f/e/8z/0v/b/9n/7f/+//3/+/8VACoAKQBAADUAJQAqACQAFQAIAAgABQAGAAQA9//v/+v/8//0//j/AQD7//n/8P/m/+j/5v/o//T/+v/0/wAA/v/8/woACQARABYAHwAbABMAFgD4//b/BAAEAAcA/f/8/wIABgD//wEABQAAAPP/3v/W/9P/2v/q//D//P8MAAkACgATAAoA///5//n//v8NAAYA/v8KAPn//P////r/CgALABQAFAATABMABAADAAAAAQD4/+7/8//3/wQAEAAUABEAEgAMAAcADwAJABQAGAD///f/9//y//P/8f/m/+b/6P/z//7/9//0//f/+f8AAAEA8P/8//3/7//t/+v/8P8CAAsABwAGAAEADwASAAMABAADAPn/+P/w/+z/+P8DABgACgAFAAsAAAADAA0AFQARAAYACQAAAOv/+P/8//7/EAALABIAEQAIAAoA/f/4//j/9//5/+T/z//Y/+D/3f8AABQAHQAqABUAIgAhAAgAFAASAAUADQD6/+3/+f/v//D//P8OABQABQD8//n/6f/d/+P/3P/d/+f/7//7//X///8XABkAFgAIAA0AGQAWAAgA9f/7//D/7v/3/+r/8f8AAAEADgAaABwAIQAeABQABQD8//H/6v/z//X/9f8DAAYAAwAGAAYA//8DABgAFQAGAPX/7P/n/+L/5P/l//j/BgAUAAsA+v8MABQABAANAAQA7f8AAAUA8//q//v/AAANABUA+v/+//3//f8EAAAA/f/6//n/7//k/+H/5P/+/wwABAAXACAAJAAoABQAGAADAPb/+P/u//7/AAADAPb/6P/5/+z/8v8LAAgAEQAbABMADAAIAPj/+P8DAPP/8f/y//f/CgAHABAAHAAQAAEADgALAPr/8//i/+b/9P/7//L/5v/o//D/AQAJABEAEAAPABUACQD9/wEABgD+//r/AAAAAAMAEQADAOP/3//f/+v/9P/r/wMACADw/wEA+//5/xsAFAAQAAkA/P8HAAAA///y/+3/AQD9/wYAAAD4/wwABQAGAAUAAQAJAAAABQADAPH///8EAP3/8//k//X//f8EABgAJQAmACUALwASAAMA6v/e//H/5//9/wAAAwAKAPf/AwAMAAoAGwAbAAQAAAD+////7//1/xIAFAAOAAMA///3/+X/5//w/97/2P/a/+D/8P/l/+v/+/8AAAYAFQASAP//BwAIAAEAAAD6/wkAEAAEAAIA6P/r//T/6P8EABEAHwAVAA8AEQAHABEADAAGAAMABgAEAPz/8f/1//7/AgAQABoAIAASAAkABwD5//H/+f/q/+3/8//s//f/+P8EAAIADQAWAAUA9v/e/9z/8P/r/+n/CgACAAYAEwANAAwA+v/+/wgABgD5//3/6f/U/9b/yv/a/+P/8/8EABwAGgAPACgAIgAXABAAAgABAAYA/P8AAPv/AQAbABYAEgASABkADgAGAA4AFAAQABMAFAD9//L/6//z//n//P8FAAIAAwAKABAADgAFAPz///8EAPr/8//m/+v/6//l//b/7v/z/wgAAgD6//z//f8AAAoA9P/t//D/2f/k/+D/4//0//3/EwAfACUAGAARABMABwD7/wIAAwD7/wQAAQAAAPv/9P/p/+X/+P/s/+L/+f8BAP7/9v8AABMAHgAVABIAMwAwACoAJwAcABQABAAIAAEA6f/o/+z/7//2//D/CAAXAAwAFQALAAQACgD8//H/7//r//D/8v/s/+3//v/+//j//v/7/wQA///v//n/8P/m/+P/8P/y/+z/BwAQAAkACAAPAA8AFAAXABUADwAHAAsA+//0//L/BQAQAPz////0//j/FQAXAA0AAQD2//z//f/7//H/6P/s//D/9P/7/wMA//8IAA4AIQAgAAAAAAD7//7/9v/0//b//P8QABAAFgANABwAIAAUAA8AAwD//+z/9f/z/+//9v///wMA+v8DAAYA/P/8//v/+v/6//7/8f/l//X/8f/6/wQA8//r/+r/5f/s//f//f8OAAEACwAeABkAHAAYAAYA7v/7//r/AQANABUAIAAEAPf/AwD+//T/6P/l//3//v/2//3/EgAZABoAHgADAAYACgAAAO7/5v/u/97/6f/j/+7/AAADAAkAAgALAAQA/f/7//v/7P/y/wUA/P///xAAHQAOAAsAHQAbAA8ACwD///3////w//b/7v/t//////8GAA8AEQAOAAQACwAJAPz/+////wAA9//0//T//f8TABIAFwAZABwAIwAbABUA+P/h/93/2//R/9D/3v/e/+b/7P/z/wEACAARABUAEAALAAQAAwACAAAAAAD6//L/AgAGAPr/AwAEAAMA/v/4//b/7P/z/woADQASABoADwATAA4ADwAMAP3////0//T/9f/3//j/8//3//D/+f/2/+r//f8CAAUADQD7//X/+//6/wMACQAFAPn/AAAMAAQAAwAUAB8AEgABAAcABAD+/wkACQAPAA0ADQABAPP/6P/a//H/9//9/wkACgD9//z/BAADAAgAAQAGABIAAgD9/xsADgACAAwAAAAFAAIA+P/2//D/6//v//f/+f/3/+7/5f/6/wEAAwAZABUAEQAWAAUA9P/1/+v/4f/n/+D/3f/y/wAA+v8JACAALAAwACEAFQAFAP//9/8AAAsAAgAEAO3/7f/7/+7///8DAAAAEQAJAAoA/v/q//v/+v/0/wEACwD5//L/EQADAO//BgD7//D//P8DAPj/6P/1/+f/7v/t/+b/BQAFABYAJQAlACMAFAASAAcA+//3//r/BgAHAPf/+v/5//f//v8GABQADgAKAAcA/f/8/wMA/P/4/+v/5v////f/+f8FAAAABAAVABcAFQATAAcACQAHAPn/4//c/+r/7//z//7/AAAHAA8AGAANAPz/AwDu//j/CAD//wIACQAQAP7/BQADAO7/6v/z////+f/8/wQAAwD7/+7/4//y/wUADQAVABYAGAASABMADgAMACAACwD4//n/+v/2/97/5v/1//3/7P/7/w0A9v/3////9f/c/+///v/1/wQACwD9/w4ADQD6/xMAGQAZABEAEwATAAMABgAAAP7/9//x//X/BQAJAPn/9P/0//X/9v/z/+X/7P/9/wEACQAIAA4ADgAdACwAEwAYACEA+P/u//j//P/1//z//f/e//X/+//4//r/+v8JAP7//f8HAAsACgAAAP//7f/Z/+T/3f/m//v/9P/x//7/DQAJABUAJwAUABIAGgAQAP7/6//z/+//9/8NABUAEgAFAA0ABwD9/wUABQD7/wQAAwDu//P/9f/9/wcABAAAAPz/+f/7/wIAAAADAAgA/v8EAA0ACgAJAAAA+v8AAAQAEAARAA4ADAD7//b/8//s/+v/8f/w//L/8f/x/wcABAAGAAwAAQAAAAIACgD+//T/9v/1/wMAAgAHAAkAAQAIAP3//f/5//X//v/7/wIACAAMAAsA/v8KAA0ADwAeAA0ADQAGAPP/8//5/wcAAAD1//7//f///wkAAQD9/wcABwD1/+7/9//n/+X/5//n/+v/5//1/+//+/8LAAgACAANABsAEgAUABAA9f/q/+v/5v/n//b/9f/2/wEABgALABwAHgAZAB0AGgAaAAwACQARAP7//P/5//v/CQAEABIAFgAPAA8ABQAGAAQABgAIAAYA+P/g/+T/4P/i/+f/7//8//7/AgD5/+//8/8BAP3//v/9//3/DAACAPb/8f/7/wYAAADv/+///f8JABQAEAAKAA4AKAAxACcAIgAaABMADAAEAPP/6f/n/+7/8f/t/+//9f/7//L/8//x//L/BQD5//H/AAD5//X/+f/q//T///8EABIADQAOABcAEwD///z/+//8/wsADAAXAAwA8//6/+X/4f/l/+H/8v/o/+v/+P8AAA4AEgAUABQABwAAAAYAAgD8/wIABQAHAAAA//8IAAIAEQAHAPr/BAAAAAwACQAPABIAFwAYAPr/AwAAAAMAFgAIAA8AEgAUAA4A/f8GAP//+P/7//D/AQAAAAEABQD4//7/8//l/9n/2f/m//L/+f/x//L/+v/s/+f/9//y//v/DAAMABIAGAARAAwAEQAJAPj/AgADAPX/AQAAAAAADwAGAAsAAgD5/w0ACwAJAAwAAQAAAAUABAD+//7/9P/s/+v/6v/u//H//f///wEACAAIAA4AFQAQAAAA+v/p/9v/8f/5//3/CwAIAA8AFgASABIABwAEAAUAAwAHAAUABgACAP7/EwAKAAAABADq//P//P/7/wkAAQD6/wAA+P/p/+//8v/3//f/+////wYABAD2//b/7v/t//H/+v8DAAEAAAAMABoACwASABIAAwD///n//f/4/wIACQAGAAoAAQADAAQACAD7//T/BgAEAA8AEQARABYADQAQAAcABAAAAAEACwD///j/9v/m/+X/8P/4/wEAAgD7//z/CgAKAA8AEgAHAP7/AAD2/+n/9//t/+v/9f/0/wAAAwD+/wMABgD4//H////8//7//P/r//b/7//v/+//5//9//r/+/8BAAgAFgAZACAADwALAAUA9f8TABwACgAKAAwACwADAP3/9//8//v/8f/h/+f/AwALACIAKwAkABMAAQANAPn/9/8AAOz/6v/p/+D/5//y//n/BwAMABMAIQAjACMAGgAMAAYAAAAFAPf/5//k/9z/6//x/wAADQAMAAgA+P/2//T//P8AAPD/AAAJAPb//f/8//n//f8AAPL/6//1/+P/7P/4//X/AwAVACAAHQADAPn/+//x/+n/4P/t//v/AQAUABIACwAMAAIACwAPAAgAEQAfACAAEgAWABsACgAKABQACAAGAAgADQABAPf/+//5/wQA/v/4/+L/9P8IAO7////6//v//f/x//L/5v8AAAUA7f/z//T/AAD3/+n/3//b//7/AAD2//j/AQALAAkABAABAAkAAAAAAAUAAAABAA8AEQACAAEABAD//wcAEAADAAsAEAAMAAwA/f/8//T//P8CAP//EAAJAAAA///y//D/9P/w//P/+f8GAA4AAAAHAAEA//8UAAoADgASAA4AFAAAAPv/8P/n//b/+f8HAAcABgATAAwABAD///f/AAAGAP7/AwAKAPb/5//u/+//+//4//z/CQABAP3/9P/y//D/AQAIAPv/AQAFABYAHwATAB4AGAAAAPn/7f/1//z/9P/9/wIABgAGAAIA9v/2//7/+//9//v/CgAIAPz/BQAEAAUA///+/wwA/f/3//T/8f/9/+n/7/8JAAcABgAQAAkA/v8CAPn/8P/i/+X/7v/u//7/9P/6/xgAHQAMAAcAGAAcAAsA+//8/wMACwABAPH/AAAFAP//AQAEAAcA///6//3/DAAJAAYA/v/o//X//f8BABIAFgABAPv//v/6//j/7v/6//r//P8EAP3/AwAZABMA/f8AAPz/8v/+//j/6P/2//P///8cAA4ABQAAAPb/+P/+/////v///wIACQANAA8ADQD9/+7/+/8GAPv/8//z/wAACwANABgAHwAZABgAGwAKAAMA7//k/+j/4P/4//n//P8JAAMA///v/+n//v8DAPz//v/1//H/9//7//3/+P/2//n///8EAAsAGAAXABMADAAAAAkACAD//wQAAQD9//n/7v/3//3/9v/2//n/BAACAAUAAwD///3/9P/9/wMAFgAPAAIACwAIAP//8P/4/wcABQD3//H/9P/8/wsACwACAAMADgAQAPb/9v/6//3/CwAAAAEAAAAEAAQA/v8DAAMA/v8BAA0A/f/6//j/9f/q/+j/AQAAAAIABgAAAPn/+v///wIACgAMAP3/9f///wIADgAOABMAEwABAAQAAAD2/wEA+//2//v/7P/t//b/9f8BAAgACAATABsAEQARABAA/P8AAAMAAAARAAsABAD1/9j/5//y//f/BgAVABEA/v/1//H/7f/t//P/AAAIAPr/AgAAAPz/AAD3/wgADgANABQAEAAFABEACwAAAAYA/v8AAP3/7//s//r/+P/y//b/BgAUAAQA/v/6//j/+v8DAAEAAwASAAcADQAOAA0AAADy//f/6//u/+P/7f/7/+3/7//x//z/9v/2//r/+v8KABEALwAsAB0ADQDv//j/9P/3//3/CAAQAAUABQAAAAwAEAAJAAsAAQD9//j/9P/8/wAABAAEAPj/9P/3//T//P8MABUAEgACAAcACgD5//3/AQD9/wMABAD8//n///8AAAAA/v/9//z/9P/2/wIACgAEAPz/9//9////+v/9//r//P/9//v/AgAEAAIA//8AAPX/+/8IAPj/+//8//r/AAADAAoAAgAAAPX/9/8AAAAACwABAAwAFgAQABMACwAGAAwADAD2//f/DAAIAPz//P/8//X/9P/2//H/9//9//3/BwAMAAUABgADAP//AgD7//f/9P/1//X/6v8AABEACwAEAAYADQAGAP3//v/7/+r/7//1//v/BwAAAAAA+//2//r/AAAFABIAGwAHAAYAAwDq/+//9//y//z/BAAJAAcA+v/2//f/+v8QAA8ADgAgABMACgAFAPz/+f/8//3/+P8BAA8ACgADAPv/9//+//n//f8EAPj/+f/4//r/CwAEAAoAFgAAAPP/AAD6//n/BQAIABYAGQAOAAEA8f/t//T/7//6/wMACAAQAAcA/P/x//D/7P/5//3/AwAGAPL/AwAKAPv/9/8AAPj/8f/1/+7/+v///wcADgAOACEAGQAKAAsADADz//H/AAD1/wYADgAEAAQACwAOAA8ABQD///v/6f/1//X/8/8IAAAA9f/x/+H/6v/1//f/BwASABkAKAAeAAYAAwD5/+b/5v/w//D/8P/l/+r/9v/w////EAAUAB0AHwAbABIABwAAAOn/5//4//3//v/6//v/AQAAABAAHAAWABEABAAGAPj/AwAFAPX/AAD8/wMA9P/r/wEAAAADAAcAEQAeABUAFAAVAAYA9//1/wMAAQADAP3/8P8CAPH/4//7/wAA8//+/wUA/v8FAP3/BwAKAAAADAAJAAwA///6////+//8////AgD3//P/8v8AAA8ABQD+/+z/9P/1/+j/7v/u//L/8f8AAAAA8f/0//T//P/9/wIAAAD+/w4A///z//r/7f/z/wgADgASABIAEgAYABwAEgASABUACAAMAAIA8f/v//r/AAD+/wwAGwAjABoAGQAUAAkAAQD3/woA/v/+/wEA8P/v/+j/8v/4/wcACwANABMADgATAAwAAwD8//7/7//k/9z/z//V/9H/5//s/wAAEgD3/wgAAAD4//n/7v/4//H/7//u//j/+v8EABMAAgAIAAYAAAAHAAcADgAPAAcAAAD4//7/EAATAB8AGgADAAwAGgASAA0ADAD5//f/+v/v//D/AwALABUAJgAPABEADAAFAA0A/v/8/wYADgAGAAcA///4//f/4//r//j///8HAAYACAAOAAAA9P/x/+r/4v/a/+X/6P/m/+v/7v/t//X/CQD8//7/DAAGAAkACAAPAAgA+//4//D/9f8DAA0ABQD9//v/9P8LAA4ABwAQAA4AFQAAAP7/BwALAAsAAgD///n//f/t//X/DgAPAAwACQAPAAcA///3//b//P8IACQAFgAXABcAAgANAAcAAAD+//n/8v///wEA/v8RAAUAAAD3/+//9f/x/+T/6P/2//b/BAAEAAgACgD1/+3/7P/z//T///8BAAEABwD4//T/+f/0//D/9P/4/woABgACAAQACQASAAAABAD+//L/7v/z//v//v8NAAAAAwACAAAAEAAJAP7//f/9//z/AgAFABAAFwAkACIAHQAaAAUABwD9//L/6//p//X/BgAUAAAAAAAGAAEABwAPABkAFwASAAUA+//0/+f/7v/a/9D/1v/S/+b/8f8CABQAIgAnABYABwD9//r/+P/m/8z/0v/a/+f/9//p//r/AwAJABwAEwAVABQAAwD9//n/6//0/wEAAQABAAMAEQAbABcAGwAoAB8AJgAsABsAAwDt//P/7//p//n/AQAEABcAHwAeADMAIwAKAAsAAwD9/9//0f/h/+f/6//j/+b/9P8AAAUAAAD9//f/BAAAAP//CAD3//j/7P/h/+f/6P/n/+f/6//o//H/AwAGAA4AHAAVACEAIwAhABkA7//w/+H/2P/q//D/BwAHAA4AHAAWABsAEwAGAA0ACAAEAAkA/v8IABkAFQAWABcABAAHAAQA9f/8//3/AwAAAPz/+//7//7/CwAVAAsABADq/+z/8P/m/+z/4f/f/+T/6//z//v/AAD+/wEAAAABAAgADAAQAAAA/f/7//T/9P/n//X/DAAMAPv/6f/v//j/EgAaAA0AHQAhABMAAgDu//L/AQD+//z/9v/4//X/8/8AAAYADgAFAPr/AwAHAAAACgAQAAkAHgAoABQACgACAAAA///0/97/0v/a/93/3v/l/wAAHQAtACkAFgAYAA4ABwAFAPL/8//t/+//8P/q//L/8f/8/wkADwAWABgAGQAdABgAEgAQAAcAAADu/9b/2f/d//D/AAAOACEAFQAfABIA/f8DAPz/AAAJAAsA///3/+r/4P/x//v/+v/t/+L/7P/4/+v/+/8OAAgACAD7/wIADgAIABsAEwADABAA7P/d/+v/4f/z//j/9P///wEAAwASABIACgAUAA4ACAD+//r/BAD9/wIABgDt//b/CAD9/wAABAANAA0AAAACAPj/6P/o//L/+f8BAAMA+/8EAAsA//8GAAsAAwAMAAoADAAJAAoAGAAWABMACgALAAEA5v/0/woAEgAeABkADAAJAPT/7//v/9v/+v8MAAYACwAKAA4AFQAeABUABAADAAAA+P/s/+//4v/O/9//3P/j/+z/9/8MABcAGAAOABUABAADAPL/1//u/+T/3v/v//H/9/8AAPz///////v/+f/7/wYAAAAIAPr/AAANAAAADwARABMAEAAEAAMA+//1/wkAFwAUABMAAwADAA0ABQD9/wgACAADAAMAAAAOAAcABAAMAAAA/P8CAAMAAAAEAP7/+f/8/xAAGAALAA8AAAD6//X/5//n/+r/9P/u//3/AgDz//z/AAAKAAgA9P/8//7////7//T/8v/h/+b/5v/q//j/BAANAAAAAwARABYAFQAYAA8AAAAFAAAA+f8AAO3/9v8BAP3/EAAXACsAIQAVABoADwAGAP//DAARAPr/7v/9//L/6f8AAAwABwAGABIABQAGABsADADq/+P/5f/c/+7/9f/l//T/BQD+//7//f8MAA0A7v/x/+3/3v/z/wQA+//8//n/9v/v//D/AwD9//7/AgD9/wAACQD///v/7f/s/wAA+v8EAAsAEgAaABsACgAAABEAGwAgABAABQAGAAAA9/8NABwAEAANAAUADAADAPz////+/wYAAgALAAkADAAOAP//9P/s//f/BAASAAAABgALAPj/AAD9//D/6v8AAP7/5P/t//T/9f/8//X/AAAHAPn/7//q//r/AgAIAAwAAwD9//v//v/w/+P/9//5/+X/9P8GAAgADAAMAAQA/v/u//f/BAD6/wgACgAQABsAJQAlAAgABgDm/9f//v8FAAUAHwArACMAJQAZAAgA///m/+X/5f/c//r/BQABAAIABQAHAAkAIgAbAAMA+//4//n/9//v/+j/4v/h/+r/4v/i//P//P8IAAwABAD4/wAAAADr/+r/DQAHAPb/DAD7////AwAIACAAGAAaACQAHQAPAA0A///s//7/AADv/wEA7//o/wgA/v8GABwAFAATABcAAgADAAkA/v8BAPr/9//2/+f/8f/y//j/EQAUABcAGwABAPb/9v/+/w4A/P8JAAkA7f/1/+3/4P/e/+v/9//q//D/+f///xIA/f/5//3/8v/7//j//P/+//H/BAAYAAAABAAMAPj/9//4/+j/6f////z/+//9/woAFgAlADoAIwAiAB4ACQAKABQAEQABABAADQAJABEAAQD7/+j/4P/3//L/AAAMAP3/BAAQABYACAD///T/5v/l/+n/7f/y/+//7P/8/+r/7v8AAAwAEgD3/wEAFQAUABoAEQDs/+n/AAAAAPn/7P8FABUAFQANAAUACAAGAP7/6v/v/+n//P8OAAAA+P/o//D/8f/5/wQAAgAQAAkA8v/4/wAAGAAhAB0AJAADAAMACgD8//r/BAADAPD/7//k/9//3P/o/wAA8//8/xYADwAVACYAGwAUAAsADwAKAPv/9v/3//r/9f/8//z//f/6/+b//P8HAAIAGwADAAAADAAAABcABQD0/wUACADx/+L/1P/g//v/AgAZABYAEgAJABUAEwABABQA+v/2//j/5//r//P//f/7/wQA+v/2//z/+//+/wIADwATAAIAAADy/93/+//4//P/GAAcABIAFAAJAAkACgD3//v///8MABkADAAPAA4ABQACAPz/BAARAA8ADwABAPz/BgD+/+v/5v/X/9f/6f/w//X/9P/2//L/9P/z//7/EQARAAcA+v/2/+n/4v/e/9//6//2/w8AHQAlAB0ADwASAAYACwAJAP7/HAAWAPX//v/t/+H/8f/r/wYADQANAB8ABQAGACIAFwALAAsA+P/x//L/+/8HAAYABwAKAAAADQAhAAYAAwAHAA0AEAAGABsAFgALAPP/8/8BAPj/AgD7//b/8//i/+z/+v/r//r/AADo/+3/4v/z/wYA+/8GAAIA8//4//j/9v/6//z/+P/5/+7/6v/u/+r/BgAeABQAEQAQAAEA9v/x//f/CQANAAoACwD5/+X/9f/w//L/CgAOABoAEgANABgAGQAbAB8ACgD9/wUAAwAPABgABgD0//7/BgD2//P////5/+r/AgD1//j/DADx//r/+v/t/+j/8P/3/w0AJAAUABcABQD9/wEA5f/k/+n/1v/o/wcAAAD6/wEABAACAAEABgARABAAFAAYAAQAAAD2//T/AQAAAAEAAAAAAPz/AwAIABEAJAATABIAGwAMAAsAAwD3/wEABwAHAP///f////v/9f/k/wEACQD0/wAA/f/4//r/CAAIAPP/9P/0/+n/5v/7//j/7v/3//P/+P/4//b/+/8CAPX/5//0/wUACgD+/wQABgACAAoABQANAAsACQAYAAQABQAJAPb/+v/z/+T/6f/x//r/CAAeAB8AEQAVAAwACgAQABEADAD9//P/7f/s//X/DAAUABkAHgAOAP7/+P8CAAsACQAFAAEAAAD2//H/9/8AAPv/7P/z/+3/7v8IAA4AAgD6//3/BQAJAAkADwAJAAIA/v/q/+r/6v/2/wYADgABAPf/8//v/wAA+/8PABUADwAXAAwACwD6/+X/1P/c/+7/9/8JAA4AEQAVAAIA9/8FAAMAEAAaAAwAFAAOAAEA+//5//v///8AAPv/9P/r/+3/AgAVABQAJwAhAA8AFQAAAPb/+//q/+P/8//0/+n/3v/Y/+D//f8HAAcAGgAgACYAEgACAAwAAgACAP3/+v/s/9n/2P/e/+v/8f8BAPv//v8FAPn/CgAUABMAFgAYABEABAD9/wQAAAD1//j/+P/z/+z/AAADAP7/DgAkADkAKgAPAAQACQADAP//7f/o//b//f8PAPv/7//8/wYAEQANAAkABgALAAcAAwD7/+r/+P////P/6//d/97/6f/s//v/BQD//w0ABwDx////EgAcACAAKwAYABQAEgDu//b/9P/c/9n/3f/R/+D/8f/o/+z/9f8NABEAGQAeACYAMQAhABIA7f/o//n///8MAAsAAQDu//z/8f/o/wEABQAZABAA/v8QAAoACQAOAAgA/P/w/wEAAAD8////BgAKAPP/AgASABsAKwAmACsAJAAjAAkA6/8EAP3/9P8AAOr/z//e/+z/4P/g/+n/6//t/+H/0//l//P//f8BAAsABwAKABoACAAKAAcA///0//P/AAAGABQACwAFAPb/5//l/+v/AAAMABgAFQAFAPb/4v/l//v/AgD9/wYAHAAdABUADwAJAAwAAwABAAsAAQATACMAFQAWABAAEQAMAAkAEQD6//7/AQD0//L/4f/q//H//P8KAAoADQD7//7/AgD4/+n/1v/o//T/8f/8/wMA+v/2//v/9f/3//z/CgAPAAcADQAKAAAA7P/n//H/7v/s/wQAGwAmACQAEwADAPf//P/9/wMAAgAAABAACAAEAAUA8/8BABMABgAGABAAIAAbAA4ABQD5//b/9/8AAAQAAQDo/93/6//l/+z/7v/8/wsA+P/w//b/BwAAAPz////x//j/6v/6/wAA8//4/+b/+/8BAAQAGQAQABEADgD9//P/9v/q//H/CwAEABEAHgAWACMAHQAMAAsABQD4//7/EAAHAPb/+f/7//X/BAAEAPv/AQD8/wcAGAAMAAQABwAMAA0ABgAOAAQA+//+/+T/4P/y//L///8KAP3//v8AAAIABwAIAAMAAAD5/+//7//m//v///8AAAEA9f/6/+T/9P8FAAYAAwAEABAABAAHAPj/7v/5/wAA+//4/w4ACgAAAPv/+f8EAPv/BwAQAP//BAASAAcA+v8CAAcACAADAAMAFAAOABIABgDx//3/+f/4/+7/4P/y//z//P/1//f/AgD+/wYACQD4/wUAGQAdABIA+P/9//j/5v8GABkAEQAKAP7/BwAPAAwABgACAAoAEgANAPT//f8AAOn/5f/Z/9X/7f/+//z/AAD7/wAADwALAAQACgAZAAUA/P/9//r/AAD9//X//f/3/+f/BAAaABoADAD9//L/6v/7//H//v8VABYADwD7////9f/1//P/7/8BAAsACAD6/woACAAIAA8A//8OABEAFwAgAAwACwAAAOr//f////H/4v/a//3/8P/m/wUA+f8BABgACgALABgAFQAEAPv/8P/7/wUA/f8CAPr/7//i/+//+v/w/wUACwARABcAEQAFAPz/+f/w//H/4f/l//f/8v8CAAMAAwAKAAcAEQAVABUAGAAhABAAEQARAAkABwDo//T/7//x/wwABAAGAAIACgD+/+j/6v/z/wEAAAABAAIABAD5//f/AAD4/wsABAACAAcA+v8CAPb/CwAJAPv/EAAGAAYABAD3//n/+P/k/+7/9v/x//z/8P/2/+z/6f8PABEABQARABUACgALABQAGgAmABkACQAIAPj/6//4//v/8v8CAAQA+/8AAAMAAwD7/+v/4//s/+b/9/8NAAwABADx//H/9f/1//f/+//9/wkAEgAUACgAJAAiAA8A/f8UAAgA+//y//D/EwAIAP//CwAAAP3/9f/j/9//6P/2//3/DQARAP7/AAD5//j/9P/t/wUA/f/5/////v8IAAcAEQATAAcA/f8GAAQA6v/o/+z/9v/m//b/DQACABcACgD+/wIAAgAHAAwAFwAIAAQACgAFAAQACQABAPT//v/2//f/DwAQAAkAEAAcAAoABwAPAPj/BgAEAPH/9v/z/+//6v/v/+z/8P/2/+//9f8SABUA///9/wMADQAOAAAA+v/5/+v/7v/t/+//AAAAAAcA/P/j//H/CQACAAAACwAIAAAAEAAMAOv/9P/7//T/+v8BAPv/+P8IAAcACQASABQADAAOABQADAAhACoAFwAeAC8AEwD4/wAA+v/3//z/8v/g//L/AwDz/xAA/P/h/wgAAAD3//n/9P8AAP3/+//1/+P/3//o//D/8//p/+3//P8AABIADwAcADAAGgAaAA4AAAADAPT/4//r/+j/7//9/+//+//6//b/BQAOABAAIAAfAAUAEAAAAPP/7f/a//L/+v/0//3/AQD//w4AIgAtACoADAAUABMACQAKAPf//v/7////9//v/wEABAD///f////z/+v/6P/d/9v/5f/n/+D/8//z//j/DAAUAAkABwAcABgAFwAXABUACADw//j/8f/s/wMA+f/+/wIA7P/x/wcAEgAVABkAEgAYACAADgAOABoADAD9//j/9/8CAAgACgD9/+T/7f/+////BAANAAcAIAArAAoAEgAOAAAAAADv/+X/6f/q/9v/1P/V/97/5v/r//n/+v8AAAsABAD+/wIA9f/l//X/+//o//P/AQAAAA0ADgAPAA8AGgAnAB8AEAADAAIA9//z//f/9v8JAA4AAwAOAAMAAwANAAcACwD+/wAAAAD0/+3/4P/n//j/CAANAAsAFgASABEAEgATAA8A/P/5//D/9/8BAAMABAACAAIA7f8AABcAEQAVABYAAwACABIAAQD6/wAA8v/h/+j/5//i/+7/9v/3//X/8//+/wkABAD1//X/9P/w/wYAEAALAAsAAgD4//b/8f/w//n/BQAMABAAGgASAAkAFQAFAPb/+//5//f/8v8FABAAAgALAA4A+P/4//P/7//+//3/9v/3/wUABQAKAAcA9f/q/+r/+P8QABsABgAJAAsACwAWABQAEQALAAoA+v/7/xMAEgAUAAUA8v/4//n////3//T/+P/0/wAA/P/5//f/+f/7//b/9f/o//P/AAD6/+v/5f/4//n//v8AAAkAJwAtACMAGwAXAA0A//8JAAUA/v8IAPr/7v/g/9L/5f/x/+//6//6//f/8/8LAAgAFgARAP//AQABABEADgAGAAkABwA=\" type=\"audio/wav\" />\n",
       "                    Your browser does not support the audio element.\n",
       "                </audio>\n",
       "              "
      ],
      "text/plain": [
       "<IPython.lib.display.Audio object>"
      ]
     },
     "execution_count": 114,
     "metadata": {},
     "output_type": "execute_result"
    }
   ],
   "source": [
    "import IPython.display as ipd\n",
    "import numpy as np\n",
    "import random\n",
    "\n",
    "rand_int = random.randint(0, len(common_voice_train))\n",
    "\n",
    "ipd.Audio(data=np.asarray(common_voice_train[rand_int][\"speech\"]), autoplay=True, rate=16000)"
   ]
  },
  {
   "cell_type": "code",
   "execution_count": 115,
   "metadata": {
    "colab": {
     "base_uri": "https://localhost:8080/"
    },
    "id": "1Po2g7YPuRTx",
    "outputId": "fb065f1a-5693-42bc-f0a5-1ed76d25ebe9"
   },
   "outputs": [
    {
     "name": "stdout",
     "output_type": "stream",
     "text": [
      "Target text: सर्वदलीय प्रतिनिधिमंडल में शामिल प्रणव व चिदंबरम \n",
      "Input array shape: (97152,)\n",
      "Sampling rate: 16000\n"
     ]
    }
   ],
   "source": [
    "rand_int = random.randint(0, len(common_voice_train))\n",
    "\n",
    "print(\"Target text:\", common_voice_train[rand_int][\"target_text\"])\n",
    "print(\"Input array shape:\", np.asarray(common_voice_train[rand_int][\"speech\"]).shape)\n",
    "print(\"Sampling rate:\", common_voice_train[rand_int][\"sampling_rate\"])"
   ]
  },
  {
   "cell_type": "code",
   "execution_count": 116,
   "metadata": {
    "id": "eJY7I0XAwe9p"
   },
   "outputs": [],
   "source": [
    "def prepare_dataset(batch):\n",
    "    # check that all files have the correct sampling rate\n",
    "    assert (\n",
    "        len(set(batch[\"sampling_rate\"])) == 1\n",
    "    ), f\"Make sure all inputs have the same sampling rate of {processor.feature_extractor.sampling_rate}.\"\n",
    "\n",
    "    batch[\"input_values\"] = processor(batch[\"speech\"], sampling_rate=batch[\"sampling_rate\"][0]).input_values\n",
    "    \n",
    "    with processor.as_target_processor():\n",
    "        batch[\"labels\"] = processor(batch[\"target_text\"]).input_ids\n",
    "    return batch"
   ]
  },
  {
   "cell_type": "code",
   "execution_count": 117,
   "metadata": {
    "colab": {
     "base_uri": "https://localhost:8080/"
    },
    "id": "-np9xYK-wl8q",
    "outputId": "f8021cc9-7d66-419c-828e-ffe3cb8ea4c5"
   },
   "outputs": [
    {
     "name": "stdout",
     "output_type": "stream",
     "text": [
      " "
     ]
    },
    {
     "name": "stderr",
     "output_type": "stream",
     "text": [
      "Loading cached processed dataset at /root/.cache/huggingface/datasets/common_voice/hi-24242e0bc11eddb3/6.1.0/a1dc74461f6c839bfe1e8cf1262fd4cf24297e3fbd4087a711bd090779023a5e/cache-64ad55c1b8a38618.arrow\n"
     ]
    },
    {
     "name": "stdout",
     "output_type": "stream",
     "text": [
      " "
     ]
    },
    {
     "name": "stderr",
     "output_type": "stream",
     "text": [
      "Loading cached processed dataset at /root/.cache/huggingface/datasets/common_voice/hi-24242e0bc11eddb3/6.1.0/a1dc74461f6c839bfe1e8cf1262fd4cf24297e3fbd4087a711bd090779023a5e/cache-5e1457589e551eea.arrow\n"
     ]
    },
    {
     "name": "stdout",
     "output_type": "stream",
     "text": [
      " "
     ]
    },
    {
     "name": "stderr",
     "output_type": "stream",
     "text": [
      "Loading cached processed dataset at /root/.cache/huggingface/datasets/common_voice/hi-24242e0bc11eddb3/6.1.0/a1dc74461f6c839bfe1e8cf1262fd4cf24297e3fbd4087a711bd090779023a5e/cache-74be250a3a26d3bb.arrow\n"
     ]
    },
    {
     "name": "stdout",
     "output_type": "stream",
     "text": [
      " "
     ]
    },
    {
     "name": "stderr",
     "output_type": "stream",
     "text": [
      "Loading cached processed dataset at /root/.cache/huggingface/datasets/common_voice/hi-24242e0bc11eddb3/6.1.0/a1dc74461f6c839bfe1e8cf1262fd4cf24297e3fbd4087a711bd090779023a5e/cache-b067d664cf5c82c6.arrow\n"
     ]
    },
    {
     "name": "stdout",
     "output_type": "stream",
     "text": [
      " "
     ]
    },
    {
     "name": "stderr",
     "output_type": "stream",
     "text": [
      "Loading cached processed dataset at /root/.cache/huggingface/datasets/common_voice/hi-24242e0bc11eddb3/6.1.0/a1dc74461f6c839bfe1e8cf1262fd4cf24297e3fbd4087a711bd090779023a5e/cache-3d76f5149d8ee0b2.arrow\n"
     ]
    },
    {
     "name": "stdout",
     "output_type": "stream",
     "text": [
      " "
     ]
    },
    {
     "name": "stderr",
     "output_type": "stream",
     "text": [
      "Loading cached processed dataset at /root/.cache/huggingface/datasets/common_voice/hi-24242e0bc11eddb3/6.1.0/a1dc74461f6c839bfe1e8cf1262fd4cf24297e3fbd4087a711bd090779023a5e/cache-31ab86a7ae47344f.arrow\n"
     ]
    },
    {
     "name": "stdout",
     "output_type": "stream",
     "text": [
      " "
     ]
    },
    {
     "name": "stderr",
     "output_type": "stream",
     "text": [
      "Loading cached processed dataset at /root/.cache/huggingface/datasets/common_voice/hi-24242e0bc11eddb3/6.1.0/a1dc74461f6c839bfe1e8cf1262fd4cf24297e3fbd4087a711bd090779023a5e/cache-6c39e7c9b0cc222a.arrow\n"
     ]
    },
    {
     "name": "stdout",
     "output_type": "stream",
     "text": [
      " "
     ]
    },
    {
     "name": "stderr",
     "output_type": "stream",
     "text": [
      "Loading cached processed dataset at /root/.cache/huggingface/datasets/common_voice/hi-24242e0bc11eddb3/6.1.0/a1dc74461f6c839bfe1e8cf1262fd4cf24297e3fbd4087a711bd090779023a5e/cache-d812339feafef89d.arrow\n"
     ]
    }
   ],
   "source": [
    "common_voice_train = common_voice_train.map(prepare_dataset, remove_columns=common_voice_train.column_names, batch_size=8, num_proc=4, batched=True)\n",
    "common_voice_test = common_voice_test.map(prepare_dataset, remove_columns=common_voice_test.column_names, batch_size=8, num_proc=4, batched=True)"
   ]
  },
  {
   "cell_type": "markdown",
   "metadata": {
    "id": "gYlQkKVoRUos"
   },
   "source": [
    "## Training\n",
    "\n",
    "The data is processed so that we are ready to start setting up the training pipeline. We will make use of 🤗's [Trainer](https://huggingface.co/transformers/master/main_classes/trainer.html?highlight=trainer) for which we essentially need to do the following:\n",
    "\n",
    "- Define a data collator. In contrast to most NLP models, XLSR-Wav2Vec2 has a much larger input length than output length. *E.g.*, a sample of input length 50000 has an output length of no more than 100. Given the large input sizes, it is much more efficient to pad the training batches dynamically meaning that all training samples should only be padded to the longest sample in their batch and not the overall longest sample. Therefore, fine-tuning XLSR-Wav2Vec2 requires a special padding data collator, which we will define below\n",
    "\n",
    "- Evaluation metric. During training, the model should be evaluated on the word error rate. We should define a `compute_metrics` function accordingly\n",
    "\n",
    "- Load a pretrained checkpoint. We need to load a pretrained checkpoint and configure it correctly for training.\n",
    "\n",
    "- Define the training configuration.\n",
    "\n",
    "After having fine-tuned the model, we will correctly evaluate it on the test data and verify that it has indeed learned to correctly transcribe speech."
   ]
  },
  {
   "cell_type": "code",
   "execution_count": 118,
   "metadata": {
    "id": "tborvC9hx88e"
   },
   "outputs": [],
   "source": [
    "import torch\n",
    "\n",
    "from dataclasses import dataclass, field\n",
    "from typing import Any, Dict, List, Optional, Union\n",
    "\n",
    "@dataclass\n",
    "class DataCollatorCTCWithPadding:\n",
    "    \"\"\"\n",
    "    Data collator that will dynamically pad the inputs received.\n",
    "    Args:\n",
    "        processor (:class:`~transformers.Wav2Vec2Processor`)\n",
    "            The processor used for proccessing the data.\n",
    "        padding (:obj:`bool`, :obj:`str` or :class:`~transformers.tokenization_utils_base.PaddingStrategy`, `optional`, defaults to :obj:`True`):\n",
    "            Select a strategy to pad the returned sequences (according to the model's padding side and padding index)\n",
    "            among:\n",
    "            * :obj:`True` or :obj:`'longest'`: Pad to the longest sequence in the batch (or no padding if only a single\n",
    "              sequence if provided).\n",
    "            * :obj:`'max_length'`: Pad to a maximum length specified with the argument :obj:`max_length` or to the\n",
    "              maximum acceptable input length for the model if that argument is not provided.\n",
    "            * :obj:`False` or :obj:`'do_not_pad'` (default): No padding (i.e., can output a batch with sequences of\n",
    "              different lengths).\n",
    "        max_length (:obj:`int`, `optional`):\n",
    "            Maximum length of the ``input_values`` of the returned list and optionally padding length (see above).\n",
    "        max_length_labels (:obj:`int`, `optional`):\n",
    "            Maximum length of the ``labels`` returned list and optionally padding length (see above).\n",
    "        pad_to_multiple_of (:obj:`int`, `optional`):\n",
    "            If set will pad the sequence to a multiple of the provided value.\n",
    "            This is especially useful to enable the use of Tensor Cores on NVIDIA hardware with compute capability >=\n",
    "            7.5 (Volta).\n",
    "    \"\"\"\n",
    "\n",
    "    processor: Wav2Vec2Processor\n",
    "    padding: Union[bool, str] = True\n",
    "    max_length: Optional[int] = None\n",
    "    max_length_labels: Optional[int] = None\n",
    "    pad_to_multiple_of: Optional[int] = None\n",
    "    pad_to_multiple_of_labels: Optional[int] = None\n",
    "\n",
    "    def __call__(self, features: List[Dict[str, Union[List[int], torch.Tensor]]]) -> Dict[str, torch.Tensor]:\n",
    "        # split inputs and labels since they have to be of different lenghts and need\n",
    "        # different padding methods\n",
    "        input_features = [{\"input_values\": feature[\"input_values\"]} for feature in features]\n",
    "        label_features = [{\"input_ids\": feature[\"labels\"]} for feature in features]\n",
    "\n",
    "        batch = self.processor.pad(\n",
    "            input_features,\n",
    "            padding=self.padding,\n",
    "            max_length=self.max_length,\n",
    "            pad_to_multiple_of=self.pad_to_multiple_of,\n",
    "            return_tensors=\"pt\",\n",
    "        )\n",
    "        with self.processor.as_target_processor():\n",
    "            labels_batch = self.processor.pad(\n",
    "                label_features,\n",
    "                padding=self.padding,\n",
    "                max_length=self.max_length_labels,\n",
    "                pad_to_multiple_of=self.pad_to_multiple_of_labels,\n",
    "                return_tensors=\"pt\",\n",
    "            )\n",
    "\n",
    "        # replace padding with -100 to ignore loss correctly\n",
    "        labels = labels_batch[\"input_ids\"].masked_fill(labels_batch.attention_mask.ne(1), -100)\n",
    "\n",
    "        batch[\"labels\"] = labels\n",
    "\n",
    "        return batch"
   ]
  },
  {
   "cell_type": "code",
   "execution_count": 119,
   "metadata": {
    "id": "lbQf5GuZyQ4_"
   },
   "outputs": [],
   "source": [
    "data_collator = DataCollatorCTCWithPadding(processor=processor, padding=True)"
   ]
  },
  {
   "cell_type": "markdown",
   "metadata": {
    "id": "xO-Zdj-5cxXp"
   },
   "source": [
    "The evaluation metric --> word error rate (WER)"
   ]
  },
  {
   "cell_type": "code",
   "execution_count": 120,
   "metadata": {
    "id": "9Xsux2gmyXso"
   },
   "outputs": [],
   "source": [
    "wer_metric = load_metric(\"wer\")"
   ]
  },
  {
   "cell_type": "markdown",
   "metadata": {
    "id": "E1qZU5p-deqB"
   },
   "source": [
    "The model will return a sequence of logit vectors:\n",
    "$\\mathbf{y}_1, \\ldots, \\mathbf{y}_m$ with $\\mathbf{y}_1 = f_{\\theta}(x_1, \\ldots, x_n)[0]$ and $n >> m$.\n",
    "\n",
    "A logit vector $\\mathbf{y}_1$ contains the log-odds for each word in the vocabulary we defined earlier, thus $\\text{len}(\\mathbf{y}_i) =$ `config.vocab_size`. We are interested in the most likely prediction of the model and thus take the `argmax(...)` of the logits. Also, we transform the encoded labels back to the original string by replacing `-100` with the `pad_token_id` and decoding the ids while making sure that consecutive tokens are **not** grouped to the same token in CTC style ${}^1$."
   ]
  },
  {
   "cell_type": "code",
   "execution_count": 121,
   "metadata": {
    "id": "1XZ-kjweyTy_"
   },
   "outputs": [],
   "source": [
    "def compute_metrics(pred):\n",
    "    pred_logits = pred.predictions\n",
    "    pred_ids = np.argmax(pred_logits, axis=-1)\n",
    "\n",
    "    pred.label_ids[pred.label_ids == -100] = processor.tokenizer.pad_token_id\n",
    "\n",
    "    pred_str = processor.batch_decode(pred_ids)\n",
    "    # we do not want to group tokens when computing the metrics\n",
    "    label_str = processor.batch_decode(pred.label_ids, group_tokens=False)\n",
    "\n",
    "    wer = wer_metric.compute(predictions=pred_str, references=label_str)\n",
    "\n",
    "    return {\"wer\": wer}"
   ]
  },
  {
   "cell_type": "code",
   "execution_count": 122,
   "metadata": {
    "colab": {
     "base_uri": "https://localhost:8080/"
    },
    "id": "e7cqAWIayn6w",
    "outputId": "992a0964-7d8f-41ee-d39c-e81e86a86345"
   },
   "outputs": [
    {
     "name": "stderr",
     "output_type": "stream",
     "text": [
      "loading configuration file https://huggingface.co/facebook/wav2vec2-large-xlsr-53/resolve/main/config.json from cache at /root/.cache/huggingface/transformers/8508c73cd595eb416a1d517b90762416c0bc6cfbef529578079aeae4d8c14336.7581ed2ee0c677f1e933180df51bd1a668c4a2b6d5fd1297d32069373dac097c\n",
      "Model config Wav2Vec2Config {\n",
      "  \"activation_dropout\": 0.0,\n",
      "  \"adapter_kernel_size\": 3,\n",
      "  \"adapter_stride\": 2,\n",
      "  \"add_adapter\": false,\n",
      "  \"apply_spec_augment\": true,\n",
      "  \"architectures\": [\n",
      "    \"Wav2Vec2ForPreTraining\"\n",
      "  ],\n",
      "  \"attention_dropout\": 0.1,\n",
      "  \"bos_token_id\": 1,\n",
      "  \"classifier_proj_size\": 256,\n",
      "  \"codevector_dim\": 768,\n",
      "  \"contrastive_logits_temperature\": 0.1,\n",
      "  \"conv_bias\": true,\n",
      "  \"conv_dim\": [\n",
      "    512,\n",
      "    512,\n",
      "    512,\n",
      "    512,\n",
      "    512,\n",
      "    512,\n",
      "    512\n",
      "  ],\n",
      "  \"conv_kernel\": [\n",
      "    10,\n",
      "    3,\n",
      "    3,\n",
      "    3,\n",
      "    3,\n",
      "    2,\n",
      "    2\n",
      "  ],\n",
      "  \"conv_stride\": [\n",
      "    5,\n",
      "    2,\n",
      "    2,\n",
      "    2,\n",
      "    2,\n",
      "    2,\n",
      "    2\n",
      "  ],\n",
      "  \"ctc_loss_reduction\": \"mean\",\n",
      "  \"ctc_zero_infinity\": false,\n",
      "  \"diversity_loss_weight\": 0.1,\n",
      "  \"do_stable_layer_norm\": true,\n",
      "  \"eos_token_id\": 2,\n",
      "  \"feat_extract_activation\": \"gelu\",\n",
      "  \"feat_extract_dropout\": 0.0,\n",
      "  \"feat_extract_norm\": \"layer\",\n",
      "  \"feat_proj_dropout\": 0.0,\n",
      "  \"feat_quantizer_dropout\": 0.0,\n",
      "  \"final_dropout\": 0.0,\n",
      "  \"gradient_checkpointing\": true,\n",
      "  \"hidden_act\": \"gelu\",\n",
      "  \"hidden_dropout\": 0.1,\n",
      "  \"hidden_size\": 1024,\n",
      "  \"initializer_range\": 0.02,\n",
      "  \"intermediate_size\": 4096,\n",
      "  \"layer_norm_eps\": 1e-05,\n",
      "  \"layerdrop\": 0.1,\n",
      "  \"mask_channel_length\": 10,\n",
      "  \"mask_channel_min_space\": 1,\n",
      "  \"mask_channel_other\": 0.0,\n",
      "  \"mask_channel_prob\": 0.0,\n",
      "  \"mask_channel_selection\": \"static\",\n",
      "  \"mask_feature_length\": 10,\n",
      "  \"mask_feature_min_masks\": 0,\n",
      "  \"mask_feature_prob\": 0.0,\n",
      "  \"mask_time_length\": 10,\n",
      "  \"mask_time_min_masks\": 2,\n",
      "  \"mask_time_min_space\": 1,\n",
      "  \"mask_time_other\": 0.0,\n",
      "  \"mask_time_prob\": 0.05,\n",
      "  \"mask_time_selection\": \"static\",\n",
      "  \"model_type\": \"wav2vec2\",\n",
      "  \"num_adapter_layers\": 3,\n",
      "  \"num_attention_heads\": 16,\n",
      "  \"num_codevector_groups\": 2,\n",
      "  \"num_codevectors_per_group\": 320,\n",
      "  \"num_conv_pos_embedding_groups\": 16,\n",
      "  \"num_conv_pos_embeddings\": 128,\n",
      "  \"num_feat_extract_layers\": 7,\n",
      "  \"num_hidden_layers\": 24,\n",
      "  \"num_negatives\": 100,\n",
      "  \"output_hidden_size\": 1024,\n",
      "  \"pad_token_id\": 73,\n",
      "  \"proj_codevector_dim\": 768,\n",
      "  \"tdnn_dilation\": [\n",
      "    1,\n",
      "    2,\n",
      "    3,\n",
      "    1,\n",
      "    1\n",
      "  ],\n",
      "  \"tdnn_dim\": [\n",
      "    512,\n",
      "    512,\n",
      "    512,\n",
      "    512,\n",
      "    1500\n",
      "  ],\n",
      "  \"tdnn_kernel\": [\n",
      "    5,\n",
      "    3,\n",
      "    3,\n",
      "    1,\n",
      "    1\n",
      "  ],\n",
      "  \"transformers_version\": \"4.19.0.dev0\",\n",
      "  \"use_weighted_layer_sum\": false,\n",
      "  \"vocab_size\": 74,\n",
      "  \"xvector_output_dim\": 512\n",
      "}\n",
      "\n",
      "loading weights file https://huggingface.co/facebook/wav2vec2-large-xlsr-53/resolve/main/pytorch_model.bin from cache at /root/.cache/huggingface/transformers/5d2a20b45a1689a376ec4a6282b9d9be42f931cdf8daf07c3668ba1070a059d9.622b46163a38532eae8ac5423b0481dfc0b9ea401af488b5141772bdff889079\n",
      "Some weights of the model checkpoint at facebook/wav2vec2-large-xlsr-53 were not used when initializing Wav2Vec2ForCTC: ['quantizer.weight_proj.weight', 'project_hid.bias', 'project_q.bias', 'project_q.weight', 'quantizer.codevectors', 'quantizer.weight_proj.bias', 'project_hid.weight']\n",
      "- This IS expected if you are initializing Wav2Vec2ForCTC from the checkpoint of a model trained on another task or with another architecture (e.g. initializing a BertForSequenceClassification model from a BertForPreTraining model).\n",
      "- This IS NOT expected if you are initializing Wav2Vec2ForCTC from the checkpoint of a model that you expect to be exactly identical (initializing a BertForSequenceClassification model from a BertForSequenceClassification model).\n",
      "Some weights of Wav2Vec2ForCTC were not initialized from the model checkpoint at facebook/wav2vec2-large-xlsr-53 and are newly initialized: ['lm_head.weight', 'lm_head.bias']\n",
      "You should probably TRAIN this model on a down-stream task to be able to use it for predictions and inference.\n"
     ]
    }
   ],
   "source": [
    "from transformers import Wav2Vec2ForCTC\n",
    "# defining the model\n",
    "model = Wav2Vec2ForCTC.from_pretrained(\n",
    "    \"facebook/wav2vec2-large-xlsr-53\", \n",
    "    attention_dropout=0.1,\n",
    "    hidden_dropout=0.1,\n",
    "    feat_proj_dropout=0.0,\n",
    "    mask_time_prob=0.05,\n",
    "    layerdrop=0.1,\n",
    "    gradient_checkpointing=True, \n",
    "    ctc_loss_reduction=\"mean\", \n",
    "    pad_token_id=processor.tokenizer.pad_token_id,\n",
    "    vocab_size=len(processor.tokenizer)\n",
    ")"
   ]
  },
  {
   "cell_type": "markdown",
   "metadata": {
    "id": "1DwR3XLSzGDD"
   },
   "source": [
    "The first component of XLSR-Wav2Vec2 consists of a stack of CNN layers that are used to extract acoustically meaningful - but contextually independent - features from the raw speech signal.\n",
    "\n",
    "This part of the model has already been sufficiently trained during pretraining and as stated in the [paper](https://arxiv.org/pdf/2006.13979.pdf) does not need to be fine-tuned anymore. \n",
    "Thus, we can set the `requires_grad` to `False` for all parameters of the *feature extraction* part."
   ]
  },
  {
   "cell_type": "code",
   "execution_count": 123,
   "metadata": {
    "colab": {
     "base_uri": "https://localhost:8080/"
    },
    "id": "oGI8zObtZ3V0",
    "outputId": "4fcf0e79-472c-4045-ea96-9e57cdff67e7"
   },
   "outputs": [
    {
     "name": "stderr",
     "output_type": "stream",
     "text": [
      "/usr/local/lib/python3.7/dist-packages/transformers/models/wav2vec2/modeling_wav2vec2.py:1677: FutureWarning: The method `freeze_feature_extractor` is deprecated and will be removed in Transformers v5.Please use the equivalent `freeze_feature_encoder` method instead.\n",
      "  FutureWarning,\n"
     ]
    }
   ],
   "source": [
    "model.freeze_feature_extractor()"
   ]
  },
  {
   "cell_type": "markdown",
   "metadata": {
    "id": "lD4aGhQM0K-D"
   },
   "source": [
    "In a final step, we define all parameters related to training. \n",
    "To give more explanation on some of the parameters:\n",
    "- `group_by_length` makes training more efficient by grouping training samples of similar input length into one batch. This can significantly speed up training time by heavily reducing the overall number of useless padding tokens that are passed through the model\n",
    "- `learning_rate` and `weight_decay` were heuristically tuned until fine-tuning has become stable. Note that those parameters strongly depend on the Common Voice dataset and might be suboptimal for other speech datasets.\n",
    "\n"
   ]
  },
  {
   "cell_type": "code",
   "execution_count": 124,
   "metadata": {
    "colab": {
     "base_uri": "https://localhost:8080/"
    },
    "id": "KbeKSV7uzGPP",
    "outputId": "f71eba14-513f-4e43-b875-8453301e40db"
   },
   "outputs": [
    {
     "name": "stderr",
     "output_type": "stream",
     "text": [
      "PyTorch: setting up devices\n",
      "The default value for the training argument `--report_to` will change in v5 (from all installed integrations to none). In v5, you will need to use `--report_to all` to get the same behavior as now. You should start updating your code and make this info disappear :-).\n"
     ]
    }
   ],
   "source": [
    "from transformers import TrainingArguments\n",
    "\n",
    "training_args = TrainingArguments(\n",
    "  output_dir=\"/content/gdrive/MyDrive/wav2vec2-large-xlsr-hindi-demo\",\n",
    "  # output_dir=\"./wav2vec2-large-xlsr-Tamil-demo\",\n",
    "  group_by_length=True,\n",
    "  per_device_train_batch_size=16,\n",
    "  gradient_accumulation_steps=2,\n",
    "  evaluation_strategy=\"steps\",\n",
    "  num_train_epochs=2,\n",
    "  fp16=True,\n",
    "  save_steps=400,\n",
    "  eval_steps=400,\n",
    "  logging_steps=400,\n",
    "  learning_rate=3e-4,\n",
    "  warmup_steps=500,\n",
    "  save_total_limit=2,\n",
    ")"
   ]
  },
  {
   "cell_type": "markdown",
   "metadata": {
    "id": "OsW-WZcL1ZtN"
   },
   "source": [
    "Now, all instances can be passed to Trainer and we are ready to start training!"
   ]
  },
  {
   "cell_type": "code",
   "execution_count": 125,
   "metadata": {
    "colab": {
     "base_uri": "https://localhost:8080/"
    },
    "id": "rY7vBmFCPFgC",
    "outputId": "83c858e9-e81a-4b99-9696-0a3720f0abc4"
   },
   "outputs": [
    {
     "name": "stderr",
     "output_type": "stream",
     "text": [
      "Using amp half precision backend\n"
     ]
    }
   ],
   "source": [
    "from transformers import Trainer\n",
    "\n",
    "trainer = Trainer(\n",
    "    model=model,\n",
    "    data_collator=data_collator,\n",
    "    args=training_args,\n",
    "    compute_metrics=compute_metrics,\n",
    "    train_dataset=common_voice_train,\n",
    "    eval_dataset=common_voice_test,\n",
    "    tokenizer=processor.feature_extractor,\n",
    ")"
   ]
  },
  {
   "cell_type": "markdown",
   "metadata": {
    "id": "UoXBx1JAA0DX"
   },
   "source": [
    "\n",
    "\n",
    "---\n",
    "\n",
    "${}^1$ To allow models to become independent of the speaker rate, in CTC, consecutive tokens that are identical are simply grouped as a single token. However, the encoded labels should not be grouped when decoding since they don't correspond to the predicted tokens of the model, which is why the `group_tokens=False` parameter has to be passed. If we wouldn't pass this parameter a word like `\"hello\"` would incorrectly be encoded, and decoded as `\"helo\"`.\n",
    "\n",
    "${}^2$ The blank token allows the model to predict a word, such as `\"hello\"` by forcing it to insert the blank token between the two l's. A CTC-conform prediction of `\"hello\"` of our model would be `[PAD] [PAD] \"h\" \"e\" \"e\" \"l\" \"l\" [PAD] \"l\" \"o\" \"o\" [PAD]`."
   ]
  },
  {
   "cell_type": "markdown",
   "metadata": {
    "id": "rpvZHM1xReIW"
   },
   "source": [
    "### Training"
   ]
  },
  {
   "cell_type": "code",
   "execution_count": 126,
   "metadata": {
    "colab": {
     "base_uri": "https://localhost:8080/",
     "height": 363
    },
    "id": "_UEjJqGsQw24",
    "outputId": "3e422b3d-91aa-46ef-de0e-c39b69c1541f"
   },
   "outputs": [
    {
     "name": "stderr",
     "output_type": "stream",
     "text": [
      "/usr/local/lib/python3.7/dist-packages/transformers/optimization.py:309: FutureWarning: This implementation of AdamW is deprecated and will be removed in a future version. Use the PyTorch implementation torch.optim.AdamW instead, or set `no_deprecation_warning=True` to disable this warning\n",
      "  FutureWarning,\n",
      "***** Running training *****\n",
      "  Num examples = 292\n",
      "  Num Epochs = 2\n",
      "  Instantaneous batch size per device = 16\n",
      "  Total train batch size (w. parallel, distributed & accumulation) = 32\n",
      "  Gradient Accumulation steps = 2\n",
      "  Total optimization steps = 18\n"
     ]
    },
    {
     "data": {
      "text/html": [
       "\n",
       "    <div>\n",
       "      \n",
       "      <progress value='18' max='18' style='width:300px; height:20px; vertical-align: middle;'></progress>\n",
       "      [18/18 01:19, Epoch 1/2]\n",
       "    </div>\n",
       "    <table border=\"1\" class=\"dataframe\">\n",
       "  <thead>\n",
       " <tr style=\"text-align: left;\">\n",
       "      <th>Step</th>\n",
       "      <th>Training Loss</th>\n",
       "      <th>Validation Loss</th>\n",
       "    </tr>\n",
       "  </thead>\n",
       "  <tbody>\n",
       "  </tbody>\n",
       "</table><p>"
      ],
      "text/plain": [
       "<IPython.core.display.HTML object>"
      ]
     },
     "metadata": {},
     "output_type": "display_data"
    },
    {
     "name": "stderr",
     "output_type": "stream",
     "text": [
      "\n",
      "\n",
      "Training completed. Do not forget to share your model on huggingface.co/models =)\n",
      "\n",
      "\n"
     ]
    },
    {
     "data": {
      "text/plain": [
       "TrainOutput(global_step=18, training_loss=24.439626057942707, metrics={'train_runtime': 86.8653, 'train_samples_per_second': 6.723, 'train_steps_per_second': 0.207, 'total_flos': 9.689602882046976e+16, 'train_loss': 24.439626057942707, 'epoch': 1.95})"
      ]
     },
     "execution_count": 126,
     "metadata": {},
     "output_type": "execute_result"
    }
   ],
   "source": [
    "trainer.train()"
   ]
  },
  {
   "cell_type": "code",
   "execution_count": 127,
   "metadata": {
    "colab": {
     "base_uri": "https://localhost:8080/"
    },
    "id": "mg0zxgvkkxlI",
    "outputId": "070a7c6d-c1ab-49b4-ec42-3c6e89800a9c"
   },
   "outputs": [
    {
     "name": "stdout",
     "output_type": "stream",
     "text": [
      "Requirement already satisfied: transformers in /usr/local/lib/python3.7/dist-packages (4.19.0.dev0)\n",
      "Requirement already satisfied: requests in /usr/local/lib/python3.7/dist-packages (from transformers) (2.23.0)\n",
      "Requirement already satisfied: importlib-metadata in /usr/local/lib/python3.7/dist-packages (from transformers) (4.11.3)\n",
      "Requirement already satisfied: filelock in /usr/local/lib/python3.7/dist-packages (from transformers) (3.6.0)\n",
      "Requirement already satisfied: tokenizers!=0.11.3,<0.13,>=0.11.1 in /usr/local/lib/python3.7/dist-packages (from transformers) (0.12.1)\n",
      "Requirement already satisfied: numpy>=1.17 in /usr/local/lib/python3.7/dist-packages (from transformers) (1.21.6)\n",
      "Requirement already satisfied: packaging>=20.0 in /usr/local/lib/python3.7/dist-packages (from transformers) (21.3)\n",
      "Requirement already satisfied: huggingface-hub<1.0,>=0.1.0 in /usr/local/lib/python3.7/dist-packages (from transformers) (0.5.1)\n",
      "Requirement already satisfied: regex!=2019.12.17 in /usr/local/lib/python3.7/dist-packages (from transformers) (2019.12.20)\n",
      "Requirement already satisfied: tqdm>=4.27 in /usr/local/lib/python3.7/dist-packages (from transformers) (4.64.0)\n",
      "Requirement already satisfied: pyyaml>=5.1 in /usr/local/lib/python3.7/dist-packages (from transformers) (6.0)\n",
      "Requirement already satisfied: typing-extensions>=3.7.4.3 in /usr/local/lib/python3.7/dist-packages (from huggingface-hub<1.0,>=0.1.0->transformers) (4.2.0)\n",
      "Requirement already satisfied: pyparsing!=3.0.5,>=2.0.2 in /usr/local/lib/python3.7/dist-packages (from packaging>=20.0->transformers) (3.0.8)\n",
      "Requirement already satisfied: zipp>=0.5 in /usr/local/lib/python3.7/dist-packages (from importlib-metadata->transformers) (3.8.0)\n",
      "Requirement already satisfied: certifi>=2017.4.17 in /usr/local/lib/python3.7/dist-packages (from requests->transformers) (2021.10.8)\n",
      "Requirement already satisfied: chardet<4,>=3.0.2 in /usr/local/lib/python3.7/dist-packages (from requests->transformers) (3.0.4)\n",
      "Requirement already satisfied: idna<3,>=2.5 in /usr/local/lib/python3.7/dist-packages (from requests->transformers) (2.10)\n",
      "Requirement already satisfied: urllib3!=1.25.0,!=1.25.1,<1.26,>=1.21.1 in /usr/local/lib/python3.7/dist-packages (from requests->transformers) (1.25.11)\n"
     ]
    }
   ],
   "source": [
    "!pip install transformers"
   ]
  },
  {
   "cell_type": "code",
   "execution_count": 128,
   "metadata": {
    "colab": {
     "base_uri": "https://localhost:8080/",
     "height": 1000,
     "referenced_widgets": [
      "2966b45d7fe846eaa5f934c52634dba4",
      "01d54ef3971a47ed8fd6e17d9422a61a",
      "d0797b6e453e40178220d8f3ec4cb399",
      "65c4deedcff743d6a07a915f8448b3e2",
      "aa5c62526b82405b971b7c3a3c8dc6c6",
      "0a4b9d5c1e894f0693b841a93416524f",
      "c7a4f7100b4449baae59b836c51ab74b",
      "2607720d22cb4be4a60ee570f2fa5465",
      "84db86e959954f39b94bfbfced9b8461",
      "6f92e3102200414ab9616215c33585c9",
      "d2422d652e5e406a83bd7eabb6a9f4fa",
      "323f8255608744ee92c96af06c015706",
      "79f934bd9e1e4523beeffb804c579927",
      "169f5a84d9f94906a59789e56f633c3b",
      "5d70d7ddd6b44e5aaf79bc18161c49d1",
      "b4bf20338af24e7eb95577f294119ed0",
      "b321379a5d314a5584ac30b70f1b8ece",
      "5747347af22c47589ed70ac9c3eeb824",
      "85c7b86dbd6641f4af5e4040afcd493a",
      "f8ca5e8b7a5448a2bc66c45e659404bf",
      "4b3bbcbaad16476d8b1a0ecb71862b00",
      "0f403f9ed74840d1a1a0359287b1fd7c"
     ]
    },
    "id": "rnX-lsK7dXK7",
    "outputId": "94fa95b7-3a18-4a3a-dba7-cf6208aaf1f5"
   },
   "outputs": [
    {
     "name": "stderr",
     "output_type": "stream",
     "text": [
      "Reusing dataset common_voice (/root/.cache/huggingface/datasets/common_voice/hi/6.1.0/a1dc74461f6c839bfe1e8cf1262fd4cf24297e3fbd4087a711bd090779023a5e)\n",
      "loading feature extractor configuration file https://huggingface.co/theainerd/Wav2Vec2-large-xlsr-hindi/resolve/main/preprocessor_config.json from cache at /root/.cache/huggingface/transformers/a064e188e889210c0701cc4883f9f0aac8985ce34dc37ab022f0ed1976b9f16b.fcd266b775b7f33ba9b607a0fee7cc615aeb2eb281586f046280492ea380ae23\n",
      "Feature extractor Wav2Vec2FeatureExtractor {\n",
      "  \"do_normalize\": true,\n",
      "  \"feature_extractor_type\": \"Wav2Vec2FeatureExtractor\",\n",
      "  \"feature_size\": 1,\n",
      "  \"padding_side\": \"right\",\n",
      "  \"padding_value\": 0.0,\n",
      "  \"return_attention_mask\": true,\n",
      "  \"sampling_rate\": 16000\n",
      "}\n",
      "\n",
      "loading configuration file https://huggingface.co/theainerd/Wav2Vec2-large-xlsr-hindi/resolve/main/config.json from cache at /root/.cache/huggingface/transformers/7c07eaf6b65b79fff4688d42a0f765c386e1a696c1b6d3fd9ad40fdfed7f50a7.e480a0fd69da2949517209a96b1fe0697a34cd7bd1ca6e49485eceb77cc415fa\n",
      "/usr/local/lib/python3.7/dist-packages/transformers/configuration_utils.py:364: UserWarning: Passing `gradient_checkpointing` to a config initialization is deprecated and will be removed in v5 Transformers. Using `model.gradient_checkpointing_enable()` instead, or if you are using the `Trainer` API, pass `gradient_checkpointing=True` in your `TrainingArguments`.\n",
      "  \"Passing `gradient_checkpointing` to a config initialization is deprecated and will be removed in v5 \"\n",
      "Model config Wav2Vec2Config {\n",
      "  \"_name_or_path\": \"theainerd/Wav2Vec2-large-xlsr-hindi\",\n",
      "  \"activation_dropout\": 0.0,\n",
      "  \"adapter_kernel_size\": 3,\n",
      "  \"adapter_stride\": 2,\n",
      "  \"add_adapter\": false,\n",
      "  \"apply_spec_augment\": true,\n",
      "  \"architectures\": [\n",
      "    \"Wav2Vec2ForCTC\"\n",
      "  ],\n",
      "  \"attention_dropout\": 0.1,\n",
      "  \"bos_token_id\": 1,\n",
      "  \"classifier_proj_size\": 256,\n",
      "  \"codevector_dim\": 256,\n",
      "  \"contrastive_logits_temperature\": 0.1,\n",
      "  \"conv_bias\": true,\n",
      "  \"conv_dim\": [\n",
      "    512,\n",
      "    512,\n",
      "    512,\n",
      "    512,\n",
      "    512,\n",
      "    512,\n",
      "    512\n",
      "  ],\n",
      "  \"conv_kernel\": [\n",
      "    10,\n",
      "    3,\n",
      "    3,\n",
      "    3,\n",
      "    3,\n",
      "    2,\n",
      "    2\n",
      "  ],\n",
      "  \"conv_stride\": [\n",
      "    5,\n",
      "    2,\n",
      "    2,\n",
      "    2,\n",
      "    2,\n",
      "    2,\n",
      "    2\n",
      "  ],\n",
      "  \"ctc_loss_reduction\": \"mean\",\n",
      "  \"ctc_zero_infinity\": false,\n",
      "  \"diversity_loss_weight\": 0.1,\n",
      "  \"do_stable_layer_norm\": true,\n",
      "  \"eos_token_id\": 2,\n",
      "  \"feat_extract_activation\": \"gelu\",\n",
      "  \"feat_extract_dropout\": 0.0,\n",
      "  \"feat_extract_norm\": \"layer\",\n",
      "  \"feat_proj_dropout\": 0.0,\n",
      "  \"feat_quantizer_dropout\": 0.0,\n",
      "  \"final_dropout\": 0.0,\n",
      "  \"gradient_checkpointing\": true,\n",
      "  \"hidden_act\": \"gelu\",\n",
      "  \"hidden_dropout\": 0.1,\n",
      "  \"hidden_size\": 1024,\n",
      "  \"initializer_range\": 0.02,\n",
      "  \"intermediate_size\": 4096,\n",
      "  \"layer_norm_eps\": 1e-05,\n",
      "  \"layerdrop\": 0.1,\n",
      "  \"mask_channel_length\": 10,\n",
      "  \"mask_channel_min_space\": 1,\n",
      "  \"mask_channel_other\": 0.0,\n",
      "  \"mask_channel_prob\": 0.0,\n",
      "  \"mask_channel_selection\": \"static\",\n",
      "  \"mask_feature_length\": 10,\n",
      "  \"mask_feature_min_masks\": 0,\n",
      "  \"mask_feature_prob\": 0.0,\n",
      "  \"mask_time_length\": 10,\n",
      "  \"mask_time_min_masks\": 2,\n",
      "  \"mask_time_min_space\": 1,\n",
      "  \"mask_time_other\": 0.0,\n",
      "  \"mask_time_prob\": 0.05,\n",
      "  \"mask_time_selection\": \"static\",\n",
      "  \"model_type\": \"wav2vec2\",\n",
      "  \"num_adapter_layers\": 3,\n",
      "  \"num_attention_heads\": 16,\n",
      "  \"num_codevector_groups\": 2,\n",
      "  \"num_codevectors_per_group\": 320,\n",
      "  \"num_conv_pos_embedding_groups\": 16,\n",
      "  \"num_conv_pos_embeddings\": 128,\n",
      "  \"num_feat_extract_layers\": 7,\n",
      "  \"num_hidden_layers\": 24,\n",
      "  \"num_negatives\": 100,\n",
      "  \"output_hidden_size\": 1024,\n",
      "  \"pad_token_id\": 63,\n",
      "  \"proj_codevector_dim\": 256,\n",
      "  \"tdnn_dilation\": [\n",
      "    1,\n",
      "    2,\n",
      "    3,\n",
      "    1,\n",
      "    1\n",
      "  ],\n",
      "  \"tdnn_dim\": [\n",
      "    512,\n",
      "    512,\n",
      "    512,\n",
      "    512,\n",
      "    1500\n",
      "  ],\n",
      "  \"tdnn_kernel\": [\n",
      "    5,\n",
      "    3,\n",
      "    3,\n",
      "    1,\n",
      "    1\n",
      "  ],\n",
      "  \"transformers_version\": \"4.19.0.dev0\",\n",
      "  \"use_weighted_layer_sum\": false,\n",
      "  \"vocab_size\": 64,\n",
      "  \"xvector_output_dim\": 512\n",
      "}\n",
      "\n",
      "loading file https://huggingface.co/theainerd/Wav2Vec2-large-xlsr-hindi/resolve/main/vocab.json from cache at /root/.cache/huggingface/transformers/b9255be05df65a6ad00ff38fca250df244246e935ae6e3b3474ec771b97a055b.db2b9b0ae79c6a14c891860dd792bcac5721dc5afc51e59f738fd8638508b53d\n",
      "loading file https://huggingface.co/theainerd/Wav2Vec2-large-xlsr-hindi/resolve/main/tokenizer_config.json from cache at /root/.cache/huggingface/transformers/3726fa6cdb7cdf694d7bb5076bb77a6bc60ee99ce703694e2429f043e567d249.c88f04031b9f85cb27eaf12fed4b4b6cbc0833479142f99bd1eb4e9732746090\n",
      "loading file https://huggingface.co/theainerd/Wav2Vec2-large-xlsr-hindi/resolve/main/added_tokens.json from cache at None\n",
      "loading file https://huggingface.co/theainerd/Wav2Vec2-large-xlsr-hindi/resolve/main/special_tokens_map.json from cache at /root/.cache/huggingface/transformers/f79ebc40b8073672a17b8249a0e97cba9f11ec3f09fa6d34ee7f35d2cbd23862.a21d51735cf8667bcd610f057e88548d5d6a381401f6b4501a8bc6c1a9dc8498\n",
      "loading configuration file https://huggingface.co/theainerd/Wav2Vec2-large-xlsr-hindi/resolve/main/config.json from cache at /root/.cache/huggingface/transformers/7c07eaf6b65b79fff4688d42a0f765c386e1a696c1b6d3fd9ad40fdfed7f50a7.e480a0fd69da2949517209a96b1fe0697a34cd7bd1ca6e49485eceb77cc415fa\n",
      "Model config Wav2Vec2Config {\n",
      "  \"_name_or_path\": \"theainerd/Wav2Vec2-large-xlsr-hindi\",\n",
      "  \"activation_dropout\": 0.0,\n",
      "  \"adapter_kernel_size\": 3,\n",
      "  \"adapter_stride\": 2,\n",
      "  \"add_adapter\": false,\n",
      "  \"apply_spec_augment\": true,\n",
      "  \"architectures\": [\n",
      "    \"Wav2Vec2ForCTC\"\n",
      "  ],\n",
      "  \"attention_dropout\": 0.1,\n",
      "  \"bos_token_id\": 1,\n",
      "  \"classifier_proj_size\": 256,\n",
      "  \"codevector_dim\": 256,\n",
      "  \"contrastive_logits_temperature\": 0.1,\n",
      "  \"conv_bias\": true,\n",
      "  \"conv_dim\": [\n",
      "    512,\n",
      "    512,\n",
      "    512,\n",
      "    512,\n",
      "    512,\n",
      "    512,\n",
      "    512\n",
      "  ],\n",
      "  \"conv_kernel\": [\n",
      "    10,\n",
      "    3,\n",
      "    3,\n",
      "    3,\n",
      "    3,\n",
      "    2,\n",
      "    2\n",
      "  ],\n",
      "  \"conv_stride\": [\n",
      "    5,\n",
      "    2,\n",
      "    2,\n",
      "    2,\n",
      "    2,\n",
      "    2,\n",
      "    2\n",
      "  ],\n",
      "  \"ctc_loss_reduction\": \"mean\",\n",
      "  \"ctc_zero_infinity\": false,\n",
      "  \"diversity_loss_weight\": 0.1,\n",
      "  \"do_stable_layer_norm\": true,\n",
      "  \"eos_token_id\": 2,\n",
      "  \"feat_extract_activation\": \"gelu\",\n",
      "  \"feat_extract_dropout\": 0.0,\n",
      "  \"feat_extract_norm\": \"layer\",\n",
      "  \"feat_proj_dropout\": 0.0,\n",
      "  \"feat_quantizer_dropout\": 0.0,\n",
      "  \"final_dropout\": 0.0,\n",
      "  \"gradient_checkpointing\": true,\n",
      "  \"hidden_act\": \"gelu\",\n",
      "  \"hidden_dropout\": 0.1,\n",
      "  \"hidden_size\": 1024,\n",
      "  \"initializer_range\": 0.02,\n",
      "  \"intermediate_size\": 4096,\n",
      "  \"layer_norm_eps\": 1e-05,\n",
      "  \"layerdrop\": 0.1,\n",
      "  \"mask_channel_length\": 10,\n",
      "  \"mask_channel_min_space\": 1,\n",
      "  \"mask_channel_other\": 0.0,\n",
      "  \"mask_channel_prob\": 0.0,\n",
      "  \"mask_channel_selection\": \"static\",\n",
      "  \"mask_feature_length\": 10,\n",
      "  \"mask_feature_min_masks\": 0,\n",
      "  \"mask_feature_prob\": 0.0,\n",
      "  \"mask_time_length\": 10,\n",
      "  \"mask_time_min_masks\": 2,\n",
      "  \"mask_time_min_space\": 1,\n",
      "  \"mask_time_other\": 0.0,\n",
      "  \"mask_time_prob\": 0.05,\n",
      "  \"mask_time_selection\": \"static\",\n",
      "  \"model_type\": \"wav2vec2\",\n",
      "  \"num_adapter_layers\": 3,\n",
      "  \"num_attention_heads\": 16,\n",
      "  \"num_codevector_groups\": 2,\n",
      "  \"num_codevectors_per_group\": 320,\n",
      "  \"num_conv_pos_embedding_groups\": 16,\n",
      "  \"num_conv_pos_embeddings\": 128,\n",
      "  \"num_feat_extract_layers\": 7,\n",
      "  \"num_hidden_layers\": 24,\n",
      "  \"num_negatives\": 100,\n",
      "  \"output_hidden_size\": 1024,\n",
      "  \"pad_token_id\": 63,\n",
      "  \"proj_codevector_dim\": 256,\n",
      "  \"tdnn_dilation\": [\n",
      "    1,\n",
      "    2,\n",
      "    3,\n",
      "    1,\n",
      "    1\n",
      "  ],\n",
      "  \"tdnn_dim\": [\n",
      "    512,\n",
      "    512,\n",
      "    512,\n",
      "    512,\n",
      "    1500\n",
      "  ],\n",
      "  \"tdnn_kernel\": [\n",
      "    5,\n",
      "    3,\n",
      "    3,\n",
      "    1,\n",
      "    1\n",
      "  ],\n",
      "  \"transformers_version\": \"4.19.0.dev0\",\n",
      "  \"use_weighted_layer_sum\": false,\n",
      "  \"vocab_size\": 64,\n",
      "  \"xvector_output_dim\": 512\n",
      "}\n",
      "\n",
      "Adding <s> to the vocabulary\n",
      "Adding </s> to the vocabulary\n",
      "Special tokens have been added in the vocabulary, make sure the associated word embeddings are fine-tuned or trained.\n",
      "loading configuration file https://huggingface.co/theainerd/Wav2Vec2-large-xlsr-hindi/resolve/main/config.json from cache at /root/.cache/huggingface/transformers/7c07eaf6b65b79fff4688d42a0f765c386e1a696c1b6d3fd9ad40fdfed7f50a7.e480a0fd69da2949517209a96b1fe0697a34cd7bd1ca6e49485eceb77cc415fa\n",
      "Model config Wav2Vec2Config {\n",
      "  \"_name_or_path\": \"facebook/wav2vec2-large-xlsr-53\",\n",
      "  \"activation_dropout\": 0.0,\n",
      "  \"adapter_kernel_size\": 3,\n",
      "  \"adapter_stride\": 2,\n",
      "  \"add_adapter\": false,\n",
      "  \"apply_spec_augment\": true,\n",
      "  \"architectures\": [\n",
      "    \"Wav2Vec2ForCTC\"\n",
      "  ],\n",
      "  \"attention_dropout\": 0.1,\n",
      "  \"bos_token_id\": 1,\n",
      "  \"classifier_proj_size\": 256,\n",
      "  \"codevector_dim\": 256,\n",
      "  \"contrastive_logits_temperature\": 0.1,\n",
      "  \"conv_bias\": true,\n",
      "  \"conv_dim\": [\n",
      "    512,\n",
      "    512,\n",
      "    512,\n",
      "    512,\n",
      "    512,\n",
      "    512,\n",
      "    512\n",
      "  ],\n",
      "  \"conv_kernel\": [\n",
      "    10,\n",
      "    3,\n",
      "    3,\n",
      "    3,\n",
      "    3,\n",
      "    2,\n",
      "    2\n",
      "  ],\n",
      "  \"conv_stride\": [\n",
      "    5,\n",
      "    2,\n",
      "    2,\n",
      "    2,\n",
      "    2,\n",
      "    2,\n",
      "    2\n",
      "  ],\n",
      "  \"ctc_loss_reduction\": \"mean\",\n",
      "  \"ctc_zero_infinity\": false,\n",
      "  \"diversity_loss_weight\": 0.1,\n",
      "  \"do_stable_layer_norm\": true,\n",
      "  \"eos_token_id\": 2,\n",
      "  \"feat_extract_activation\": \"gelu\",\n",
      "  \"feat_extract_dropout\": 0.0,\n",
      "  \"feat_extract_norm\": \"layer\",\n",
      "  \"feat_proj_dropout\": 0.0,\n",
      "  \"feat_quantizer_dropout\": 0.0,\n",
      "  \"final_dropout\": 0.0,\n",
      "  \"gradient_checkpointing\": true,\n",
      "  \"hidden_act\": \"gelu\",\n",
      "  \"hidden_dropout\": 0.1,\n",
      "  \"hidden_size\": 1024,\n",
      "  \"initializer_range\": 0.02,\n",
      "  \"intermediate_size\": 4096,\n",
      "  \"layer_norm_eps\": 1e-05,\n",
      "  \"layerdrop\": 0.1,\n",
      "  \"mask_channel_length\": 10,\n",
      "  \"mask_channel_min_space\": 1,\n",
      "  \"mask_channel_other\": 0.0,\n",
      "  \"mask_channel_prob\": 0.0,\n",
      "  \"mask_channel_selection\": \"static\",\n",
      "  \"mask_feature_length\": 10,\n",
      "  \"mask_feature_min_masks\": 0,\n",
      "  \"mask_feature_prob\": 0.0,\n",
      "  \"mask_time_length\": 10,\n",
      "  \"mask_time_min_masks\": 2,\n",
      "  \"mask_time_min_space\": 1,\n",
      "  \"mask_time_other\": 0.0,\n",
      "  \"mask_time_prob\": 0.05,\n",
      "  \"mask_time_selection\": \"static\",\n",
      "  \"model_type\": \"wav2vec2\",\n",
      "  \"num_adapter_layers\": 3,\n",
      "  \"num_attention_heads\": 16,\n",
      "  \"num_codevector_groups\": 2,\n",
      "  \"num_codevectors_per_group\": 320,\n",
      "  \"num_conv_pos_embedding_groups\": 16,\n",
      "  \"num_conv_pos_embeddings\": 128,\n",
      "  \"num_feat_extract_layers\": 7,\n",
      "  \"num_hidden_layers\": 24,\n",
      "  \"num_negatives\": 100,\n",
      "  \"output_hidden_size\": 1024,\n",
      "  \"pad_token_id\": 63,\n",
      "  \"proj_codevector_dim\": 256,\n",
      "  \"tdnn_dilation\": [\n",
      "    1,\n",
      "    2,\n",
      "    3,\n",
      "    1,\n",
      "    1\n",
      "  ],\n",
      "  \"tdnn_dim\": [\n",
      "    512,\n",
      "    512,\n",
      "    512,\n",
      "    512,\n",
      "    1500\n",
      "  ],\n",
      "  \"tdnn_kernel\": [\n",
      "    5,\n",
      "    3,\n",
      "    3,\n",
      "    1,\n",
      "    1\n",
      "  ],\n",
      "  \"transformers_version\": \"4.19.0.dev0\",\n",
      "  \"use_weighted_layer_sum\": false,\n",
      "  \"vocab_size\": 64,\n",
      "  \"xvector_output_dim\": 512\n",
      "}\n",
      "\n",
      "loading weights file https://huggingface.co/theainerd/Wav2Vec2-large-xlsr-hindi/resolve/main/pytorch_model.bin from cache at /root/.cache/huggingface/transformers/c39ad5c3ec516ca8d453f93b820cbb0b03e9e6e01983adf49b4fdd8ff9f0df3a.ea1ed3631d21ac757d3389a3df7210df3f050ae9d2480a948b728d0e8f5facb4\n",
      "All model checkpoint weights were used when initializing Wav2Vec2ForCTC.\n",
      "\n",
      "All the weights of Wav2Vec2ForCTC were initialized from the model checkpoint at theainerd/Wav2Vec2-large-xlsr-hindi.\n",
      "If your task is similar to the task the model of the checkpoint was trained on, you can already use Wav2Vec2ForCTC for predictions without further training.\n"
     ]
    },
    {
     "data": {
      "application/vnd.jupyter.widget-view+json": {
       "model_id": "2966b45d7fe846eaa5f934c52634dba4",
       "version_major": 2,
       "version_minor": 0
      },
      "text/plain": [
       "  0%|          | 0/127 [00:00<?, ?ex/s]"
      ]
     },
     "metadata": {},
     "output_type": "display_data"
    },
    {
     "data": {
      "application/vnd.jupyter.widget-view+json": {
       "model_id": "323f8255608744ee92c96af06c015706",
       "version_major": 2,
       "version_minor": 0
      },
      "text/plain": [
       "  0%|          | 0/16 [00:00<?, ?ba/s]"
      ]
     },
     "metadata": {},
     "output_type": "display_data"
    },
    {
     "name": "stdout",
     "output_type": "stream",
     "text": [
      "WER: 73.201856\n"
     ]
    }
   ],
   "source": [
    "import torch\n",
    "import torchaudio\n",
    "from datasets import load_dataset, load_metric\n",
    "from transformers import Wav2Vec2ForCTC, Wav2Vec2Processor\n",
    "import re\n",
    "\n",
    "test_dataset = load_dataset(\"common_voice\", \"hi\", split=\"test\")\n",
    "wer = load_metric(\"wer\")\n",
    "\n",
    "processor = Wav2Vec2Processor.from_pretrained(\"theainerd/Wav2Vec2-large-xlsr-hindi\")\n",
    "model = Wav2Vec2ForCTC.from_pretrained(\"theainerd/Wav2Vec2-large-xlsr-hindi\")\n",
    "model.to(\"cuda\")\n",
    "\n",
    "resampler = torchaudio.transforms.Resample(48_000, 16_000)\n",
    "\n",
    "chars_to_ignore_regex = '[\\,\\?\\.\\!\\-\\;\\:\\\"\\“]'\n",
    "\n",
    "# Preprocessing the datasets.\n",
    "# We need to read the aduio files as arrays\n",
    "def speech_file_to_array_fn(batch):\n",
    "  batch[\"sentence\"] = re.sub(chars_to_ignore_regex, '', batch[\"sentence\"]).lower()\n",
    "  speech_array, sampling_rate = torchaudio.load(batch[\"path\"])\n",
    "  batch[\"speech\"] = resampler(speech_array).squeeze().numpy()\n",
    "  return batch\n",
    "\n",
    "test_dataset = test_dataset.map(speech_file_to_array_fn)\n",
    "\n",
    "# Preprocessing the datasets.\n",
    "# We need to read the aduio files as arrays\n",
    "def evaluate(batch):\n",
    "  inputs = processor(batch[\"speech\"], sampling_rate=16_000, return_tensors=\"pt\", padding=True)\n",
    "\n",
    "  with torch.no_grad():\n",
    "      logits = model(inputs.input_values.to(\"cuda\"), attention_mask=inputs.attention_mask.to(\"cuda\")).logits\n",
    "\n",
    "      pred_ids = torch.argmax(logits, dim=-1)\n",
    "      batch[\"pred_strings\"] = processor.batch_decode(pred_ids)\n",
    "      return batch\n",
    "\n",
    "result = test_dataset.map(evaluate, batched=True, batch_size=8)\n",
    "\n",
    "print(\"WER: {:2f}\".format(100 * wer.compute(predictions=result[\"pred_strings\"], references=result[\"sentence\"])))"
   ]
  },
  {
   "cell_type": "code",
   "execution_count": 129,
   "metadata": {
    "colab": {
     "base_uri": "https://localhost:8080/"
    },
    "id": "EA6fxk-jiHby",
    "outputId": "872e4496-b44b-4927-c92c-067fe3e8f5ac"
   },
   "outputs": [
    {
     "name": "stderr",
     "output_type": "stream",
     "text": [
      "It is strongly recommended to pass the ``sampling_rate`` argument to this function. Failing to do so can result in silent errors that might be hard to debug.\n"
     ]
    }
   ],
   "source": [
    "input_dict = processor(common_voice_test[\"input_values\"][0], return_tensors=\"pt\", padding=True)\n",
    "\n",
    "logits = model(input_dict.input_values.to(\"cuda\")).logits\n",
    "\n",
    "pred_ids = torch.argmax(logits, dim=-1)[0]"
   ]
  },
  {
   "cell_type": "code",
   "execution_count": 130,
   "metadata": {
    "colab": {
     "base_uri": "https://localhost:8080/"
    },
    "id": "8dPE2GRIgtx-",
    "outputId": "e3968885-f8a8-4434-f326-7dab86d3c1b9"
   },
   "outputs": [
    {
     "name": "stderr",
     "output_type": "stream",
     "text": [
      "Using custom data configuration hi-24242e0bc11eddb3\n",
      "Reusing dataset common_voice (/root/.cache/huggingface/datasets/common_voice/hi-24242e0bc11eddb3/6.1.0/a1dc74461f6c839bfe1e8cf1262fd4cf24297e3fbd4087a711bd090779023a5e)\n"
     ]
    }
   ],
   "source": [
    "common_voice_test_transcription = load_dataset(\"common_voice\", \"hi\", data_dir=\"./cv-corpus-6.1-2020-12-11\", split=\"test\")"
   ]
  },
  {
   "cell_type": "markdown",
   "metadata": {
    "id": "ApS3MmN4v5P7"
   },
   "source": [
    "Finally, we can decode the example."
   ]
  },
  {
   "cell_type": "code",
   "execution_count": 131,
   "metadata": {
    "colab": {
     "base_uri": "https://localhost:8080/"
    },
    "id": "Phqxa1O1jMDk",
    "outputId": "f5e484ed-babe-4430-f35f-68de63449215"
   },
   "outputs": [
    {
     "name": "stdout",
     "output_type": "stream",
     "text": [
      "Prediction:\n",
      "कानस्टुबल बड मनोछ बाज पे दिखा रहें है ताडब\n",
      "\n",
      "Reference:\n",
      "\"कांस्टेबल बन मनोज बाजपेयी दिखा रहे हैं 'तांडव'\"\n"
     ]
    }
   ],
   "source": [
    "print(\"Prediction:\")\n",
    "print(processor.decode(pred_ids))\n",
    "\n",
    "print(\"\\nReference:\")\n",
    "print(common_voice_test_transcription[\"sentence\"][0].lower())"
   ]
  },
  {
   "cell_type": "markdown",
   "metadata": {
    "id": "aoehrUvdfJPt"
   },
   "source": [
    "# Using the model live to predict the speech"
   ]
  },
  {
   "cell_type": "code",
   "execution_count": 132,
   "metadata": {
    "id": "3U0XYgGdfNYf"
   },
   "outputs": [],
   "source": [
    "%%capture\n",
    "\n",
    "!apt-get -y install sox ffmpeg\n",
    "!pip install transformers ffmpeg-python sox\n",
    "\n",
    "!wget https://raw.githubusercontent.com/harveenchadha/bol/main/demos/colab/record.py"
   ]
  },
  {
   "cell_type": "code",
   "execution_count": 133,
   "metadata": {
    "colab": {
     "base_uri": "https://localhost:8080/"
    },
    "id": "hQiAwAzDfVOq",
    "outputId": "0fb5c29e-0819-4e4c-80cd-1958f8018885"
   },
   "outputs": [
    {
     "name": "stderr",
     "output_type": "stream",
     "text": [
      "loading feature extractor configuration file https://huggingface.co/theainerd/Wav2Vec2-large-xlsr-hindi/resolve/main/preprocessor_config.json from cache at /root/.cache/huggingface/transformers/a064e188e889210c0701cc4883f9f0aac8985ce34dc37ab022f0ed1976b9f16b.fcd266b775b7f33ba9b607a0fee7cc615aeb2eb281586f046280492ea380ae23\n",
      "Feature extractor Wav2Vec2FeatureExtractor {\n",
      "  \"do_normalize\": true,\n",
      "  \"feature_extractor_type\": \"Wav2Vec2FeatureExtractor\",\n",
      "  \"feature_size\": 1,\n",
      "  \"padding_side\": \"right\",\n",
      "  \"padding_value\": 0.0,\n",
      "  \"return_attention_mask\": true,\n",
      "  \"sampling_rate\": 16000\n",
      "}\n",
      "\n",
      "loading configuration file https://huggingface.co/theainerd/Wav2Vec2-large-xlsr-hindi/resolve/main/config.json from cache at /root/.cache/huggingface/transformers/7c07eaf6b65b79fff4688d42a0f765c386e1a696c1b6d3fd9ad40fdfed7f50a7.e480a0fd69da2949517209a96b1fe0697a34cd7bd1ca6e49485eceb77cc415fa\n",
      "/usr/local/lib/python3.7/dist-packages/transformers/configuration_utils.py:364: UserWarning: Passing `gradient_checkpointing` to a config initialization is deprecated and will be removed in v5 Transformers. Using `model.gradient_checkpointing_enable()` instead, or if you are using the `Trainer` API, pass `gradient_checkpointing=True` in your `TrainingArguments`.\n",
      "  \"Passing `gradient_checkpointing` to a config initialization is deprecated and will be removed in v5 \"\n",
      "Model config Wav2Vec2Config {\n",
      "  \"_name_or_path\": \"theainerd/Wav2Vec2-large-xlsr-hindi\",\n",
      "  \"activation_dropout\": 0.0,\n",
      "  \"adapter_kernel_size\": 3,\n",
      "  \"adapter_stride\": 2,\n",
      "  \"add_adapter\": false,\n",
      "  \"apply_spec_augment\": true,\n",
      "  \"architectures\": [\n",
      "    \"Wav2Vec2ForCTC\"\n",
      "  ],\n",
      "  \"attention_dropout\": 0.1,\n",
      "  \"bos_token_id\": 1,\n",
      "  \"classifier_proj_size\": 256,\n",
      "  \"codevector_dim\": 256,\n",
      "  \"contrastive_logits_temperature\": 0.1,\n",
      "  \"conv_bias\": true,\n",
      "  \"conv_dim\": [\n",
      "    512,\n",
      "    512,\n",
      "    512,\n",
      "    512,\n",
      "    512,\n",
      "    512,\n",
      "    512\n",
      "  ],\n",
      "  \"conv_kernel\": [\n",
      "    10,\n",
      "    3,\n",
      "    3,\n",
      "    3,\n",
      "    3,\n",
      "    2,\n",
      "    2\n",
      "  ],\n",
      "  \"conv_stride\": [\n",
      "    5,\n",
      "    2,\n",
      "    2,\n",
      "    2,\n",
      "    2,\n",
      "    2,\n",
      "    2\n",
      "  ],\n",
      "  \"ctc_loss_reduction\": \"mean\",\n",
      "  \"ctc_zero_infinity\": false,\n",
      "  \"diversity_loss_weight\": 0.1,\n",
      "  \"do_stable_layer_norm\": true,\n",
      "  \"eos_token_id\": 2,\n",
      "  \"feat_extract_activation\": \"gelu\",\n",
      "  \"feat_extract_dropout\": 0.0,\n",
      "  \"feat_extract_norm\": \"layer\",\n",
      "  \"feat_proj_dropout\": 0.0,\n",
      "  \"feat_quantizer_dropout\": 0.0,\n",
      "  \"final_dropout\": 0.0,\n",
      "  \"gradient_checkpointing\": true,\n",
      "  \"hidden_act\": \"gelu\",\n",
      "  \"hidden_dropout\": 0.1,\n",
      "  \"hidden_size\": 1024,\n",
      "  \"initializer_range\": 0.02,\n",
      "  \"intermediate_size\": 4096,\n",
      "  \"layer_norm_eps\": 1e-05,\n",
      "  \"layerdrop\": 0.1,\n",
      "  \"mask_channel_length\": 10,\n",
      "  \"mask_channel_min_space\": 1,\n",
      "  \"mask_channel_other\": 0.0,\n",
      "  \"mask_channel_prob\": 0.0,\n",
      "  \"mask_channel_selection\": \"static\",\n",
      "  \"mask_feature_length\": 10,\n",
      "  \"mask_feature_min_masks\": 0,\n",
      "  \"mask_feature_prob\": 0.0,\n",
      "  \"mask_time_length\": 10,\n",
      "  \"mask_time_min_masks\": 2,\n",
      "  \"mask_time_min_space\": 1,\n",
      "  \"mask_time_other\": 0.0,\n",
      "  \"mask_time_prob\": 0.05,\n",
      "  \"mask_time_selection\": \"static\",\n",
      "  \"model_type\": \"wav2vec2\",\n",
      "  \"num_adapter_layers\": 3,\n",
      "  \"num_attention_heads\": 16,\n",
      "  \"num_codevector_groups\": 2,\n",
      "  \"num_codevectors_per_group\": 320,\n",
      "  \"num_conv_pos_embedding_groups\": 16,\n",
      "  \"num_conv_pos_embeddings\": 128,\n",
      "  \"num_feat_extract_layers\": 7,\n",
      "  \"num_hidden_layers\": 24,\n",
      "  \"num_negatives\": 100,\n",
      "  \"output_hidden_size\": 1024,\n",
      "  \"pad_token_id\": 63,\n",
      "  \"proj_codevector_dim\": 256,\n",
      "  \"tdnn_dilation\": [\n",
      "    1,\n",
      "    2,\n",
      "    3,\n",
      "    1,\n",
      "    1\n",
      "  ],\n",
      "  \"tdnn_dim\": [\n",
      "    512,\n",
      "    512,\n",
      "    512,\n",
      "    512,\n",
      "    1500\n",
      "  ],\n",
      "  \"tdnn_kernel\": [\n",
      "    5,\n",
      "    3,\n",
      "    3,\n",
      "    1,\n",
      "    1\n",
      "  ],\n",
      "  \"transformers_version\": \"4.19.0.dev0\",\n",
      "  \"use_weighted_layer_sum\": false,\n",
      "  \"vocab_size\": 64,\n",
      "  \"xvector_output_dim\": 512\n",
      "}\n",
      "\n",
      "loading file https://huggingface.co/theainerd/Wav2Vec2-large-xlsr-hindi/resolve/main/vocab.json from cache at /root/.cache/huggingface/transformers/b9255be05df65a6ad00ff38fca250df244246e935ae6e3b3474ec771b97a055b.db2b9b0ae79c6a14c891860dd792bcac5721dc5afc51e59f738fd8638508b53d\n",
      "loading file https://huggingface.co/theainerd/Wav2Vec2-large-xlsr-hindi/resolve/main/tokenizer_config.json from cache at /root/.cache/huggingface/transformers/3726fa6cdb7cdf694d7bb5076bb77a6bc60ee99ce703694e2429f043e567d249.c88f04031b9f85cb27eaf12fed4b4b6cbc0833479142f99bd1eb4e9732746090\n",
      "loading file https://huggingface.co/theainerd/Wav2Vec2-large-xlsr-hindi/resolve/main/added_tokens.json from cache at None\n",
      "loading file https://huggingface.co/theainerd/Wav2Vec2-large-xlsr-hindi/resolve/main/special_tokens_map.json from cache at /root/.cache/huggingface/transformers/f79ebc40b8073672a17b8249a0e97cba9f11ec3f09fa6d34ee7f35d2cbd23862.a21d51735cf8667bcd610f057e88548d5d6a381401f6b4501a8bc6c1a9dc8498\n",
      "loading configuration file https://huggingface.co/theainerd/Wav2Vec2-large-xlsr-hindi/resolve/main/config.json from cache at /root/.cache/huggingface/transformers/7c07eaf6b65b79fff4688d42a0f765c386e1a696c1b6d3fd9ad40fdfed7f50a7.e480a0fd69da2949517209a96b1fe0697a34cd7bd1ca6e49485eceb77cc415fa\n",
      "Model config Wav2Vec2Config {\n",
      "  \"_name_or_path\": \"theainerd/Wav2Vec2-large-xlsr-hindi\",\n",
      "  \"activation_dropout\": 0.0,\n",
      "  \"adapter_kernel_size\": 3,\n",
      "  \"adapter_stride\": 2,\n",
      "  \"add_adapter\": false,\n",
      "  \"apply_spec_augment\": true,\n",
      "  \"architectures\": [\n",
      "    \"Wav2Vec2ForCTC\"\n",
      "  ],\n",
      "  \"attention_dropout\": 0.1,\n",
      "  \"bos_token_id\": 1,\n",
      "  \"classifier_proj_size\": 256,\n",
      "  \"codevector_dim\": 256,\n",
      "  \"contrastive_logits_temperature\": 0.1,\n",
      "  \"conv_bias\": true,\n",
      "  \"conv_dim\": [\n",
      "    512,\n",
      "    512,\n",
      "    512,\n",
      "    512,\n",
      "    512,\n",
      "    512,\n",
      "    512\n",
      "  ],\n",
      "  \"conv_kernel\": [\n",
      "    10,\n",
      "    3,\n",
      "    3,\n",
      "    3,\n",
      "    3,\n",
      "    2,\n",
      "    2\n",
      "  ],\n",
      "  \"conv_stride\": [\n",
      "    5,\n",
      "    2,\n",
      "    2,\n",
      "    2,\n",
      "    2,\n",
      "    2,\n",
      "    2\n",
      "  ],\n",
      "  \"ctc_loss_reduction\": \"mean\",\n",
      "  \"ctc_zero_infinity\": false,\n",
      "  \"diversity_loss_weight\": 0.1,\n",
      "  \"do_stable_layer_norm\": true,\n",
      "  \"eos_token_id\": 2,\n",
      "  \"feat_extract_activation\": \"gelu\",\n",
      "  \"feat_extract_dropout\": 0.0,\n",
      "  \"feat_extract_norm\": \"layer\",\n",
      "  \"feat_proj_dropout\": 0.0,\n",
      "  \"feat_quantizer_dropout\": 0.0,\n",
      "  \"final_dropout\": 0.0,\n",
      "  \"gradient_checkpointing\": true,\n",
      "  \"hidden_act\": \"gelu\",\n",
      "  \"hidden_dropout\": 0.1,\n",
      "  \"hidden_size\": 1024,\n",
      "  \"initializer_range\": 0.02,\n",
      "  \"intermediate_size\": 4096,\n",
      "  \"layer_norm_eps\": 1e-05,\n",
      "  \"layerdrop\": 0.1,\n",
      "  \"mask_channel_length\": 10,\n",
      "  \"mask_channel_min_space\": 1,\n",
      "  \"mask_channel_other\": 0.0,\n",
      "  \"mask_channel_prob\": 0.0,\n",
      "  \"mask_channel_selection\": \"static\",\n",
      "  \"mask_feature_length\": 10,\n",
      "  \"mask_feature_min_masks\": 0,\n",
      "  \"mask_feature_prob\": 0.0,\n",
      "  \"mask_time_length\": 10,\n",
      "  \"mask_time_min_masks\": 2,\n",
      "  \"mask_time_min_space\": 1,\n",
      "  \"mask_time_other\": 0.0,\n",
      "  \"mask_time_prob\": 0.05,\n",
      "  \"mask_time_selection\": \"static\",\n",
      "  \"model_type\": \"wav2vec2\",\n",
      "  \"num_adapter_layers\": 3,\n",
      "  \"num_attention_heads\": 16,\n",
      "  \"num_codevector_groups\": 2,\n",
      "  \"num_codevectors_per_group\": 320,\n",
      "  \"num_conv_pos_embedding_groups\": 16,\n",
      "  \"num_conv_pos_embeddings\": 128,\n",
      "  \"num_feat_extract_layers\": 7,\n",
      "  \"num_hidden_layers\": 24,\n",
      "  \"num_negatives\": 100,\n",
      "  \"output_hidden_size\": 1024,\n",
      "  \"pad_token_id\": 63,\n",
      "  \"proj_codevector_dim\": 256,\n",
      "  \"tdnn_dilation\": [\n",
      "    1,\n",
      "    2,\n",
      "    3,\n",
      "    1,\n",
      "    1\n",
      "  ],\n",
      "  \"tdnn_dim\": [\n",
      "    512,\n",
      "    512,\n",
      "    512,\n",
      "    512,\n",
      "    1500\n",
      "  ],\n",
      "  \"tdnn_kernel\": [\n",
      "    5,\n",
      "    3,\n",
      "    3,\n",
      "    1,\n",
      "    1\n",
      "  ],\n",
      "  \"transformers_version\": \"4.19.0.dev0\",\n",
      "  \"use_weighted_layer_sum\": false,\n",
      "  \"vocab_size\": 64,\n",
      "  \"xvector_output_dim\": 512\n",
      "}\n",
      "\n",
      "Adding <s> to the vocabulary\n",
      "Adding </s> to the vocabulary\n",
      "Special tokens have been added in the vocabulary, make sure the associated word embeddings are fine-tuned or trained.\n",
      "loading configuration file https://huggingface.co/theainerd/Wav2Vec2-large-xlsr-hindi/resolve/main/config.json from cache at /root/.cache/huggingface/transformers/7c07eaf6b65b79fff4688d42a0f765c386e1a696c1b6d3fd9ad40fdfed7f50a7.e480a0fd69da2949517209a96b1fe0697a34cd7bd1ca6e49485eceb77cc415fa\n",
      "Model config Wav2Vec2Config {\n",
      "  \"_name_or_path\": \"facebook/wav2vec2-large-xlsr-53\",\n",
      "  \"activation_dropout\": 0.0,\n",
      "  \"adapter_kernel_size\": 3,\n",
      "  \"adapter_stride\": 2,\n",
      "  \"add_adapter\": false,\n",
      "  \"apply_spec_augment\": true,\n",
      "  \"architectures\": [\n",
      "    \"Wav2Vec2ForCTC\"\n",
      "  ],\n",
      "  \"attention_dropout\": 0.1,\n",
      "  \"bos_token_id\": 1,\n",
      "  \"classifier_proj_size\": 256,\n",
      "  \"codevector_dim\": 256,\n",
      "  \"contrastive_logits_temperature\": 0.1,\n",
      "  \"conv_bias\": true,\n",
      "  \"conv_dim\": [\n",
      "    512,\n",
      "    512,\n",
      "    512,\n",
      "    512,\n",
      "    512,\n",
      "    512,\n",
      "    512\n",
      "  ],\n",
      "  \"conv_kernel\": [\n",
      "    10,\n",
      "    3,\n",
      "    3,\n",
      "    3,\n",
      "    3,\n",
      "    2,\n",
      "    2\n",
      "  ],\n",
      "  \"conv_stride\": [\n",
      "    5,\n",
      "    2,\n",
      "    2,\n",
      "    2,\n",
      "    2,\n",
      "    2,\n",
      "    2\n",
      "  ],\n",
      "  \"ctc_loss_reduction\": \"mean\",\n",
      "  \"ctc_zero_infinity\": false,\n",
      "  \"diversity_loss_weight\": 0.1,\n",
      "  \"do_stable_layer_norm\": true,\n",
      "  \"eos_token_id\": 2,\n",
      "  \"feat_extract_activation\": \"gelu\",\n",
      "  \"feat_extract_dropout\": 0.0,\n",
      "  \"feat_extract_norm\": \"layer\",\n",
      "  \"feat_proj_dropout\": 0.0,\n",
      "  \"feat_quantizer_dropout\": 0.0,\n",
      "  \"final_dropout\": 0.0,\n",
      "  \"gradient_checkpointing\": true,\n",
      "  \"hidden_act\": \"gelu\",\n",
      "  \"hidden_dropout\": 0.1,\n",
      "  \"hidden_size\": 1024,\n",
      "  \"initializer_range\": 0.02,\n",
      "  \"intermediate_size\": 4096,\n",
      "  \"layer_norm_eps\": 1e-05,\n",
      "  \"layerdrop\": 0.1,\n",
      "  \"mask_channel_length\": 10,\n",
      "  \"mask_channel_min_space\": 1,\n",
      "  \"mask_channel_other\": 0.0,\n",
      "  \"mask_channel_prob\": 0.0,\n",
      "  \"mask_channel_selection\": \"static\",\n",
      "  \"mask_feature_length\": 10,\n",
      "  \"mask_feature_min_masks\": 0,\n",
      "  \"mask_feature_prob\": 0.0,\n",
      "  \"mask_time_length\": 10,\n",
      "  \"mask_time_min_masks\": 2,\n",
      "  \"mask_time_min_space\": 1,\n",
      "  \"mask_time_other\": 0.0,\n",
      "  \"mask_time_prob\": 0.05,\n",
      "  \"mask_time_selection\": \"static\",\n",
      "  \"model_type\": \"wav2vec2\",\n",
      "  \"num_adapter_layers\": 3,\n",
      "  \"num_attention_heads\": 16,\n",
      "  \"num_codevector_groups\": 2,\n",
      "  \"num_codevectors_per_group\": 320,\n",
      "  \"num_conv_pos_embedding_groups\": 16,\n",
      "  \"num_conv_pos_embeddings\": 128,\n",
      "  \"num_feat_extract_layers\": 7,\n",
      "  \"num_hidden_layers\": 24,\n",
      "  \"num_negatives\": 100,\n",
      "  \"output_hidden_size\": 1024,\n",
      "  \"pad_token_id\": 63,\n",
      "  \"proj_codevector_dim\": 256,\n",
      "  \"tdnn_dilation\": [\n",
      "    1,\n",
      "    2,\n",
      "    3,\n",
      "    1,\n",
      "    1\n",
      "  ],\n",
      "  \"tdnn_dim\": [\n",
      "    512,\n",
      "    512,\n",
      "    512,\n",
      "    512,\n",
      "    1500\n",
      "  ],\n",
      "  \"tdnn_kernel\": [\n",
      "    5,\n",
      "    3,\n",
      "    3,\n",
      "    1,\n",
      "    1\n",
      "  ],\n",
      "  \"transformers_version\": \"4.19.0.dev0\",\n",
      "  \"use_weighted_layer_sum\": false,\n",
      "  \"vocab_size\": 64,\n",
      "  \"xvector_output_dim\": 512\n",
      "}\n",
      "\n",
      "loading weights file https://huggingface.co/theainerd/Wav2Vec2-large-xlsr-hindi/resolve/main/pytorch_model.bin from cache at /root/.cache/huggingface/transformers/c39ad5c3ec516ca8d453f93b820cbb0b03e9e6e01983adf49b4fdd8ff9f0df3a.ea1ed3631d21ac757d3389a3df7210df3f050ae9d2480a948b728d0e8f5facb4\n",
      "All model checkpoint weights were used when initializing Wav2Vec2ForCTC.\n",
      "\n",
      "All the weights of Wav2Vec2ForCTC were initialized from the model checkpoint at theainerd/Wav2Vec2-large-xlsr-hindi.\n",
      "If your task is similar to the task the model of the checkpoint was trained on, you can already use Wav2Vec2ForCTC for predictions without further training.\n"
     ]
    }
   ],
   "source": [
    "import soundfile as sf\n",
    "import torch\n",
    "from transformers import Wav2Vec2ForCTC, Wav2Vec2Processor\n",
    "\n",
    "def load_model():\n",
    "    # load pretrained model\n",
    "    processor = Wav2Vec2Processor.from_pretrained(\"theainerd/Wav2Vec2-large-xlsr-hindi\")\n",
    "    model = Wav2Vec2ForCTC.from_pretrained(\"theainerd/Wav2Vec2-large-xlsr-hindi\")\n",
    "    return processor, model\n",
    "\n",
    "processor, model = load_model()"
   ]
  },
  {
   "cell_type": "code",
   "execution_count": 134,
   "metadata": {
    "id": "phWKRyPnfm_Q"
   },
   "outputs": [],
   "source": [
    "def parse_transcription(wav_file):\n",
    "    # load audio    \n",
    "    audio_input, sample_rate = sf.read(wav_file)\n",
    "\n",
    "    # pad input values and return pt tensor\n",
    "    input_values = processor(audio_input, sampling_rate=16_000, return_tensors=\"pt\").input_values\n",
    "\n",
    "    # INFERENCE\n",
    "    # retrieve logits & take argmax\n",
    "    logits = model(input_values).logits\n",
    "    predicted_ids = torch.argmax(logits, dim=-1)\n",
    "\n",
    "    # transcribe\n",
    "    transcription = processor.decode(predicted_ids[0], skip_special_tokens=True)\n",
    "    return transcription"
   ]
  },
  {
   "cell_type": "markdown",
   "metadata": {
    "id": "GSvKaM6MftUW"
   },
   "source": [
    "## Record file using colab"
   ]
  },
  {
   "cell_type": "code",
   "execution_count": 135,
   "metadata": {
    "colab": {
     "base_uri": "https://localhost:8080/",
     "height": 168
    },
    "id": "TsAyYqaWfqyT",
    "outputId": "153effdb-0ff7-407e-e577-3944a2cf4d8a"
   },
   "outputs": [
    {
     "data": {
      "text/html": [
       "\n",
       "<script>\n",
       "var recordButton = document.createElement(\"BUTTON\");\n",
       "recordButton.appendChild(\n",
       "  document.createTextNode(\"Press to start recording\")\n",
       ");\n",
       "restyleButtonBeforeRecording();\n",
       "\n",
       "var my_div = document.createElement(\"DIV\");\n",
       "my_div.appendChild(recordButton);\n",
       "\n",
       "document.body.appendChild(my_div);\n",
       "\n",
       "var base64data = 0;\n",
       "var reader;\n",
       "var recorder, gumStream;\n",
       "\n",
       "function restyleButtonBeforeRecording() {\n",
       "  recordButton.style.width = '270px';\n",
       "  recordButton.style.height = '90';\n",
       "  recordButton.style.padding = '25px';\n",
       "  recordButton.style.backgroundColor = '#4CAF50';\n",
       "  recordButton.style.fontSize = '18px';\n",
       "}\n",
       "\n",
       "function restyleButtonForRecording() {\n",
       "  recordButton.style.backgroundColor = '#008CBA';\n",
       "  recordButton.innerText = \"Recording... press to stop\";\n",
       "}\n",
       "\n",
       "function restyleButtonForSaving() {\n",
       "  recordButton.style.backgroundColor = '#b34d4d';\n",
       "  recordButton.innerText = \"Saving... please wait!\"\n",
       "}\n",
       "\n",
       "var handleSuccess = function(stream) {\n",
       "  gumStream = stream;\n",
       "  recorder = new MediaRecorder(stream);\n",
       "  recorder.ondataavailable = function(e) {\n",
       "    var url = URL.createObjectURL(e.data);\n",
       "    var preview = document.createElement('audio');\n",
       "    preview.controls = true;\n",
       "    preview.src = url;\n",
       "    document.body.appendChild(preview);\n",
       "\n",
       "    reader = new FileReader();\n",
       "    reader.readAsDataURL(e.data);\n",
       "    reader.onloadend = function() {\n",
       "      base64data = reader.result;\n",
       "      //console.log(\"Inside FileReader:\" + base64data);\n",
       "    }\n",
       "  };\n",
       "  recorder.start();\n",
       "  };\n",
       "\n",
       "\n",
       "function toggleRecording() {\n",
       "  if (recorder && recorder.state == \"recording\") {\n",
       "      recorder.stop();\n",
       "      gumStream.getAudioTracks()[0].stop();\n",
       "      restyleButtonForSaving();\n",
       "  }\n",
       "}\n",
       "\n",
       "// https://stackoverflow.com/a/951057\n",
       "function sleep(ms) {\n",
       "  return new Promise(resolve => setTimeout(resolve, ms));\n",
       "}\n",
       "\n",
       "var data = new Promise(resolve=>{\n",
       "  recordButton.onclick = () => {\n",
       "    restyleButtonForRecording();\n",
       "    recordButton.onclick = () => {\n",
       "      toggleRecording();\n",
       "      sleep(2000).then(() => {\n",
       "        // wait 2000ms for the data to be available...\n",
       "        // ideally this should use something like await...\n",
       "        // console.log(\"Inside data:\" + base64data)\n",
       "        resolve(base64data.toString());\n",
       "      });\n",
       "    };\n",
       "    navigator.mediaDevices.getUserMedia({audio: true}).then(handleSuccess);\n",
       "  };\n",
       "});\n",
       "\n",
       "</script>\n"
      ],
      "text/plain": [
       "<IPython.core.display.HTML object>"
      ]
     },
     "metadata": {},
     "output_type": "display_data"
    },
    {
     "name": "stderr",
     "output_type": "stream",
     "text": [
      "output_file: test.wav already exists and will be overwritten on build\n"
     ]
    }
   ],
   "source": [
    "from record import record_audio\n",
    "\n",
    "record_audio('test')"
   ]
  },
  {
   "cell_type": "markdown",
   "metadata": {
    "id": "Y8s4Ak5Hf2n2"
   },
   "source": [
    "## Run Model on recorded file"
   ]
  },
  {
   "cell_type": "code",
   "execution_count": 136,
   "metadata": {
    "colab": {
     "base_uri": "https://localhost:8080/",
     "height": 35
    },
    "id": "53MCvHEIf19Z",
    "outputId": "61d06e13-952d-4cf4-9234-c4d60eca4647"
   },
   "outputs": [
    {
     "data": {
      "application/vnd.google.colaboratory.intrinsic+json": {
       "type": "string"
      },
      "text/plain": [
       "'तुम्हार नाम क्या है'"
      ]
     },
     "execution_count": 136,
     "metadata": {},
     "output_type": "execute_result"
    }
   ],
   "source": [
    "parse_transcription('test.wav')"
   ]
  },
  {
   "cell_type": "code",
   "execution_count": 136,
   "metadata": {
    "id": "9DloYeh7fsyS"
   },
   "outputs": [],
   "source": []
  }
 ],
 "metadata": {
  "accelerator": "GPU",
  "colab": {
   "collapsed_sections": [],
   "machine_shape": "hm",
   "name": "working.ipynb",
   "provenance": []
  },
  "kernelspec": {
   "display_name": "Python 3",
   "language": "python",
   "name": "python3"
  },
  "language_info": {
   "codemirror_mode": {
    "name": "ipython",
    "version": 3
   },
   "file_extension": ".py",
   "mimetype": "text/x-python",
   "name": "python",
   "nbconvert_exporter": "python",
   "pygments_lexer": "ipython3",
   "version": "3.7.4"
  },
  "widgets": {
   "application/vnd.jupyter.widget-state+json": {
    "01d54ef3971a47ed8fd6e17d9422a61a": {
     "model_module": "@jupyter-widgets/controls",
     "model_module_version": "1.5.0",
     "model_name": "HTMLModel",
     "state": {
      "_dom_classes": [],
      "_model_module": "@jupyter-widgets/controls",
      "_model_module_version": "1.5.0",
      "_model_name": "HTMLModel",
      "_view_count": null,
      "_view_module": "@jupyter-widgets/controls",
      "_view_module_version": "1.5.0",
      "_view_name": "HTMLView",
      "description": "",
      "description_tooltip": null,
      "layout": "IPY_MODEL_0a4b9d5c1e894f0693b841a93416524f",
      "placeholder": "​",
      "style": "IPY_MODEL_c7a4f7100b4449baae59b836c51ab74b",
      "value": "100%"
     }
    },
    "0a4b9d5c1e894f0693b841a93416524f": {
     "model_module": "@jupyter-widgets/base",
     "model_module_version": "1.2.0",
     "model_name": "LayoutModel",
     "state": {
      "_model_module": "@jupyter-widgets/base",
      "_model_module_version": "1.2.0",
      "_model_name": "LayoutModel",
      "_view_count": null,
      "_view_module": "@jupyter-widgets/base",
      "_view_module_version": "1.2.0",
      "_view_name": "LayoutView",
      "align_content": null,
      "align_items": null,
      "align_self": null,
      "border": null,
      "bottom": null,
      "display": null,
      "flex": null,
      "flex_flow": null,
      "grid_area": null,
      "grid_auto_columns": null,
      "grid_auto_flow": null,
      "grid_auto_rows": null,
      "grid_column": null,
      "grid_gap": null,
      "grid_row": null,
      "grid_template_areas": null,
      "grid_template_columns": null,
      "grid_template_rows": null,
      "height": null,
      "justify_content": null,
      "justify_items": null,
      "left": null,
      "margin": null,
      "max_height": null,
      "max_width": null,
      "min_height": null,
      "min_width": null,
      "object_fit": null,
      "object_position": null,
      "order": null,
      "overflow": null,
      "overflow_x": null,
      "overflow_y": null,
      "padding": null,
      "right": null,
      "top": null,
      "visibility": null,
      "width": null
     }
    },
    "0f403f9ed74840d1a1a0359287b1fd7c": {
     "model_module": "@jupyter-widgets/controls",
     "model_module_version": "1.5.0",
     "model_name": "DescriptionStyleModel",
     "state": {
      "_model_module": "@jupyter-widgets/controls",
      "_model_module_version": "1.5.0",
      "_model_name": "DescriptionStyleModel",
      "_view_count": null,
      "_view_module": "@jupyter-widgets/base",
      "_view_module_version": "1.2.0",
      "_view_name": "StyleView",
      "description_width": ""
     }
    },
    "169f5a84d9f94906a59789e56f633c3b": {
     "model_module": "@jupyter-widgets/controls",
     "model_module_version": "1.5.0",
     "model_name": "FloatProgressModel",
     "state": {
      "_dom_classes": [],
      "_model_module": "@jupyter-widgets/controls",
      "_model_module_version": "1.5.0",
      "_model_name": "FloatProgressModel",
      "_view_count": null,
      "_view_module": "@jupyter-widgets/controls",
      "_view_module_version": "1.5.0",
      "_view_name": "ProgressView",
      "bar_style": "success",
      "description": "",
      "description_tooltip": null,
      "layout": "IPY_MODEL_85c7b86dbd6641f4af5e4040afcd493a",
      "max": 16,
      "min": 0,
      "orientation": "horizontal",
      "style": "IPY_MODEL_f8ca5e8b7a5448a2bc66c45e659404bf",
      "value": 16
     }
    },
    "171c0ac14b104eed8e3363548f7d6547": {
     "model_module": "@jupyter-widgets/controls",
     "model_module_version": "1.5.0",
     "model_name": "ProgressStyleModel",
     "state": {
      "_model_module": "@jupyter-widgets/controls",
      "_model_module_version": "1.5.0",
      "_model_name": "ProgressStyleModel",
      "_view_count": null,
      "_view_module": "@jupyter-widgets/base",
      "_view_module_version": "1.2.0",
      "_view_name": "StyleView",
      "bar_color": null,
      "description_width": ""
     }
    },
    "1b8a3ab86c5548bd9440a2be56369c6a": {
     "model_module": "@jupyter-widgets/base",
     "model_module_version": "1.2.0",
     "model_name": "LayoutModel",
     "state": {
      "_model_module": "@jupyter-widgets/base",
      "_model_module_version": "1.2.0",
      "_model_name": "LayoutModel",
      "_view_count": null,
      "_view_module": "@jupyter-widgets/base",
      "_view_module_version": "1.2.0",
      "_view_name": "LayoutView",
      "align_content": null,
      "align_items": null,
      "align_self": null,
      "border": null,
      "bottom": null,
      "display": null,
      "flex": null,
      "flex_flow": null,
      "grid_area": null,
      "grid_auto_columns": null,
      "grid_auto_flow": null,
      "grid_auto_rows": null,
      "grid_column": null,
      "grid_gap": null,
      "grid_row": null,
      "grid_template_areas": null,
      "grid_template_columns": null,
      "grid_template_rows": null,
      "height": null,
      "justify_content": null,
      "justify_items": null,
      "left": null,
      "margin": null,
      "max_height": null,
      "max_width": null,
      "min_height": null,
      "min_width": null,
      "object_fit": null,
      "object_position": null,
      "order": null,
      "overflow": null,
      "overflow_x": null,
      "overflow_y": null,
      "padding": null,
      "right": null,
      "top": null,
      "visibility": null,
      "width": null
     }
    },
    "2607720d22cb4be4a60ee570f2fa5465": {
     "model_module": "@jupyter-widgets/base",
     "model_module_version": "1.2.0",
     "model_name": "LayoutModel",
     "state": {
      "_model_module": "@jupyter-widgets/base",
      "_model_module_version": "1.2.0",
      "_model_name": "LayoutModel",
      "_view_count": null,
      "_view_module": "@jupyter-widgets/base",
      "_view_module_version": "1.2.0",
      "_view_name": "LayoutView",
      "align_content": null,
      "align_items": null,
      "align_self": null,
      "border": null,
      "bottom": null,
      "display": null,
      "flex": null,
      "flex_flow": null,
      "grid_area": null,
      "grid_auto_columns": null,
      "grid_auto_flow": null,
      "grid_auto_rows": null,
      "grid_column": null,
      "grid_gap": null,
      "grid_row": null,
      "grid_template_areas": null,
      "grid_template_columns": null,
      "grid_template_rows": null,
      "height": null,
      "justify_content": null,
      "justify_items": null,
      "left": null,
      "margin": null,
      "max_height": null,
      "max_width": null,
      "min_height": null,
      "min_width": null,
      "object_fit": null,
      "object_position": null,
      "order": null,
      "overflow": null,
      "overflow_x": null,
      "overflow_y": null,
      "padding": null,
      "right": null,
      "top": null,
      "visibility": null,
      "width": null
     }
    },
    "2966b45d7fe846eaa5f934c52634dba4": {
     "model_module": "@jupyter-widgets/controls",
     "model_module_version": "1.5.0",
     "model_name": "HBoxModel",
     "state": {
      "_dom_classes": [],
      "_model_module": "@jupyter-widgets/controls",
      "_model_module_version": "1.5.0",
      "_model_name": "HBoxModel",
      "_view_count": null,
      "_view_module": "@jupyter-widgets/controls",
      "_view_module_version": "1.5.0",
      "_view_name": "HBoxView",
      "box_style": "",
      "children": [
       "IPY_MODEL_01d54ef3971a47ed8fd6e17d9422a61a",
       "IPY_MODEL_d0797b6e453e40178220d8f3ec4cb399",
       "IPY_MODEL_65c4deedcff743d6a07a915f8448b3e2"
      ],
      "layout": "IPY_MODEL_aa5c62526b82405b971b7c3a3c8dc6c6"
     }
    },
    "2e0838c933d44a8f8a950cde8a72db44": {
     "model_module": "@jupyter-widgets/controls",
     "model_module_version": "1.5.0",
     "model_name": "DescriptionStyleModel",
     "state": {
      "_model_module": "@jupyter-widgets/controls",
      "_model_module_version": "1.5.0",
      "_model_name": "DescriptionStyleModel",
      "_view_count": null,
      "_view_module": "@jupyter-widgets/base",
      "_view_module_version": "1.2.0",
      "_view_name": "StyleView",
      "description_width": ""
     }
    },
    "323f8255608744ee92c96af06c015706": {
     "model_module": "@jupyter-widgets/controls",
     "model_module_version": "1.5.0",
     "model_name": "HBoxModel",
     "state": {
      "_dom_classes": [],
      "_model_module": "@jupyter-widgets/controls",
      "_model_module_version": "1.5.0",
      "_model_name": "HBoxModel",
      "_view_count": null,
      "_view_module": "@jupyter-widgets/controls",
      "_view_module_version": "1.5.0",
      "_view_name": "HBoxView",
      "box_style": "",
      "children": [
       "IPY_MODEL_79f934bd9e1e4523beeffb804c579927",
       "IPY_MODEL_169f5a84d9f94906a59789e56f633c3b",
       "IPY_MODEL_5d70d7ddd6b44e5aaf79bc18161c49d1"
      ],
      "layout": "IPY_MODEL_b4bf20338af24e7eb95577f294119ed0"
     }
    },
    "34414916dff74b1aa4a129af9ae0864b": {
     "model_module": "@jupyter-widgets/controls",
     "model_module_version": "1.5.0",
     "model_name": "HTMLModel",
     "state": {
      "_dom_classes": [],
      "_model_module": "@jupyter-widgets/controls",
      "_model_module_version": "1.5.0",
      "_model_name": "HTMLModel",
      "_view_count": null,
      "_view_module": "@jupyter-widgets/controls",
      "_view_module_version": "1.5.0",
      "_view_name": "HTMLView",
      "description": "",
      "description_tooltip": null,
      "layout": "IPY_MODEL_6e4cbc1344e7425b8798c2f8b85453cb",
      "placeholder": "​",
      "style": "IPY_MODEL_9765c61453764db78191adc59c470fc6",
      "value": "100%"
     }
    },
    "4214a7e83f304aeaa11151a4ce8ceea8": {
     "model_module": "@jupyter-widgets/controls",
     "model_module_version": "1.5.0",
     "model_name": "FloatProgressModel",
     "state": {
      "_dom_classes": [],
      "_model_module": "@jupyter-widgets/controls",
      "_model_module_version": "1.5.0",
      "_model_name": "FloatProgressModel",
      "_view_count": null,
      "_view_module": "@jupyter-widgets/controls",
      "_view_module_version": "1.5.0",
      "_view_name": "ProgressView",
      "bar_style": "success",
      "description": "",
      "description_tooltip": null,
      "layout": "IPY_MODEL_8f88df2ee9574d9591393eb61fede4c6",
      "max": 1,
      "min": 0,
      "orientation": "horizontal",
      "style": "IPY_MODEL_720042b08d51436a801e87fac01c134c",
      "value": 1
     }
    },
    "4b3bbcbaad16476d8b1a0ecb71862b00": {
     "model_module": "@jupyter-widgets/base",
     "model_module_version": "1.2.0",
     "model_name": "LayoutModel",
     "state": {
      "_model_module": "@jupyter-widgets/base",
      "_model_module_version": "1.2.0",
      "_model_name": "LayoutModel",
      "_view_count": null,
      "_view_module": "@jupyter-widgets/base",
      "_view_module_version": "1.2.0",
      "_view_name": "LayoutView",
      "align_content": null,
      "align_items": null,
      "align_self": null,
      "border": null,
      "bottom": null,
      "display": null,
      "flex": null,
      "flex_flow": null,
      "grid_area": null,
      "grid_auto_columns": null,
      "grid_auto_flow": null,
      "grid_auto_rows": null,
      "grid_column": null,
      "grid_gap": null,
      "grid_row": null,
      "grid_template_areas": null,
      "grid_template_columns": null,
      "grid_template_rows": null,
      "height": null,
      "justify_content": null,
      "justify_items": null,
      "left": null,
      "margin": null,
      "max_height": null,
      "max_width": null,
      "min_height": null,
      "min_width": null,
      "object_fit": null,
      "object_position": null,
      "order": null,
      "overflow": null,
      "overflow_x": null,
      "overflow_y": null,
      "padding": null,
      "right": null,
      "top": null,
      "visibility": null,
      "width": null
     }
    },
    "550042f3a8af4de9a9e6a3470e495e84": {
     "model_module": "@jupyter-widgets/controls",
     "model_module_version": "1.5.0",
     "model_name": "DescriptionStyleModel",
     "state": {
      "_model_module": "@jupyter-widgets/controls",
      "_model_module_version": "1.5.0",
      "_model_name": "DescriptionStyleModel",
      "_view_count": null,
      "_view_module": "@jupyter-widgets/base",
      "_view_module_version": "1.2.0",
      "_view_name": "StyleView",
      "description_width": ""
     }
    },
    "5747347af22c47589ed70ac9c3eeb824": {
     "model_module": "@jupyter-widgets/controls",
     "model_module_version": "1.5.0",
     "model_name": "DescriptionStyleModel",
     "state": {
      "_model_module": "@jupyter-widgets/controls",
      "_model_module_version": "1.5.0",
      "_model_name": "DescriptionStyleModel",
      "_view_count": null,
      "_view_module": "@jupyter-widgets/base",
      "_view_module_version": "1.2.0",
      "_view_name": "StyleView",
      "description_width": ""
     }
    },
    "589e3838fa674207b0ccea6e61276ccc": {
     "model_module": "@jupyter-widgets/base",
     "model_module_version": "1.2.0",
     "model_name": "LayoutModel",
     "state": {
      "_model_module": "@jupyter-widgets/base",
      "_model_module_version": "1.2.0",
      "_model_name": "LayoutModel",
      "_view_count": null,
      "_view_module": "@jupyter-widgets/base",
      "_view_module_version": "1.2.0",
      "_view_name": "LayoutView",
      "align_content": null,
      "align_items": null,
      "align_self": null,
      "border": null,
      "bottom": null,
      "display": null,
      "flex": null,
      "flex_flow": null,
      "grid_area": null,
      "grid_auto_columns": null,
      "grid_auto_flow": null,
      "grid_auto_rows": null,
      "grid_column": null,
      "grid_gap": null,
      "grid_row": null,
      "grid_template_areas": null,
      "grid_template_columns": null,
      "grid_template_rows": null,
      "height": null,
      "justify_content": null,
      "justify_items": null,
      "left": null,
      "margin": null,
      "max_height": null,
      "max_width": null,
      "min_height": null,
      "min_width": null,
      "object_fit": null,
      "object_position": null,
      "order": null,
      "overflow": null,
      "overflow_x": null,
      "overflow_y": null,
      "padding": null,
      "right": null,
      "top": null,
      "visibility": null,
      "width": null
     }
    },
    "5d70d7ddd6b44e5aaf79bc18161c49d1": {
     "model_module": "@jupyter-widgets/controls",
     "model_module_version": "1.5.0",
     "model_name": "HTMLModel",
     "state": {
      "_dom_classes": [],
      "_model_module": "@jupyter-widgets/controls",
      "_model_module_version": "1.5.0",
      "_model_name": "HTMLModel",
      "_view_count": null,
      "_view_module": "@jupyter-widgets/controls",
      "_view_module_version": "1.5.0",
      "_view_name": "HTMLView",
      "description": "",
      "description_tooltip": null,
      "layout": "IPY_MODEL_4b3bbcbaad16476d8b1a0ecb71862b00",
      "placeholder": "​",
      "style": "IPY_MODEL_0f403f9ed74840d1a1a0359287b1fd7c",
      "value": " 16/16 [00:10&lt;00:00,  1.65ba/s]"
     }
    },
    "65c4deedcff743d6a07a915f8448b3e2": {
     "model_module": "@jupyter-widgets/controls",
     "model_module_version": "1.5.0",
     "model_name": "HTMLModel",
     "state": {
      "_dom_classes": [],
      "_model_module": "@jupyter-widgets/controls",
      "_model_module_version": "1.5.0",
      "_model_name": "HTMLModel",
      "_view_count": null,
      "_view_module": "@jupyter-widgets/controls",
      "_view_module_version": "1.5.0",
      "_view_name": "HTMLView",
      "description": "",
      "description_tooltip": null,
      "layout": "IPY_MODEL_6f92e3102200414ab9616215c33585c9",
      "placeholder": "​",
      "style": "IPY_MODEL_d2422d652e5e406a83bd7eabb6a9f4fa",
      "value": " 127/127 [00:01&lt;00:00, 106.07ex/s]"
     }
    },
    "6e4cbc1344e7425b8798c2f8b85453cb": {
     "model_module": "@jupyter-widgets/base",
     "model_module_version": "1.2.0",
     "model_name": "LayoutModel",
     "state": {
      "_model_module": "@jupyter-widgets/base",
      "_model_module_version": "1.2.0",
      "_model_name": "LayoutModel",
      "_view_count": null,
      "_view_module": "@jupyter-widgets/base",
      "_view_module_version": "1.2.0",
      "_view_name": "LayoutView",
      "align_content": null,
      "align_items": null,
      "align_self": null,
      "border": null,
      "bottom": null,
      "display": null,
      "flex": null,
      "flex_flow": null,
      "grid_area": null,
      "grid_auto_columns": null,
      "grid_auto_flow": null,
      "grid_auto_rows": null,
      "grid_column": null,
      "grid_gap": null,
      "grid_row": null,
      "grid_template_areas": null,
      "grid_template_columns": null,
      "grid_template_rows": null,
      "height": null,
      "justify_content": null,
      "justify_items": null,
      "left": null,
      "margin": null,
      "max_height": null,
      "max_width": null,
      "min_height": null,
      "min_width": null,
      "object_fit": null,
      "object_position": null,
      "order": null,
      "overflow": null,
      "overflow_x": null,
      "overflow_y": null,
      "padding": null,
      "right": null,
      "top": null,
      "visibility": null,
      "width": null
     }
    },
    "6f92e3102200414ab9616215c33585c9": {
     "model_module": "@jupyter-widgets/base",
     "model_module_version": "1.2.0",
     "model_name": "LayoutModel",
     "state": {
      "_model_module": "@jupyter-widgets/base",
      "_model_module_version": "1.2.0",
      "_model_name": "LayoutModel",
      "_view_count": null,
      "_view_module": "@jupyter-widgets/base",
      "_view_module_version": "1.2.0",
      "_view_name": "LayoutView",
      "align_content": null,
      "align_items": null,
      "align_self": null,
      "border": null,
      "bottom": null,
      "display": null,
      "flex": null,
      "flex_flow": null,
      "grid_area": null,
      "grid_auto_columns": null,
      "grid_auto_flow": null,
      "grid_auto_rows": null,
      "grid_column": null,
      "grid_gap": null,
      "grid_row": null,
      "grid_template_areas": null,
      "grid_template_columns": null,
      "grid_template_rows": null,
      "height": null,
      "justify_content": null,
      "justify_items": null,
      "left": null,
      "margin": null,
      "max_height": null,
      "max_width": null,
      "min_height": null,
      "min_width": null,
      "object_fit": null,
      "object_position": null,
      "order": null,
      "overflow": null,
      "overflow_x": null,
      "overflow_y": null,
      "padding": null,
      "right": null,
      "top": null,
      "visibility": null,
      "width": null
     }
    },
    "720042b08d51436a801e87fac01c134c": {
     "model_module": "@jupyter-widgets/controls",
     "model_module_version": "1.5.0",
     "model_name": "ProgressStyleModel",
     "state": {
      "_model_module": "@jupyter-widgets/controls",
      "_model_module_version": "1.5.0",
      "_model_name": "ProgressStyleModel",
      "_view_count": null,
      "_view_module": "@jupyter-widgets/base",
      "_view_module_version": "1.2.0",
      "_view_name": "StyleView",
      "bar_color": null,
      "description_width": ""
     }
    },
    "79f934bd9e1e4523beeffb804c579927": {
     "model_module": "@jupyter-widgets/controls",
     "model_module_version": "1.5.0",
     "model_name": "HTMLModel",
     "state": {
      "_dom_classes": [],
      "_model_module": "@jupyter-widgets/controls",
      "_model_module_version": "1.5.0",
      "_model_name": "HTMLModel",
      "_view_count": null,
      "_view_module": "@jupyter-widgets/controls",
      "_view_module_version": "1.5.0",
      "_view_name": "HTMLView",
      "description": "",
      "description_tooltip": null,
      "layout": "IPY_MODEL_b321379a5d314a5584ac30b70f1b8ece",
      "placeholder": "​",
      "style": "IPY_MODEL_5747347af22c47589ed70ac9c3eeb824",
      "value": "100%"
     }
    },
    "82e10f179a7441d59af8e7e6415bec02": {
     "model_module": "@jupyter-widgets/base",
     "model_module_version": "1.2.0",
     "model_name": "LayoutModel",
     "state": {
      "_model_module": "@jupyter-widgets/base",
      "_model_module_version": "1.2.0",
      "_model_name": "LayoutModel",
      "_view_count": null,
      "_view_module": "@jupyter-widgets/base",
      "_view_module_version": "1.2.0",
      "_view_name": "LayoutView",
      "align_content": null,
      "align_items": null,
      "align_self": null,
      "border": null,
      "bottom": null,
      "display": null,
      "flex": null,
      "flex_flow": null,
      "grid_area": null,
      "grid_auto_columns": null,
      "grid_auto_flow": null,
      "grid_auto_rows": null,
      "grid_column": null,
      "grid_gap": null,
      "grid_row": null,
      "grid_template_areas": null,
      "grid_template_columns": null,
      "grid_template_rows": null,
      "height": null,
      "justify_content": null,
      "justify_items": null,
      "left": null,
      "margin": null,
      "max_height": null,
      "max_width": null,
      "min_height": null,
      "min_width": null,
      "object_fit": null,
      "object_position": null,
      "order": null,
      "overflow": null,
      "overflow_x": null,
      "overflow_y": null,
      "padding": null,
      "right": null,
      "top": null,
      "visibility": null,
      "width": null
     }
    },
    "84db86e959954f39b94bfbfced9b8461": {
     "model_module": "@jupyter-widgets/controls",
     "model_module_version": "1.5.0",
     "model_name": "ProgressStyleModel",
     "state": {
      "_model_module": "@jupyter-widgets/controls",
      "_model_module_version": "1.5.0",
      "_model_name": "ProgressStyleModel",
      "_view_count": null,
      "_view_module": "@jupyter-widgets/base",
      "_view_module_version": "1.2.0",
      "_view_name": "StyleView",
      "bar_color": null,
      "description_width": ""
     }
    },
    "85c7b86dbd6641f4af5e4040afcd493a": {
     "model_module": "@jupyter-widgets/base",
     "model_module_version": "1.2.0",
     "model_name": "LayoutModel",
     "state": {
      "_model_module": "@jupyter-widgets/base",
      "_model_module_version": "1.2.0",
      "_model_name": "LayoutModel",
      "_view_count": null,
      "_view_module": "@jupyter-widgets/base",
      "_view_module_version": "1.2.0",
      "_view_name": "LayoutView",
      "align_content": null,
      "align_items": null,
      "align_self": null,
      "border": null,
      "bottom": null,
      "display": null,
      "flex": null,
      "flex_flow": null,
      "grid_area": null,
      "grid_auto_columns": null,
      "grid_auto_flow": null,
      "grid_auto_rows": null,
      "grid_column": null,
      "grid_gap": null,
      "grid_row": null,
      "grid_template_areas": null,
      "grid_template_columns": null,
      "grid_template_rows": null,
      "height": null,
      "justify_content": null,
      "justify_items": null,
      "left": null,
      "margin": null,
      "max_height": null,
      "max_width": null,
      "min_height": null,
      "min_width": null,
      "object_fit": null,
      "object_position": null,
      "order": null,
      "overflow": null,
      "overflow_x": null,
      "overflow_y": null,
      "padding": null,
      "right": null,
      "top": null,
      "visibility": null,
      "width": null
     }
    },
    "8a57082b39df45acaf0bad912b6a2416": {
     "model_module": "@jupyter-widgets/controls",
     "model_module_version": "1.5.0",
     "model_name": "HTMLModel",
     "state": {
      "_dom_classes": [],
      "_model_module": "@jupyter-widgets/controls",
      "_model_module_version": "1.5.0",
      "_model_name": "HTMLModel",
      "_view_count": null,
      "_view_module": "@jupyter-widgets/controls",
      "_view_module_version": "1.5.0",
      "_view_name": "HTMLView",
      "description": "",
      "description_tooltip": null,
      "layout": "IPY_MODEL_82e10f179a7441d59af8e7e6415bec02",
      "placeholder": "​",
      "style": "IPY_MODEL_ff0c7e2924564391869aee1b716fb9ad",
      "value": " 1/1 [00:00&lt;00:00, 30.31ba/s]"
     }
    },
    "8f88df2ee9574d9591393eb61fede4c6": {
     "model_module": "@jupyter-widgets/base",
     "model_module_version": "1.2.0",
     "model_name": "LayoutModel",
     "state": {
      "_model_module": "@jupyter-widgets/base",
      "_model_module_version": "1.2.0",
      "_model_name": "LayoutModel",
      "_view_count": null,
      "_view_module": "@jupyter-widgets/base",
      "_view_module_version": "1.2.0",
      "_view_name": "LayoutView",
      "align_content": null,
      "align_items": null,
      "align_self": null,
      "border": null,
      "bottom": null,
      "display": null,
      "flex": null,
      "flex_flow": null,
      "grid_area": null,
      "grid_auto_columns": null,
      "grid_auto_flow": null,
      "grid_auto_rows": null,
      "grid_column": null,
      "grid_gap": null,
      "grid_row": null,
      "grid_template_areas": null,
      "grid_template_columns": null,
      "grid_template_rows": null,
      "height": null,
      "justify_content": null,
      "justify_items": null,
      "left": null,
      "margin": null,
      "max_height": null,
      "max_width": null,
      "min_height": null,
      "min_width": null,
      "object_fit": null,
      "object_position": null,
      "order": null,
      "overflow": null,
      "overflow_x": null,
      "overflow_y": null,
      "padding": null,
      "right": null,
      "top": null,
      "visibility": null,
      "width": null
     }
    },
    "93438b2b5ab94dfab51e3447d11e6d26": {
     "model_module": "@jupyter-widgets/base",
     "model_module_version": "1.2.0",
     "model_name": "LayoutModel",
     "state": {
      "_model_module": "@jupyter-widgets/base",
      "_model_module_version": "1.2.0",
      "_model_name": "LayoutModel",
      "_view_count": null,
      "_view_module": "@jupyter-widgets/base",
      "_view_module_version": "1.2.0",
      "_view_name": "LayoutView",
      "align_content": null,
      "align_items": null,
      "align_self": null,
      "border": null,
      "bottom": null,
      "display": null,
      "flex": null,
      "flex_flow": null,
      "grid_area": null,
      "grid_auto_columns": null,
      "grid_auto_flow": null,
      "grid_auto_rows": null,
      "grid_column": null,
      "grid_gap": null,
      "grid_row": null,
      "grid_template_areas": null,
      "grid_template_columns": null,
      "grid_template_rows": null,
      "height": null,
      "justify_content": null,
      "justify_items": null,
      "left": null,
      "margin": null,
      "max_height": null,
      "max_width": null,
      "min_height": null,
      "min_width": null,
      "object_fit": null,
      "object_position": null,
      "order": null,
      "overflow": null,
      "overflow_x": null,
      "overflow_y": null,
      "padding": null,
      "right": null,
      "top": null,
      "visibility": null,
      "width": null
     }
    },
    "9765c61453764db78191adc59c470fc6": {
     "model_module": "@jupyter-widgets/controls",
     "model_module_version": "1.5.0",
     "model_name": "DescriptionStyleModel",
     "state": {
      "_model_module": "@jupyter-widgets/controls",
      "_model_module_version": "1.5.0",
      "_model_name": "DescriptionStyleModel",
      "_view_count": null,
      "_view_module": "@jupyter-widgets/base",
      "_view_module_version": "1.2.0",
      "_view_name": "StyleView",
      "description_width": ""
     }
    },
    "aa5c62526b82405b971b7c3a3c8dc6c6": {
     "model_module": "@jupyter-widgets/base",
     "model_module_version": "1.2.0",
     "model_name": "LayoutModel",
     "state": {
      "_model_module": "@jupyter-widgets/base",
      "_model_module_version": "1.2.0",
      "_model_name": "LayoutModel",
      "_view_count": null,
      "_view_module": "@jupyter-widgets/base",
      "_view_module_version": "1.2.0",
      "_view_name": "LayoutView",
      "align_content": null,
      "align_items": null,
      "align_self": null,
      "border": null,
      "bottom": null,
      "display": null,
      "flex": null,
      "flex_flow": null,
      "grid_area": null,
      "grid_auto_columns": null,
      "grid_auto_flow": null,
      "grid_auto_rows": null,
      "grid_column": null,
      "grid_gap": null,
      "grid_row": null,
      "grid_template_areas": null,
      "grid_template_columns": null,
      "grid_template_rows": null,
      "height": null,
      "justify_content": null,
      "justify_items": null,
      "left": null,
      "margin": null,
      "max_height": null,
      "max_width": null,
      "min_height": null,
      "min_width": null,
      "object_fit": null,
      "object_position": null,
      "order": null,
      "overflow": null,
      "overflow_x": null,
      "overflow_y": null,
      "padding": null,
      "right": null,
      "top": null,
      "visibility": null,
      "width": null
     }
    },
    "b321379a5d314a5584ac30b70f1b8ece": {
     "model_module": "@jupyter-widgets/base",
     "model_module_version": "1.2.0",
     "model_name": "LayoutModel",
     "state": {
      "_model_module": "@jupyter-widgets/base",
      "_model_module_version": "1.2.0",
      "_model_name": "LayoutModel",
      "_view_count": null,
      "_view_module": "@jupyter-widgets/base",
      "_view_module_version": "1.2.0",
      "_view_name": "LayoutView",
      "align_content": null,
      "align_items": null,
      "align_self": null,
      "border": null,
      "bottom": null,
      "display": null,
      "flex": null,
      "flex_flow": null,
      "grid_area": null,
      "grid_auto_columns": null,
      "grid_auto_flow": null,
      "grid_auto_rows": null,
      "grid_column": null,
      "grid_gap": null,
      "grid_row": null,
      "grid_template_areas": null,
      "grid_template_columns": null,
      "grid_template_rows": null,
      "height": null,
      "justify_content": null,
      "justify_items": null,
      "left": null,
      "margin": null,
      "max_height": null,
      "max_width": null,
      "min_height": null,
      "min_width": null,
      "object_fit": null,
      "object_position": null,
      "order": null,
      "overflow": null,
      "overflow_x": null,
      "overflow_y": null,
      "padding": null,
      "right": null,
      "top": null,
      "visibility": null,
      "width": null
     }
    },
    "b3afb233719f4a31bb2dd40256e35523": {
     "model_module": "@jupyter-widgets/controls",
     "model_module_version": "1.5.0",
     "model_name": "HBoxModel",
     "state": {
      "_dom_classes": [],
      "_model_module": "@jupyter-widgets/controls",
      "_model_module_version": "1.5.0",
      "_model_name": "HBoxModel",
      "_view_count": null,
      "_view_module": "@jupyter-widgets/controls",
      "_view_module_version": "1.5.0",
      "_view_name": "HBoxView",
      "box_style": "",
      "children": [
       "IPY_MODEL_e9c61e3d11e9463d800a08253cdd7dd7",
       "IPY_MODEL_4214a7e83f304aeaa11151a4ce8ceea8",
       "IPY_MODEL_8a57082b39df45acaf0bad912b6a2416"
      ],
      "layout": "IPY_MODEL_c2d785ed9cd648828b32f2decdacaf8c"
     }
    },
    "b4bf20338af24e7eb95577f294119ed0": {
     "model_module": "@jupyter-widgets/base",
     "model_module_version": "1.2.0",
     "model_name": "LayoutModel",
     "state": {
      "_model_module": "@jupyter-widgets/base",
      "_model_module_version": "1.2.0",
      "_model_name": "LayoutModel",
      "_view_count": null,
      "_view_module": "@jupyter-widgets/base",
      "_view_module_version": "1.2.0",
      "_view_name": "LayoutView",
      "align_content": null,
      "align_items": null,
      "align_self": null,
      "border": null,
      "bottom": null,
      "display": null,
      "flex": null,
      "flex_flow": null,
      "grid_area": null,
      "grid_auto_columns": null,
      "grid_auto_flow": null,
      "grid_auto_rows": null,
      "grid_column": null,
      "grid_gap": null,
      "grid_row": null,
      "grid_template_areas": null,
      "grid_template_columns": null,
      "grid_template_rows": null,
      "height": null,
      "justify_content": null,
      "justify_items": null,
      "left": null,
      "margin": null,
      "max_height": null,
      "max_width": null,
      "min_height": null,
      "min_width": null,
      "object_fit": null,
      "object_position": null,
      "order": null,
      "overflow": null,
      "overflow_x": null,
      "overflow_y": null,
      "padding": null,
      "right": null,
      "top": null,
      "visibility": null,
      "width": null
     }
    },
    "b9efb7a853c94901986e36748bd878df": {
     "model_module": "@jupyter-widgets/controls",
     "model_module_version": "1.5.0",
     "model_name": "FloatProgressModel",
     "state": {
      "_dom_classes": [],
      "_model_module": "@jupyter-widgets/controls",
      "_model_module_version": "1.5.0",
      "_model_name": "FloatProgressModel",
      "_view_count": null,
      "_view_module": "@jupyter-widgets/controls",
      "_view_module_version": "1.5.0",
      "_view_name": "ProgressView",
      "bar_style": "success",
      "description": "",
      "description_tooltip": null,
      "layout": "IPY_MODEL_589e3838fa674207b0ccea6e61276ccc",
      "max": 1,
      "min": 0,
      "orientation": "horizontal",
      "style": "IPY_MODEL_171c0ac14b104eed8e3363548f7d6547",
      "value": 1
     }
    },
    "c2d785ed9cd648828b32f2decdacaf8c": {
     "model_module": "@jupyter-widgets/base",
     "model_module_version": "1.2.0",
     "model_name": "LayoutModel",
     "state": {
      "_model_module": "@jupyter-widgets/base",
      "_model_module_version": "1.2.0",
      "_model_name": "LayoutModel",
      "_view_count": null,
      "_view_module": "@jupyter-widgets/base",
      "_view_module_version": "1.2.0",
      "_view_name": "LayoutView",
      "align_content": null,
      "align_items": null,
      "align_self": null,
      "border": null,
      "bottom": null,
      "display": null,
      "flex": null,
      "flex_flow": null,
      "grid_area": null,
      "grid_auto_columns": null,
      "grid_auto_flow": null,
      "grid_auto_rows": null,
      "grid_column": null,
      "grid_gap": null,
      "grid_row": null,
      "grid_template_areas": null,
      "grid_template_columns": null,
      "grid_template_rows": null,
      "height": null,
      "justify_content": null,
      "justify_items": null,
      "left": null,
      "margin": null,
      "max_height": null,
      "max_width": null,
      "min_height": null,
      "min_width": null,
      "object_fit": null,
      "object_position": null,
      "order": null,
      "overflow": null,
      "overflow_x": null,
      "overflow_y": null,
      "padding": null,
      "right": null,
      "top": null,
      "visibility": null,
      "width": null
     }
    },
    "c7a4f7100b4449baae59b836c51ab74b": {
     "model_module": "@jupyter-widgets/controls",
     "model_module_version": "1.5.0",
     "model_name": "DescriptionStyleModel",
     "state": {
      "_model_module": "@jupyter-widgets/controls",
      "_model_module_version": "1.5.0",
      "_model_name": "DescriptionStyleModel",
      "_view_count": null,
      "_view_module": "@jupyter-widgets/base",
      "_view_module_version": "1.2.0",
      "_view_name": "StyleView",
      "description_width": ""
     }
    },
    "d0797b6e453e40178220d8f3ec4cb399": {
     "model_module": "@jupyter-widgets/controls",
     "model_module_version": "1.5.0",
     "model_name": "FloatProgressModel",
     "state": {
      "_dom_classes": [],
      "_model_module": "@jupyter-widgets/controls",
      "_model_module_version": "1.5.0",
      "_model_name": "FloatProgressModel",
      "_view_count": null,
      "_view_module": "@jupyter-widgets/controls",
      "_view_module_version": "1.5.0",
      "_view_name": "ProgressView",
      "bar_style": "success",
      "description": "",
      "description_tooltip": null,
      "layout": "IPY_MODEL_2607720d22cb4be4a60ee570f2fa5465",
      "max": 127,
      "min": 0,
      "orientation": "horizontal",
      "style": "IPY_MODEL_84db86e959954f39b94bfbfced9b8461",
      "value": 127
     }
    },
    "d2422d652e5e406a83bd7eabb6a9f4fa": {
     "model_module": "@jupyter-widgets/controls",
     "model_module_version": "1.5.0",
     "model_name": "DescriptionStyleModel",
     "state": {
      "_model_module": "@jupyter-widgets/controls",
      "_model_module_version": "1.5.0",
      "_model_name": "DescriptionStyleModel",
      "_view_count": null,
      "_view_module": "@jupyter-widgets/base",
      "_view_module_version": "1.2.0",
      "_view_name": "StyleView",
      "description_width": ""
     }
    },
    "e140e97345994a93aeadd25a6fab7c2c": {
     "model_module": "@jupyter-widgets/controls",
     "model_module_version": "1.5.0",
     "model_name": "HBoxModel",
     "state": {
      "_dom_classes": [],
      "_model_module": "@jupyter-widgets/controls",
      "_model_module_version": "1.5.0",
      "_model_name": "HBoxModel",
      "_view_count": null,
      "_view_module": "@jupyter-widgets/controls",
      "_view_module_version": "1.5.0",
      "_view_name": "HBoxView",
      "box_style": "",
      "children": [
       "IPY_MODEL_34414916dff74b1aa4a129af9ae0864b",
       "IPY_MODEL_b9efb7a853c94901986e36748bd878df",
       "IPY_MODEL_f9a67ff5e8124baa8b3c785d9228babb"
      ],
      "layout": "IPY_MODEL_e4f4b70fd21b4a699d3b4f7f80fc5d9a"
     }
    },
    "e4f4b70fd21b4a699d3b4f7f80fc5d9a": {
     "model_module": "@jupyter-widgets/base",
     "model_module_version": "1.2.0",
     "model_name": "LayoutModel",
     "state": {
      "_model_module": "@jupyter-widgets/base",
      "_model_module_version": "1.2.0",
      "_model_name": "LayoutModel",
      "_view_count": null,
      "_view_module": "@jupyter-widgets/base",
      "_view_module_version": "1.2.0",
      "_view_name": "LayoutView",
      "align_content": null,
      "align_items": null,
      "align_self": null,
      "border": null,
      "bottom": null,
      "display": null,
      "flex": null,
      "flex_flow": null,
      "grid_area": null,
      "grid_auto_columns": null,
      "grid_auto_flow": null,
      "grid_auto_rows": null,
      "grid_column": null,
      "grid_gap": null,
      "grid_row": null,
      "grid_template_areas": null,
      "grid_template_columns": null,
      "grid_template_rows": null,
      "height": null,
      "justify_content": null,
      "justify_items": null,
      "left": null,
      "margin": null,
      "max_height": null,
      "max_width": null,
      "min_height": null,
      "min_width": null,
      "object_fit": null,
      "object_position": null,
      "order": null,
      "overflow": null,
      "overflow_x": null,
      "overflow_y": null,
      "padding": null,
      "right": null,
      "top": null,
      "visibility": null,
      "width": null
     }
    },
    "e9c61e3d11e9463d800a08253cdd7dd7": {
     "model_module": "@jupyter-widgets/controls",
     "model_module_version": "1.5.0",
     "model_name": "HTMLModel",
     "state": {
      "_dom_classes": [],
      "_model_module": "@jupyter-widgets/controls",
      "_model_module_version": "1.5.0",
      "_model_name": "HTMLModel",
      "_view_count": null,
      "_view_module": "@jupyter-widgets/controls",
      "_view_module_version": "1.5.0",
      "_view_name": "HTMLView",
      "description": "",
      "description_tooltip": null,
      "layout": "IPY_MODEL_1b8a3ab86c5548bd9440a2be56369c6a",
      "placeholder": "​",
      "style": "IPY_MODEL_2e0838c933d44a8f8a950cde8a72db44",
      "value": "100%"
     }
    },
    "f8ca5e8b7a5448a2bc66c45e659404bf": {
     "model_module": "@jupyter-widgets/controls",
     "model_module_version": "1.5.0",
     "model_name": "ProgressStyleModel",
     "state": {
      "_model_module": "@jupyter-widgets/controls",
      "_model_module_version": "1.5.0",
      "_model_name": "ProgressStyleModel",
      "_view_count": null,
      "_view_module": "@jupyter-widgets/base",
      "_view_module_version": "1.2.0",
      "_view_name": "StyleView",
      "bar_color": null,
      "description_width": ""
     }
    },
    "f9a67ff5e8124baa8b3c785d9228babb": {
     "model_module": "@jupyter-widgets/controls",
     "model_module_version": "1.5.0",
     "model_name": "HTMLModel",
     "state": {
      "_dom_classes": [],
      "_model_module": "@jupyter-widgets/controls",
      "_model_module_version": "1.5.0",
      "_model_name": "HTMLModel",
      "_view_count": null,
      "_view_module": "@jupyter-widgets/controls",
      "_view_module_version": "1.5.0",
      "_view_name": "HTMLView",
      "description": "",
      "description_tooltip": null,
      "layout": "IPY_MODEL_93438b2b5ab94dfab51e3447d11e6d26",
      "placeholder": "​",
      "style": "IPY_MODEL_550042f3a8af4de9a9e6a3470e495e84",
      "value": " 1/1 [00:00&lt;00:00, 28.49ba/s]"
     }
    },
    "ff0c7e2924564391869aee1b716fb9ad": {
     "model_module": "@jupyter-widgets/controls",
     "model_module_version": "1.5.0",
     "model_name": "DescriptionStyleModel",
     "state": {
      "_model_module": "@jupyter-widgets/controls",
      "_model_module_version": "1.5.0",
      "_model_name": "DescriptionStyleModel",
      "_view_count": null,
      "_view_module": "@jupyter-widgets/base",
      "_view_module_version": "1.2.0",
      "_view_name": "StyleView",
      "description_width": ""
     }
    }
   }
  }
 },
 "nbformat": 4,
 "nbformat_minor": 1
}
